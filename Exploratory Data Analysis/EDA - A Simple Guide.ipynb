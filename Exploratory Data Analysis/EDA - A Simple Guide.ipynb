{
 "cells": [
  {
   "cell_type": "markdown",
   "metadata": {},
   "source": [
    "# EDA - A Simple Guide\n",
    "\n",
    "This is an attempt to make a simple guide of the EDA process\n",
    "\n",
    "## Exploratory data analysis - Data Science Guide\n",
    "\n",
    "[link](https://datascienceguide.github.io/exploratory-data-analysis)\n",
    "\n",
    "The purpose of EDA is to use summary statistics and visualizations to better understand data, and find clues about the tendencies of the data, its quality and to formulate assumptions and the hypothesis of our analysis. EDA is NOT about making fancy visualizations or even aesthetically pleasing ones, the goal is to try and answer questions with data. Your goal should be to be able to create a figure which someone can look at in a couple of seconds and understand what is going on. If not, the visualization is too complicated (or fancy) and something similar should be used.\n",
    "\n",
    "\n",
    "For this article (and tutorial) on exploratory data analysis, we are going be investigating [Anscombe’s_quartet](https://en.wikipedia.org/wiki/Anscombe's_quartet) and [Fisher’s Iris data set](https://en.wikipedia.org/wiki/Iris_flower_data_set).\n",
    "\n",
    "“Anscombe’s quartet comprises four datasets that have nearly identical simple statistical properties, yet appear very different when graphed. Each dataset consists of eleven (x,y) points. They were constructed in 1973 by the statistician Francis Anscombe to demonstrate both the importance of graphing data before analyzing it and the effect of outliers on statistical properties.” The Iris data set is a multivariate data set introduced by Ronald Fisher in his 1936 paper The use of multiple measurements. It shows the variation of Iris flowers of three related species.\n",
    "\n",
    "Examples of visualizations for numeric data are line charts with error bars, histograms, box and whisker plots, for categorical data bar charts and waffle charts, and for bivariate data are scatter charts or combination charts. The tutorial on exploratory data analysis goes over many of these visualizations.\n",
    "\n"
   ]
  },
  {
   "cell_type": "markdown",
   "metadata": {},
   "source": [
    "### Visualization Methods - Univariate data (One variable)\n",
    "\n",
    "The two visualizations used to describe univariate (1 variable) data is the box plot and the histogram. The box plot can be used to show the minimum, maximum, mean, median, quantiles and range.\n",
    "\n",
    "![](http://stanford.edu/~mwaskom/software/seaborn/_images/horizontal_boxplot.png)\n",
    "\n",
    "\n",
    "The histogram can be used to show the count, mode, variance, standard deviation, coefficient of deviation, skewness and kurtosis.\n",
    "\n",
    "\n",
    "![](http://matplotlib.org/1.3.1/_images/histogram_demo_extended_00.png)\n",
    "\n",
    "### Visualization Methods - Bivariate data (Two variables)\n",
    "\n",
    "When plotting the relation between two variables, one can use a scatter plot.\n",
    "\n",
    "![](http://matplotlib.org/_images/scatter_symbol.png)\n",
    "\n",
    "If the data is time series or has an order, a line chart can be used.\n",
    "\n",
    "![](http://matplotlib.org/_images/plotfile_demo_00.png)"
   ]
  },
  {
   "cell_type": "markdown",
   "metadata": {},
   "source": [
    "### Visualization Methods - Multivariate data\n",
    "\n",
    "When dealing with multiple variables, it is tempting to make three dimensional plots, but as show below it can be difficult to understand the data:\n",
    "\n",
    "![](http://matplotlib.org/_images/scatter3d_demo.png)\n",
    "\n",
    "Rather I recommend create a scatter plot of the relation between each variable:\n",
    "\n",
    "![](http://stanford.edu/~mwaskom/software/seaborn/_images/scatterplot_matrix.png)\n",
    "\n",
    "\n",
    "Combined charts also are great ways to visualize data, since each chart is simple to understand on its own.\n",
    "\n",
    "![](http://matplotlib.org/_images/mri_with_eeg.png)\n",
    "\n",
    "For very large dimensionality, you can reduce the dimensionality using principle component analysis, Latent Dirichlet allocation or other techniques and then make a plot of the reduced variables. This is particularly important for high dimensionality data and has applications in deep learning such as visualizing natural language or images.\n",
    "\n",
    "### Visualization Methods - Text data\n",
    "\n",
    "For example with Text data, one could create a world cloud, where the size of each word is the based on its frequency in the text. To remove the words which add noise to the dataset, the documents can be grouped using Topic modeling and only the important words can be displayed.\n",
    "\n",
    "\n",
    "![](http://4.bp.blogspot.com/-cjfJLOPGjIg/UJmCmBa65tI/AAAAAAAAAJk/TF2qRh964GI/s400/constitution_.png)\n",
    "\n",
    "Data visualization is a fun an very important part of being a data scientist. Simplicity and the ability for others to quickly understand a message is the most important part of exploratory data analysis. Before every building any model, make sure you create a visualization to understand the data first!"
   ]
  },
  {
   "cell_type": "markdown",
   "metadata": {},
   "source": [
    "## Exploratory Data Analysis in R (introduction)\n",
    "\n",
    "[link](https://blog.datascienceheroes.com/exploratory-data-analysis-in-r-intro/)\n",
    "\n",
    "### Introduction\n",
    "\n",
    "\n",
    "In this post we will review some functions that lead us to the analysis of the first case.\n",
    "\n",
    "- Step 1 - First approach to data\n",
    "- Step 2 - Analyzing categorical variables\n",
    "- Step 3 - Analyzing numerical variables\n",
    "- Step 4 - Analyzing numerical and categorical at the same time\n",
    "\n",
    "\n",
    "Covering some key points in a basic EDA:\n",
    "\n",
    "- Data types\n",
    "- Outliers\n",
    "- Missing values\n",
    "- Distributions (numerically and graphically) for both, numerical and categorical variables.\n",
    "\n",
    "\n",
    "### Type of analysis results\n",
    "\n",
    "They can be two: informative or operative.\n",
    "\n",
    "- Informative - For example plots, or any long variable summary. We cannot filter data from it, but give us a lot of information at once. Most used on the EDA stage.\n",
    "\n",
    "- Operative - The results can be used to take an action directly on the data workflow (for example, selecting any variables whose percentage of missing values are below 20%). Most used in the Data Preparation stage.\n",
    "\n"
   ]
  },
  {
   "cell_type": "code",
   "execution_count": 2,
   "metadata": {},
   "outputs": [
    {
     "name": "stderr",
     "output_type": "stream",
     "text": [
      "also installing the dependencies ‘bitops’, ‘checkmate’, ‘viridisLite’, ‘gtools’, ‘gdata’, ‘caTools’, ‘Formula’, ‘latticeExtra’, ‘acepack’, ‘htmlTable’, ‘viridis’, ‘gplots’, ‘Hmisc’, ‘ROCR’, ‘gridExtra’, ‘pander’, ‘moments’, ‘entropy’\n",
      "\n",
      "Updating HTML index of packages in '.Library'\n",
      "Making 'packages.html' ... done\n"
     ]
    }
   ],
   "source": [
    "install.packages(\"funModeling\", dependencies = TRUE)"
   ]
  },
  {
   "cell_type": "code",
   "execution_count": 1,
   "metadata": {},
   "outputs": [
    {
     "name": "stderr",
     "output_type": "stream",
     "text": [
      "Loading required package: Hmisc\n",
      "Loading required package: lattice\n",
      "Loading required package: survival\n",
      "Loading required package: Formula\n",
      "Loading required package: ggplot2\n",
      "\n",
      "Attaching package: ‘Hmisc’\n",
      "\n",
      "The following objects are masked from ‘package:base’:\n",
      "\n",
      "    format.pval, units\n",
      "\n",
      "funModeling v.1.6.8 :)\n",
      "Examples and tutorials at livebook.datascienceheroes.com\n",
      "\n",
      "── Attaching packages ─────────────────────────────────────── tidyverse 1.2.1 ──\n",
      "✔ tibble  1.4.1     ✔ purrr   0.2.4\n",
      "✔ tidyr   0.7.2     ✔ dplyr   0.7.4\n",
      "✔ readr   1.1.1     ✔ stringr 1.2.0\n",
      "✔ tibble  1.4.1     ✔ forcats 0.2.0\n",
      "── Conflicts ────────────────────────────────────────── tidyverse_conflicts() ──\n",
      "✖ dplyr::filter()    masks stats::filter()\n",
      "✖ dplyr::lag()       masks stats::lag()\n",
      "✖ dplyr::src()       masks Hmisc::src()\n",
      "✖ dplyr::summarize() masks Hmisc::summarize()\n"
     ]
    }
   ],
   "source": [
    "library(funModeling) \n",
    "library(tidyverse) \n",
    "library(Hmisc)"
   ]
  },
  {
   "cell_type": "markdown",
   "metadata": {},
   "source": [
    "### Creating the data for this example\n",
    "\n",
    "Using the heart_disease data (from funModeling package). We will take only 4 variables for legibility.\n",
    "\n"
   ]
  },
  {
   "cell_type": "code",
   "execution_count": 2,
   "metadata": {},
   "outputs": [],
   "source": [
    "data = heart_disease %>% select(age, max_heart_rate, thal, has_heart_disease)"
   ]
  },
  {
   "cell_type": "code",
   "execution_count": 3,
   "metadata": {},
   "outputs": [
    {
     "data": {
      "text/html": [
       "<table>\n",
       "<thead><tr><th scope=col>age</th><th scope=col>max_heart_rate</th><th scope=col>thal</th><th scope=col>has_heart_disease</th></tr></thead>\n",
       "<tbody>\n",
       "\t<tr><td>63 </td><td>150</td><td>6  </td><td>no </td></tr>\n",
       "\t<tr><td>67 </td><td>108</td><td>3  </td><td>yes</td></tr>\n",
       "\t<tr><td>67 </td><td>129</td><td>7  </td><td>yes</td></tr>\n",
       "\t<tr><td>37 </td><td>187</td><td>3  </td><td>no </td></tr>\n",
       "\t<tr><td>41 </td><td>172</td><td>3  </td><td>no </td></tr>\n",
       "\t<tr><td>56 </td><td>178</td><td>3  </td><td>no </td></tr>\n",
       "</tbody>\n",
       "</table>\n"
      ],
      "text/latex": [
       "\\begin{tabular}{r|llll}\n",
       " age & max\\_heart\\_rate & thal & has\\_heart\\_disease\\\\\n",
       "\\hline\n",
       "\t 63  & 150 & 6   & no \\\\\n",
       "\t 67  & 108 & 3   & yes\\\\\n",
       "\t 67  & 129 & 7   & yes\\\\\n",
       "\t 37  & 187 & 3   & no \\\\\n",
       "\t 41  & 172 & 3   & no \\\\\n",
       "\t 56  & 178 & 3   & no \\\\\n",
       "\\end{tabular}\n"
      ],
      "text/markdown": [
       "\n",
       "age | max_heart_rate | thal | has_heart_disease | \n",
       "|---|---|---|---|---|---|\n",
       "| 63  | 150 | 6   | no  | \n",
       "| 67  | 108 | 3   | yes | \n",
       "| 67  | 129 | 7   | yes | \n",
       "| 37  | 187 | 3   | no  | \n",
       "| 41  | 172 | 3   | no  | \n",
       "| 56  | 178 | 3   | no  | \n",
       "\n",
       "\n"
      ],
      "text/plain": [
       "  age max_heart_rate thal has_heart_disease\n",
       "1 63  150            6    no               \n",
       "2 67  108            3    yes              \n",
       "3 67  129            7    yes              \n",
       "4 37  187            3    no               \n",
       "5 41  172            3    no               \n",
       "6 56  178            3    no               "
      ]
     },
     "metadata": {},
     "output_type": "display_data"
    }
   ],
   "source": [
    "head(data)"
   ]
  },
  {
   "cell_type": "code",
   "execution_count": 4,
   "metadata": {},
   "outputs": [
    {
     "name": "stdout",
     "output_type": "stream",
     "text": [
      "           variable q_zeros p_zeros q_na p_na q_inf p_inf    type unique\n",
      "1               age       0       0    0 0.00     0     0 integer     41\n",
      "2    max_heart_rate       0       0    0 0.00     0     0 integer     91\n",
      "3              thal       0       0    2 0.66     0     0  factor      3\n",
      "4 has_heart_disease       0       0    0 0.00     0     0  factor      2\n"
     ]
    }
   ],
   "source": [
    "# Getting the metrics about data types, zeros, infinite numbers, and missing values:\n",
    "\n",
    "df_status(data)"
   ]
  },
  {
   "cell_type": "markdown",
   "metadata": {},
   "source": [
    "\n",
    "- q_zeros: quantity of zeros (p_zeros: in percentage)\n",
    "\n",
    "- q_na: quantity of NA (p_na: in percentage)\n",
    "\n",
    "- type: factor or numeric\n",
    "\n",
    "- unique: quantity of unique values"
   ]
  },
  {
   "cell_type": "markdown",
   "metadata": {},
   "source": [
    "freq function runs for all factor or character variables automatically:"
   ]
  },
  {
   "cell_type": "code",
   "execution_count": 5,
   "metadata": {},
   "outputs": [
    {
     "name": "stdout",
     "output_type": "stream",
     "text": [
      "  thal frequency percentage cumulative_perc\n",
      "1    3       166      54.79           54.79\n",
      "2    7       117      38.61           93.40\n",
      "3    6        18       5.94           99.34\n",
      "4 <NA>         2       0.66          100.00\n",
      "\n"
     ]
    },
    {
     "data": {
      "image/png": "[encoded data removed]",
      "text/plain": [
       "plot without title"
      ]
     },
     "metadata": {},
     "output_type": "display_data"
    },
    {
     "name": "stdout",
     "output_type": "stream",
     "text": [
      "  has_heart_disease frequency percentage cumulative_perc\n",
      "1                no       164      54.13           54.13\n",
      "2               yes       139      45.87          100.00\n",
      "\n"
     ]
    },
    {
     "data": {
      "text/html": [
       "'Variables processed: thal, has_heart_disease'"
      ],
      "text/latex": [
       "'Variables processed: thal, has\\_heart\\_disease'"
      ],
      "text/markdown": [
       "'Variables processed: thal, has_heart_disease'"
      ],
      "text/plain": [
       "[1] \"Variables processed: thal, has_heart_disease\""
      ]
     },
     "metadata": {},
     "output_type": "display_data"
    },
    {
     "data": {
      "image/png": "[encoded data removed]",
      "text/plain": [
       "plot without title"
      ]
     },
     "metadata": {},
     "output_type": "display_data"
    }
   ],
   "source": [
    "freq(data)"
   ]
  },
  {
   "cell_type": "code",
   "execution_count": 6,
   "metadata": {},
   "outputs": [
    {
     "data": {
      "image/png": "[encoded data removed]",
      "text/plain": [
       "plot without title"
      ]
     },
     "metadata": {},
     "output_type": "display_data"
    }
   ],
   "source": [
    "plot_num(data)\n"
   ]
  },
  {
   "cell_type": "markdown",
   "metadata": {},
   "source": [
    "## R for Data Science - Exploratory Data Analysis\n",
    "\n",
    "[link](https://r4ds.had.co.nz/exploratory-data-analysis.html)\n",
    "\n",
    "EDA is not a formal process with a strict set of rules. More than anything, EDA is a state of mind. During the initial phases of EDA you should feel free to investigate every idea that occurs to you. Some of these ideas will pan out, and some will be dead ends. As your exploration continues, you will home in on a few particularly productive areas that you’ll eventually write up and communicate to others.\n",
    "\n",
    "\n",
    "EDA is an important part of any data analysis, even if the questions are handed to you on a platter, because you always need to investigate the quality of your data. Data cleaning is just one application of EDA: you ask questions about whether your data meets your expectations or not. To do data cleaning, you’ll need to deploy all the tools of EDA: visualisation, transformation, and modelling.\n",
    "\n",
    "### Questions\n",
    "\n",
    "Your goal during EDA is to develop an understanding of your data. The easiest way to do this is to use questions as tools to guide your investigation. When you ask a question, the question focuses your attention on a specific part of your dataset and helps you decide which graphs, models, or transformations to make.\n",
    "\n",
    "EDA is fundamentally a creative process. And like most creative processes, the key to asking quality questions is to generate a large quantity of questions. It is difficult to ask revealing questions at the start of your analysis because you do not know what insights are contained in your dataset. On the other hand, each new question that you ask will expose you to a new aspect of your data and increase your chance of making a discovery. You can quickly drill down into the most interesting parts of your data—and develop a set of thought-provoking questions—if you follow up each question with a new question based on what you find.\n",
    "\n",
    "There is no rule about which questions you should ask to guide your research. However, two types of questions will always be useful for making discoveries within your data. You can loosely word these questions as:\n",
    "\n",
    "1. What type of variation occurs within my variables?\n",
    "\n",
    "2. What type of covariation occurs between my variables?\n",
    "\n",
    "### Visualizing Distributions\n",
    "\n",
    "How you visualise the distribution of a variable will depend on whether the variable is categorical or continuous. A variable is categorical if it can only take one of a small set of values. In R, categorical variables are usually saved as factors or character vectors. To examine the distribution of a categorical variable, use a bar chart:\n",
    "\n"
   ]
  },
  {
   "cell_type": "code",
   "execution_count": 8,
   "metadata": {},
   "outputs": [
    {
     "data": {
      "text/html": [
       "<table>\n",
       "<thead><tr><th scope=col>carat</th><th scope=col>cut</th><th scope=col>color</th><th scope=col>clarity</th><th scope=col>depth</th><th scope=col>table</th><th scope=col>price</th><th scope=col>x</th><th scope=col>y</th><th scope=col>z</th></tr></thead>\n",
       "<tbody>\n",
       "\t<tr><td>0.23     </td><td>Ideal    </td><td>E        </td><td>SI2      </td><td>61.5     </td><td>55       </td><td>326      </td><td>3.95     </td><td>3.98     </td><td>2.43     </td></tr>\n",
       "\t<tr><td>0.21     </td><td>Premium  </td><td>E        </td><td>SI1      </td><td>59.8     </td><td>61       </td><td>326      </td><td>3.89     </td><td>3.84     </td><td>2.31     </td></tr>\n",
       "\t<tr><td>0.23     </td><td>Good     </td><td>E        </td><td>VS1      </td><td>56.9     </td><td>65       </td><td>327      </td><td>4.05     </td><td>4.07     </td><td>2.31     </td></tr>\n",
       "\t<tr><td>0.29     </td><td>Premium  </td><td>I        </td><td>VS2      </td><td>62.4     </td><td>58       </td><td>334      </td><td>4.20     </td><td>4.23     </td><td>2.63     </td></tr>\n",
       "\t<tr><td>0.31     </td><td>Good     </td><td>J        </td><td>SI2      </td><td>63.3     </td><td>58       </td><td>335      </td><td>4.34     </td><td>4.35     </td><td>2.75     </td></tr>\n",
       "\t<tr><td>0.24     </td><td>Very Good</td><td>J        </td><td>VVS2     </td><td>62.8     </td><td>57       </td><td>336      </td><td>3.94     </td><td>3.96     </td><td>2.48     </td></tr>\n",
       "</tbody>\n",
       "</table>\n"
      ],
      "text/latex": [
       "\\begin{tabular}{r|llllllllll}\n",
       " carat & cut & color & clarity & depth & table & price & x & y & z\\\\\n",
       "\\hline\n",
       "\t 0.23      & Ideal     & E         & SI2       & 61.5      & 55        & 326       & 3.95      & 3.98      & 2.43     \\\\\n",
       "\t 0.21      & Premium   & E         & SI1       & 59.8      & 61        & 326       & 3.89      & 3.84      & 2.31     \\\\\n",
       "\t 0.23      & Good      & E         & VS1       & 56.9      & 65        & 327       & 4.05      & 4.07      & 2.31     \\\\\n",
       "\t 0.29      & Premium   & I         & VS2       & 62.4      & 58        & 334       & 4.20      & 4.23      & 2.63     \\\\\n",
       "\t 0.31      & Good      & J         & SI2       & 63.3      & 58        & 335       & 4.34      & 4.35      & 2.75     \\\\\n",
       "\t 0.24      & Very Good & J         & VVS2      & 62.8      & 57        & 336       & 3.94      & 3.96      & 2.48     \\\\\n",
       "\\end{tabular}\n"
      ],
      "text/markdown": [
       "\n",
       "carat | cut | color | clarity | depth | table | price | x | y | z | \n",
       "|---|---|---|---|---|---|\n",
       "| 0.23      | Ideal     | E         | SI2       | 61.5      | 55        | 326       | 3.95      | 3.98      | 2.43      | \n",
       "| 0.21      | Premium   | E         | SI1       | 59.8      | 61        | 326       | 3.89      | 3.84      | 2.31      | \n",
       "| 0.23      | Good      | E         | VS1       | 56.9      | 65        | 327       | 4.05      | 4.07      | 2.31      | \n",
       "| 0.29      | Premium   | I         | VS2       | 62.4      | 58        | 334       | 4.20      | 4.23      | 2.63      | \n",
       "| 0.31      | Good      | J         | SI2       | 63.3      | 58        | 335       | 4.34      | 4.35      | 2.75      | \n",
       "| 0.24      | Very Good | J         | VVS2      | 62.8      | 57        | 336       | 3.94      | 3.96      | 2.48      | \n",
       "\n",
       "\n"
      ],
      "text/plain": [
       "  carat cut       color clarity depth table price x    y    z   \n",
       "1 0.23  Ideal     E     SI2     61.5  55    326   3.95 3.98 2.43\n",
       "2 0.21  Premium   E     SI1     59.8  61    326   3.89 3.84 2.31\n",
       "3 0.23  Good      E     VS1     56.9  65    327   4.05 4.07 2.31\n",
       "4 0.29  Premium   I     VS2     62.4  58    334   4.20 4.23 2.63\n",
       "5 0.31  Good      J     SI2     63.3  58    335   4.34 4.35 2.75\n",
       "6 0.24  Very Good J     VVS2    62.8  57    336   3.94 3.96 2.48"
      ]
     },
     "metadata": {},
     "output_type": "display_data"
    }
   ],
   "source": [
    "head(diamonds)"
   ]
  },
  {
   "cell_type": "code",
   "execution_count": 7,
   "metadata": {},
   "outputs": [
    {
     "data": {},
     "metadata": {},
     "output_type": "display_data"
    },
    {
     "data": {
      "image/png": "[encoded data removed]",
      "text/plain": [
       "plot without title"
      ]
     },
     "metadata": {},
     "output_type": "display_data"
    }
   ],
   "source": [
    "ggplot(data = diamonds) +\n",
    "  geom_bar(mapping = aes(x = cut))"
   ]
  }
 ],
 "metadata": {
  "kernelspec": {
   "display_name": "R",
   "language": "R",
   "name": "ir"
  },
  "language_info": {
   "codemirror_mode": "r",
   "file_extension": ".r",
   "mimetype": "text/x-r-source",
   "name": "R",
   "pygments_lexer": "r",
   "version": "3.4.3"
  }
 },
 "nbformat": 4,
 "nbformat_minor": 2
}
