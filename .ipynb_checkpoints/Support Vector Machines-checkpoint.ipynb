{
 "cells": [
  {
   "cell_type": "markdown",
   "metadata": {},
   "source": [
    "### Support Vector Machines - The Math of Intelligence (Week 1)\n",
    "\n",
    "[Video Link](https://www.youtube.com/watch?v=g8D5YL6cOSE&list=PL2-dafEMk2A7mu0bSksCGMJEmeddU_H4D&t=0s&index=3)\n",
    "\n",
    "[GitHub Reference Link](https://github.com/llSourcell/Classifying_Data_Using_a_Support_Vector_Machine/blob/master/support_vector_machine_lesson.ipynb)\n",
    "\n",
    "---\n",
    "\n",
    "> We are going to build a SVM to classify 2 classes of data. We are going to optimize the SVM through Gradient Descent\n",
    "\n",
    "![](diag1.png)\n",
    "\n",
    "We have 2 classes (red and blue dots)\n",
    "\n",
    "We plot both classes on a 2d plot\n",
    "\n",
    "We can draw a **decision boundary** that best separates these classes\n",
    "\n",
    "This boundary is called a **Hyperplane**. SVM helps us create this Hyperplane\n",
    "\n",
    "\n",
    "\n"
   ]
  }
 ],
 "metadata": {
  "kernelspec": {
   "display_name": "Python 3",
   "language": "python",
   "name": "python3"
  },
  "language_info": {
   "codemirror_mode": {
    "name": "ipython",
    "version": 3
   },
   "file_extension": ".py",
   "mimetype": "text/x-python",
   "name": "python",
   "nbconvert_exporter": "python",
   "pygments_lexer": "ipython3",
   "version": "3.6.3"
  }
 },
 "nbformat": 4,
 "nbformat_minor": 2
}
