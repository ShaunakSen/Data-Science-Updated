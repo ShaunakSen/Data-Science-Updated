{
 "cells": [
  {
   "cell_type": "markdown",
   "metadata": {},
   "source": [
    "# EDA - A Simple Guide\n",
    "\n",
    "This is an attempt to make a simple guide of the EDA process\n",
    "\n",
    "## Exploratory data analysis - Data Science Guide\n",
    "\n",
    "[link](https://datascienceguide.github.io/exploratory-data-analysis)\n",
    "\n",
    "The purpose of EDA is to use summary statistics and visualizations to better understand data, and find clues about the tendencies of the data, its quality and to formulate assumptions and the hypothesis of our analysis. EDA is NOT about making fancy visualizations or even aesthetically pleasing ones, the goal is to try and answer questions with data. Your goal should be to be able to create a figure which someone can look at in a couple of seconds and understand what is going on. If not, the visualization is too complicated (or fancy) and something similar should be used.\n",
    "\n",
    "\n",
    "For this article (and tutorial) on exploratory data analysis, we are going be investigating [Anscombe’s_quartet](https://en.wikipedia.org/wiki/Anscombe's_quartet) and [Fisher’s Iris data set](https://en.wikipedia.org/wiki/Iris_flower_data_set).\n",
    "\n",
    "“Anscombe’s quartet comprises four datasets that have nearly identical simple statistical properties, yet appear very different when graphed. Each dataset consists of eleven (x,y) points. They were constructed in 1973 by the statistician Francis Anscombe to demonstrate both the importance of graphing data before analyzing it and the effect of outliers on statistical properties.” The Iris data set is a multivariate data set introduced by Ronald Fisher in his 1936 paper The use of multiple measurements. It shows the variation of Iris flowers of three related species.\n",
    "\n",
    "Examples of visualizations for numeric data are line charts with error bars, histograms, box and whisker plots, for categorical data bar charts and waffle charts, and for bivariate data are scatter charts or combination charts. The tutorial on exploratory data analysis goes over many of these visualizations.\n",
    "\n"
   ]
  },
  {
   "cell_type": "markdown",
   "metadata": {},
   "source": [
    "### Visualization Methods - Univariate data (One variable)\n",
    "\n",
    "The two visualizations used to describe univariate (1 variable) data is the box plot and the histogram. The box plot can be used to show the minimum, maximum, mean, median, quantiles and range.\n",
    "\n",
    "![](http://stanford.edu/~mwaskom/software/seaborn/_images/horizontal_boxplot.png)\n",
    "\n",
    "\n",
    "The histogram can be used to show the count, mode, variance, standard deviation, coefficient of deviation, skewness and kurtosis.\n",
    "\n",
    "\n",
    "![](http://matplotlib.org/1.3.1/_images/histogram_demo_extended_00.png)\n",
    "\n",
    "### Visualization Methods - Bivariate data (Two variables)\n",
    "\n",
    "When plotting the relation between two variables, one can use a scatter plot.\n",
    "\n",
    "![](http://matplotlib.org/_images/scatter_symbol.png)\n",
    "\n",
    "If the data is time series or has an order, a line chart can be used.\n",
    "\n",
    "![](http://matplotlib.org/_images/plotfile_demo_00.png)"
   ]
  }
 ],
 "metadata": {
  "kernelspec": {
   "display_name": "R",
   "language": "R",
   "name": "ir"
  },
  "language_info": {
   "codemirror_mode": "r",
   "file_extension": ".r",
   "mimetype": "text/x-r-source",
   "name": "R",
   "pygments_lexer": "r",
   "version": "3.4.3"
  }
 },
 "nbformat": 4,
 "nbformat_minor": 2
}
