{
 "cells": [
  {
   "cell_type": "markdown",
   "metadata": {},
   "source": [
    "### 10.4: Neural Networks: Multilayer Perceptron Part 1 - The Nature of Code\n",
    "\n",
    "[Playlist link](https://www.youtube.com/watch?v=ntKn5TPHHAk&list=PLRqwX-V7Uu6Y7MdSCaIfsxc561QI0U0Tb&index=2)\n",
    "\n",
    "[README link](https://www.youtube.com/redirect?v=ntKn5TPHHAk&event=video_description&redir_token=-D8YTb5wSbqv2u0AQ2wgfaQYApl8MTUzNzEyNjY3MkAxNTM3MDQwMjcy&q=https%3A%2F%2Fgithub.com%2Fshiffman%2FNOC-S17-2-Intelligence-Learning%2Ftree%2Fmaster%2Fweek4-neural-networks)\n",
    "\n",
    "---\n",
    "\n",
    "#### Some recap\n",
    "\n",
    "We had a caanvas full of pts and there was a line separating the 2 classes of pts. We had a simple perceptron trying to learn that line\n",
    "\n",
    "The scenario looked like this:\n",
    "\n",
    "![](./data/img/diag20.png)\n",
    "\n",
    "#### Why is this not enough?\n",
    "\n",
    "**What if we want any number of ips to generate any number of ops**. This is very common in many ML applications.\n",
    "Let us take a very classic classification problem\n",
    "\n",
    "Say we have a handwritten digit (say 8). I have all of the pixels (28x28) of that digit. These pixels (784 greyscale values) will be the ips to the Perceptron. The op will be a set of probabilities as to which digit it is\n",
    "\n",
    "![](./data/img/diag21.png)\n",
    "\n",
    "But we can simply have a whole bunch of ips, a whole bunch of ops but a single processing unit - Why cant we do that?\n",
    "\n"
   ]
  },
  {
   "cell_type": "markdown",
   "metadata": {},
   "source": [
    "#### Need of a MultiLayer Perceptron\n",
    "\n"
   ]
  }
 ],
 "metadata": {
  "kernelspec": {
   "display_name": "Python 3",
   "language": "python",
   "name": "python3"
  },
  "language_info": {
   "codemirror_mode": {
    "name": "ipython",
    "version": 3
   },
   "file_extension": ".py",
   "mimetype": "text/x-python",
   "name": "python",
   "nbconvert_exporter": "python",
   "pygments_lexer": "ipython3",
   "version": "3.6.3"
  }
 },
 "nbformat": 4,
 "nbformat_minor": 2
}
