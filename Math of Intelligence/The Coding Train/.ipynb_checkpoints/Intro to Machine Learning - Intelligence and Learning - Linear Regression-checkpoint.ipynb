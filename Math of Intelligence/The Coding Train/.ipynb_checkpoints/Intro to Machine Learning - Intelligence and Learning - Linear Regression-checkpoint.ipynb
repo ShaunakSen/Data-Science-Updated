{
 "cells": [
  {
   "cell_type": "markdown",
   "metadata": {},
   "source": [
    "### Session 3 - Intro to Machine Learning - Intelligence and Learning\n",
    "\n",
    "[Playlist link](https://www.youtube.com/playlist?list=PLRqwX-V7Uu6bCN8LKrcMa6zF4FPtXyXYj)\n",
    "\n",
    "[Lesson README link](https://github.com/shiffman/NOC-S17-2-Intelligence-Learning/tree/master/week3-classification-regression)\n",
    "\n",
    "### 3.2: Linear Regression with Ordinary Least Squares Part 1 - Intelligence and Learning\n",
    "\n",
    "Consider ice cream sales with temp\n",
    "\n",
    "We plot the data using a scatter plot\n",
    "\n",
    "It appears as if there is a linear rel in the data\n",
    "\n",
    "![](./data/img/diag2.png)\n",
    "\n",
    "Idea of LinReg is to figure out how can we best fit a line to this data, so that given any temp we can estimate the sales\n",
    "\n",
    "\n",
    "\n",
    "\n"
   ]
  }
 ],
 "metadata": {
  "kernelspec": {
   "display_name": "Python 3",
   "language": "python",
   "name": "python3"
  },
  "language_info": {
   "codemirror_mode": {
    "name": "ipython",
    "version": 3
   },
   "file_extension": ".py",
   "mimetype": "text/x-python",
   "name": "python",
   "nbconvert_exporter": "python",
   "pygments_lexer": "ipython3",
   "version": "3.6.3"
  }
 },
 "nbformat": 4,
 "nbformat_minor": 2
}
