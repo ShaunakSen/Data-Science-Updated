{
 "cells": [
  {
   "cell_type": "markdown",
   "metadata": {},
   "source": [
    "### Session 4 - Neural Networks - Intelligence and Learning\n",
    "\n",
    "[Playlist link](https://www.youtube.com/watch?v=XJ7HLz9VYz0&t=231s&index=2&list=PLRqwX-V7Uu6Y7MdSCaIfsxc561QI0U0Tb)\n",
    "\n",
    "[Lesson README link](https://www.youtube.com/redirect?redir_token=jKHO-KjEtf8Dl60trwWNQRBU3Kp8MTUzNzEyNTIxM0AxNTM3MDM4ODEz&q=https%3A%2F%2Fgithub.com%2Fshiffman%2FNOC-S17-2-Intelligence-Learning%2Ftree%2Fmaster%2Fweek4-neural-networks&event=video_description&v=XJ7HLz9VYz0)\n",
    "\n",
    "### 10.1: Introduction to Neural Networks - The Nature of Code\n",
    "\n",
    "\n",
    "#### Nature of Code - Biological Neural Nw\n",
    "\n",
    "![](https://natureofcode.com/book/imgs/chapter10/ch10_01.png)\n",
    "\n",
    "We want to learn:\n",
    "\n",
    "> What kinds of computational systems can be built inspired by the biological NN and made into something called an\n",
    "Artificial NN. What kinds of applications and outcomes can we create using that ANN\n",
    "\n",
    "Simplest possible NN:\n",
    "\n",
    "![](https://natureofcode.com/book/imgs/chapter10/ch10_03.png)\n",
    "\n",
    "This has one neuron - a processor neuron that receives 2 ips and generates an output.This is called a **Perceptron**\n",
    "\n",
    "If we can understan how this single neuron receives ips, processes them and generates an op, then we can start to connect those together to create more sophisticated systems that can begin to generate more complex ops based on more complex ips. Such a complex system is shown below. This is a **Multi Layer Perceptron** i.e many Perceptrons, all connected to each other.\n",
    "\n",
    "![](https://natureofcode.com/book/imgs/chapter10/ch10_02.png)\n",
    "\n",
    "How does this connect to ML:\n",
    "\n",
    "We have some data that we want to make sense of. That data is ip to an ML recipe. That recipe generates an op. Maybe that data is an image and the ML algo guesses if its a cat or a dog. or maybe the ip are the specs of a house (sq footage, no of bedrooms etc ) and ML generates predicted price. NN is that ML recipe. \n",
    "\n"
   ]
  }
 ],
 "metadata": {
  "kernelspec": {
   "display_name": "Python 3",
   "language": "python",
   "name": "python3"
  },
  "language_info": {
   "codemirror_mode": {
    "name": "ipython",
    "version": 3
   },
   "file_extension": ".py",
   "mimetype": "text/x-python",
   "name": "python",
   "nbconvert_exporter": "python",
   "pygments_lexer": "ipython3",
   "version": "3.6.3"
  }
 },
 "nbformat": 4,
 "nbformat_minor": 2
}
