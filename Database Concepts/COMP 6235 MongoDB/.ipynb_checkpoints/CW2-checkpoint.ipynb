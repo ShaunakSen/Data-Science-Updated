{
 "cells": [
  {
   "cell_type": "markdown",
   "metadata": {},
   "source": [
    "# Coursework 2: Data Processing\n",
    "\n",
    "## Task 1\n",
    "This coursework will assess your understanding of using NoSQL to store and retrieve data.  You will perform operations on data from the Enron email dataset in a MongoDB database, and write a report detailing the suitability of different types of databases for data science applications.  You will be required to run code to answer the given questions in the Jupyter notebook provided, and write a report describing alternative approaches to using MongoDB.\n",
    "\n",
    "Download the JSON version of the Enron data (using the “Download as zip” to download the data file from http://edshare.soton.ac.uk/19548/, the file is about 380MB) and import into a collection called messages in a database called enron.  You do not need to set up any authentication.  In the Jupyter notebook provided, perform the following tasks, using the Python PyMongo library.\n",
    "\n",
    "Answers should be efficient in terms of speed.  Answers which are less efficient will not get full marks."
   ]
  },
  {
   "cell_type": "markdown",
   "metadata": {},
   "source": [
    "### Importing the dataset\n",
    "\n",
    "The JSON version of the dataset has been downloaded from [this link](http://edshare.soton.ac.uk/19548/)\n",
    "\n",
    "The dataset has been imported into the database **enron**\n",
    "\n",
    "The name of the collection is **messages**\n",
    "\n",
    "**100000** documents have been imported"
   ]
  },
  {
   "cell_type": "code",
   "execution_count": 2,
   "metadata": {
    "scrolled": true
   },
   "outputs": [
    {
     "name": "stderr",
     "output_type": "stream",
     "text": [
      "2018-12-08T14:24:23.421+0000\tconnected to: localhost\n",
      "2018-12-08T14:24:23.421+0000\tdropping: enron_short.messages\n",
      "2018-12-08T14:24:26.426+0000\t[####....................] enron_short.messages\t65.0MB/354MB (18.4%)\n",
      "2018-12-08T14:24:29.430+0000\t[#########...............] enron_short.messages\t141MB/354MB (39.7%)\n",
      "2018-12-08T14:24:32.421+0000\t[#############...........] enron_short.messages\t200MB/354MB (56.5%)\n",
      "2018-12-08T14:24:35.437+0000\t[#################.......] enron_short.messages\t259MB/354MB (73.1%)\n",
      "2018-12-08T14:24:38.457+0000\t[####################....] enron_short.messages\t309MB/354MB (87.3%)\n",
      "2018-12-08T14:24:41.426+0000\t[#######################.] enron_short.messages\t352MB/354MB (99.4%)\n",
      "2018-12-08T14:24:41.534+0000\t[########################] enron_short.messages\t354MB/354MB (100.0%)\n",
      "2018-12-08T14:24:41.534+0000\timported 100000 documents\n"
     ]
    }
   ],
   "source": [
    "%%bash\n",
    "\n",
    "# mongoimport is the Mongo command to import data.  \n",
    "# It specifies the database, collection and format, and import file\n",
    "# --drop means it's going to drop any collection with the same name which already exists\n",
    "mongoimport --db enron_short --collection messages --drop --file ./messages_short.json\n",
    "# Delete the JSON file we just downloaded\n",
    "rm ./messages_short.json"
   ]
  },
  {
   "cell_type": "code",
   "execution_count": 83,
   "metadata": {},
   "outputs": [],
   "source": [
    "import pymongo\n",
    "from pymongo import MongoClient\n",
    "from datetime import datetime\n",
    "from pprint import pprint\n",
    "\n",
    "import re\n",
    "\n",
    "from datetime import datetime"
   ]
  },
  {
   "cell_type": "markdown",
   "metadata": {},
   "source": [
    "### 1)\n",
    "Write a function which returns a MongoDB connection object to the \"messages\" collection. [4 points] "
   ]
  },
  {
   "cell_type": "code",
   "execution_count": 14,
   "metadata": {
    "nbgrader": {
     "grade": false,
     "grade_id": "get_collection",
     "locked": false,
     "schema_version": 1,
     "solution": true
    }
   },
   "outputs": [],
   "source": [
    "db_name = 'enron_short'\n",
    "coll_name = 'messages'\n",
    "\n",
    "def get_collection():\n",
    "    \"\"\"\n",
    "    Connects to the server, and returns a collection object\n",
    "    of the `messages` collection in the `enron` database\n",
    "    \"\"\"\n",
    "    # YOUR CODE HERE\n",
    "    \n",
    "    client = MongoClient('mongodb://localhost:27017')\n",
    "    \n",
    "    if db_name in client.list_database_names():\n",
    "        db = client.enron_short\n",
    "        # check if collection is present\n",
    "        if coll_name in db.list_collection_names():\n",
    "            collection = db[coll_name]\n",
    "        else:\n",
    "            return \"Collection:\", coll_name, \"not found\"\n",
    "    else:\n",
    "        return \"Database:\", db_name, \"not found\"\n",
    "    \n",
    "    return collection\n",
    "            \n",
    "        \n",
    "messages_collection = get_collection()"
   ]
  },
  {
   "cell_type": "markdown",
   "metadata": {},
   "source": [
    "Verifying that collection connection is able to read all documents"
   ]
  },
  {
   "cell_type": "code",
   "execution_count": 15,
   "metadata": {},
   "outputs": [
    {
     "data": {
      "text/plain": [
       "100000"
      ]
     },
     "execution_count": 15,
     "metadata": {},
     "output_type": "execute_result"
    }
   ],
   "source": [
    "messages_collection.count_documents({})"
   ]
  },
  {
   "cell_type": "markdown",
   "metadata": {},
   "source": [
    "### 2)\n",
    "\n",
    "Write a function which returns the amount of emails in the messages collection in total. [4 points] "
   ]
  },
  {
   "cell_type": "code",
   "execution_count": 16,
   "metadata": {
    "nbgrader": {
     "grade": false,
     "grade_id": "get_amount_of_messages",
     "locked": false,
     "schema_version": 1,
     "solution": true
    }
   },
   "outputs": [
    {
     "name": "stdout",
     "output_type": "stream",
     "text": [
      "100000\n"
     ]
    }
   ],
   "source": [
    "def get_amount_of_messages(collection):\n",
    "    \"\"\"\n",
    "    :param collection A PyMongo collection object\n",
    "    :return the amount of documents in the collection\n",
    "    \"\"\"    \n",
    "    # YOUR CODE HERE\n",
    "    return messages_collection.count_documents({})\n",
    "number_of_emails = get_amount_of_messages(messages_collection)    \n",
    "\n",
    "print (number_of_emails)"
   ]
  },
  {
   "cell_type": "markdown",
   "metadata": {},
   "source": [
    "### 3) \n",
    "\n",
    "Write a function which returns each person who was BCCed on an email.  Include each person only once, and display only their name according to the X-To header. [4 points] \n",
    "\n"
   ]
  },
  {
   "cell_type": "code",
   "execution_count": 71,
   "metadata": {
    "scrolled": true
   },
   "outputs": [
    {
     "data": {
      "text/plain": [
       "[u'Villarreal, Alex',\n",
       " u'Vuittonet, Laura',\n",
       " u'Wood, Kim',\n",
       " u'Choate, Heather',\n",
       " u'Rangel, Ina',\n",
       " u'Hogan, Irena D.',\n",
       " u'Westbrook, Cherylene R.',\n",
       " u'De La Paz, Janet',\n",
       " u'Beck, Sally',\n",
       " u'Denny, Jennifer',\n",
       " u'Piper, Greg',\n",
       " u'Patti Thompson',\n",
       " u'Robert Superty',\n",
       " u'Beth Apollo',\n",
       " u'Greg Piper',\n",
       " u'Apollo, Beth',\n",
       " u'Barry, Patrick',\n",
       " u'Blair, Jean',\n",
       " u'Bryan, Randy',\n",
       " u'Callans, Nancy',\n",
       " u'Carr, James',\n",
       " u'Clapper, Karen',\n",
       " u'Perry, Renee',\n",
       " u'Porter, Diana',\n",
       " u'Walden, Shirley',\n",
       " u'Washington, Kathy',\n",
       " u'Causey, Richard',\n",
       " u'Dyson, Fernley',\n",
       " u'Jordan, Mike',\n",
       " u'Lokey, Teb',\n",
       " u'Ratliff, Dale',\n",
       " u'Shapiro, Richard',\n",
       " u'Dernehl, Ginger',\n",
       " u'Guerrero, Janel',\n",
       " u'Steffes, James D.',\n",
       " u'Richard Shapiro',\n",
       " u'James D Steffes',\n",
       " u'Susan J Mara',\n",
       " u'Harry Kingerski',\n",
       " u'hgovenar',\n",
       " u'Scott Govenar',\n",
       " u'Davis, Dana',\n",
       " u'Ogenyi, Gloria',\n",
       " u'Collins, Harry',\n",
       " u'Cooley, Jan',\n",
       " u'Johnson, Jan',\n",
       " u'McBride, Jane',\n",
       " u'Wilson, Jane',\n",
       " u'Butler, Janet',\n",
       " u'Place, Janet',\n",
       " u'Moore, Janice',\n",
       " u'Desrochers, Jim',\n",
       " u'Lamb, John',\n",
       " u'Novak, John',\n",
       " u'Schwartzenburg, John',\n",
       " u'Viverito, John',\n",
       " u'Murray, Julia',\n",
       " u'Delahay, Julie',\n",
       " u'Boyd, Justin',\n",
       " u'Jones, Karen E.',\n",
       " u'Azevedo, Karla',\n",
       " u'Cole, Kate',\n",
       " u'Carnahan, Kathleen',\n",
       " u'Sullivan, Kathleen',\n",
       " u'Young, Kay',\n",
       " u'Leibman, Lara',\n",
       " u'Bishop, Larry',\n",
       " u'Pardue, Larry',\n",
       " u'Hagerty, Lauren',\n",
       " u'Mayer, Laurie',\n",
       " u'Kasbekar, Lena',\n",
       " u'Guinn, Linda',\n",
       " u'Mellencamp, Lisa',\n",
       " u'Robichaux, Lisa',\n",
       " u'Nettelton, Marcus',\n",
       " u'Trevino, Maricela',\n",
       " u'Haedicke, Mark',\n",
       " u'Evans, Mark',\n",
       " u'Greenberg, Mark',\n",
       " u'Holsworth, Mark',\n",
       " u'Powell, Mark',\n",
       " u'Taylor, Mark',\n",
       " u'Braddy, Martha',\n",
       " u'Cook, Mary',\n",
       " u'Oscar, Mary Denise',\n",
       " u'Heinitz, Mary',\n",
       " u'Ogden, Mary',\n",
       " u'Dawson, Matthew',\n",
       " u'Lee, Matthias',\n",
       " u'Robison, Michael',\n",
       " u'Smalling, Michael J.',\n",
       " u'Cash, Michelle',\n",
       " u'Robertson, Audrey',\n",
       " u'Wehring, Linda',\n",
       " u'Storey, Geoff',\n",
       " u'Gilbert-smith, Doug',\n",
       " u'Twiggs, Thane']"
      ]
     },
     "execution_count": 71,
     "metadata": {},
     "output_type": "execute_result"
    }
   ],
   "source": [
    "bcc_list = []\n",
    "\n",
    "bcc_list1 = []\n",
    "bcc_list2 = []\n",
    "bcc_list3 = []\n",
    "\n",
    "final_list = []\n",
    "\n",
    "# find docs where bcc field exists and is not empty\n",
    "\n",
    "for doc in messages_collection.find({ 'headers.X-bcc': {'$exists': True, '$ne': ''} }):\n",
    "    bcc_list.append(doc['headers']['X-bcc'])\n",
    "    \n",
    "for bcc_value in bcc_list:\n",
    "    bcc_list1.append(bcc_value.split('>,'))\n",
    "    \n",
    "bcc_list1[0]\n",
    "\n",
    "for bcc_value in bcc_list1:\n",
    "    for value in bcc_value:\n",
    "        bcc_list2.append(value.split('</O')[0])\n",
    "        \n",
    "for bcc_value in bcc_list2:\n",
    "    bcc_list3.append(bcc_value.split(' <')[0])\n",
    "        \n",
    "bcc_list3\n",
    "\n",
    "for bcc_value in bcc_list3:\n",
    "    if '@' not in bcc_value:\n",
    "        if bcc_value.strip() not in final_list:\n",
    "            final_list.append(bcc_value.strip())\n",
    "\n",
    "final_list"
   ]
  },
  {
   "cell_type": "code",
   "execution_count": null,
   "metadata": {
    "collapsed": true,
    "nbgrader": {
     "grade": false,
     "grade_id": "get_bcced_people",
     "locked": false,
     "schema_version": 1,
     "solution": true
    }
   },
   "outputs": [],
   "source": [
    "def get_bcced_people(collection):\n",
    "    \"\"\"\n",
    "    :param collection A PyMongo collection object\n",
    "    :return the names of the people who have received an email by BCC\n",
    "    \"\"\"    \n",
    "    # YOUR CODE HERE\n",
    "\n",
    "    pass\n",
    "    "
   ]
  },
  {
   "cell_type": "markdown",
   "metadata": {},
   "source": [
    "### 4)\n",
    "\n",
    "Write a function with parameter subject, which gets all emails in a thread with that parameter, and orders them by date (ascending). “An email thread is an email message that includes a running list of all the succeeding replies starting with the original email.”, check for detail descriptions at https://www.techopedia.com/definition/1503/email-thread [4 points]"
   ]
  },
  {
   "cell_type": "code",
   "execution_count": null,
   "metadata": {
    "collapsed": true,
    "nbgrader": {
     "grade": false,
     "grade_id": "get_emails_in_thread",
     "locked": false,
     "schema_version": 1,
     "solution": true
    }
   },
   "outputs": [],
   "source": [
    "def get_emails_in_thread(collection, subject):\n",
    "    \"\"\"\n",
    "    :param collection A PyMongo collection object\n",
    "    :return All emails in the thread with that subject\n",
    "    \"\"\"    \n",
    "    # YOUR CODE HERE    \n",
    "    \n",
    "    pass"
   ]
  },
  {
   "cell_type": "code",
   "execution_count": 91,
   "metadata": {},
   "outputs": [
    {
     "data": {
      "text/plain": [
       "'Tue, 14 Nov 2000 08:22:00'"
      ]
     },
     "execution_count": 91,
     "metadata": {},
     "output_type": "execute_result"
    }
   ],
   "source": [
    "'Tue, 14 Nov 2000 08:22:00 -0800 (PST)'[:-12]"
   ]
  },
  {
   "cell_type": "code",
   "execution_count": 120,
   "metadata": {},
   "outputs": [
    {
     "ename": "ValueError",
     "evalue": "time data '$Date' does not match format '%a, %d %b %Y %H:%M:%S'",
     "output_type": "error",
     "traceback": [
      "\u001b[0;31m---------------------------------------------------------------------------\u001b[0m",
      "\u001b[0;31mValueError\u001b[0m                                Traceback (most recent call last)",
      "\u001b[0;32m<ipython-input-120-b15981c5e59e>\u001b[0m in \u001b[0;36m<module>\u001b[0;34m()\u001b[0m\n\u001b[1;32m     13\u001b[0m \u001b[0;34m\u001b[0m\u001b[0m\n\u001b[1;32m     14\u001b[0m project_stage2 = {\n\u001b[0;32m---> 15\u001b[0;31m     \u001b[0;34m'$project'\u001b[0m\u001b[0;34m:\u001b[0m \u001b[0;34m{\u001b[0m \u001b[0;34m'Date'\u001b[0m\u001b[0;34m:\u001b[0m  \u001b[0mdatetime\u001b[0m\u001b[0;34m.\u001b[0m\u001b[0mstrptime\u001b[0m\u001b[0;34m(\u001b[0m\u001b[0;34m'$Date'\u001b[0m\u001b[0;34m,\u001b[0m \u001b[0;34m'%a, %d %b %Y %H:%M:%S'\u001b[0m\u001b[0;34m)\u001b[0m\u001b[0;34m}\u001b[0m\u001b[0;34m\u001b[0m\u001b[0m\n\u001b[0m\u001b[1;32m     16\u001b[0m }\n\u001b[1;32m     17\u001b[0m \u001b[0;34m\u001b[0m\u001b[0m\n",
      "\u001b[0;32m/home/comp6235/miniconda2/lib/python2.7/_strptime.pyc\u001b[0m in \u001b[0;36m_strptime\u001b[0;34m(data_string, format)\u001b[0m\n\u001b[1;32m    330\u001b[0m     \u001b[0;32mif\u001b[0m \u001b[0;32mnot\u001b[0m \u001b[0mfound\u001b[0m\u001b[0;34m:\u001b[0m\u001b[0;34m\u001b[0m\u001b[0m\n\u001b[1;32m    331\u001b[0m         raise ValueError(\"time data %r does not match format %r\" %\n\u001b[0;32m--> 332\u001b[0;31m                          (data_string, format))\n\u001b[0m\u001b[1;32m    333\u001b[0m     \u001b[0;32mif\u001b[0m \u001b[0mlen\u001b[0m\u001b[0;34m(\u001b[0m\u001b[0mdata_string\u001b[0m\u001b[0;34m)\u001b[0m \u001b[0;34m!=\u001b[0m \u001b[0mfound\u001b[0m\u001b[0;34m.\u001b[0m\u001b[0mend\u001b[0m\u001b[0;34m(\u001b[0m\u001b[0;34m)\u001b[0m\u001b[0;34m:\u001b[0m\u001b[0;34m\u001b[0m\u001b[0m\n\u001b[1;32m    334\u001b[0m         raise ValueError(\"unconverted data remains: %s\" %\n",
      "\u001b[0;31mValueError\u001b[0m: time data '$Date' does not match format '%a, %d %b %Y %H:%M:%S'"
     ]
    }
   ],
   "source": [
    "sub1 = \"Plays and other information\"\n",
    "\n",
    "sub2 = \"Re: \" + sub1\n",
    "\n",
    "\n",
    "match_stage = {\n",
    "    '$match': { 'headers.Subject': { '$in': [sub1, sub2] } }\n",
    "}\n",
    "\n",
    "project_stage = {\n",
    "    '$project': { 'Date':  { '$substr': [ \"$headers.Date\", 0, 25 ] }} \n",
    "}\n",
    "\n",
    "project_stage2 = {\n",
    "    '$project': { 'Date':  datetime.strptime('$Date', '%a, %d %b %Y %H:%M:%S')} \n",
    "}\n",
    "\n",
    "pipeline = [match_stage, project_stage]\n",
    "\n",
    "for doc in collection.aggregate(pipeline):\n",
    "    #pprint(doc['headers']['Date'][:-12])\n",
    "    #pprint(datetime.strptime(doc['headers']['Date'][:-12], '%a, %d %b %Y %H:%M:%S'))\n",
    "    \n",
    "    pprint(doc)"
   ]
  },
  {
   "cell_type": "markdown",
   "metadata": {},
   "source": [
    "### 5)\n",
    "\n",
    "Write a function which returns the percentage of emails sent on a weekend (i.e., Saturday and Sunday) as a `float` between 0 and 1. [6 points]"
   ]
  },
  {
   "cell_type": "code",
   "execution_count": null,
   "metadata": {
    "collapsed": true,
    "nbgrader": {
     "grade": false,
     "grade_id": "get_percentage_sent_on_weekend",
     "locked": false,
     "schema_version": 1,
     "solution": true
    }
   },
   "outputs": [],
   "source": [
    "def get_percentage_sent_on_weekend(collection):\n",
    "    \"\"\"\n",
    "    :param collection A PyMongo collection object\n",
    "    :return A float between 0 and 1\n",
    "    \"\"\"    \n",
    "    # YOUR CODE HERE\n",
    "    \n",
    "    pass"
   ]
  },
  {
   "cell_type": "markdown",
   "metadata": {},
   "source": [
    "### 6)\n",
    "\n",
    "Write a function with parameter limit. The function should return for each email account: the number of emails sent, the number of emails received, and the total number of emails (sent and received). Use the following format: [{\"contact\": \"michael.simmons@enron.com\", \"from\": 42, \"to\": 92, \"total\": 134}] and the information contained in the To, From, and Cc headers. Sort the output in descending order by the total number of emails. Use the parameter limit to specify the number of results to be returned. If limit is null, the function should return all results. If limit is higher than null, the function should return the number of results specified as limit. limit cannot take negative values. [10 points]"
   ]
  },
  {
   "cell_type": "code",
   "execution_count": null,
   "metadata": {
    "collapsed": true,
    "nbgrader": {
     "grade": false,
     "grade_id": "get_emails_between_contacts",
     "locked": false,
     "schema_version": 1,
     "solution": true
    }
   },
   "outputs": [],
   "source": [
    "def get_emails_between_contacts(collection, limit):\n",
    "    \"\"\"\n",
    "    Shows the communications between contacts\n",
    "    Sort by the descending order of total emails using the To, From, and Cc headers.\n",
    "    :param `collection` A PyMongo collection object    \n",
    "    :param `limit` An integer specifying the amount to display, or\n",
    "    if null will display all outputs\n",
    "    :return A list of objects of the form:\n",
    "    [{\n",
    "        'contact': <<Another email address>>\n",
    "        'from': \n",
    "        'to': \n",
    "        'total': \n",
    "    },{.....}]\n",
    "    \"\"\"    \n",
    "    # YOUR CODE HERE\n",
    "    \n",
    "    pass"
   ]
  },
  {
   "cell_type": "markdown",
   "metadata": {},
   "source": [
    "### 7)\n",
    "Write a function to find out the number of senders who were also direct receivers. Direct receiver means the email is sent to the person directly, not via cc or bcc. [4 points]"
   ]
  },
  {
   "cell_type": "code",
   "execution_count": null,
   "metadata": {
    "collapsed": true
   },
   "outputs": [],
   "source": [
    "def get_from_to_people(collection):\n",
    "    \"\"\"\n",
    "    :param collection A PyMongo collection object\n",
    "    :return the NUMBER of the people who have sent emails and received emails as direct receivers.\n",
    "    \"\"\"    \n",
    "    # YOUR CODE HERE\n",
    "\n",
    "    pass"
   ]
  },
  {
   "cell_type": "markdown",
   "metadata": {},
   "source": [
    "### 8)\n",
    "Write a function with parameters start_date and end_date, which returns the number of email messages that have been sent between those specified dates, including start_date and end_date [4 points] "
   ]
  },
  {
   "cell_type": "code",
   "execution_count": null,
   "metadata": {
    "collapsed": true
   },
   "outputs": [],
   "source": [
    "def get_emails_between_dates(collection, start_date, end_date):\n",
    "    \"\"\"\n",
    "    :param collection A PyMongo collection object\n",
    "    :return All emails between the specified start_date and end_date\n",
    "    \"\"\"    \n",
    "    # YOUR CODE HERE    \n",
    "    \n",
    "    pass"
   ]
  },
  {
   "cell_type": "markdown",
   "metadata": {},
   "source": [
    "## Task 2\n",
    "This task will assess your ability to use the Hadoop Streaming API and MapReduce to process data. For each of the questions below, you are expected to write two python scripts, one for the Map phase and one for the Reduce phase. You are also expected to provide the correct parameters to the `hadoop` command to run the MapReduce process. Write down your answers in the specified cells below.\n",
    "\n",
    "To get started, you need to download and unzip the YouTube dataset (available at http://edshare.soton.ac.uk/19547/) onto the machine where you have Hadoop installed (this should be the virtual machine provided).\n",
    "\n",
    "To help you, `%%writefile` has been added to the top of the cells, automatically writing them to \"mapper.py\" and \"reducer.py\" respectively when the cells are run."
   ]
  },
  {
   "cell_type": "markdown",
   "metadata": {},
   "source": [
    "### 1) \n",
    "Using Youtube01-Psy.csv, find the hourly interval in which most spam was sent. The output should be in the form of a single key-value pair, where the value is a datetime at the start of the hour with the highest number of spam comments. [9 points]"
   ]
  },
  {
   "cell_type": "code",
   "execution_count": null,
   "metadata": {
    "collapsed": true
   },
   "outputs": [],
   "source": [
    "%%writefile mapper.py\n",
    "#!/usr/bin/env python\n",
    "#Answer for mapper.py\n"
   ]
  },
  {
   "cell_type": "code",
   "execution_count": null,
   "metadata": {
    "collapsed": true
   },
   "outputs": [],
   "source": [
    "%%writefile reducer.py\n",
    "#!/usr/bin/env python\n",
    "#Answer for reducer.py"
   ]
  },
  {
   "cell_type": "code",
   "execution_count": null,
   "metadata": {
    "collapsed": true
   },
   "outputs": [],
   "source": [
    "%%bash\n",
    "#Hadoop command to run the map reduce.\n",
    "\n",
    "hadoop jar $HADOOP_HOME/share/hadoop/tools/lib/hadoop-streaming-*.jar \\\n",
    "-files    \\\n",
    "-input    \\\n",
    "-mapper   \\\n",
    "-reducer  \\\n",
    "-output output"
   ]
  },
  {
   "cell_type": "code",
   "execution_count": null,
   "metadata": {
    "collapsed": true
   },
   "outputs": [],
   "source": [
    "#Expected key-value output format:\n",
    "#hour_with_most_spam\t\"2013-11-10T10:00:00\"\n",
    "\n",
    "#Additional key-value pairs are acceptable, as long as the hour_with_most_spam pair is correct."
   ]
  },
  {
   "cell_type": "markdown",
   "metadata": {},
   "source": [
    "### 2) \n",
    "Find all comments associated with a username (the AUTHOR field). Return a JSON array of all comments associated with that username. (This should use the data from all 5 data files: Psy, KatyPerry, LMFAO, Eminem, Shakira) [11 points]"
   ]
  },
  {
   "cell_type": "code",
   "execution_count": null,
   "metadata": {
    "collapsed": true
   },
   "outputs": [],
   "source": [
    "%%writefile mapper.py\n",
    "#!/usr/bin/env python\n",
    "#Answer for mapper.py"
   ]
  },
  {
   "cell_type": "code",
   "execution_count": null,
   "metadata": {
    "collapsed": true
   },
   "outputs": [],
   "source": [
    "%%writefile reducer.py\n",
    "#!/usr/bin/env python\n",
    "#Answer for reducer.py"
   ]
  },
  {
   "cell_type": "code",
   "execution_count": null,
   "metadata": {
    "collapsed": true
   },
   "outputs": [],
   "source": [
    "%%bash\n",
    "#Hadoop command to run the map reduce.\n",
    "\n",
    "hadoop jar $HADOOP_HOME/share/hadoop/tools/lib/hadoop-streaming-*.jar \\\n",
    "-files    \\\n",
    "-input    \\\n",
    "-mapper   \\\n",
    "-reducer  \\\n",
    "-output output"
   ]
  },
  {
   "cell_type": "code",
   "execution_count": null,
   "metadata": {
    "collapsed": true
   },
   "outputs": [],
   "source": [
    "#Expected key-value output format:\n",
    "#John Smith\t[\"Comment 1\", \"Comment 2\", \"Comment 3\", \"etc.\"]\n",
    "#Jane Doe\t[\"Comment 1\", \"Comment 2\", \"Comment 3\", \"etc.\"]"
   ]
  },
  {
   "cell_type": "code",
   "execution_count": null,
   "metadata": {
    "collapsed": true
   },
   "outputs": [],
   "source": []
  }
 ],
 "metadata": {
  "anaconda-cloud": {},
  "celltoolbar": "Create Assignment",
  "kernelspec": {
   "display_name": "Python 2",
   "language": "python",
   "name": "python2"
  },
  "language_info": {
   "codemirror_mode": {
    "name": "ipython",
    "version": 2
   },
   "file_extension": ".py",
   "mimetype": "text/x-python",
   "name": "python",
   "nbconvert_exporter": "python",
   "pygments_lexer": "ipython2",
   "version": "2.7.15"
  }
 },
 "nbformat": 4,
 "nbformat_minor": 2
}
