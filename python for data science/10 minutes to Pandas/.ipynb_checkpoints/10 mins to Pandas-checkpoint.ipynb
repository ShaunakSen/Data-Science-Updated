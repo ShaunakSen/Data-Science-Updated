{
 "cells": [
  {
   "cell_type": "markdown",
   "metadata": {},
   "source": [
    "### 10 minutes to Pandas"
   ]
  },
  {
   "cell_type": "code",
   "execution_count": 1,
   "metadata": {
    "collapsed": true
   },
   "outputs": [],
   "source": [
    "# importing libraries\n",
    "\n",
    "import pandas as pd\n",
    "import numpy as np\n",
    "import matplotlib.pyplot as plt"
   ]
  },
  {
   "cell_type": "markdown",
   "metadata": {},
   "source": [
    "Creating a Series by passing a list of values, letting pandas create a default integer index:"
   ]
  },
  {
   "cell_type": "code",
   "execution_count": 2,
   "metadata": {},
   "outputs": [
    {
     "ename": "SyntaxError",
     "evalue": "Missing parentheses in call to 'print'. Did you mean print(s)? (<ipython-input-2-aa3b21c343c1>, line 2)",
     "output_type": "error",
     "traceback": [
      "\u001b[1;36m  File \u001b[1;32m\"<ipython-input-2-aa3b21c343c1>\"\u001b[1;36m, line \u001b[1;32m2\u001b[0m\n\u001b[1;33m    print s\u001b[0m\n\u001b[1;37m          ^\u001b[0m\n\u001b[1;31mSyntaxError\u001b[0m\u001b[1;31m:\u001b[0m Missing parentheses in call to 'print'. Did you mean print(s)?\n"
     ]
    }
   ],
   "source": [
    "s = pd.Series([1, 3, 5, np.nan, 6, 8])\n",
    "print s"
   ]
  },
  {
   "cell_type": "markdown",
   "metadata": {},
   "source": [
    "### Series\n",
    "\n",
    "Series is a one-dimensional labeled array capable of holding any data type (integers, strings, floating point numbers, Python objects, etc.). The axis labels are collectively referred to as the index. The basic method to create a Series is to call:"
   ]
  },
  {
   "cell_type": "markdown",
   "metadata": {
    "collapsed": true
   },
   "source": [
    "```mySeries = pd.Series(data, index=index)\n",
    "```\n",
    "\n",
    "Syntax for declaring a Series object\n",
    "\n",
    "Here, data can be many different things:\n",
    "\n",
    "- a Python dict\n",
    "- an ndarray\n",
    "- a scalar value (like 5)\n",
    "The passed index is a list of axis labels. Thus, this separates into a few cases depending on what data is"
   ]
  },
  {
   "cell_type": "markdown",
   "metadata": {},
   "source": [
    "#### From ndarray\n",
    "\n",
    "If data is an ndarray, index must be the same length as data. If no index is passed, one will be created having values [0, ..., len(data) - 1]"
   ]
  },
  {
   "cell_type": "code",
   "execution_count": null,
   "metadata": {},
   "outputs": [],
   "source": [
    "s = pd.Series(np.random.randn(5), index=['a','b','c','d','e'])\n",
    "\n",
    "print s\n",
    "\n",
    "print s.index\n",
    "\n",
    "print pd.Series(np.random.randn(5))"
   ]
  },
  {
   "cell_type": "markdown",
   "metadata": {},
   "source": [
    "#### From dict\n",
    "\n",
    "If data is a dict, if index is passed the values in data corresponding to the labels in the index will be pulled out. Otherwise, an index will be constructed from the sorted keys of the dict, if possible."
   ]
  },
  {
   "cell_type": "code",
   "execution_count": null,
   "metadata": {},
   "outputs": [],
   "source": [
    "d = {'a' : 0., 'b' : 1., 'c' : 2.}\n",
    "\n",
    "print pd.Series(d)\n",
    "\n",
    "print pd.Series(d, index=['b', 'c', 'd', 'a'])"
   ]
  },
  {
   "cell_type": "markdown",
   "metadata": {},
   "source": [
    "** Note NaN (not a number) is the standard missing data marker used in pandas **"
   ]
  },
  {
   "cell_type": "markdown",
   "metadata": {},
   "source": [
    "#### From scalar value\n",
    "If data is a scalar value, an index must be provided. The value will be repeated to match the length of index"
   ]
  },
  {
   "cell_type": "code",
   "execution_count": null,
   "metadata": {},
   "outputs": [],
   "source": [
    "pd.Series(5., index=['a', 'b', 'c'])"
   ]
  },
  {
   "cell_type": "markdown",
   "metadata": {},
   "source": [
    "Series acts very similarly to a ndarray, and is a valid argument to most NumPy functions. However, things like slicing also slice the index."
   ]
  },
  {
   "cell_type": "code",
   "execution_count": null,
   "metadata": {},
   "outputs": [],
   "source": [
    "print s\n",
    "print s[0]\n",
    "print s[:3]\n",
    "\n",
    "print s.median()\n",
    "\n",
    "print s > s.median()\n",
    "\n",
    "print s[s > s.median()]\n",
    "\n",
    "print s[[4,3,1]]\n"
   ]
  },
  {
   "cell_type": "markdown",
   "metadata": {},
   "source": [
    "A Series is like a fixed-size dict in that you can get and set values by index label:"
   ]
  },
  {
   "cell_type": "code",
   "execution_count": null,
   "metadata": {},
   "outputs": [],
   "source": [
    "print s['a']\n",
    "\n",
    "s['e'] = 100\n",
    "\n",
    "print s\n",
    "\n",
    "print 'e' in s"
   ]
  },
  {
   "cell_type": "markdown",
   "metadata": {},
   "source": [
    "Using the get method, a missing label will return None or specified default:"
   ]
  },
  {
   "cell_type": "code",
   "execution_count": null,
   "metadata": {},
   "outputs": [],
   "source": [
    "print s.get('f')\n",
    "\n",
    "# if not found return -1\n",
    "print s.get('f', -1)\n",
    "\n",
    "print s.get('f', np.nan)"
   ]
  },
  {
   "cell_type": "markdown",
   "metadata": {},
   "source": [
    "### Vectorized operations and label alignment with Series\n",
    "\n",
    "When doing data analysis, as with raw NumPy arrays looping through Series value-by-value is usually not necessary. Series can also be passed into most NumPy methods expecting an ndarray."
   ]
  },
  {
   "cell_type": "code",
   "execution_count": null,
   "metadata": {},
   "outputs": [],
   "source": [
    "print s+s\n",
    "\n",
    "print s*2\n"
   ]
  },
  {
   "cell_type": "markdown",
   "metadata": {},
   "source": [
    "A key difference between Series and ndarray is that operations between Series automatically align the data based on label. Thus, you can write computations without giving consideration to whether the Series involved have the same labels."
   ]
  },
  {
   "cell_type": "code",
   "execution_count": null,
   "metadata": {},
   "outputs": [],
   "source": [
    "print s[1:]\n",
    "\n",
    "print s[:-1]\n",
    "\n",
    "print s[1:] + s[:-1]"
   ]
  },
  {
   "cell_type": "markdown",
   "metadata": {},
   "source": [
    "The result of an operation between unaligned Series will have the union of the indexes involved. If a label is not found in one Series or the other, the result will be marked as missing NaN. Being able to write code without doing any explicit data alignment grants immense freedom and flexibility in interactive data analysis and research. The integrated data alignment features of the pandas data structures set pandas apart from the majority of related tools for working with labeled data."
   ]
  },
  {
   "cell_type": "markdown",
   "metadata": {},
   "source": [
    "#### Name attr\n",
    "\n",
    "Series can also have a name attribute:"
   ]
  },
  {
   "cell_type": "code",
   "execution_count": null,
   "metadata": {},
   "outputs": [],
   "source": [
    "s = pd.Series(np.random.randn(5), name=\"something\")\n",
    "print s\n",
    "\n",
    "# renaming a series\n",
    "s2 = s.rename(\"different\")\n",
    "print s2"
   ]
  },
  {
   "cell_type": "markdown",
   "metadata": {},
   "source": [
    "### Data Frame\n",
    "\n",
    "DataFrame is a 2-dimensional labeled data structure with columns of potentially different types. You can think of it like a spreadsheet or SQL table, or a **dict of Series objects**. It is generally the most commonly used pandas object. Like Series, DataFrame accepts many different kinds of input:\n",
    "\n",
    "1. Dict of 1D ndarrays, lists, dicts or Series\n",
    "2. 2-D numpy.ndarray\n",
    "3. Structured or record ndarray\n",
    "4. A Series\n",
    "\n",
    "Along with the data, you can optionally pass index (row labels) and columns (column labels) arguments. If you pass an index and / or columns, you are guaranteeing the index and / or columns of the resulting DataFrame. Thus, a dict of Series plus a specific index will discard all data not matching up to the passed index.\n",
    "\n",
    "If axis labels are not passed, they will be constructed from the input data based on common sense rules.\n",
    "\n",
    "#### From dict of Series or dicts\n",
    "\n",
    "The result index will be the union of the indexes of the various Series. If there are any nested dicts, these will be first converted to Series. If no columns are passed, the columns will be the sorted list of dict keys."
   ]
  },
  {
   "cell_type": "code",
   "execution_count": null,
   "metadata": {},
   "outputs": [],
   "source": [
    "d = {'one': pd.Series([1,2,3], index=['a', 'b', 'c']), 'two': pd.Series([1,2,3,4], index=['a', 'b', 'c', 'd'])}\n",
    "\n",
    "df = pd.DataFrame(d)\n",
    "\n",
    "print df"
   ]
  },
  {
   "cell_type": "markdown",
   "metadata": {},
   "source": [
    "#### The row and cols of a DataFrame can be accessed by index and column attr resp"
   ]
  },
  {
   "cell_type": "code",
   "execution_count": null,
   "metadata": {
    "scrolled": true
   },
   "outputs": [],
   "source": [
    "print pd.DataFrame(d, index=['d', 'b', 'a'])\n",
    "\n",
    "# there is no col 'three' hence returns NaNs\n",
    "print pd.DataFrame(d, index=['d', 'b', 'a'], columns=['two', 'three'])\n",
    "\n",
    "print df.index\n",
    "\n",
    "print df.columns"
   ]
  },
  {
   "cell_type": "markdown",
   "metadata": {},
   "source": [
    "#### From dict of ndarrays / lists\n",
    "\n",
    "The ndarrays must all be the same length. If an index is passed, it must clearly also be the same length as the arrays. If no index is passed, the result will be range(n), where n is the array length."
   ]
  },
  {
   "cell_type": "code",
   "execution_count": null,
   "metadata": {},
   "outputs": [],
   "source": [
    "d = {\n",
    "    'one': [1, 2, 3, 4],\n",
    "    'two': [4, 3, 2, 1]\n",
    "}\n",
    "\n",
    "print pd.DataFrame(d)\n",
    "\n",
    "print pd.DataFrame(d, index=['a','b','c','d'])"
   ]
  },
  {
   "cell_type": "markdown",
   "metadata": {},
   "source": []
  },
  {
   "cell_type": "markdown",
   "metadata": {},
   "source": [
    "#### From a list of dicts"
   ]
  },
  {
   "cell_type": "code",
   "execution_count": null,
   "metadata": {},
   "outputs": [],
   "source": [
    "data2 = [{'a': 1, 'b': 2}, {'a': 5, 'b': 10, 'c': 20}]\n",
    "\n",
    "print pd.DataFrame(data2)\n",
    "\n",
    "print pd.DataFrame(data2, index=['first', 'second'])\n",
    "\n",
    "print pd.DataFrame(data2, columns = ['a', 'b'])"
   ]
  },
  {
   "cell_type": "markdown",
   "metadata": {},
   "source": [
    "#### DataFrame from items\n",
    "\n",
    "DataFrame.from_items works analogously to the form of the dict constructor that takes a sequence of (key, value) pairs, where the keys are column (or row, in the case of orient='index') names, and the value are the column values (or row values). This can be useful for constructing a DataFrame with the columns in a particular order without having to pass an explicit list of columns:"
   ]
  },
  {
   "cell_type": "code",
   "execution_count": null,
   "metadata": {},
   "outputs": [],
   "source": [
    "print pd.DataFrame.from_items([('A', [1, 2, 3]), ('B', [5, 6, 7])], orient='columns')\n",
    "\n",
    "# If you pass orient='index', the keys will be the row labels. But in this case you must also pass the desired column names\n",
    "\n",
    "print pd.DataFrame.from_items([('A', [1, 5]), ('B', [2, 6]), ('C', [3, 7])], orient='index', columns=[1, 2])"
   ]
  },
  {
   "cell_type": "markdown",
   "metadata": {},
   "source": [
    "#### Simple operations on DataFrames: Column selection, addition, deletion\n",
    "\n",
    "You can treat a DataFrame semantically like a dict of like-indexed Series objects. Getting, setting, and deleting columns works with the same syntax as the analogous dict operations:"
   ]
  },
  {
   "cell_type": "code",
   "execution_count": null,
   "metadata": {},
   "outputs": [],
   "source": [
    "print df\n",
    "\n",
    "print df['one']\n",
    "\n",
    "df['three'] = df['one'] * df['two']\n",
    "\n",
    "print df\n",
    "\n",
    "df['flag'] = df['one'] > 2\n",
    "\n",
    "print df\n"
   ]
  },
  {
   "cell_type": "markdown",
   "metadata": {},
   "source": [
    "Columns can be deleted or popped like with a dict"
   ]
  },
  {
   "cell_type": "code",
   "execution_count": null,
   "metadata": {},
   "outputs": [],
   "source": [
    "# del df['three']\n",
    "\n",
    "df['three'] = df['one'] * df['two']\n",
    "print df\n",
    "\n",
    "# pop deletes and returns the column\n",
    "three = df.pop('three')\n",
    "\n",
    "print three"
   ]
  },
  {
   "cell_type": "markdown",
   "metadata": {},
   "source": [
    "** When inserting a scalar value, it will naturally be propagated to fill the column: **"
   ]
  },
  {
   "cell_type": "code",
   "execution_count": null,
   "metadata": {},
   "outputs": [],
   "source": [
    "df['foo'] = 'bar'\n",
    "\n",
    "print df"
   ]
  },
  {
   "cell_type": "markdown",
   "metadata": {},
   "source": [
    "When inserting a Series that does not have the same index as the DataFrame, it will be conformed to the DataFrame’s index:"
   ]
  },
  {
   "cell_type": "code",
   "execution_count": null,
   "metadata": {},
   "outputs": [],
   "source": [
    "print df['one'][:2]\n",
    "\n",
    "df['one_truncated'] = df['one'][:2]\n",
    "print df"
   ]
  },
  {
   "cell_type": "markdown",
   "metadata": {},
   "source": [
    "#### Assigning New Columns in Method Chains\n",
    "\n",
    "Inspired by dplyr’s mutate verb, DataFrame has an assign() method that allows you to easily create new columns that are potentially derived from existing columns."
   ]
  },
  {
   "cell_type": "code",
   "execution_count": null,
   "metadata": {},
   "outputs": [],
   "source": [
    "# read in the iris dataset\n",
    "\n",
    "iris = pd.read_csv('data/iris.csv')\n",
    "\n",
    "print iris.head()\n",
    "\n",
    "# mutate a new column\n",
    "\n",
    "iris.assign(sepal_ratio = iris['sepal_width']/iris['sepal_length']).head()"
   ]
  },
  {
   "cell_type": "markdown",
   "metadata": {},
   "source": [
    "Above was an example of inserting a precomputed value. We can also pass in a function of one argument to be evalutated on the DataFrame being assigned to."
   ]
  },
  {
   "cell_type": "code",
   "execution_count": null,
   "metadata": {},
   "outputs": [],
   "source": [
    "iris.assign(sepal_ratio = lambda x: (x['sepal_width'])/x['sepal_length']).head()"
   ]
  },
  {
   "cell_type": "markdown",
   "metadata": {},
   "source": [
    "**assign always returns a copy of the data, leaving the original DataFrame untouched.**"
   ]
  },
  {
   "cell_type": "code",
   "execution_count": null,
   "metadata": {},
   "outputs": [],
   "source": [
    "iris.head()\n",
    "\n",
    "# original data unchanged"
   ]
  },
  {
   "cell_type": "markdown",
   "metadata": {},
   "source": [
    "Passing a callable, as opposed to an actual value to be inserted, is useful when you don’t have a reference to the DataFrame at hand. This is common when using assign in chains of operations. For example, we can limit the DataFrame to just those observations with a Sepal Length greater than 5, calculate the ratio, and plot:"
   ]
  },
  {
   "cell_type": "code",
   "execution_count": null,
   "metadata": {
    "scrolled": true
   },
   "outputs": [],
   "source": [
    "# . query(): like subset\n",
    "\n",
    "%pylab inline\n",
    "\n",
    "print iris.query('petal_length > 6')\n",
    "\n",
    "iris.query('petal_length > 5').assign(sepal_ratio = lambda x: x.sepal_width/x.sepal_length,\n",
    "                                     petal_ratio = lambda x: x.petal_width/x.petal_length).plot(kind = 'scatter', x = 'sepal_ratio', y = 'petal_ratio')\n"
   ]
  },
  {
   "cell_type": "markdown",
   "metadata": {},
   "source": [
    "** Warning: All expressions are computed first, and then assigned. So you can’t refer to another column being assigned in the same call to assign. For example: **\n",
    "\n",
    "```\n",
    "\n",
    "In [74]: # Don't do this, bad reference to `C`\n",
    "        df.assign(C = lambda x: x['A'] + x['B'],\n",
    "                  D = lambda x: x['A'] + x['C'])\n",
    "In [2]: # Instead, break it into two assigns\n",
    "        (df.assign(C = lambda x: x['A'] + x['B'])\n",
    "           .assign(D = lambda x: x['A'] + x['C']))\n",
    "```"
   ]
  },
  {
   "cell_type": "markdown",
   "metadata": {},
   "source": [
    "### Indexing/Selection\n",
    "\n",
    "1. Selecting column: df[col]: Series\n",
    "2. Select row by label: df.loc[label]: Series\n",
    "3. Select row by int location: df.iloc[loc]: Series\n",
    "4. Slice rows: df[5:10]: DataFrame\n",
    "5. Select rows by Boolean Vector(like in R): df[bool_vector]: DataFrame\n",
    "\n",
    "Row selection, for example, returns a Series whose index is the columns of the DataFrame:"
   ]
  },
  {
   "cell_type": "code",
   "execution_count": null,
   "metadata": {},
   "outputs": [],
   "source": [
    "print df\n",
    "\n",
    "print df.loc['b']\n",
    "\n",
    "print df.iloc[1]\n",
    "\n",
    "one_row = df.loc['b']\n",
    "\n",
    "# simple loop\n",
    "for value in one_row:\n",
    "    print value\n"
   ]
  },
  {
   "cell_type": "markdown",
   "metadata": {},
   "source": [
    "### Data alignment and arithmetic\n",
    "\n",
    "Data alignment between DataFrame objects automatically align on both the columns and the index (row labels). Again, the resulting object will have the union of the column and row labels."
   ]
  },
  {
   "cell_type": "code",
   "execution_count": null,
   "metadata": {},
   "outputs": [],
   "source": [
    "# (10, 4) => 10 rows and 4 cols\n",
    "df = pd.DataFrame(np.random.randn(10, 4), columns=['A','B','C','D'])\n",
    "\n",
    "df1 = pd.DataFrame(np.random.randn(7, 3), columns=['A','B','C'])\n",
    "\n",
    "print df\n",
    "\n",
    "print df1\n",
    "\n",
    "print df + df1\n",
    "\n",
    "# When doing an operation between DataFrame and Series, the default behavior is to align the Series index\n",
    "# on the DataFrame columns, thus broadcasting row-wise. For example:\n",
    "\n",
    "print df.iloc[0]\n",
    "\n",
    "print df - df.iloc[0]\n",
    "\n"
   ]
  },
  {
   "cell_type": "markdown",
   "metadata": {},
   "source": [
    "In the special case of working with time series data, and the DataFrame index also contains dates, the broadcasting will be column-wise:"
   ]
  },
  {
   "cell_type": "code",
   "execution_count": null,
   "metadata": {},
   "outputs": [],
   "source": [
    "index = pd.date_range(\"1/1/2000\", periods=8)\n",
    "\n",
    "df = pd.DataFrame(np.random.randn(8, 3), index=index, columns=list('ABC'))\n",
    "\n",
    "print df"
   ]
  },
  {
   "cell_type": "markdown",
   "metadata": {},
   "source": [
    "Operations with scalars are as expected"
   ]
  },
  {
   "cell_type": "code",
   "execution_count": null,
   "metadata": {},
   "outputs": [],
   "source": [
    "print \"df:\", df\n",
    "\n",
    "print \"df*2 + 5\", df*2 + 5\n",
    "\n",
    "print \"1/df\", 1/df"
   ]
  },
  {
   "cell_type": "markdown",
   "metadata": {},
   "source": [
    "#### Boolean Operators"
   ]
  },
  {
   "cell_type": "code",
   "execution_count": null,
   "metadata": {},
   "outputs": [],
   "source": [
    "df1 = pd.DataFrame({'a': [1, 0, 1], 'b': [0, 1, 1]}, dtype=bool)\n",
    "\n",
    "df2 = pd.DataFrame({'a': [0, 1, 1], 'b': [1, 1, 0]}, dtype=bool)\n",
    "\n",
    "print df1\n",
    "\n",
    "print df2\n",
    "\n",
    "# print df1 & df2\n",
    "\n",
    "# print df1 | df2\n",
    "\n",
    "# print df1 ^ df2\n",
    "\n",
    "print -df1"
   ]
  },
  {
   "cell_type": "markdown",
   "metadata": {},
   "source": [
    "#### Transposing and Data Interportability\n",
    "\n",
    "To transpose, access the T attribute (also the transpose function), similar to an ndarray:\n",
    "\n",
    "Elementwise NumPy ufuncs (log, exp, sqrt, ...) and various other NumPy functions can be used with no issues on DataFrame, assuming the data within are numeric:"
   ]
  },
  {
   "cell_type": "code",
   "execution_count": null,
   "metadata": {},
   "outputs": [],
   "source": [
    "print df[:5]\n",
    "\n",
    "print df[:5].T\n",
    "\n",
    "print np.exp(df)\n",
    "\n",
    "# convert DataFrame to list\n",
    "\n",
    "print np.asarray(df)"
   ]
  },
  {
   "cell_type": "markdown",
   "metadata": {},
   "source": [
    "The dot method on DataFrame implements matrix multiplication:"
   ]
  },
  {
   "cell_type": "code",
   "execution_count": null,
   "metadata": {},
   "outputs": [],
   "source": [
    "df.T.dot(df)"
   ]
  },
  {
   "cell_type": "markdown",
   "metadata": {},
   "source": [
    "Similarly, the dot method on Series implements dot product:"
   ]
  },
  {
   "cell_type": "code",
   "execution_count": null,
   "metadata": {},
   "outputs": [],
   "source": [
    "print np.arange(5,10)\n",
    "\n",
    "s1 = pd.Series(np.arange(5,10))\n",
    "print s1\n",
    "\n",
    "s1.dot(s1)"
   ]
  },
  {
   "cell_type": "markdown",
   "metadata": {},
   "source": [
    "#### Console Display\n",
    "\n",
    "Very large DataFrames will be truncated to display them in the console. You can also get a summary using info(). \n",
    "\n",
    "```\n",
    "In [101]: baseball = pd.read_csv('data/baseball.csv')\n",
    "\n",
    "In [102]: print(baseball)\n",
    "       id     player  year  stint  ...   hbp   sh   sf  gidp\n",
    "0   88641  womacto01  2006      2  ...   0.0  3.0  0.0   0.0\n",
    "1   88643  schilcu01  2006      1  ...   0.0  0.0  0.0   0.0\n",
    "..    ...        ...   ...    ...  ...   ...  ...  ...   ...\n",
    "98  89533   aloumo01  2007      1  ...   2.0  0.0  3.0  13.0\n",
    "99  89534  alomasa02  2007      1  ...   0.0  0.0  0.0   0.0\n",
    "\n",
    "[100 rows x 23 columns]\n",
    "\n",
    "In [103]: baseball.info()\n",
    "<class 'pandas.core.frame.DataFrame'>\n",
    "RangeIndex: 100 entries, 0 to 99\n",
    "Data columns (total 23 columns):\n",
    "id        100 non-null int64\n",
    "player    100 non-null object\n",
    "year      100 non-null int64\n",
    "stint     100 non-null int64\n",
    "team      100 non-null object\n",
    "lg        100 non-null object\n",
    "g         100 non-null int64\n",
    "```"
   ]
  },
  {
   "cell_type": "markdown",
   "metadata": {},
   "source": [
    "#### Displaying DataFrames nicely"
   ]
  },
  {
   "cell_type": "code",
   "execution_count": null,
   "metadata": {},
   "outputs": [],
   "source": [
    "# Wide DataFrames will be printed across multiple rows by default:\n",
    "\n",
    "print pd.DataFrame(np.random.randn(3, 12))\n",
    "\n",
    "# You can change how much to print on a single row by setting the display.width option:\n",
    "\n",
    "pd.set_option('display.width', 40) # default is 80\n",
    "\n",
    "print pd.DataFrame(np.random.randn(3, 12))\n"
   ]
  },
  {
   "cell_type": "markdown",
   "metadata": {},
   "source": [
    "### End of Intro to Data Structures"
   ]
  },
  {
   "cell_type": "code",
   "execution_count": null,
   "metadata": {},
   "outputs": [],
   "source": [
    "# Creating a Series\n",
    "\n",
    "s = pd.Series([1, 3, 5, np.nan, 6, 8])\n",
    "\n",
    "s"
   ]
  },
  {
   "cell_type": "markdown",
   "metadata": {},
   "source": [
    "We now want to create a DataFrame by passing a numpy array, with datetime index and labeled columns"
   ]
  },
  {
   "cell_type": "code",
   "execution_count": null,
   "metadata": {},
   "outputs": [],
   "source": [
    "# resetting the width\n",
    "\n",
    "pd.set_option('display.width', 80) \n",
    "\n",
    "dates = pd.date_range('20130101', periods=6)\n",
    "\n",
    "df = pd.DataFrame(np.random.randn(6, 4), columns=list('ABCD'), index=dates)\n",
    "\n",
    "print df"
   ]
  },
  {
   "cell_type": "markdown",
   "metadata": {},
   "source": [
    "#### A DataFrame may also be created by passing in a dict of objects of various data types"
   ]
  },
  {
   "cell_type": "code",
   "execution_count": null,
   "metadata": {},
   "outputs": [],
   "source": [
    "# 1. => it should be a floating type value and not an int\n",
    "\n",
    "df2 = pd.DataFrame({\n",
    "    'A': 1.,\n",
    "    'B': pd.Timestamp('20130102'),\n",
    "    'C': pd.Series(1, index=list(range(4)), dtype='float32'),\n",
    "    'D': np.array([3] * 4, dtype='int32'),\n",
    "    'E': pd.Categorical([\"test\", \"train\", \"test\", \"train\"]),\n",
    "    'F': 'foo'\n",
    "})\n",
    "\n",
    "df2\n",
    "\n",
    "# print df2.dtypes"
   ]
  },
  {
   "cell_type": "markdown",
   "metadata": {},
   "source": [
    "#### Viewing Data"
   ]
  },
  {
   "cell_type": "code",
   "execution_count": null,
   "metadata": {},
   "outputs": [],
   "source": [
    "# print df.head()\n",
    "\n",
    "# print df.tail(3)\n",
    "\n",
    "# print df.index\n",
    "\n",
    "# print df.columns\n",
    "\n",
    "# print df.values # returns list of lists\n",
    "\n",
    "# Describe shows a quick statistic summary of your data\n",
    "\n",
    "df.describe()\n",
    "\n",
    "# Transpose\n",
    "\n",
    "# print df.T"
   ]
  },
  {
   "cell_type": "markdown",
   "metadata": {},
   "source": [
    "Sorting by axis"
   ]
  },
  {
   "cell_type": "code",
   "execution_count": null,
   "metadata": {},
   "outputs": [],
   "source": [
    "print df\n",
    "\n",
    "print df.sort_index(axis=1, ascending=False)"
   ]
  },
  {
   "cell_type": "markdown",
   "metadata": {},
   "source": [
    "Sorting by values"
   ]
  },
  {
   "cell_type": "code",
   "execution_count": null,
   "metadata": {},
   "outputs": [],
   "source": [
    "df.sort_values(by='B')"
   ]
  },
  {
   "cell_type": "markdown",
   "metadata": {},
   "source": [
    "#### Selection\n",
    "\n",
    "Selecting a single column, which yields a Series, equivalent to ```df.A```\n"
   ]
  },
  {
   "cell_type": "code",
   "execution_count": null,
   "metadata": {},
   "outputs": [],
   "source": [
    "print df['A']"
   ]
  },
  {
   "cell_type": "markdown",
   "metadata": {},
   "source": [
    "Selecting via [], which slices the rows."
   ]
  },
  {
   "cell_type": "code",
   "execution_count": null,
   "metadata": {},
   "outputs": [],
   "source": [
    "print df[0:3]"
   ]
  },
  {
   "cell_type": "markdown",
   "metadata": {},
   "source": [
    "#### Selection using Label\n",
    "\n",
    "For getting a cross section using a label"
   ]
  },
  {
   "cell_type": "code",
   "execution_count": null,
   "metadata": {},
   "outputs": [],
   "source": [
    "print df\n",
    "\n",
    "# print all cols of row pointed by dates[0]\n",
    "\n",
    "print df.loc[dates[0]]\n",
    "\n",
    "# print all rows and only columns: A and B\n",
    "\n",
    "print df.loc[:, ['A', 'B']]\n",
    "\n",
    "# print cols B and D pointed by the rows '20130102':'20130104'b\n",
    "\n",
    "print df.loc['20130102':'20130104', ['B', 'D']]"
   ]
  },
  {
   "cell_type": "markdown",
   "metadata": {},
   "source": [
    "For getting a scalar value\n"
   ]
  },
  {
   "cell_type": "code",
   "execution_count": null,
   "metadata": {},
   "outputs": [],
   "source": [
    "# returns a scalar value\n",
    "\n",
    "print df.loc[dates[0], 'A']\n",
    "\n",
    "# returns a DataFrame\n",
    "\n",
    "print df.loc[dates[0], ['A']]"
   ]
  },
  {
   "cell_type": "markdown",
   "metadata": {},
   "source": [
    "#### Selecting by Position\n",
    "\n",
    "Select via the position of the passed integers"
   ]
  },
  {
   "cell_type": "code",
   "execution_count": 3,
   "metadata": {},
   "outputs": [
    {
     "ename": "SyntaxError",
     "evalue": "Missing parentheses in call to 'print'. Did you mean print(df)? (<ipython-input-3-5324a860bf99>, line 1)",
     "output_type": "error",
     "traceback": [
      "\u001b[1;36m  File \u001b[1;32m\"<ipython-input-3-5324a860bf99>\"\u001b[1;36m, line \u001b[1;32m1\u001b[0m\n\u001b[1;33m    print df\u001b[0m\n\u001b[1;37m           ^\u001b[0m\n\u001b[1;31mSyntaxError\u001b[0m\u001b[1;31m:\u001b[0m Missing parentheses in call to 'print'. Did you mean print(df)?\n"
     ]
    }
   ],
   "source": [
    "print df\n",
    "\n",
    "print df.iloc[3]\n",
    "\n",
    "# By integer slices, acting similar to numpy/python\n",
    "\n",
    "print df.iloc[3:5, 0:2]\n",
    "\n",
    "# By lists of integer position locations, similar to the numpy/python style\n",
    "print df.iloc[3:5,0:2]"
   ]
  }
 ],
 "metadata": {
  "kernelspec": {
   "display_name": "Python 3",
   "language": "python",
   "name": "python3"
  }
 },
 "nbformat": 4,
 "nbformat_minor": 2
}
