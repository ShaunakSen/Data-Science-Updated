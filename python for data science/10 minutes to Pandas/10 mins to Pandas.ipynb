{
 "cells": [
  {
   "cell_type": "markdown",
   "metadata": {},
   "source": [
    "### 10 minutes to Pandas"
   ]
  },
  {
   "cell_type": "code",
   "execution_count": 45,
   "metadata": {
    "collapsed": true
   },
   "outputs": [],
   "source": [
    "# importing libraries\n",
    "\n",
    "import pandas as pd\n",
    "import numpy as np\n",
    "import matplotlib.pyplot as plt"
   ]
  },
  {
   "cell_type": "markdown",
   "metadata": {},
   "source": [
    "Creating a Series by passing a list of values, letting pandas create a default integer index:"
   ]
  },
  {
   "cell_type": "code",
   "execution_count": 46,
   "metadata": {},
   "outputs": [
    {
     "name": "stdout",
     "output_type": "stream",
     "text": [
      "0    1.0\n",
      "1    3.0\n",
      "2    5.0\n",
      "3    NaN\n",
      "4    6.0\n",
      "5    8.0\n",
      "dtype: float64\n"
     ]
    }
   ],
   "source": [
    "s = pd.Series([1, 3, 5, np.nan, 6, 8])\n",
    "print s"
   ]
  },
  {
   "cell_type": "markdown",
   "metadata": {},
   "source": [
    "### Series\n",
    "\n",
    "Series is a one-dimensional labeled array capable of holding any data type (integers, strings, floating point numbers, Python objects, etc.). The axis labels are collectively referred to as the index. The basic method to create a Series is to call:"
   ]
  },
  {
   "cell_type": "markdown",
   "metadata": {
    "collapsed": true
   },
   "source": [
    "```mySeries = pd.Series(data, index=index)\n",
    "```\n",
    "\n",
    "Syntax for declaring a Series object\n",
    "\n",
    "Here, data can be many different things:\n",
    "\n",
    "- a Python dict\n",
    "- an ndarray\n",
    "- a scalar value (like 5)\n",
    "The passed index is a list of axis labels. Thus, this separates into a few cases depending on what data is"
   ]
  },
  {
   "cell_type": "markdown",
   "metadata": {},
   "source": [
    "#### From ndarray\n",
    "\n",
    "If data is an ndarray, index must be the same length as data. If no index is passed, one will be created having values [0, ..., len(data) - 1]"
   ]
  },
  {
   "cell_type": "code",
   "execution_count": 47,
   "metadata": {},
   "outputs": [
    {
     "name": "stdout",
     "output_type": "stream",
     "text": [
      "a    0.204043\n",
      "b    0.273572\n",
      "c   -0.121856\n",
      "d    0.138843\n",
      "e   -0.856773\n",
      "dtype: float64\n",
      "Index([u'a', u'b', u'c', u'd', u'e'], dtype='object')\n",
      "0    0.147594\n",
      "1   -0.757937\n",
      "2    0.544830\n",
      "3    0.347898\n",
      "4    0.782982\n",
      "dtype: float64\n"
     ]
    }
   ],
   "source": [
    "s = pd.Series(np.random.randn(5), index=['a','b','c','d','e'])\n",
    "\n",
    "print s\n",
    "\n",
    "print s.index\n",
    "\n",
    "print pd.Series(np.random.randn(5))"
   ]
  },
  {
   "cell_type": "markdown",
   "metadata": {},
   "source": [
    "#### From dict\n",
    "\n",
    "If data is a dict, if index is passed the values in data corresponding to the labels in the index will be pulled out. Otherwise, an index will be constructed from the sorted keys of the dict, if possible."
   ]
  },
  {
   "cell_type": "code",
   "execution_count": 48,
   "metadata": {},
   "outputs": [
    {
     "name": "stdout",
     "output_type": "stream",
     "text": [
      "a    0.0\n",
      "b    1.0\n",
      "c    2.0\n",
      "dtype: float64\n",
      "b    1.0\n",
      "c    2.0\n",
      "d    NaN\n",
      "a    0.0\n",
      "dtype: float64\n"
     ]
    }
   ],
   "source": [
    "d = {'a' : 0., 'b' : 1., 'c' : 2.}\n",
    "\n",
    "print pd.Series(d)\n",
    "\n",
    "print pd.Series(d, index=['b', 'c', 'd', 'a'])"
   ]
  },
  {
   "cell_type": "markdown",
   "metadata": {},
   "source": [
    "** Note NaN (not a number) is the standard missing data marker used in pandas **"
   ]
  },
  {
   "cell_type": "markdown",
   "metadata": {},
   "source": [
    "#### From scalar value\n",
    "If data is a scalar value, an index must be provided. The value will be repeated to match the length of index"
   ]
  },
  {
   "cell_type": "code",
   "execution_count": 49,
   "metadata": {},
   "outputs": [
    {
     "data": {
      "text/plain": [
       "a    5.0\n",
       "b    5.0\n",
       "c    5.0\n",
       "dtype: float64"
      ]
     },
     "execution_count": 49,
     "metadata": {},
     "output_type": "execute_result"
    }
   ],
   "source": [
    "pd.Series(5., index=['a', 'b', 'c'])"
   ]
  },
  {
   "cell_type": "markdown",
   "metadata": {},
   "source": [
    "Series acts very similarly to a ndarray, and is a valid argument to most NumPy functions. However, things like slicing also slice the index."
   ]
  },
  {
   "cell_type": "code",
   "execution_count": 50,
   "metadata": {},
   "outputs": [
    {
     "name": "stdout",
     "output_type": "stream",
     "text": [
      "a    0.204043\n",
      "b    0.273572\n",
      "c   -0.121856\n",
      "d    0.138843\n",
      "e   -0.856773\n",
      "dtype: float64\n",
      "0.204042853758\n",
      "a    0.204043\n",
      "b    0.273572\n",
      "c   -0.121856\n",
      "dtype: float64\n",
      "0.13884287742\n",
      "a     True\n",
      "b     True\n",
      "c    False\n",
      "d    False\n",
      "e    False\n",
      "dtype: bool\n",
      "a    0.204043\n",
      "b    0.273572\n",
      "dtype: float64\n",
      "e   -0.856773\n",
      "d    0.138843\n",
      "b    0.273572\n",
      "dtype: float64\n"
     ]
    }
   ],
   "source": [
    "print s\n",
    "print s[0]\n",
    "print s[:3]\n",
    "\n",
    "print s.median()\n",
    "\n",
    "print s > s.median()\n",
    "\n",
    "print s[s > s.median()]\n",
    "\n",
    "print s[[4,3,1]]\n"
   ]
  },
  {
   "cell_type": "markdown",
   "metadata": {},
   "source": [
    "A Series is like a fixed-size dict in that you can get and set values by index label:"
   ]
  },
  {
   "cell_type": "code",
   "execution_count": 51,
   "metadata": {},
   "outputs": [
    {
     "name": "stdout",
     "output_type": "stream",
     "text": [
      "0.204042853758\n",
      "a      0.204043\n",
      "b      0.273572\n",
      "c     -0.121856\n",
      "d      0.138843\n",
      "e    100.000000\n",
      "dtype: float64\n",
      "True\n"
     ]
    }
   ],
   "source": [
    "print s['a']\n",
    "\n",
    "s['e'] = 100\n",
    "\n",
    "print s\n",
    "\n",
    "print 'e' in s"
   ]
  },
  {
   "cell_type": "markdown",
   "metadata": {},
   "source": [
    "Using the get method, a missing label will return None or specified default:"
   ]
  },
  {
   "cell_type": "code",
   "execution_count": 52,
   "metadata": {},
   "outputs": [
    {
     "name": "stdout",
     "output_type": "stream",
     "text": [
      "None\n",
      "-1\n",
      "nan\n"
     ]
    }
   ],
   "source": [
    "print s.get('f')\n",
    "\n",
    "# if not found return -1\n",
    "print s.get('f', -1)\n",
    "\n",
    "print s.get('f', np.nan)"
   ]
  },
  {
   "cell_type": "markdown",
   "metadata": {},
   "source": [
    "### Vectorized operations and label alignment with Series\n",
    "\n",
    "When doing data analysis, as with raw NumPy arrays looping through Series value-by-value is usually not necessary. Series can also be passed into most NumPy methods expecting an ndarray."
   ]
  },
  {
   "cell_type": "code",
   "execution_count": 53,
   "metadata": {},
   "outputs": [
    {
     "name": "stdout",
     "output_type": "stream",
     "text": [
      "a      0.408086\n",
      "b      0.547143\n",
      "c     -0.243712\n",
      "d      0.277686\n",
      "e    200.000000\n",
      "dtype: float64\n",
      "a      0.408086\n",
      "b      0.547143\n",
      "c     -0.243712\n",
      "d      0.277686\n",
      "e    200.000000\n",
      "dtype: float64\n"
     ]
    }
   ],
   "source": [
    "print s+s\n",
    "\n",
    "print s*2\n"
   ]
  },
  {
   "cell_type": "markdown",
   "metadata": {},
   "source": [
    "A key difference between Series and ndarray is that operations between Series automatically align the data based on label. Thus, you can write computations without giving consideration to whether the Series involved have the same labels."
   ]
  },
  {
   "cell_type": "code",
   "execution_count": 54,
   "metadata": {},
   "outputs": [
    {
     "name": "stdout",
     "output_type": "stream",
     "text": [
      "b      0.273572\n",
      "c     -0.121856\n",
      "d      0.138843\n",
      "e    100.000000\n",
      "dtype: float64\n",
      "a    0.204043\n",
      "b    0.273572\n",
      "c   -0.121856\n",
      "d    0.138843\n",
      "dtype: float64\n",
      "a         NaN\n",
      "b    0.547143\n",
      "c   -0.243712\n",
      "d    0.277686\n",
      "e         NaN\n",
      "dtype: float64\n"
     ]
    }
   ],
   "source": [
    "print s[1:]\n",
    "\n",
    "print s[:-1]\n",
    "\n",
    "print s[1:] + s[:-1]"
   ]
  },
  {
   "cell_type": "markdown",
   "metadata": {},
   "source": [
    "The result of an operation between unaligned Series will have the union of the indexes involved. If a label is not found in one Series or the other, the result will be marked as missing NaN. Being able to write code without doing any explicit data alignment grants immense freedom and flexibility in interactive data analysis and research. The integrated data alignment features of the pandas data structures set pandas apart from the majority of related tools for working with labeled data."
   ]
  },
  {
   "cell_type": "markdown",
   "metadata": {},
   "source": [
    "#### Name attr\n",
    "\n",
    "Series can also have a name attribute:"
   ]
  },
  {
   "cell_type": "code",
   "execution_count": 55,
   "metadata": {},
   "outputs": [
    {
     "name": "stdout",
     "output_type": "stream",
     "text": [
      "0   -0.055126\n",
      "1   -0.046355\n",
      "2   -1.452742\n",
      "3   -0.743995\n",
      "4    0.040642\n",
      "Name: something, dtype: float64\n",
      "0   -0.055126\n",
      "1   -0.046355\n",
      "2   -1.452742\n",
      "3   -0.743995\n",
      "4    0.040642\n",
      "Name: different, dtype: float64\n"
     ]
    }
   ],
   "source": [
    "s = pd.Series(np.random.randn(5), name=\"something\")\n",
    "print s\n",
    "\n",
    "# renaming a series\n",
    "s2 = s.rename(\"different\")\n",
    "print s2"
   ]
  },
  {
   "cell_type": "markdown",
   "metadata": {},
   "source": [
    "### Data Frame\n",
    "\n",
    "DataFrame is a 2-dimensional labeled data structure with columns of potentially different types. You can think of it like a spreadsheet or SQL table, or a **dict of Series objects**. It is generally the most commonly used pandas object. Like Series, DataFrame accepts many different kinds of input:\n",
    "\n",
    "1. Dict of 1D ndarrays, lists, dicts or Series\n",
    "2. 2-D numpy.ndarray\n",
    "3. Structured or record ndarray\n",
    "4. A Series\n",
    "\n",
    "Along with the data, you can optionally pass index (row labels) and columns (column labels) arguments. If you pass an index and / or columns, you are guaranteeing the index and / or columns of the resulting DataFrame. Thus, a dict of Series plus a specific index will discard all data not matching up to the passed index.\n",
    "\n",
    "If axis labels are not passed, they will be constructed from the input data based on common sense rules.\n",
    "\n",
    "#### From dict of Series or dicts\n",
    "\n",
    "The result index will be the union of the indexes of the various Series. If there are any nested dicts, these will be first converted to Series. If no columns are passed, the columns will be the sorted list of dict keys."
   ]
  },
  {
   "cell_type": "code",
   "execution_count": 56,
   "metadata": {},
   "outputs": [
    {
     "name": "stdout",
     "output_type": "stream",
     "text": [
      "   one  two\n",
      "a  1.0    1\n",
      "b  2.0    2\n",
      "c  3.0    3\n",
      "d  NaN    4\n"
     ]
    }
   ],
   "source": [
    "d = {'one': pd.Series([1,2,3], index=['a', 'b', 'c']), 'two': pd.Series([1,2,3,4], index=['a', 'b', 'c', 'd'])}\n",
    "\n",
    "df = pd.DataFrame(d)\n",
    "\n",
    "print df"
   ]
  },
  {
   "cell_type": "markdown",
   "metadata": {},
   "source": [
    "#### The row and cols of a DataFrame can be accessed by index and column attr resp"
   ]
  },
  {
   "cell_type": "code",
   "execution_count": 57,
   "metadata": {
    "scrolled": true
   },
   "outputs": [
    {
     "name": "stdout",
     "output_type": "stream",
     "text": [
      "   one  two\n",
      "d  NaN    4\n",
      "b  2.0    2\n",
      "a  1.0    1\n",
      "   two three\n",
      "d    4   NaN\n",
      "b    2   NaN\n",
      "a    1   NaN\n",
      "Index([u'a', u'b', u'c', u'd'], dtype='object')\n",
      "Index([u'one', u'two'], dtype='object')\n"
     ]
    }
   ],
   "source": [
    "print pd.DataFrame(d, index=['d', 'b', 'a'])\n",
    "\n",
    "# there is no col 'three' hence returns NaNs\n",
    "print pd.DataFrame(d, index=['d', 'b', 'a'], columns=['two', 'three'])\n",
    "\n",
    "print df.index\n",
    "\n",
    "print df.columns"
   ]
  },
  {
   "cell_type": "markdown",
   "metadata": {},
   "source": [
    "#### From dict of ndarrays / lists\n",
    "\n",
    "The ndarrays must all be the same length. If an index is passed, it must clearly also be the same length as the arrays. If no index is passed, the result will be range(n), where n is the array length."
   ]
  },
  {
   "cell_type": "code",
   "execution_count": 58,
   "metadata": {},
   "outputs": [
    {
     "name": "stdout",
     "output_type": "stream",
     "text": [
      "   one  two\n",
      "0    1    4\n",
      "1    2    3\n",
      "2    3    2\n",
      "3    4    1\n",
      "   one  two\n",
      "a    1    4\n",
      "b    2    3\n",
      "c    3    2\n",
      "d    4    1\n"
     ]
    }
   ],
   "source": [
    "d = {\n",
    "    'one': [1, 2, 3, 4],\n",
    "    'two': [4, 3, 2, 1]\n",
    "}\n",
    "\n",
    "print pd.DataFrame(d)\n",
    "\n",
    "print pd.DataFrame(d, index=['a','b','c','d'])"
   ]
  },
  {
   "cell_type": "markdown",
   "metadata": {},
   "source": []
  },
  {
   "cell_type": "markdown",
   "metadata": {},
   "source": [
    "#### From a list of dicts"
   ]
  },
  {
   "cell_type": "code",
   "execution_count": 59,
   "metadata": {},
   "outputs": [
    {
     "name": "stdout",
     "output_type": "stream",
     "text": [
      "   a   b     c\n",
      "0  1   2   NaN\n",
      "1  5  10  20.0\n",
      "        a   b     c\n",
      "first   1   2   NaN\n",
      "second  5  10  20.0\n",
      "   a   b\n",
      "0  1   2\n",
      "1  5  10\n"
     ]
    }
   ],
   "source": [
    "data2 = [{'a': 1, 'b': 2}, {'a': 5, 'b': 10, 'c': 20}]\n",
    "\n",
    "print pd.DataFrame(data2)\n",
    "\n",
    "print pd.DataFrame(data2, index=['first', 'second'])\n",
    "\n",
    "print pd.DataFrame(data2, columns = ['a', 'b'])"
   ]
  },
  {
   "cell_type": "markdown",
   "metadata": {},
   "source": [
    "#### DataFrame from items\n",
    "\n",
    "DataFrame.from_items works analogously to the form of the dict constructor that takes a sequence of (key, value) pairs, where the keys are column (or row, in the case of orient='index') names, and the value are the column values (or row values). This can be useful for constructing a DataFrame with the columns in a particular order without having to pass an explicit list of columns:"
   ]
  },
  {
   "cell_type": "code",
   "execution_count": 60,
   "metadata": {},
   "outputs": [
    {
     "name": "stdout",
     "output_type": "stream",
     "text": [
      "   A  B\n",
      "0  1  5\n",
      "1  2  6\n",
      "2  3  7\n",
      "   1  2\n",
      "A  1  5\n",
      "B  2  6\n",
      "C  3  7\n"
     ]
    }
   ],
   "source": [
    "print pd.DataFrame.from_items([('A', [1, 2, 3]), ('B', [5, 6, 7])], orient='columns')\n",
    "\n",
    "# If you pass orient='index', the keys will be the row labels. But in this case you must also pass the desired column names\n",
    "\n",
    "print pd.DataFrame.from_items([('A', [1, 5]), ('B', [2, 6]), ('C', [3, 7])], orient='index', columns=[1, 2])"
   ]
  },
  {
   "cell_type": "markdown",
   "metadata": {},
   "source": [
    "#### Simple operations on DataFrames: Column selection, addition, deletion\n",
    "\n",
    "You can treat a DataFrame semantically like a dict of like-indexed Series objects. Getting, setting, and deleting columns works with the same syntax as the analogous dict operations:"
   ]
  },
  {
   "cell_type": "code",
   "execution_count": 61,
   "metadata": {},
   "outputs": [
    {
     "name": "stdout",
     "output_type": "stream",
     "text": [
      "   one  two\n",
      "a  1.0    1\n",
      "b  2.0    2\n",
      "c  3.0    3\n",
      "d  NaN    4\n",
      "a    1.0\n",
      "b    2.0\n",
      "c    3.0\n",
      "d    NaN\n",
      "Name: one, dtype: float64\n",
      "   one  two  three\n",
      "a  1.0    1    1.0\n",
      "b  2.0    2    4.0\n",
      "c  3.0    3    9.0\n",
      "d  NaN    4    NaN\n",
      "   one  two  three   flag\n",
      "a  1.0    1    1.0  False\n",
      "b  2.0    2    4.0  False\n",
      "c  3.0    3    9.0   True\n",
      "d  NaN    4    NaN  False\n"
     ]
    }
   ],
   "source": [
    "print df\n",
    "\n",
    "print df['one']\n",
    "\n",
    "df['three'] = df['one'] * df['two']\n",
    "\n",
    "print df\n",
    "\n",
    "df['flag'] = df['one'] > 2\n",
    "\n",
    "print df\n"
   ]
  },
  {
   "cell_type": "markdown",
   "metadata": {},
   "source": [
    "Columns can be deleted or popped like with a dict"
   ]
  },
  {
   "cell_type": "code",
   "execution_count": 62,
   "metadata": {},
   "outputs": [
    {
     "name": "stdout",
     "output_type": "stream",
     "text": [
      "   one  two  three   flag\n",
      "a  1.0    1    1.0  False\n",
      "b  2.0    2    4.0  False\n",
      "c  3.0    3    9.0   True\n",
      "d  NaN    4    NaN  False\n",
      "a    1.0\n",
      "b    4.0\n",
      "c    9.0\n",
      "d    NaN\n",
      "Name: three, dtype: float64\n"
     ]
    }
   ],
   "source": [
    "# del df['three']\n",
    "\n",
    "df['three'] = df['one'] * df['two']\n",
    "print df\n",
    "\n",
    "# pop deletes and returns the column\n",
    "three = df.pop('three')\n",
    "\n",
    "print three"
   ]
  },
  {
   "cell_type": "markdown",
   "metadata": {},
   "source": [
    "** When inserting a scalar value, it will naturally be propagated to fill the column: **"
   ]
  },
  {
   "cell_type": "code",
   "execution_count": 63,
   "metadata": {},
   "outputs": [
    {
     "name": "stdout",
     "output_type": "stream",
     "text": [
      "   one  two   flag  foo\n",
      "a  1.0    1  False  bar\n",
      "b  2.0    2  False  bar\n",
      "c  3.0    3   True  bar\n",
      "d  NaN    4  False  bar\n"
     ]
    }
   ],
   "source": [
    "df['foo'] = 'bar'\n",
    "\n",
    "print df"
   ]
  },
  {
   "cell_type": "markdown",
   "metadata": {},
   "source": [
    "When inserting a Series that does not have the same index as the DataFrame, it will be conformed to the DataFrame’s index:"
   ]
  },
  {
   "cell_type": "code",
   "execution_count": 64,
   "metadata": {},
   "outputs": [
    {
     "name": "stdout",
     "output_type": "stream",
     "text": [
      "a    1.0\n",
      "b    2.0\n",
      "Name: one, dtype: float64\n",
      "   one  two   flag  foo  one_truncated\n",
      "a  1.0    1  False  bar            1.0\n",
      "b  2.0    2  False  bar            2.0\n",
      "c  3.0    3   True  bar            NaN\n",
      "d  NaN    4  False  bar            NaN\n"
     ]
    }
   ],
   "source": [
    "print df['one'][:2]\n",
    "\n",
    "df['one_truncated'] = df['one'][:2]\n",
    "print df"
   ]
  },
  {
   "cell_type": "markdown",
   "metadata": {},
   "source": [
    "#### Assigning New Columns in Method Chains\n",
    "\n",
    "Inspired by dplyr’s mutate verb, DataFrame has an assign() method that allows you to easily create new columns that are potentially derived from existing columns."
   ]
  },
  {
   "cell_type": "code",
   "execution_count": 65,
   "metadata": {},
   "outputs": [
    {
     "name": "stdout",
     "output_type": "stream",
     "text": [
      "   sepal_length  sepal_width  petal_length  petal_width species\n",
      "0           5.1          3.5           1.4          0.2  setosa\n",
      "1           4.9          3.0           1.4          0.2  setosa\n",
      "2           4.7          3.2           1.3          0.2  setosa\n",
      "3           4.6          3.1           1.5          0.2  setosa\n",
      "4           5.0          3.6           1.4          0.2  setosa\n"
     ]
    },
    {
     "data": {
      "text/html": [
       "<div>\n",
       "<style>\n",
       "    .dataframe thead tr:only-child th {\n",
       "        text-align: right;\n",
       "    }\n",
       "\n",
       "    .dataframe thead th {\n",
       "        text-align: left;\n",
       "    }\n",
       "\n",
       "    .dataframe tbody tr th {\n",
       "        vertical-align: top;\n",
       "    }\n",
       "</style>\n",
       "<table border=\"1\" class=\"dataframe\">\n",
       "  <thead>\n",
       "    <tr style=\"text-align: right;\">\n",
       "      <th></th>\n",
       "      <th>sepal_length</th>\n",
       "      <th>sepal_width</th>\n",
       "      <th>petal_length</th>\n",
       "      <th>petal_width</th>\n",
       "      <th>species</th>\n",
       "      <th>sepal_ratio</th>\n",
       "    </tr>\n",
       "  </thead>\n",
       "  <tbody>\n",
       "    <tr>\n",
       "      <th>0</th>\n",
       "      <td>5.1</td>\n",
       "      <td>3.5</td>\n",
       "      <td>1.4</td>\n",
       "      <td>0.2</td>\n",
       "      <td>setosa</td>\n",
       "      <td>0.686275</td>\n",
       "    </tr>\n",
       "    <tr>\n",
       "      <th>1</th>\n",
       "      <td>4.9</td>\n",
       "      <td>3.0</td>\n",
       "      <td>1.4</td>\n",
       "      <td>0.2</td>\n",
       "      <td>setosa</td>\n",
       "      <td>0.612245</td>\n",
       "    </tr>\n",
       "    <tr>\n",
       "      <th>2</th>\n",
       "      <td>4.7</td>\n",
       "      <td>3.2</td>\n",
       "      <td>1.3</td>\n",
       "      <td>0.2</td>\n",
       "      <td>setosa</td>\n",
       "      <td>0.680851</td>\n",
       "    </tr>\n",
       "    <tr>\n",
       "      <th>3</th>\n",
       "      <td>4.6</td>\n",
       "      <td>3.1</td>\n",
       "      <td>1.5</td>\n",
       "      <td>0.2</td>\n",
       "      <td>setosa</td>\n",
       "      <td>0.673913</td>\n",
       "    </tr>\n",
       "    <tr>\n",
       "      <th>4</th>\n",
       "      <td>5.0</td>\n",
       "      <td>3.6</td>\n",
       "      <td>1.4</td>\n",
       "      <td>0.2</td>\n",
       "      <td>setosa</td>\n",
       "      <td>0.720000</td>\n",
       "    </tr>\n",
       "  </tbody>\n",
       "</table>\n",
       "</div>"
      ],
      "text/plain": [
       "   sepal_length  sepal_width  petal_length  petal_width species  sepal_ratio\n",
       "0           5.1          3.5           1.4          0.2  setosa     0.686275\n",
       "1           4.9          3.0           1.4          0.2  setosa     0.612245\n",
       "2           4.7          3.2           1.3          0.2  setosa     0.680851\n",
       "3           4.6          3.1           1.5          0.2  setosa     0.673913\n",
       "4           5.0          3.6           1.4          0.2  setosa     0.720000"
      ]
     },
     "execution_count": 65,
     "metadata": {},
     "output_type": "execute_result"
    }
   ],
   "source": [
    "# read in the iris dataset\n",
    "\n",
    "iris = pd.read_csv('data/iris.csv')\n",
    "\n",
    "print iris.head()\n",
    "\n",
    "# mutate a new column\n",
    "\n",
    "iris.assign(sepal_ratio = iris['sepal_width']/iris['sepal_length']).head()"
   ]
  },
  {
   "cell_type": "markdown",
   "metadata": {},
   "source": [
    "Above was an example of inserting a precomputed value. We can also pass in a function of one argument to be evalutated on the DataFrame being assigned to."
   ]
  },
  {
   "cell_type": "code",
   "execution_count": 66,
   "metadata": {},
   "outputs": [
    {
     "data": {
      "text/html": [
       "<div>\n",
       "<style>\n",
       "    .dataframe thead tr:only-child th {\n",
       "        text-align: right;\n",
       "    }\n",
       "\n",
       "    .dataframe thead th {\n",
       "        text-align: left;\n",
       "    }\n",
       "\n",
       "    .dataframe tbody tr th {\n",
       "        vertical-align: top;\n",
       "    }\n",
       "</style>\n",
       "<table border=\"1\" class=\"dataframe\">\n",
       "  <thead>\n",
       "    <tr style=\"text-align: right;\">\n",
       "      <th></th>\n",
       "      <th>sepal_length</th>\n",
       "      <th>sepal_width</th>\n",
       "      <th>petal_length</th>\n",
       "      <th>petal_width</th>\n",
       "      <th>species</th>\n",
       "      <th>sepal_ratio</th>\n",
       "    </tr>\n",
       "  </thead>\n",
       "  <tbody>\n",
       "    <tr>\n",
       "      <th>0</th>\n",
       "      <td>5.1</td>\n",
       "      <td>3.5</td>\n",
       "      <td>1.4</td>\n",
       "      <td>0.2</td>\n",
       "      <td>setosa</td>\n",
       "      <td>0.686275</td>\n",
       "    </tr>\n",
       "    <tr>\n",
       "      <th>1</th>\n",
       "      <td>4.9</td>\n",
       "      <td>3.0</td>\n",
       "      <td>1.4</td>\n",
       "      <td>0.2</td>\n",
       "      <td>setosa</td>\n",
       "      <td>0.612245</td>\n",
       "    </tr>\n",
       "    <tr>\n",
       "      <th>2</th>\n",
       "      <td>4.7</td>\n",
       "      <td>3.2</td>\n",
       "      <td>1.3</td>\n",
       "      <td>0.2</td>\n",
       "      <td>setosa</td>\n",
       "      <td>0.680851</td>\n",
       "    </tr>\n",
       "    <tr>\n",
       "      <th>3</th>\n",
       "      <td>4.6</td>\n",
       "      <td>3.1</td>\n",
       "      <td>1.5</td>\n",
       "      <td>0.2</td>\n",
       "      <td>setosa</td>\n",
       "      <td>0.673913</td>\n",
       "    </tr>\n",
       "    <tr>\n",
       "      <th>4</th>\n",
       "      <td>5.0</td>\n",
       "      <td>3.6</td>\n",
       "      <td>1.4</td>\n",
       "      <td>0.2</td>\n",
       "      <td>setosa</td>\n",
       "      <td>0.720000</td>\n",
       "    </tr>\n",
       "  </tbody>\n",
       "</table>\n",
       "</div>"
      ],
      "text/plain": [
       "   sepal_length  sepal_width  petal_length  petal_width species  sepal_ratio\n",
       "0           5.1          3.5           1.4          0.2  setosa     0.686275\n",
       "1           4.9          3.0           1.4          0.2  setosa     0.612245\n",
       "2           4.7          3.2           1.3          0.2  setosa     0.680851\n",
       "3           4.6          3.1           1.5          0.2  setosa     0.673913\n",
       "4           5.0          3.6           1.4          0.2  setosa     0.720000"
      ]
     },
     "execution_count": 66,
     "metadata": {},
     "output_type": "execute_result"
    }
   ],
   "source": [
    "iris.assign(sepal_ratio = lambda x: (x['sepal_width'])/x['sepal_length']).head()"
   ]
  },
  {
   "cell_type": "markdown",
   "metadata": {},
   "source": [
    "**assign always returns a copy of the data, leaving the original DataFrame untouched.**"
   ]
  },
  {
   "cell_type": "code",
   "execution_count": 67,
   "metadata": {},
   "outputs": [
    {
     "data": {
      "text/html": [
       "<div>\n",
       "<style>\n",
       "    .dataframe thead tr:only-child th {\n",
       "        text-align: right;\n",
       "    }\n",
       "\n",
       "    .dataframe thead th {\n",
       "        text-align: left;\n",
       "    }\n",
       "\n",
       "    .dataframe tbody tr th {\n",
       "        vertical-align: top;\n",
       "    }\n",
       "</style>\n",
       "<table border=\"1\" class=\"dataframe\">\n",
       "  <thead>\n",
       "    <tr style=\"text-align: right;\">\n",
       "      <th></th>\n",
       "      <th>sepal_length</th>\n",
       "      <th>sepal_width</th>\n",
       "      <th>petal_length</th>\n",
       "      <th>petal_width</th>\n",
       "      <th>species</th>\n",
       "    </tr>\n",
       "  </thead>\n",
       "  <tbody>\n",
       "    <tr>\n",
       "      <th>0</th>\n",
       "      <td>5.1</td>\n",
       "      <td>3.5</td>\n",
       "      <td>1.4</td>\n",
       "      <td>0.2</td>\n",
       "      <td>setosa</td>\n",
       "    </tr>\n",
       "    <tr>\n",
       "      <th>1</th>\n",
       "      <td>4.9</td>\n",
       "      <td>3.0</td>\n",
       "      <td>1.4</td>\n",
       "      <td>0.2</td>\n",
       "      <td>setosa</td>\n",
       "    </tr>\n",
       "    <tr>\n",
       "      <th>2</th>\n",
       "      <td>4.7</td>\n",
       "      <td>3.2</td>\n",
       "      <td>1.3</td>\n",
       "      <td>0.2</td>\n",
       "      <td>setosa</td>\n",
       "    </tr>\n",
       "    <tr>\n",
       "      <th>3</th>\n",
       "      <td>4.6</td>\n",
       "      <td>3.1</td>\n",
       "      <td>1.5</td>\n",
       "      <td>0.2</td>\n",
       "      <td>setosa</td>\n",
       "    </tr>\n",
       "    <tr>\n",
       "      <th>4</th>\n",
       "      <td>5.0</td>\n",
       "      <td>3.6</td>\n",
       "      <td>1.4</td>\n",
       "      <td>0.2</td>\n",
       "      <td>setosa</td>\n",
       "    </tr>\n",
       "  </tbody>\n",
       "</table>\n",
       "</div>"
      ],
      "text/plain": [
       "   sepal_length  sepal_width  petal_length  petal_width species\n",
       "0           5.1          3.5           1.4          0.2  setosa\n",
       "1           4.9          3.0           1.4          0.2  setosa\n",
       "2           4.7          3.2           1.3          0.2  setosa\n",
       "3           4.6          3.1           1.5          0.2  setosa\n",
       "4           5.0          3.6           1.4          0.2  setosa"
      ]
     },
     "execution_count": 67,
     "metadata": {},
     "output_type": "execute_result"
    }
   ],
   "source": [
    "iris.head()\n",
    "\n",
    "# original data unchanged"
   ]
  },
  {
   "cell_type": "markdown",
   "metadata": {},
   "source": [
    "Passing a callable, as opposed to an actual value to be inserted, is useful when you don’t have a reference to the DataFrame at hand. This is common when using assign in chains of operations. For example, we can limit the DataFrame to just those observations with a Sepal Length greater than 5, calculate the ratio, and plot:"
   ]
  },
  {
   "cell_type": "code",
   "execution_count": 68,
   "metadata": {
    "scrolled": true
   },
   "outputs": [
    {
     "name": "stdout",
     "output_type": "stream",
     "text": [
      "Populating the interactive namespace from numpy and matplotlib\n",
      "     sepal_length  sepal_width  petal_length  petal_width    species\n",
      "105           7.6          3.0           6.6          2.1  virginica\n",
      "107           7.3          2.9           6.3          1.8  virginica\n",
      "109           7.2          3.6           6.1          2.5  virginica\n",
      "117           7.7          3.8           6.7          2.2  virginica\n",
      "118           7.7          2.6           6.9          2.3  virginica\n",
      "122           7.7          2.8           6.7          2.0  virginica\n",
      "130           7.4          2.8           6.1          1.9  virginica\n",
      "131           7.9          3.8           6.4          2.0  virginica\n",
      "135           7.7          3.0           6.1          2.3  virginica\n"
     ]
    },
    {
     "data": {
      "text/plain": [
       "<matplotlib.axes._subplots.AxesSubplot at 0xd5a1b00>"
      ]
     },
     "execution_count": 68,
     "metadata": {},
     "output_type": "execute_result"
    },
    {
     "data": {
      "image/png": "[encoded data removed]",
      "text/plain": [
       "<matplotlib.figure.Figure at 0xab78ac8>"
      ]
     },
     "metadata": {},
     "output_type": "display_data"
    }
   ],
   "source": [
    "# . query(): like subset\n",
    "\n",
    "%pylab inline\n",
    "\n",
    "print iris.query('petal_length > 6')\n",
    "\n",
    "iris.query('petal_length > 5').assign(sepal_ratio = lambda x: x.sepal_width/x.sepal_length,\n",
    "                                     petal_ratio = lambda x: x.petal_width/x.petal_length).plot(kind = 'scatter', x = 'sepal_ratio', y = 'petal_ratio')\n"
   ]
  },
  {
   "cell_type": "markdown",
   "metadata": {},
   "source": [
    "** Warning: All expressions are computed first, and then assigned. So you can’t refer to another column being assigned in the same call to assign. For example: **\n",
    "\n",
    "```\n",
    "\n",
    "In [74]: # Don't do this, bad reference to `C`\n",
    "        df.assign(C = lambda x: x['A'] + x['B'],\n",
    "                  D = lambda x: x['A'] + x['C'])\n",
    "In [2]: # Instead, break it into two assigns\n",
    "        (df.assign(C = lambda x: x['A'] + x['B'])\n",
    "           .assign(D = lambda x: x['A'] + x['C']))\n",
    "```"
   ]
  },
  {
   "cell_type": "markdown",
   "metadata": {},
   "source": [
    "### Indexing/Selection\n",
    "\n",
    "1. Selecting column: df[col]: Series\n",
    "2. Select row by label: df.loc[label]: Series\n",
    "3. Select row by int location: df.iloc[loc]: Series\n",
    "4. Slice rows: df[5:10]: DataFrame\n",
    "5. Select rows by Boolean Vector(like in R): df[bool_vector]: DataFrame\n",
    "\n",
    "Row selection, for example, returns a Series whose index is the columns of the DataFrame:"
   ]
  },
  {
   "cell_type": "code",
   "execution_count": 69,
   "metadata": {},
   "outputs": [
    {
     "name": "stdout",
     "output_type": "stream",
     "text": [
      "   one  two   flag  foo  one_truncated\n",
      "a  1.0    1  False  bar            1.0\n",
      "b  2.0    2  False  bar            2.0\n",
      "c  3.0    3   True  bar            NaN\n",
      "d  NaN    4  False  bar            NaN\n",
      "one                  2\n",
      "two                  2\n",
      "flag             False\n",
      "foo                bar\n",
      "one_truncated        2\n",
      "Name: b, dtype: object\n",
      "one                  2\n",
      "two                  2\n",
      "flag             False\n",
      "foo                bar\n",
      "one_truncated        2\n",
      "Name: b, dtype: object\n",
      "2.0\n",
      "2\n",
      "False\n",
      "bar\n",
      "2.0\n"
     ]
    }
   ],
   "source": [
    "print df\n",
    "\n",
    "print df.loc['b']\n",
    "\n",
    "print df.iloc[1]\n",
    "\n",
    "one_row = df.loc['b']\n",
    "\n",
    "# simple loop\n",
    "for value in one_row:\n",
    "    print value\n"
   ]
  },
  {
   "cell_type": "markdown",
   "metadata": {},
   "source": [
    "### Data alignment and arithmetic\n",
    "\n",
    "Data alignment between DataFrame objects automatically align on both the columns and the index (row labels). Again, the resulting object will have the union of the column and row labels."
   ]
  },
  {
   "cell_type": "code",
   "execution_count": 70,
   "metadata": {},
   "outputs": [
    {
     "name": "stdout",
     "output_type": "stream",
     "text": [
      "          A         B         C         D\n",
      "0  0.560881 -0.239700  0.119025  1.058678\n",
      "1 -0.455471  1.506138 -0.805550  0.085190\n",
      "2 -0.538956  1.116529  1.274098  1.762552\n",
      "3  0.319922 -1.186575 -1.491521  1.911374\n",
      "4 -1.635071 -1.013817  1.327547  0.465917\n",
      "5  1.565134 -0.339648  0.207823  1.248484\n",
      "6 -0.352132  0.074285 -1.235061  1.174947\n",
      "7 -0.813161 -0.248732 -0.282792 -1.408552\n",
      "8  0.151187 -0.947054 -0.354027 -0.581471\n",
      "9 -0.796775 -0.004440  0.487327 -1.579061\n",
      "          A         B         C\n",
      "0  1.661224 -0.216040 -0.440701\n",
      "1  1.530226 -1.772866  1.837500\n",
      "2  1.821269  0.147635 -0.440059\n",
      "3 -0.038066 -0.771832 -0.905765\n",
      "4  0.633075 -2.281827 -1.305051\n",
      "5  0.937982  0.955580  0.989387\n",
      "6 -1.497282  0.436516  1.606297\n",
      "          A         B         C   D\n",
      "0  2.222105 -0.455740 -0.321676 NaN\n",
      "1  1.074755 -0.266728  1.031950 NaN\n",
      "2  1.282314  1.264165  0.834039 NaN\n",
      "3  0.281856 -1.958407 -2.397285 NaN\n",
      "4 -1.001997 -3.295644  0.022497 NaN\n",
      "5  2.503116  0.615932  1.197209 NaN\n",
      "6 -1.849415  0.510800  0.371236 NaN\n",
      "7       NaN       NaN       NaN NaN\n",
      "8       NaN       NaN       NaN NaN\n",
      "9       NaN       NaN       NaN NaN\n",
      "A    0.560881\n",
      "B   -0.239700\n",
      "C    0.119025\n",
      "D    1.058678\n",
      "Name: 0, dtype: float64\n",
      "          A         B         C         D\n",
      "0  0.000000  0.000000  0.000000  0.000000\n",
      "1 -1.016352  1.745838 -0.924575 -0.973487\n",
      "2 -1.099837  1.356229  1.155072  0.703874\n",
      "3 -0.240959 -0.946876 -1.610546  0.852697\n",
      "4 -2.195952 -0.774118  1.208522 -0.592760\n",
      "5  1.004253 -0.099949  0.088797  0.189807\n",
      "6 -0.913013  0.313984 -1.354086  0.116269\n",
      "7 -1.374042 -0.009032 -0.401818 -2.467230\n",
      "8 -0.409694 -0.707354 -0.473052 -1.640149\n",
      "9 -1.357656  0.235260  0.368301 -2.637739\n"
     ]
    }
   ],
   "source": [
    "# (10, 4) => 10 rows and 4 cols\n",
    "df = pd.DataFrame(np.random.randn(10, 4), columns=['A','B','C','D'])\n",
    "\n",
    "df1 = pd.DataFrame(np.random.randn(7, 3), columns=['A','B','C'])\n",
    "\n",
    "print df\n",
    "\n",
    "print df1\n",
    "\n",
    "print df + df1\n",
    "\n",
    "# When doing an operation between DataFrame and Series, the default behavior is to align the Series index\n",
    "# on the DataFrame columns, thus broadcasting row-wise. For example:\n",
    "\n",
    "print df.iloc[0]\n",
    "\n",
    "print df - df.iloc[0]\n",
    "\n"
   ]
  },
  {
   "cell_type": "markdown",
   "metadata": {},
   "source": [
    "In the special case of working with time series data, and the DataFrame index also contains dates, the broadcasting will be column-wise:"
   ]
  },
  {
   "cell_type": "code",
   "execution_count": 71,
   "metadata": {},
   "outputs": [
    {
     "name": "stdout",
     "output_type": "stream",
     "text": [
      "                   A         B         C\n",
      "2000-01-01 -0.191078  0.257849  1.213033\n",
      "2000-01-02 -0.333805 -0.861163 -0.029547\n",
      "2000-01-03 -0.079781  2.375585 -1.147630\n",
      "2000-01-04 -0.588554 -0.669481 -0.494097\n",
      "2000-01-05  1.899738 -0.154498 -0.915136\n",
      "2000-01-06 -1.448741 -1.681435  0.290570\n",
      "2000-01-07 -0.699828  1.084478  0.991121\n",
      "2000-01-08 -0.539568  0.730269 -1.144545\n"
     ]
    }
   ],
   "source": [
    "index = pd.date_range(\"1/1/2000\", periods=8)\n",
    "\n",
    "df = pd.DataFrame(np.random.randn(8, 3), index=index, columns=list('ABC'))\n",
    "\n",
    "print df"
   ]
  },
  {
   "cell_type": "markdown",
   "metadata": {},
   "source": [
    "Operations with scalars are as expected"
   ]
  },
  {
   "cell_type": "code",
   "execution_count": 72,
   "metadata": {},
   "outputs": [
    {
     "name": "stdout",
     "output_type": "stream",
     "text": [
      "df:                    A         B         C\n",
      "2000-01-01 -0.191078  0.257849  1.213033\n",
      "2000-01-02 -0.333805 -0.861163 -0.029547\n",
      "2000-01-03 -0.079781  2.375585 -1.147630\n",
      "2000-01-04 -0.588554 -0.669481 -0.494097\n",
      "2000-01-05  1.899738 -0.154498 -0.915136\n",
      "2000-01-06 -1.448741 -1.681435  0.290570\n",
      "2000-01-07 -0.699828  1.084478  0.991121\n",
      "2000-01-08 -0.539568  0.730269 -1.144545\n",
      "df*2 + 5                    A         B         C\n",
      "2000-01-01  4.617843  5.515698  7.426067\n",
      "2000-01-02  4.332390  3.277674  4.940907\n",
      "2000-01-03  4.840437  9.751170  2.704739\n",
      "2000-01-04  3.822892  3.661038  4.011806\n",
      "2000-01-05  8.799476  4.691004  3.169728\n",
      "2000-01-06  2.102517  1.637130  5.581141\n",
      "2000-01-07  3.600344  7.168957  6.982241\n",
      "2000-01-08  3.920865  6.460538  2.710910\n",
      "1/df                     A         B          C\n",
      "2000-01-01  -5.233453  3.878241   0.824380\n",
      "2000-01-02  -2.995763 -1.161220 -33.844889\n",
      "2000-01-03 -12.534241  0.420949  -0.871361\n",
      "2000-01-04  -1.699079 -1.493695  -2.023893\n",
      "2000-01-05   0.526388 -6.472566  -1.092734\n",
      "2000-01-06  -0.690254 -0.594730   3.441506\n",
      "2000-01-07  -1.428923  0.922102   1.008959\n",
      "2000-01-08  -1.853335  1.369358  -0.873710\n"
     ]
    }
   ],
   "source": [
    "print \"df:\", df\n",
    "\n",
    "print \"df*2 + 5\", df*2 + 5\n",
    "\n",
    "print \"1/df\", 1/df"
   ]
  },
  {
   "cell_type": "markdown",
   "metadata": {},
   "source": [
    "#### Boolean Operators"
   ]
  },
  {
   "cell_type": "code",
   "execution_count": 73,
   "metadata": {},
   "outputs": [
    {
     "name": "stdout",
     "output_type": "stream",
     "text": [
      "       a      b\n",
      "0   True  False\n",
      "1  False   True\n",
      "2   True   True\n",
      "       a      b\n",
      "0  False   True\n",
      "1   True   True\n",
      "2   True  False\n",
      "       a      b\n",
      "0  False   True\n",
      "1   True  False\n",
      "2  False  False\n"
     ]
    }
   ],
   "source": [
    "df1 = pd.DataFrame({'a': [1, 0, 1], 'b': [0, 1, 1]}, dtype=bool)\n",
    "\n",
    "df2 = pd.DataFrame({'a': [0, 1, 1], 'b': [1, 1, 0]}, dtype=bool)\n",
    "\n",
    "print df1\n",
    "\n",
    "print df2\n",
    "\n",
    "# print df1 & df2\n",
    "\n",
    "# print df1 | df2\n",
    "\n",
    "# print df1 ^ df2\n",
    "\n",
    "print -df1"
   ]
  },
  {
   "cell_type": "markdown",
   "metadata": {},
   "source": [
    "#### Transposing and Data Interportability\n",
    "\n",
    "To transpose, access the T attribute (also the transpose function), similar to an ndarray:\n",
    "\n",
    "Elementwise NumPy ufuncs (log, exp, sqrt, ...) and various other NumPy functions can be used with no issues on DataFrame, assuming the data within are numeric:"
   ]
  },
  {
   "cell_type": "code",
   "execution_count": 74,
   "metadata": {},
   "outputs": [
    {
     "name": "stdout",
     "output_type": "stream",
     "text": [
      "                   A         B         C\n",
      "2000-01-01 -0.191078  0.257849  1.213033\n",
      "2000-01-02 -0.333805 -0.861163 -0.029547\n",
      "2000-01-03 -0.079781  2.375585 -1.147630\n",
      "2000-01-04 -0.588554 -0.669481 -0.494097\n",
      "2000-01-05  1.899738 -0.154498 -0.915136\n",
      "   2000-01-01  2000-01-02  2000-01-03  2000-01-04  2000-01-05\n",
      "A   -0.191078   -0.333805   -0.079781   -0.588554    1.899738\n",
      "B    0.257849   -0.861163    2.375585   -0.669481   -0.154498\n",
      "C    1.213033   -0.029547   -1.147630   -0.494097   -0.915136\n",
      "                   A          B         C\n",
      "2000-01-01  0.826068   1.294143  3.363673\n",
      "2000-01-02  0.716194   0.422670  0.970886\n",
      "2000-01-03  0.923318  10.757304  0.317388\n",
      "2000-01-04  0.555129   0.511974  0.610122\n",
      "2000-01-05  6.684144   0.856845  0.400462\n",
      "2000-01-06  0.234866   0.186107  1.337190\n",
      "2000-01-07  0.496671   2.957897  2.694252\n",
      "2000-01-08  0.583000   2.075639  0.318369\n",
      "[[-0.19107842  0.25784888  1.21303349]\n",
      " [-0.3338048  -0.86116295 -0.02954656]\n",
      " [-0.07978146  2.37558494 -1.14763039]\n",
      " [-0.58855418 -0.66948083 -0.49409715]\n",
      " [ 1.89973822 -0.15449823 -0.91513594]\n",
      " [-1.44874149 -1.68143513  0.29057048]\n",
      " [-0.69982785  1.08447843  0.99112056]\n",
      " [-0.53956773  0.73026904 -1.14454503]]\n"
     ]
    }
   ],
   "source": [
    "print df[:5]\n",
    "\n",
    "print df[:5].T\n",
    "\n",
    "print np.exp(df)\n",
    "\n",
    "# convert DataFrame to list\n",
    "\n",
    "print np.asarray(df)"
   ]
  },
  {
   "cell_type": "markdown",
   "metadata": {},
   "source": [
    "The dot method on DataFrame implements matrix multiplication:"
   ]
  },
  {
   "cell_type": "code",
   "execution_count": 75,
   "metadata": {},
   "outputs": [
    {
     "data": {
      "text/html": [
       "<div>\n",
       "<style>\n",
       "    .dataframe thead tr:only-child th {\n",
       "        text-align: right;\n",
       "    }\n",
       "\n",
       "    .dataframe thead th {\n",
       "        text-align: left;\n",
       "    }\n",
       "\n",
       "    .dataframe tbody tr th {\n",
       "        vertical-align: top;\n",
       "    }\n",
       "</style>\n",
       "<table border=\"1\" class=\"dataframe\">\n",
       "  <thead>\n",
       "    <tr style=\"text-align: right;\">\n",
       "      <th></th>\n",
       "      <th>A</th>\n",
       "      <th>B</th>\n",
       "      <th>C</th>\n",
       "    </tr>\n",
       "  </thead>\n",
       "  <tbody>\n",
       "    <tr>\n",
       "      <th>A</th>\n",
       "      <td>6.989447</td>\n",
       "      <td>1.432170</td>\n",
       "      <td>-2.075094</td>\n",
       "    </tr>\n",
       "    <tr>\n",
       "      <th>B</th>\n",
       "      <td>1.432170</td>\n",
       "      <td>11.460176</td>\n",
       "      <td>-2.165447</td>\n",
       "    </tr>\n",
       "    <tr>\n",
       "      <th>C</th>\n",
       "      <td>-2.075094</td>\n",
       "      <td>-2.165447</td>\n",
       "      <td>6.247719</td>\n",
       "    </tr>\n",
       "  </tbody>\n",
       "</table>\n",
       "</div>"
      ],
      "text/plain": [
       "          A          B         C\n",
       "A  6.989447   1.432170 -2.075094\n",
       "B  1.432170  11.460176 -2.165447\n",
       "C -2.075094  -2.165447  6.247719"
      ]
     },
     "execution_count": 75,
     "metadata": {},
     "output_type": "execute_result"
    }
   ],
   "source": [
    "df.T.dot(df)"
   ]
  },
  {
   "cell_type": "markdown",
   "metadata": {},
   "source": [
    "Similarly, the dot method on Series implements dot product:"
   ]
  },
  {
   "cell_type": "code",
   "execution_count": 76,
   "metadata": {},
   "outputs": [
    {
     "name": "stdout",
     "output_type": "stream",
     "text": [
      "[5 6 7 8 9]\n",
      "0    5\n",
      "1    6\n",
      "2    7\n",
      "3    8\n",
      "4    9\n",
      "dtype: int32\n"
     ]
    },
    {
     "data": {
      "text/plain": [
       "255"
      ]
     },
     "execution_count": 76,
     "metadata": {},
     "output_type": "execute_result"
    }
   ],
   "source": [
    "print np.arange(5,10)\n",
    "\n",
    "s1 = pd.Series(np.arange(5,10))\n",
    "print s1\n",
    "\n",
    "s1.dot(s1)"
   ]
  },
  {
   "cell_type": "markdown",
   "metadata": {},
   "source": [
    "#### Console Display\n",
    "\n",
    "Very large DataFrames will be truncated to display them in the console. You can also get a summary using info(). \n",
    "\n",
    "```\n",
    "In [101]: baseball = pd.read_csv('data/baseball.csv')\n",
    "\n",
    "In [102]: print(baseball)\n",
    "       id     player  year  stint  ...   hbp   sh   sf  gidp\n",
    "0   88641  womacto01  2006      2  ...   0.0  3.0  0.0   0.0\n",
    "1   88643  schilcu01  2006      1  ...   0.0  0.0  0.0   0.0\n",
    "..    ...        ...   ...    ...  ...   ...  ...  ...   ...\n",
    "98  89533   aloumo01  2007      1  ...   2.0  0.0  3.0  13.0\n",
    "99  89534  alomasa02  2007      1  ...   0.0  0.0  0.0   0.0\n",
    "\n",
    "[100 rows x 23 columns]\n",
    "\n",
    "In [103]: baseball.info()\n",
    "<class 'pandas.core.frame.DataFrame'>\n",
    "RangeIndex: 100 entries, 0 to 99\n",
    "Data columns (total 23 columns):\n",
    "id        100 non-null int64\n",
    "player    100 non-null object\n",
    "year      100 non-null int64\n",
    "stint     100 non-null int64\n",
    "team      100 non-null object\n",
    "lg        100 non-null object\n",
    "g         100 non-null int64\n",
    "```"
   ]
  },
  {
   "cell_type": "markdown",
   "metadata": {},
   "source": [
    "#### Displaying DataFrames nicely"
   ]
  },
  {
   "cell_type": "code",
   "execution_count": 77,
   "metadata": {},
   "outputs": [
    {
     "name": "stdout",
     "output_type": "stream",
     "text": [
      "         0         1         2         3         4         5         6   \\\n",
      "0 -0.985323  1.306469 -0.352928 -0.004609 -1.243933 -0.174314 -2.599348   \n",
      "1  0.491381 -0.662393  0.670322  0.645765  0.113574  2.135105 -0.041974   \n",
      "2  0.514822  1.709256  0.560338 -0.677685 -1.641050 -0.929537 -0.722615   \n",
      "\n",
      "         7         8         9         10        11  \n",
      "0  0.939816  0.885854  1.141218 -0.722027 -1.158067  \n",
      "1 -0.210948 -0.122799  0.575390 -1.376401 -2.982619  \n",
      "2 -0.916340 -0.766108 -1.101712 -1.170084  1.557253  \n",
      "         0         1         2   \\\n",
      "0 -0.876795  0.404572  0.397398   \n",
      "1  0.447376 -0.935953 -1.835480   \n",
      "2 -1.645308  0.635198  0.926888   \n",
      "\n",
      "         3         4         5   \\\n",
      "0 -0.349490 -0.730387  1.202399   \n",
      "1  0.192591  0.259158 -0.285994   \n",
      "2 -0.512594  0.182865  0.318015   \n",
      "\n",
      "         6         7         8   \\\n",
      "0  0.628500  0.364113 -0.458145   \n",
      "1  1.296202  1.784602  1.625413   \n",
      "2  0.062667 -1.431577 -0.313949   \n",
      "\n",
      "         9         10        11  \n",
      "0 -0.805453 -0.208902  0.904814  \n",
      "1 -0.106721  0.629406 -0.102960  \n",
      "2  2.931482 -1.974140  0.940576  \n"
     ]
    }
   ],
   "source": [
    "# Wide DataFrames will be printed across multiple rows by default:\n",
    "\n",
    "print pd.DataFrame(np.random.randn(3, 12))\n",
    "\n",
    "# You can change how much to print on a single row by setting the display.width option:\n",
    "\n",
    "pd.set_option('display.width', 40) # default is 80\n",
    "\n",
    "print pd.DataFrame(np.random.randn(3, 12))\n"
   ]
  },
  {
   "cell_type": "markdown",
   "metadata": {},
   "source": [
    "### End of Intro to Data Structures"
   ]
  },
  {
   "cell_type": "code",
   "execution_count": 78,
   "metadata": {},
   "outputs": [
    {
     "data": {
      "text/plain": [
       "0    1.0\n",
       "1    3.0\n",
       "2    5.0\n",
       "3    NaN\n",
       "4    6.0\n",
       "5    8.0\n",
       "dtype: float64"
      ]
     },
     "execution_count": 78,
     "metadata": {},
     "output_type": "execute_result"
    }
   ],
   "source": [
    "# Creating a Series\n",
    "\n",
    "s = pd.Series([1, 3, 5, np.nan, 6, 8])\n",
    "\n",
    "s"
   ]
  },
  {
   "cell_type": "markdown",
   "metadata": {},
   "source": [
    "We now want to create a DataFrame by passing a numpy array, with datetime index and labeled columns"
   ]
  },
  {
   "cell_type": "code",
   "execution_count": 79,
   "metadata": {},
   "outputs": [
    {
     "name": "stdout",
     "output_type": "stream",
     "text": [
      "                   A         B         C         D\n",
      "2013-01-01  0.593260 -1.282580 -0.113744 -0.835311\n",
      "2013-01-02 -0.124694 -1.097231  0.196804 -0.868358\n",
      "2013-01-03 -0.886937 -0.169814 -0.386967  0.151900\n",
      "2013-01-04  0.182330  1.703651  0.054536 -0.316193\n",
      "2013-01-05  0.945115  0.061955  0.542512 -0.254902\n",
      "2013-01-06  0.922094 -0.441097 -1.528518 -0.073882\n"
     ]
    }
   ],
   "source": [
    "# resetting the width\n",
    "\n",
    "pd.set_option('display.width', 80) \n",
    "\n",
    "dates = pd.date_range('20130101', periods=6)\n",
    "\n",
    "df = pd.DataFrame(np.random.randn(6, 4), columns=list('ABCD'), index=dates)\n",
    "\n",
    "print df"
   ]
  },
  {
   "cell_type": "markdown",
   "metadata": {},
   "source": [
    "#### A DataFrame may also be created by passing in a dict of objects of various data types"
   ]
  },
  {
   "cell_type": "code",
   "execution_count": 80,
   "metadata": {},
   "outputs": [
    {
     "data": {
      "text/html": [
       "<div>\n",
       "<style>\n",
       "    .dataframe thead tr:only-child th {\n",
       "        text-align: right;\n",
       "    }\n",
       "\n",
       "    .dataframe thead th {\n",
       "        text-align: left;\n",
       "    }\n",
       "\n",
       "    .dataframe tbody tr th {\n",
       "        vertical-align: top;\n",
       "    }\n",
       "</style>\n",
       "<table border=\"1\" class=\"dataframe\">\n",
       "  <thead>\n",
       "    <tr style=\"text-align: right;\">\n",
       "      <th></th>\n",
       "      <th>A</th>\n",
       "      <th>B</th>\n",
       "      <th>C</th>\n",
       "      <th>D</th>\n",
       "      <th>E</th>\n",
       "      <th>F</th>\n",
       "    </tr>\n",
       "  </thead>\n",
       "  <tbody>\n",
       "    <tr>\n",
       "      <th>0</th>\n",
       "      <td>1.0</td>\n",
       "      <td>2013-01-02</td>\n",
       "      <td>1.0</td>\n",
       "      <td>3</td>\n",
       "      <td>test</td>\n",
       "      <td>foo</td>\n",
       "    </tr>\n",
       "    <tr>\n",
       "      <th>1</th>\n",
       "      <td>1.0</td>\n",
       "      <td>2013-01-02</td>\n",
       "      <td>1.0</td>\n",
       "      <td>3</td>\n",
       "      <td>train</td>\n",
       "      <td>foo</td>\n",
       "    </tr>\n",
       "    <tr>\n",
       "      <th>2</th>\n",
       "      <td>1.0</td>\n",
       "      <td>2013-01-02</td>\n",
       "      <td>1.0</td>\n",
       "      <td>3</td>\n",
       "      <td>test</td>\n",
       "      <td>foo</td>\n",
       "    </tr>\n",
       "    <tr>\n",
       "      <th>3</th>\n",
       "      <td>1.0</td>\n",
       "      <td>2013-01-02</td>\n",
       "      <td>1.0</td>\n",
       "      <td>3</td>\n",
       "      <td>train</td>\n",
       "      <td>foo</td>\n",
       "    </tr>\n",
       "  </tbody>\n",
       "</table>\n",
       "</div>"
      ],
      "text/plain": [
       "     A          B    C  D      E    F\n",
       "0  1.0 2013-01-02  1.0  3   test  foo\n",
       "1  1.0 2013-01-02  1.0  3  train  foo\n",
       "2  1.0 2013-01-02  1.0  3   test  foo\n",
       "3  1.0 2013-01-02  1.0  3  train  foo"
      ]
     },
     "execution_count": 80,
     "metadata": {},
     "output_type": "execute_result"
    }
   ],
   "source": [
    "# 1. => it should be a floating type value and not an int\n",
    "\n",
    "df2 = pd.DataFrame({\n",
    "    'A': 1.,\n",
    "    'B': pd.Timestamp('20130102'),\n",
    "    'C': pd.Series(1, index=list(range(4)), dtype='float32'),\n",
    "    'D': np.array([3] * 4, dtype='int32'),\n",
    "    'E': pd.Categorical([\"test\", \"train\", \"test\", \"train\"]),\n",
    "    'F': 'foo'\n",
    "})\n",
    "\n",
    "df2\n",
    "\n",
    "# print df2.dtypes"
   ]
  },
  {
   "cell_type": "markdown",
   "metadata": {},
   "source": [
    "#### Viewing Data"
   ]
  },
  {
   "cell_type": "code",
   "execution_count": 81,
   "metadata": {},
   "outputs": [
    {
     "data": {
      "text/html": [
       "<div>\n",
       "<style>\n",
       "    .dataframe thead tr:only-child th {\n",
       "        text-align: right;\n",
       "    }\n",
       "\n",
       "    .dataframe thead th {\n",
       "        text-align: left;\n",
       "    }\n",
       "\n",
       "    .dataframe tbody tr th {\n",
       "        vertical-align: top;\n",
       "    }\n",
       "</style>\n",
       "<table border=\"1\" class=\"dataframe\">\n",
       "  <thead>\n",
       "    <tr style=\"text-align: right;\">\n",
       "      <th></th>\n",
       "      <th>A</th>\n",
       "      <th>B</th>\n",
       "      <th>C</th>\n",
       "      <th>D</th>\n",
       "    </tr>\n",
       "  </thead>\n",
       "  <tbody>\n",
       "    <tr>\n",
       "      <th>count</th>\n",
       "      <td>6.000000</td>\n",
       "      <td>6.000000</td>\n",
       "      <td>6.000000</td>\n",
       "      <td>6.000000</td>\n",
       "    </tr>\n",
       "    <tr>\n",
       "      <th>mean</th>\n",
       "      <td>0.271861</td>\n",
       "      <td>-0.204186</td>\n",
       "      <td>-0.205896</td>\n",
       "      <td>-0.366124</td>\n",
       "    </tr>\n",
       "    <tr>\n",
       "      <th>std</th>\n",
       "      <td>0.705330</td>\n",
       "      <td>1.070368</td>\n",
       "      <td>0.718431</td>\n",
       "      <td>0.410120</td>\n",
       "    </tr>\n",
       "    <tr>\n",
       "      <th>min</th>\n",
       "      <td>-0.886937</td>\n",
       "      <td>-1.282580</td>\n",
       "      <td>-1.528518</td>\n",
       "      <td>-0.868358</td>\n",
       "    </tr>\n",
       "    <tr>\n",
       "      <th>25%</th>\n",
       "      <td>-0.047938</td>\n",
       "      <td>-0.933197</td>\n",
       "      <td>-0.318661</td>\n",
       "      <td>-0.705532</td>\n",
       "    </tr>\n",
       "    <tr>\n",
       "      <th>50%</th>\n",
       "      <td>0.387795</td>\n",
       "      <td>-0.305455</td>\n",
       "      <td>-0.029604</td>\n",
       "      <td>-0.285547</td>\n",
       "    </tr>\n",
       "    <tr>\n",
       "      <th>75%</th>\n",
       "      <td>0.839885</td>\n",
       "      <td>0.004013</td>\n",
       "      <td>0.161237</td>\n",
       "      <td>-0.119137</td>\n",
       "    </tr>\n",
       "    <tr>\n",
       "      <th>max</th>\n",
       "      <td>0.945115</td>\n",
       "      <td>1.703651</td>\n",
       "      <td>0.542512</td>\n",
       "      <td>0.151900</td>\n",
       "    </tr>\n",
       "  </tbody>\n",
       "</table>\n",
       "</div>"
      ],
      "text/plain": [
       "              A         B         C         D\n",
       "count  6.000000  6.000000  6.000000  6.000000\n",
       "mean   0.271861 -0.204186 -0.205896 -0.366124\n",
       "std    0.705330  1.070368  0.718431  0.410120\n",
       "min   -0.886937 -1.282580 -1.528518 -0.868358\n",
       "25%   -0.047938 -0.933197 -0.318661 -0.705532\n",
       "50%    0.387795 -0.305455 -0.029604 -0.285547\n",
       "75%    0.839885  0.004013  0.161237 -0.119137\n",
       "max    0.945115  1.703651  0.542512  0.151900"
      ]
     },
     "execution_count": 81,
     "metadata": {},
     "output_type": "execute_result"
    }
   ],
   "source": [
    "# print df.head()\n",
    "\n",
    "# print df.tail(3)\n",
    "\n",
    "# print df.index\n",
    "\n",
    "# print df.columns\n",
    "\n",
    "# print df.values # returns list of lists\n",
    "\n",
    "# Describe shows a quick statistic summary of your data\n",
    "\n",
    "df.describe()\n",
    "\n",
    "# Transpose\n",
    "\n",
    "# print df.T"
   ]
  },
  {
   "cell_type": "markdown",
   "metadata": {},
   "source": [
    "Sorting by axis"
   ]
  },
  {
   "cell_type": "code",
   "execution_count": 82,
   "metadata": {},
   "outputs": [
    {
     "name": "stdout",
     "output_type": "stream",
     "text": [
      "                   A         B         C         D\n",
      "2013-01-01  0.593260 -1.282580 -0.113744 -0.835311\n",
      "2013-01-02 -0.124694 -1.097231  0.196804 -0.868358\n",
      "2013-01-03 -0.886937 -0.169814 -0.386967  0.151900\n",
      "2013-01-04  0.182330  1.703651  0.054536 -0.316193\n",
      "2013-01-05  0.945115  0.061955  0.542512 -0.254902\n",
      "2013-01-06  0.922094 -0.441097 -1.528518 -0.073882\n",
      "                   D         C         B         A\n",
      "2013-01-01 -0.835311 -0.113744 -1.282580  0.593260\n",
      "2013-01-02 -0.868358  0.196804 -1.097231 -0.124694\n",
      "2013-01-03  0.151900 -0.386967 -0.169814 -0.886937\n",
      "2013-01-04 -0.316193  0.054536  1.703651  0.182330\n",
      "2013-01-05 -0.254902  0.542512  0.061955  0.945115\n",
      "2013-01-06 -0.073882 -1.528518 -0.441097  0.922094\n"
     ]
    }
   ],
   "source": [
    "print df\n",
    "\n",
    "print df.sort_index(axis=1, ascending=False)"
   ]
  },
  {
   "cell_type": "markdown",
   "metadata": {},
   "source": [
    "Sorting by values"
   ]
  },
  {
   "cell_type": "code",
   "execution_count": 83,
   "metadata": {},
   "outputs": [
    {
     "data": {
      "text/html": [
       "<div>\n",
       "<style>\n",
       "    .dataframe thead tr:only-child th {\n",
       "        text-align: right;\n",
       "    }\n",
       "\n",
       "    .dataframe thead th {\n",
       "        text-align: left;\n",
       "    }\n",
       "\n",
       "    .dataframe tbody tr th {\n",
       "        vertical-align: top;\n",
       "    }\n",
       "</style>\n",
       "<table border=\"1\" class=\"dataframe\">\n",
       "  <thead>\n",
       "    <tr style=\"text-align: right;\">\n",
       "      <th></th>\n",
       "      <th>A</th>\n",
       "      <th>B</th>\n",
       "      <th>C</th>\n",
       "      <th>D</th>\n",
       "    </tr>\n",
       "  </thead>\n",
       "  <tbody>\n",
       "    <tr>\n",
       "      <th>2013-01-01</th>\n",
       "      <td>0.593260</td>\n",
       "      <td>-1.282580</td>\n",
       "      <td>-0.113744</td>\n",
       "      <td>-0.835311</td>\n",
       "    </tr>\n",
       "    <tr>\n",
       "      <th>2013-01-02</th>\n",
       "      <td>-0.124694</td>\n",
       "      <td>-1.097231</td>\n",
       "      <td>0.196804</td>\n",
       "      <td>-0.868358</td>\n",
       "    </tr>\n",
       "    <tr>\n",
       "      <th>2013-01-06</th>\n",
       "      <td>0.922094</td>\n",
       "      <td>-0.441097</td>\n",
       "      <td>-1.528518</td>\n",
       "      <td>-0.073882</td>\n",
       "    </tr>\n",
       "    <tr>\n",
       "      <th>2013-01-03</th>\n",
       "      <td>-0.886937</td>\n",
       "      <td>-0.169814</td>\n",
       "      <td>-0.386967</td>\n",
       "      <td>0.151900</td>\n",
       "    </tr>\n",
       "    <tr>\n",
       "      <th>2013-01-05</th>\n",
       "      <td>0.945115</td>\n",
       "      <td>0.061955</td>\n",
       "      <td>0.542512</td>\n",
       "      <td>-0.254902</td>\n",
       "    </tr>\n",
       "    <tr>\n",
       "      <th>2013-01-04</th>\n",
       "      <td>0.182330</td>\n",
       "      <td>1.703651</td>\n",
       "      <td>0.054536</td>\n",
       "      <td>-0.316193</td>\n",
       "    </tr>\n",
       "  </tbody>\n",
       "</table>\n",
       "</div>"
      ],
      "text/plain": [
       "                   A         B         C         D\n",
       "2013-01-01  0.593260 -1.282580 -0.113744 -0.835311\n",
       "2013-01-02 -0.124694 -1.097231  0.196804 -0.868358\n",
       "2013-01-06  0.922094 -0.441097 -1.528518 -0.073882\n",
       "2013-01-03 -0.886937 -0.169814 -0.386967  0.151900\n",
       "2013-01-05  0.945115  0.061955  0.542512 -0.254902\n",
       "2013-01-04  0.182330  1.703651  0.054536 -0.316193"
      ]
     },
     "execution_count": 83,
     "metadata": {},
     "output_type": "execute_result"
    }
   ],
   "source": [
    "df.sort_values(by='B')"
   ]
  },
  {
   "cell_type": "markdown",
   "metadata": {},
   "source": [
    "#### Selection\n",
    "\n",
    "Selecting a single column, which yields a Series, equivalent to ```df.A```\n"
   ]
  },
  {
   "cell_type": "code",
   "execution_count": 84,
   "metadata": {},
   "outputs": [
    {
     "name": "stdout",
     "output_type": "stream",
     "text": [
      "2013-01-01    0.593260\n",
      "2013-01-02   -0.124694\n",
      "2013-01-03   -0.886937\n",
      "2013-01-04    0.182330\n",
      "2013-01-05    0.945115\n",
      "2013-01-06    0.922094\n",
      "Freq: D, Name: A, dtype: float64\n"
     ]
    }
   ],
   "source": [
    "print df['A']"
   ]
  },
  {
   "cell_type": "markdown",
   "metadata": {},
   "source": [
    "Selecting via [], which slices the rows."
   ]
  },
  {
   "cell_type": "code",
   "execution_count": 85,
   "metadata": {},
   "outputs": [
    {
     "name": "stdout",
     "output_type": "stream",
     "text": [
      "                   A         B         C         D\n",
      "2013-01-01  0.593260 -1.282580 -0.113744 -0.835311\n",
      "2013-01-02 -0.124694 -1.097231  0.196804 -0.868358\n",
      "2013-01-03 -0.886937 -0.169814 -0.386967  0.151900\n"
     ]
    }
   ],
   "source": [
    "print df[0:3]"
   ]
  },
  {
   "cell_type": "markdown",
   "metadata": {},
   "source": [
    "#### Selection using Label\n",
    "\n",
    "For getting a cross section using a label"
   ]
  },
  {
   "cell_type": "code",
   "execution_count": 86,
   "metadata": {},
   "outputs": [
    {
     "name": "stdout",
     "output_type": "stream",
     "text": [
      "                   A         B         C         D\n",
      "2013-01-01  0.593260 -1.282580 -0.113744 -0.835311\n",
      "2013-01-02 -0.124694 -1.097231  0.196804 -0.868358\n",
      "2013-01-03 -0.886937 -0.169814 -0.386967  0.151900\n",
      "2013-01-04  0.182330  1.703651  0.054536 -0.316193\n",
      "2013-01-05  0.945115  0.061955  0.542512 -0.254902\n",
      "2013-01-06  0.922094 -0.441097 -1.528518 -0.073882\n",
      "A    0.593260\n",
      "B   -1.282580\n",
      "C   -0.113744\n",
      "D   -0.835311\n",
      "Name: 2013-01-01 00:00:00, dtype: float64\n",
      "                   A         B\n",
      "2013-01-01  0.593260 -1.282580\n",
      "2013-01-02 -0.124694 -1.097231\n",
      "2013-01-03 -0.886937 -0.169814\n",
      "2013-01-04  0.182330  1.703651\n",
      "2013-01-05  0.945115  0.061955\n",
      "2013-01-06  0.922094 -0.441097\n",
      "                   B         D\n",
      "2013-01-02 -1.097231 -0.868358\n",
      "2013-01-03 -0.169814  0.151900\n",
      "2013-01-04  1.703651 -0.316193\n"
     ]
    }
   ],
   "source": [
    "print df\n",
    "\n",
    "# print all cols of row pointed by dates[0]\n",
    "\n",
    "print df.loc[dates[0]]\n",
    "\n",
    "# print all rows and only columns: A and B\n",
    "\n",
    "print df.loc[:, ['A', 'B']]\n",
    "\n",
    "# print cols B and D pointed by the rows '20130102':'20130104'b\n",
    "\n",
    "print df.loc['20130102':'20130104', ['B', 'D']]"
   ]
  },
  {
   "cell_type": "markdown",
   "metadata": {},
   "source": [
    "For getting a scalar value\n"
   ]
  },
  {
   "cell_type": "code",
   "execution_count": 87,
   "metadata": {},
   "outputs": [
    {
     "name": "stdout",
     "output_type": "stream",
     "text": [
      "0.593259519894\n",
      "A    0.59326\n",
      "Name: 2013-01-01 00:00:00, dtype: float64\n"
     ]
    }
   ],
   "source": [
    "# returns a scalar value\n",
    "\n",
    "print df.loc[dates[0], 'A']\n",
    "\n",
    "# returns a DataFrame\n",
    "\n",
    "print df.loc[dates[0], ['A']]"
   ]
  },
  {
   "cell_type": "markdown",
   "metadata": {},
   "source": [
    "#### Selecting by Position\n",
    "\n",
    "Select via the position of the passed integers"
   ]
  },
  {
   "cell_type": "code",
   "execution_count": 88,
   "metadata": {},
   "outputs": [
    {
     "name": "stdout",
     "output_type": "stream",
     "text": [
      "                   A         B         C         D\n",
      "2013-01-01  0.593260 -1.282580 -0.113744 -0.835311\n",
      "2013-01-02 -0.124694 -1.097231  0.196804 -0.868358\n",
      "2013-01-03 -0.886937 -0.169814 -0.386967  0.151900\n",
      "2013-01-04  0.182330  1.703651  0.054536 -0.316193\n",
      "2013-01-05  0.945115  0.061955  0.542512 -0.254902\n",
      "2013-01-06  0.922094 -0.441097 -1.528518 -0.073882\n",
      "A    0.182330\n",
      "B    1.703651\n",
      "C    0.054536\n",
      "D   -0.316193\n",
      "Name: 2013-01-04 00:00:00, dtype: float64\n",
      "                   A         B\n",
      "2013-01-04  0.182330  1.703651\n",
      "2013-01-05  0.945115  0.061955\n",
      "                   A         C\n",
      "2013-01-02 -0.124694  0.196804\n",
      "2013-01-03 -0.886937 -0.386967\n",
      "2013-01-05  0.945115  0.542512\n",
      "-1.09723089344\n"
     ]
    }
   ],
   "source": [
    "print df\n",
    "\n",
    "print df.iloc[3]\n",
    "\n",
    "# By integer slices, acting similar to numpy/python\n",
    "\n",
    "print df.iloc[3:5, 0:2]\n",
    "\n",
    "# By lists of integer position locations, similar to the numpy/python style\n",
    "print df.iloc[[1,2,4], [0,2]]\n",
    "\n",
    "# for getting scalar value\n",
    "\n",
    "print df.iloc[1,1]\n"
   ]
  },
  {
   "cell_type": "markdown",
   "metadata": {},
   "source": [
    "#### Boolean Indexing\n",
    "\n",
    "Using a single column’s values to select data.\n"
   ]
  },
  {
   "cell_type": "code",
   "execution_count": 89,
   "metadata": {},
   "outputs": [
    {
     "name": "stdout",
     "output_type": "stream",
     "text": [
      "                   A         B         C         D\n",
      "2013-01-01  0.593260 -1.282580 -0.113744 -0.835311\n",
      "2013-01-02 -0.124694 -1.097231  0.196804 -0.868358\n",
      "2013-01-03 -0.886937 -0.169814 -0.386967  0.151900\n",
      "2013-01-04  0.182330  1.703651  0.054536 -0.316193\n",
      "2013-01-05  0.945115  0.061955  0.542512 -0.254902\n",
      "2013-01-06  0.922094 -0.441097 -1.528518 -0.073882\n",
      "                   A         B         C         D\n",
      "2013-01-01  0.593260 -1.282580 -0.113744 -0.835311\n",
      "2013-01-04  0.182330  1.703651  0.054536 -0.316193\n",
      "2013-01-05  0.945115  0.061955  0.542512 -0.254902\n",
      "2013-01-06  0.922094 -0.441097 -1.528518 -0.073882\n",
      "                   A         B         C       D\n",
      "2013-01-01  0.593260       NaN       NaN     NaN\n",
      "2013-01-02       NaN       NaN  0.196804     NaN\n",
      "2013-01-03       NaN       NaN       NaN  0.1519\n",
      "2013-01-04  0.182330  1.703651  0.054536     NaN\n",
      "2013-01-05  0.945115  0.061955  0.542512     NaN\n",
      "2013-01-06  0.922094       NaN       NaN     NaN\n"
     ]
    }
   ],
   "source": [
    "print df\n",
    "\n",
    "print df[df.A > 0]\n",
    "\n",
    "# Selecting values from a DataFrame where a boolean condition is met.\n",
    "\n",
    "print df[df > 0]"
   ]
  },
  {
   "cell_type": "markdown",
   "metadata": {},
   "source": [
    "Using the isin() method for filtering:\n",
    "\n"
   ]
  },
  {
   "cell_type": "code",
   "execution_count": 90,
   "metadata": {},
   "outputs": [
    {
     "name": "stdout",
     "output_type": "stream",
     "text": [
      "                   A         B         C         D      E\n",
      "2013-01-01  0.593260 -1.282580 -0.113744 -0.835311    one\n",
      "2013-01-02 -0.124694 -1.097231  0.196804 -0.868358    one\n",
      "2013-01-03 -0.886937 -0.169814 -0.386967  0.151900    two\n",
      "2013-01-04  0.182330  1.703651  0.054536 -0.316193  three\n",
      "2013-01-05  0.945115  0.061955  0.542512 -0.254902   four\n",
      "2013-01-06  0.922094 -0.441097 -1.528518 -0.073882  three\n",
      "                   A         B         C         D      E\n",
      "2013-01-03 -0.886937 -0.169814 -0.386967  0.151900    two\n",
      "2013-01-04  0.182330  1.703651  0.054536 -0.316193  three\n",
      "2013-01-06  0.922094 -0.441097 -1.528518 -0.073882  three\n"
     ]
    }
   ],
   "source": [
    "# create a copy of the dataframe\n",
    "\n",
    "df2 = df.copy()\n",
    "\n",
    "df2['E'] = ['one', 'one','two','three','four','three']\n",
    "\n",
    "print df2\n",
    "\n",
    "print df2[df2['E'].isin(['two', 'three'])]"
   ]
  },
  {
   "cell_type": "markdown",
   "metadata": {},
   "source": [
    "#### Setting\n",
    "\n",
    "Setting a new column automatically aligns the data by the indexes\n",
    "\n"
   ]
  },
  {
   "cell_type": "code",
   "execution_count": 91,
   "metadata": {},
   "outputs": [
    {
     "name": "stdout",
     "output_type": "stream",
     "text": [
      "2013-01-02    1\n",
      "2013-01-03    2\n",
      "2013-01-04    3\n",
      "2013-01-05    4\n",
      "2013-01-06    5\n",
      "2013-01-07    6\n",
      "Freq: D, dtype: int64\n",
      "                   A         B         C         D    F\n",
      "2013-01-01  0.593260 -1.282580 -0.113744 -0.835311  NaN\n",
      "2013-01-02 -0.124694 -1.097231  0.196804 -0.868358  1.0\n",
      "2013-01-03 -0.886937 -0.169814 -0.386967  0.151900  2.0\n",
      "2013-01-04  0.182330  1.703651  0.054536 -0.316193  3.0\n",
      "2013-01-05  0.945115  0.061955  0.542512 -0.254902  4.0\n",
      "2013-01-06  0.922094 -0.441097 -1.528518 -0.073882  5.0\n",
      "0.593259519894\n",
      "                   A         B         C         D    F\n",
      "2013-01-01  0.000000 -1.282580 -0.113744 -0.835311  NaN\n",
      "2013-01-02 -0.124694 -1.097231  0.196804 -0.868358  1.0\n",
      "2013-01-03 -0.886937 -0.169814 -0.386967  0.151900  2.0\n",
      "2013-01-04  0.182330  1.703651  0.054536 -0.316193  3.0\n",
      "2013-01-05  0.945115  0.061955  0.542512 -0.254902  4.0\n",
      "2013-01-06  0.922094 -0.441097 -1.528518 -0.073882  5.0\n",
      "-1.28257956577\n",
      "                   A         B         C         D    F\n",
      "2013-01-01  0.000000  0.000000 -0.113744 -0.835311  NaN\n",
      "2013-01-02 -0.124694 -1.097231  0.196804 -0.868358  1.0\n",
      "2013-01-03 -0.886937 -0.169814 -0.386967  0.151900  2.0\n",
      "2013-01-04  0.182330  1.703651  0.054536 -0.316193  3.0\n",
      "2013-01-05  0.945115  0.061955  0.542512 -0.254902  4.0\n",
      "2013-01-06  0.922094 -0.441097 -1.528518 -0.073882  5.0\n",
      "                   A         B         C         D    F\n",
      "2013-01-01  0.000000  0.000000 -0.113744 -0.835311  NaN\n",
      "2013-01-02 -0.124694 -1.097231  0.196804 -0.868358  1.0\n",
      "2013-01-03 -0.886937 -0.169814 -0.386967  0.151900  2.0\n",
      "2013-01-04  0.182330  1.703651  0.054536 -0.316193  3.0\n",
      "2013-01-05  0.945115  0.061955  0.542512 -0.254902  4.0\n",
      "2013-01-06  0.922094 -0.441097 -1.528518 -0.073882  5.0\n"
     ]
    },
    {
     "data": {
      "text/html": [
       "<div>\n",
       "<style>\n",
       "    .dataframe thead tr:only-child th {\n",
       "        text-align: right;\n",
       "    }\n",
       "\n",
       "    .dataframe thead th {\n",
       "        text-align: left;\n",
       "    }\n",
       "\n",
       "    .dataframe tbody tr th {\n",
       "        vertical-align: top;\n",
       "    }\n",
       "</style>\n",
       "<table border=\"1\" class=\"dataframe\">\n",
       "  <thead>\n",
       "    <tr style=\"text-align: right;\">\n",
       "      <th></th>\n",
       "      <th>A</th>\n",
       "      <th>B</th>\n",
       "      <th>C</th>\n",
       "      <th>D</th>\n",
       "      <th>F</th>\n",
       "    </tr>\n",
       "  </thead>\n",
       "  <tbody>\n",
       "    <tr>\n",
       "      <th>2013-01-01</th>\n",
       "      <td>0.000000</td>\n",
       "      <td>0.000000</td>\n",
       "      <td>-0.113744</td>\n",
       "      <td>-0.835311</td>\n",
       "      <td>NaN</td>\n",
       "    </tr>\n",
       "    <tr>\n",
       "      <th>2013-01-02</th>\n",
       "      <td>-0.124694</td>\n",
       "      <td>-1.097231</td>\n",
       "      <td>-0.196804</td>\n",
       "      <td>-0.868358</td>\n",
       "      <td>-1.0</td>\n",
       "    </tr>\n",
       "    <tr>\n",
       "      <th>2013-01-03</th>\n",
       "      <td>-0.886937</td>\n",
       "      <td>-0.169814</td>\n",
       "      <td>-0.386967</td>\n",
       "      <td>-0.151900</td>\n",
       "      <td>-2.0</td>\n",
       "    </tr>\n",
       "    <tr>\n",
       "      <th>2013-01-04</th>\n",
       "      <td>-0.182330</td>\n",
       "      <td>-1.703651</td>\n",
       "      <td>-0.054536</td>\n",
       "      <td>-0.316193</td>\n",
       "      <td>-3.0</td>\n",
       "    </tr>\n",
       "    <tr>\n",
       "      <th>2013-01-05</th>\n",
       "      <td>-0.945115</td>\n",
       "      <td>-0.061955</td>\n",
       "      <td>-0.542512</td>\n",
       "      <td>-0.254902</td>\n",
       "      <td>-4.0</td>\n",
       "    </tr>\n",
       "    <tr>\n",
       "      <th>2013-01-06</th>\n",
       "      <td>-0.922094</td>\n",
       "      <td>-0.441097</td>\n",
       "      <td>-1.528518</td>\n",
       "      <td>-0.073882</td>\n",
       "      <td>-5.0</td>\n",
       "    </tr>\n",
       "  </tbody>\n",
       "</table>\n",
       "</div>"
      ],
      "text/plain": [
       "                   A         B         C         D    F\n",
       "2013-01-01  0.000000  0.000000 -0.113744 -0.835311  NaN\n",
       "2013-01-02 -0.124694 -1.097231 -0.196804 -0.868358 -1.0\n",
       "2013-01-03 -0.886937 -0.169814 -0.386967 -0.151900 -2.0\n",
       "2013-01-04 -0.182330 -1.703651 -0.054536 -0.316193 -3.0\n",
       "2013-01-05 -0.945115 -0.061955 -0.542512 -0.254902 -4.0\n",
       "2013-01-06 -0.922094 -0.441097 -1.528518 -0.073882 -5.0"
      ]
     },
     "execution_count": 91,
     "metadata": {},
     "output_type": "execute_result"
    }
   ],
   "source": [
    "s1 = pd.Series([1,2,3,4,5,6], index=pd.date_range('20130102', periods=6))\n",
    "print s1\n",
    "df['F'] = s1\n",
    "\n",
    "print df\n",
    "\n",
    "# Setting values by label\n",
    "\n",
    "print df.at[dates[0], 'A']\n",
    "\n",
    "df.at[dates[0], 'A'] = 0\n",
    "\n",
    "print df\n",
    "\n",
    "# Setting values by position\n",
    "\n",
    "print df.iat[0,1]\n",
    "\n",
    "df.iat[0,1] = 0\n",
    "\n",
    "print df\n",
    "\n",
    "df2 = df.copy()\n",
    "\n",
    "print df2 \n",
    "\n",
    "# set all +ve nos with their negatives\n",
    "df2[df2 > 0] = -df2\n",
    "\n",
    "df2"
   ]
  },
  {
   "cell_type": "markdown",
   "metadata": {},
   "source": [
    "#### Missing Data\n",
    "\n",
    "pandas primarily uses the value np.nan to represent missing data. It is by default not included in computations.\n",
    "\n",
    "Reindexing allows you to change/add/delete the index on a specified axis. This returns a copy of the data."
   ]
  },
  {
   "cell_type": "code",
   "execution_count": 92,
   "metadata": {},
   "outputs": [
    {
     "name": "stdout",
     "output_type": "stream",
     "text": [
      "                   A         B         C         D    F\n",
      "2013-01-01  0.000000  0.000000 -0.113744 -0.835311  NaN\n",
      "2013-01-02 -0.124694 -1.097231  0.196804 -0.868358  1.0\n",
      "2013-01-03 -0.886937 -0.169814 -0.386967  0.151900  2.0\n",
      "2013-01-04  0.182330  1.703651  0.054536 -0.316193  3.0\n",
      "2013-01-05  0.945115  0.061955  0.542512 -0.254902  4.0\n",
      "2013-01-06  0.922094 -0.441097 -1.528518 -0.073882  5.0\n",
      "                   A         B         C         D    F   E\n",
      "2013-01-01  0.000000  0.000000 -0.113744 -0.835311  NaN NaN\n",
      "2013-01-02 -0.124694 -1.097231  0.196804 -0.868358  1.0 NaN\n",
      "2013-01-03 -0.886937 -0.169814 -0.386967  0.151900  2.0 NaN\n",
      "2013-01-04  0.182330  1.703651  0.054536 -0.316193  3.0 NaN\n"
     ]
    },
    {
     "data": {
      "text/html": [
       "<div>\n",
       "<style>\n",
       "    .dataframe thead tr:only-child th {\n",
       "        text-align: right;\n",
       "    }\n",
       "\n",
       "    .dataframe thead th {\n",
       "        text-align: left;\n",
       "    }\n",
       "\n",
       "    .dataframe tbody tr th {\n",
       "        vertical-align: top;\n",
       "    }\n",
       "</style>\n",
       "<table border=\"1\" class=\"dataframe\">\n",
       "  <thead>\n",
       "    <tr style=\"text-align: right;\">\n",
       "      <th></th>\n",
       "      <th>A</th>\n",
       "      <th>B</th>\n",
       "      <th>C</th>\n",
       "      <th>D</th>\n",
       "      <th>F</th>\n",
       "      <th>E</th>\n",
       "    </tr>\n",
       "  </thead>\n",
       "  <tbody>\n",
       "    <tr>\n",
       "      <th>2013-01-01</th>\n",
       "      <td>0.000000</td>\n",
       "      <td>0.000000</td>\n",
       "      <td>-0.113744</td>\n",
       "      <td>-0.835311</td>\n",
       "      <td>NaN</td>\n",
       "      <td>1.0</td>\n",
       "    </tr>\n",
       "    <tr>\n",
       "      <th>2013-01-02</th>\n",
       "      <td>-0.124694</td>\n",
       "      <td>-1.097231</td>\n",
       "      <td>0.196804</td>\n",
       "      <td>-0.868358</td>\n",
       "      <td>1.0</td>\n",
       "      <td>1.0</td>\n",
       "    </tr>\n",
       "    <tr>\n",
       "      <th>2013-01-03</th>\n",
       "      <td>-0.886937</td>\n",
       "      <td>-0.169814</td>\n",
       "      <td>-0.386967</td>\n",
       "      <td>0.151900</td>\n",
       "      <td>2.0</td>\n",
       "      <td>NaN</td>\n",
       "    </tr>\n",
       "    <tr>\n",
       "      <th>2013-01-04</th>\n",
       "      <td>0.182330</td>\n",
       "      <td>1.703651</td>\n",
       "      <td>0.054536</td>\n",
       "      <td>-0.316193</td>\n",
       "      <td>3.0</td>\n",
       "      <td>NaN</td>\n",
       "    </tr>\n",
       "  </tbody>\n",
       "</table>\n",
       "</div>"
      ],
      "text/plain": [
       "                   A         B         C         D    F    E\n",
       "2013-01-01  0.000000  0.000000 -0.113744 -0.835311  NaN  1.0\n",
       "2013-01-02 -0.124694 -1.097231  0.196804 -0.868358  1.0  1.0\n",
       "2013-01-03 -0.886937 -0.169814 -0.386967  0.151900  2.0  NaN\n",
       "2013-01-04  0.182330  1.703651  0.054536 -0.316193  3.0  NaN"
      ]
     },
     "execution_count": 92,
     "metadata": {},
     "output_type": "execute_result"
    }
   ],
   "source": [
    "print df\n",
    "\n",
    "df1 = df.reindex(index=dates[0:4], columns=list(df.columns) + ['E'])\n",
    "\n",
    "print df1\n",
    "\n",
    "df1.loc[dates[0]:dates[1], 'E'] = 1\n",
    "\n",
    "df1"
   ]
  },
  {
   "cell_type": "markdown",
   "metadata": {},
   "source": [
    "To drop any rows that have missing data.\n"
   ]
  },
  {
   "cell_type": "code",
   "execution_count": 93,
   "metadata": {},
   "outputs": [
    {
     "data": {
      "text/html": [
       "<div>\n",
       "<style>\n",
       "    .dataframe thead tr:only-child th {\n",
       "        text-align: right;\n",
       "    }\n",
       "\n",
       "    .dataframe thead th {\n",
       "        text-align: left;\n",
       "    }\n",
       "\n",
       "    .dataframe tbody tr th {\n",
       "        vertical-align: top;\n",
       "    }\n",
       "</style>\n",
       "<table border=\"1\" class=\"dataframe\">\n",
       "  <thead>\n",
       "    <tr style=\"text-align: right;\">\n",
       "      <th></th>\n",
       "      <th>A</th>\n",
       "      <th>B</th>\n",
       "      <th>C</th>\n",
       "      <th>D</th>\n",
       "      <th>F</th>\n",
       "      <th>E</th>\n",
       "    </tr>\n",
       "  </thead>\n",
       "  <tbody>\n",
       "    <tr>\n",
       "      <th>2013-01-02</th>\n",
       "      <td>-0.124694</td>\n",
       "      <td>-1.097231</td>\n",
       "      <td>0.196804</td>\n",
       "      <td>-0.868358</td>\n",
       "      <td>1.0</td>\n",
       "      <td>1.0</td>\n",
       "    </tr>\n",
       "  </tbody>\n",
       "</table>\n",
       "</div>"
      ],
      "text/plain": [
       "                   A         B         C         D    F    E\n",
       "2013-01-02 -0.124694 -1.097231  0.196804 -0.868358  1.0  1.0"
      ]
     },
     "execution_count": 93,
     "metadata": {},
     "output_type": "execute_result"
    }
   ],
   "source": [
    "df1.dropna(how='any')"
   ]
  },
  {
   "cell_type": "markdown",
   "metadata": {},
   "source": [
    "Filling missing data\n",
    "\n"
   ]
  },
  {
   "cell_type": "code",
   "execution_count": 94,
   "metadata": {},
   "outputs": [
    {
     "data": {
      "text/html": [
       "<div>\n",
       "<style>\n",
       "    .dataframe thead tr:only-child th {\n",
       "        text-align: right;\n",
       "    }\n",
       "\n",
       "    .dataframe thead th {\n",
       "        text-align: left;\n",
       "    }\n",
       "\n",
       "    .dataframe tbody tr th {\n",
       "        vertical-align: top;\n",
       "    }\n",
       "</style>\n",
       "<table border=\"1\" class=\"dataframe\">\n",
       "  <thead>\n",
       "    <tr style=\"text-align: right;\">\n",
       "      <th></th>\n",
       "      <th>A</th>\n",
       "      <th>B</th>\n",
       "      <th>C</th>\n",
       "      <th>D</th>\n",
       "      <th>F</th>\n",
       "      <th>E</th>\n",
       "    </tr>\n",
       "  </thead>\n",
       "  <tbody>\n",
       "    <tr>\n",
       "      <th>2013-01-01</th>\n",
       "      <td>0.000000</td>\n",
       "      <td>0.000000</td>\n",
       "      <td>-0.113744</td>\n",
       "      <td>-0.835311</td>\n",
       "      <td>5.0</td>\n",
       "      <td>1.0</td>\n",
       "    </tr>\n",
       "    <tr>\n",
       "      <th>2013-01-02</th>\n",
       "      <td>-0.124694</td>\n",
       "      <td>-1.097231</td>\n",
       "      <td>0.196804</td>\n",
       "      <td>-0.868358</td>\n",
       "      <td>1.0</td>\n",
       "      <td>1.0</td>\n",
       "    </tr>\n",
       "    <tr>\n",
       "      <th>2013-01-03</th>\n",
       "      <td>-0.886937</td>\n",
       "      <td>-0.169814</td>\n",
       "      <td>-0.386967</td>\n",
       "      <td>0.151900</td>\n",
       "      <td>2.0</td>\n",
       "      <td>5.0</td>\n",
       "    </tr>\n",
       "    <tr>\n",
       "      <th>2013-01-04</th>\n",
       "      <td>0.182330</td>\n",
       "      <td>1.703651</td>\n",
       "      <td>0.054536</td>\n",
       "      <td>-0.316193</td>\n",
       "      <td>3.0</td>\n",
       "      <td>5.0</td>\n",
       "    </tr>\n",
       "  </tbody>\n",
       "</table>\n",
       "</div>"
      ],
      "text/plain": [
       "                   A         B         C         D    F    E\n",
       "2013-01-01  0.000000  0.000000 -0.113744 -0.835311  5.0  1.0\n",
       "2013-01-02 -0.124694 -1.097231  0.196804 -0.868358  1.0  1.0\n",
       "2013-01-03 -0.886937 -0.169814 -0.386967  0.151900  2.0  5.0\n",
       "2013-01-04  0.182330  1.703651  0.054536 -0.316193  3.0  5.0"
      ]
     },
     "execution_count": 94,
     "metadata": {},
     "output_type": "execute_result"
    }
   ],
   "source": [
    "df1.fillna(value=5)"
   ]
  },
  {
   "cell_type": "markdown",
   "metadata": {},
   "source": [
    "### Operations\n",
    "\n",
    "#### Stats\n",
    "\n",
    "Operations in general **exclude** missing data."
   ]
  },
  {
   "cell_type": "code",
   "execution_count": 95,
   "metadata": {},
   "outputs": [
    {
     "name": "stdout",
     "output_type": "stream",
     "text": [
      "A    0.172985\n",
      "B    0.009577\n",
      "C   -0.205896\n",
      "D   -0.366124\n",
      "F    3.000000\n",
      "dtype: float64\n",
      "2013-01-01   -0.237264\n",
      "2013-01-02   -0.178696\n",
      "2013-01-03    0.141636\n",
      "2013-01-04    0.924865\n",
      "2013-01-05    1.058936\n",
      "2013-01-06    0.775719\n",
      "Freq: D, dtype: float64\n"
     ]
    }
   ],
   "source": [
    "print df.mean(0) # same as df.mean()\n",
    "\n",
    "# same operation on the other axis\n",
    "\n",
    "print df.mean(1)"
   ]
  }
 ],
 "metadata": {
  "kernelspec": {
   "display_name": "Python 2",
   "language": "python",
   "name": "python2"
  },
  "language_info": {
   "codemirror_mode": {
    "name": "ipython",
    "version": 2
   },
   "file_extension": ".py",
   "mimetype": "text/x-python",
   "name": "python",
   "nbconvert_exporter": "python",
   "pygments_lexer": "ipython2",
   "version": "2.7.14"
  }
 },
 "nbformat": 4,
 "nbformat_minor": 2
}
