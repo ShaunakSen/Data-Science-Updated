{
 "cells": [
  {
   "cell_type": "markdown",
   "metadata": {},
   "source": [
    "[Github Source Link](https://github.com/CristiVlad25/ml-sklearn)"
   ]
  },
  {
   "cell_type": "markdown",
   "metadata": {},
   "source": [
    "### Importing libraries"
   ]
  },
  {
   "cell_type": "code",
   "execution_count": 9,
   "metadata": {
    "collapsed": true
   },
   "outputs": [],
   "source": [
    "from sklearn.datasets import load_breast_cancer\n",
    "from sklearn.neighbors import KNeighborsClassifier\n",
    "from sklearn.model_selection import train_test_split\n",
    "\n",
    "import matplotlib.pyplot as plt\n",
    "\n",
    "import pandas as pd\n",
    "\n",
    "import mglearn\n",
    "\n",
    "%matplotlib inline"
   ]
  },
  {
   "cell_type": "code",
   "execution_count": 2,
   "metadata": {},
   "outputs": [
    {
     "name": "stdout",
     "output_type": "stream",
     "text": [
      "Breast Cancer Wisconsin (Diagnostic) Database\n",
      "=============================================\n",
      "\n",
      "Notes\n",
      "-----\n",
      "Data Set Characteristics:\n",
      "    :Number of Instances: 569\n",
      "\n",
      "    :Number of Attributes: 30 numeric, predictive attributes and the class\n",
      "\n",
      "    :Attribute Information:\n",
      "        - radius (mean of distances from center to points on the perimeter)\n",
      "        - texture (standard deviation of gray-scale values)\n",
      "        - perimeter\n",
      "        - area\n",
      "        - smoothness (local variation in radius lengths)\n",
      "        - compactness (perimeter^2 / area - 1.0)\n",
      "        - concavity (severity of concave portions of the contour)\n",
      "        - concave points (number of concave portions of the contour)\n",
      "        - symmetry \n",
      "        - fractal dimension (\"coastline approximation\" - 1)\n",
      "\n",
      "        The mean, standard error, and \"worst\" or largest (mean of the three\n",
      "        largest values) of these features were computed for each image,\n",
      "        resulting in 30 features.  For instance, field 3 is Mean Radius, field\n",
      "        13 is Radius SE, field 23 is Worst Radius.\n",
      "\n",
      "        - class:\n",
      "                - WDBC-Malignant\n",
      "                - WDBC-Benign\n",
      "\n",
      "    :Summary Statistics:\n",
      "\n",
      "    ===================================== ====== ======\n",
      "                                           Min    Max\n",
      "    ===================================== ====== ======\n",
      "    radius (mean):                        6.981  28.11\n",
      "    texture (mean):                       9.71   39.28\n",
      "    perimeter (mean):                     43.79  188.5\n",
      "    area (mean):                          143.5  2501.0\n",
      "    smoothness (mean):                    0.053  0.163\n",
      "    compactness (mean):                   0.019  0.345\n",
      "    concavity (mean):                     0.0    0.427\n",
      "    concave points (mean):                0.0    0.201\n",
      "    symmetry (mean):                      0.106  0.304\n",
      "    fractal dimension (mean):             0.05   0.097\n",
      "    radius (standard error):              0.112  2.873\n",
      "    texture (standard error):             0.36   4.885\n",
      "    perimeter (standard error):           0.757  21.98\n",
      "    area (standard error):                6.802  542.2\n",
      "    smoothness (standard error):          0.002  0.031\n",
      "    compactness (standard error):         0.002  0.135\n",
      "    concavity (standard error):           0.0    0.396\n",
      "    concave points (standard error):      0.0    0.053\n",
      "    symmetry (standard error):            0.008  0.079\n",
      "    fractal dimension (standard error):   0.001  0.03\n",
      "    radius (worst):                       7.93   36.04\n",
      "    texture (worst):                      12.02  49.54\n",
      "    perimeter (worst):                    50.41  251.2\n",
      "    area (worst):                         185.2  4254.0\n",
      "    smoothness (worst):                   0.071  0.223\n",
      "    compactness (worst):                  0.027  1.058\n",
      "    concavity (worst):                    0.0    1.252\n",
      "    concave points (worst):               0.0    0.291\n",
      "    symmetry (worst):                     0.156  0.664\n",
      "    fractal dimension (worst):            0.055  0.208\n",
      "    ===================================== ====== ======\n",
      "\n",
      "    :Missing Attribute Values: None\n",
      "\n",
      "    :Class Distribution: 212 - Malignant, 357 - Benign\n",
      "\n",
      "    :Creator:  Dr. William H. Wolberg, W. Nick Street, Olvi L. Mangasarian\n",
      "\n",
      "    :Donor: Nick Street\n",
      "\n",
      "    :Date: November, 1995\n",
      "\n",
      "This is a copy of UCI ML Breast Cancer Wisconsin (Diagnostic) datasets.\n",
      "https://goo.gl/U2Uwz2\n",
      "\n",
      "Features are computed from a digitized image of a fine needle\n",
      "aspirate (FNA) of a breast mass.  They describe\n",
      "characteristics of the cell nuclei present in the image.\n",
      "\n",
      "Separating plane described above was obtained using\n",
      "Multisurface Method-Tree (MSM-T) [K. P. Bennett, \"Decision Tree\n",
      "Construction Via Linear Programming.\" Proceedings of the 4th\n",
      "Midwest Artificial Intelligence and Cognitive Science Society,\n",
      "pp. 97-101, 1992], a classification method which uses linear\n",
      "programming to construct a decision tree.  Relevant features\n",
      "were selected using an exhaustive search in the space of 1-4\n",
      "features and 1-3 separating planes.\n",
      "\n",
      "The actual linear program used to obtain the separating plane\n",
      "in the 3-dimensional space is that described in:\n",
      "[K. P. Bennett and O. L. Mangasarian: \"Robust Linear\n",
      "Programming Discrimination of Two Linearly Inseparable Sets\",\n",
      "Optimization Methods and Software 1, 1992, 23-34].\n",
      "\n",
      "This database is also available through the UW CS ftp server:\n",
      "\n",
      "ftp ftp.cs.wisc.edu\n",
      "cd math-prog/cpo-dataset/machine-learn/WDBC/\n",
      "\n",
      "References\n",
      "----------\n",
      "   - W.N. Street, W.H. Wolberg and O.L. Mangasarian. Nuclear feature extraction \n",
      "     for breast tumor diagnosis. IS&T/SPIE 1993 International Symposium on \n",
      "     Electronic Imaging: Science and Technology, volume 1905, pages 861-870,\n",
      "     San Jose, CA, 1993.\n",
      "   - O.L. Mangasarian, W.N. Street and W.H. Wolberg. Breast cancer diagnosis and \n",
      "     prognosis via linear programming. Operations Research, 43(4), pages 570-577, \n",
      "     July-August 1995.\n",
      "   - W.H. Wolberg, W.N. Street, and O.L. Mangasarian. Machine learning techniques\n",
      "     to diagnose breast cancer from fine-needle aspirates. Cancer Letters 77 (1994) \n",
      "     163-171.\n",
      "\n"
     ]
    }
   ],
   "source": [
    "cancer = load_breast_cancer()\n",
    "print (cancer.DESCR)"
   ]
  },
  {
   "cell_type": "markdown",
   "metadata": {},
   "source": [
    "### Few points about the dataset\n",
    "\n",
    "- 569 instances\n",
    "- digitized imgs of breast cancer tumors\n",
    "- FNAs : Fine Needle Aspirates \n",
    "- 30 features\n",
    "- each sample is labled: **Malignant or Benign**"
   ]
  },
  {
   "cell_type": "code",
   "execution_count": 3,
   "metadata": {},
   "outputs": [
    {
     "name": "stdout",
     "output_type": "stream",
     "text": [
      "['mean radius' 'mean texture' 'mean perimeter' 'mean area'\n",
      " 'mean smoothness' 'mean compactness' 'mean concavity'\n",
      " 'mean concave points' 'mean symmetry' 'mean fractal dimension'\n",
      " 'radius error' 'texture error' 'perimeter error' 'area error'\n",
      " 'smoothness error' 'compactness error' 'concavity error'\n",
      " 'concave points error' 'symmetry error' 'fractal dimension error'\n",
      " 'worst radius' 'worst texture' 'worst perimeter' 'worst area'\n",
      " 'worst smoothness' 'worst compactness' 'worst concavity'\n",
      " 'worst concave points' 'worst symmetry' 'worst fractal dimension']\n",
      "['malignant' 'benign']\n"
     ]
    }
   ],
   "source": [
    "print (cancer.feature_names)\n",
    "print (cancer.target_names)"
   ]
  },
  {
   "cell_type": "markdown",
   "metadata": {},
   "source": [
    "#### This dataset comes preloaded with scikit-learn\n",
    "\n",
    "**It's already clean and pre-processed ready to be fed into the algorithms**"
   ]
  },
  {
   "cell_type": "code",
   "execution_count": 4,
   "metadata": {},
   "outputs": [
    {
     "data": {
      "text/plain": [
       "numpy.ndarray"
      ]
     },
     "execution_count": 4,
     "metadata": {},
     "output_type": "execute_result"
    }
   ],
   "source": [
    "type(cancer.data)"
   ]
  },
  {
   "cell_type": "code",
   "execution_count": 5,
   "metadata": {},
   "outputs": [
    {
     "data": {
      "text/plain": [
       "(569, 30)"
      ]
     },
     "execution_count": 5,
     "metadata": {},
     "output_type": "execute_result"
    }
   ],
   "source": [
    "cancer.data.shape"
   ]
  },
  {
   "cell_type": "markdown",
   "metadata": {
    "collapsed": true
   },
   "source": [
    "### Process Outline\n",
    "\n",
    "- Get data (pre-process it)\n",
    "- Pick an algorithm (classifier)\n",
    "- Train the algorithm. Verify accuracy. Optimize\n",
    "- Predict\n"
   ]
  },
  {
   "cell_type": "markdown",
   "metadata": {},
   "source": [
    "### KNN Algorithm"
   ]
  },
  {
   "cell_type": "code",
   "execution_count": 7,
   "metadata": {},
   "outputs": [
    {
     "name": "stdout",
     "output_type": "stream",
     "text": [
      "Collecting mglearn\n",
      "  Downloading mglearn-0.1.6.tar.gz (541kB)\n",
      "\u001b[K    100% |████████████████████████████████| 542kB 1.7MB/s ta 0:00:01\n",
      "\u001b[?25hRequirement already satisfied: numpy in /home/shaunak/anaconda3/lib/python3.6/site-packages (from mglearn)\n",
      "Requirement already satisfied: matplotlib in /home/shaunak/anaconda3/lib/python3.6/site-packages (from mglearn)\n",
      "Requirement already satisfied: scikit-learn in /home/shaunak/anaconda3/lib/python3.6/site-packages (from mglearn)\n",
      "Requirement already satisfied: pandas in /home/shaunak/anaconda3/lib/python3.6/site-packages (from mglearn)\n",
      "Requirement already satisfied: pillow in /home/shaunak/anaconda3/lib/python3.6/site-packages (from mglearn)\n",
      "Requirement already satisfied: cycler in /home/shaunak/anaconda3/lib/python3.6/site-packages (from mglearn)\n",
      "Requirement already satisfied: six>=1.10 in /home/shaunak/anaconda3/lib/python3.6/site-packages (from matplotlib->mglearn)\n",
      "Requirement already satisfied: python-dateutil>=2.0 in /home/shaunak/anaconda3/lib/python3.6/site-packages (from matplotlib->mglearn)\n",
      "Requirement already satisfied: pytz in /home/shaunak/anaconda3/lib/python3.6/site-packages (from matplotlib->mglearn)\n",
      "Requirement already satisfied: pyparsing!=2.0.4,!=2.1.2,!=2.1.6,>=2.0.1 in /home/shaunak/anaconda3/lib/python3.6/site-packages (from matplotlib->mglearn)\n",
      "Requirement already satisfied: olefile in /home/shaunak/anaconda3/lib/python3.6/site-packages (from pillow->mglearn)\n",
      "Building wheels for collected packages: mglearn\n",
      "  Running setup.py bdist_wheel for mglearn ... \u001b[?25ldone\n",
      "\u001b[?25h  Stored in directory: /home/shaunak/.cache/pip/wheels/79/8b/2b/17dcfb9c9b044b216a58daea9787a0637cb1ffc5b4c2a78e50\n",
      "Successfully built mglearn\n",
      "Installing collected packages: mglearn\n",
      "Successfully installed mglearn-0.1.6\n"
     ]
    }
   ],
   "source": [
    "!pip install mglearn"
   ]
  },
  {
   "cell_type": "code",
   "execution_count": 10,
   "metadata": {
    "scrolled": true
   },
   "outputs": [
    {
     "data": {
      "image/png": "[encoded data removed]",
      "text/plain": [
       "<matplotlib.figure.Figure at 0x7f1758ec65f8>"
      ]
     },
     "metadata": {},
     "output_type": "display_data"
    }
   ],
   "source": [
    "mglearn.plots.plot_knn_classification(n_neighbors=3)"
   ]
  },
  {
   "cell_type": "markdown",
   "metadata": {},
   "source": [
    "#### KNN is easy to understand and implement\n",
    "\n",
    "It works well with smaller datasets, with fewer features\n",
    "It does not work well with bigger datasets with 100s of features. **It becomes slow**\n"
   ]
  },
  {
   "cell_type": "code",
   "execution_count": 13,
   "metadata": {},
   "outputs": [
    {
     "data": {
      "text/plain": [
       "KNeighborsClassifier(algorithm='auto', leaf_size=30, metric='minkowski',\n",
       "           metric_params=None, n_jobs=1, n_neighbors=5, p=2,\n",
       "           weights='uniform')"
      ]
     },
     "execution_count": 13,
     "metadata": {},
     "output_type": "execute_result"
    }
   ],
   "source": [
    "cancer = load_breast_cancer()\n",
    "\n",
    "x_train, x_test, y_train, y_test = train_test_split(cancer.data, cancer.target, stratify = cancer.target, random_state = 42)\n",
    "\n",
    "knn = KNeighborsClassifier()\n",
    "\n",
    "knn.fit(x_train, y_train)\n"
   ]
  },
  {
   "cell_type": "code",
   "execution_count": 15,
   "metadata": {},
   "outputs": [
    {
     "name": "stdout",
     "output_type": "stream",
     "text": [
      "Accuracy of KNN n-5 on the training set: 0.946%Accuracy of KNN n-5 on the training set: 0.946%Accuracy of KNN n-5 on the training set: 0.946%Accuracy of KNN n-5 on the training set: 0.946%Accuracy of KNN n-5 on the training set: 0.946%Accuracy of KNN n-5 on the training set: 0.946%Accuracy of KNN n-5 on the training set: 0.946%Accuracy of KNN n-5 on the training set: 0.946%Accuracy of KNN n-5 on the training set: 0.946%Accuracy of KNN n-5 on the training set: 0.946%Accuracy of KNN n-5 on the training set: 0.946%Accuracy of KNN n-5 on the training set: 0.946%Accuracy of KNN n-5 on the training set: 0.946%Accuracy of KNN n-5 on the training set: 0.946%Accuracy of KNN n-5 on the training set: 0.946%Accuracy of KNN n-5 on the training set: 0.946%Accuracy of KNN n-5 on the training set: 0.946%Accuracy of KNN n-5 on the training set: 0.946%Accuracy of KNN n-5 on the training set: 0.946%Accuracy of KNN n-5 on the training set: 0.946%Accuracy of KNN n-5 on the training set: 0.946%Accuracy of KNN n-5 on the training set: 0.946%Accuracy of KNN n-5 on the training set: 0.946%Accuracy of KNN n-5 on the training set: 0.946%Accuracy of KNN n-5 on the training set: 0.946%Accuracy of KNN n-5 on the training set: 0.946%Accuracy of KNN n-5 on the training set: 0.946%Accuracy of KNN n-5 on the training set: 0.946%Accuracy of KNN n-5 on the training set: 0.946%Accuracy of KNN n-5 on the training set: 0.946%Accuracy of KNN n-5 on the training set: 0.946%Accuracy of KNN n-5 on the training set: 0.946%Accuracy of KNN n-5 on the training set: 0.946%Accuracy of KNN n-5 on the training set: 0.946%Accuracy of KNN n-5 on the training set: 0.946%Accuracy of KNN n-5 on the training set: 0.946%Accuracy of KNN n-5 on the training set: 0.946%Accuracy of KNN n-5 on the training set: 0.946%Accuracy of KNN n-5 on the training set: 0.946%Accuracy of KNN n-5 on the training set: 0.946%Accuracy of KNN n-5 on the training set: 0.946%Accuracy of KNN n-5 on the training set: 0.946%Accuracy of KNN n-5 on the training set: 0.946%Accuracy of KNN n-5 on the training set: 0.946%Accuracy of KNN n-5 on the training set: 0.946%Accuracy of KNN n-5 on the training set: 0.946%Accuracy of KNN n-5 on the training set: 0.946%Accuracy of KNN n-5 on the training set: 0.946%Accuracy of KNN n-5 on the training set: 0.946%Accuracy of KNN n-5 on the training set: 0.946%Accuracy of KNN n-5 on the training set: 0.946%Accuracy of KNN n-5 on the training set: 0.946%Accuracy of KNN n-5 on the training set: 0.946%Accuracy of KNN n-5 on the training set: 0.946%Accuracy of KNN n-5 on the training set: 0.946%Accuracy of KNN n-5 on the training set: 0.946%Accuracy of KNN n-5 on the training set: 0.946%Accuracy of KNN n-5 on the training set: 0.946%Accuracy of KNN n-5 on the training set: 0.946%Accuracy of KNN n-5 on the training set: 0.946%Accuracy of KNN n-5 on the training set: 0.946%Accuracy of KNN n-5 on the training set: 0.946%Accuracy of KNN n-5 on the training set: 0.946%Accuracy of KNN n-5 on the training set: 0.946%Accuracy of KNN n-5 on the training set: 0.946%Accuracy of KNN n-5 on the training set: 0.946%Accuracy of KNN n-5 on the training set: 0.946%Accuracy of KNN n-5 on the training set: 0.946%Accuracy of KNN n-5 on the training set: 0.946%Accuracy of KNN n-5 on the training set: 0.946%Accuracy of KNN n-5 on the training set: 0.946%Accuracy of KNN n-5 on the training set: 0.946%Accuracy of KNN n-5 on the training set: 0.946%Accuracy of KNN n-5 on the training set: 0.946%Accuracy of KNN n-5 on the training set: 0.946%Accuracy of KNN n-5 on the training set: 0.946%Accuracy of KNN n-5 on the training set: 0.946%Accuracy of KNN n-5 on the training set: 0.946%Accuracy of KNN n-5 on the training set: 0.946%Accuracy of KNN n-5 on the training set: 0.946%Accuracy of KNN n-5 on the training set: 0.946%Accuracy of KNN n-5 on the training set: 0.946%Accuracy of KNN n-5 on the training set: 0.946%Accuracy of KNN n-5 on the training set: 0.946%Accuracy of KNN n-5 on the training set: 0.946%Accuracy of KNN n-5 on the training set: 0.946%Accuracy of KNN n-5 on the training set: 0.946%Accuracy of KNN n-5 on the training set: 0.946%Accuracy of KNN n-5 on the training set: 0.946%Accuracy of KNN n-5 on the training set: 0.946%Accuracy of KNN n-5 on the training set: 0.946%Accuracy of KNN n-5 on the training set: 0.946%Accuracy of KNN n-5 on the training set: 0.946%Accuracy of KNN n-5 on the training set: 0.946%Accuracy of KNN n-5 on the training set: 0.946%Accuracy of KNN n-5 on the training set: 0.946%Accuracy of KNN n-5 on the training set: 0.946%Accuracy of KNN n-5 on the training set: 0.946%Accuracy of KNN n-5 on the training set: 0.946%Accuracy of KNN n-5 on the training set: 0.946%\n",
      "Accuracy of KNN n-5 on the test set: 0.930%Accuracy of KNN n-5 on the test set: 0.930%Accuracy of KNN n-5 on the test set: 0.930%Accuracy of KNN n-5 on the test set: 0.930%Accuracy of KNN n-5 on the test set: 0.930%Accuracy of KNN n-5 on the test set: 0.930%Accuracy of KNN n-5 on the test set: 0.930%Accuracy of KNN n-5 on the test set: 0.930%Accuracy of KNN n-5 on the test set: 0.930%Accuracy of KNN n-5 on the test set: 0.930%Accuracy of KNN n-5 on the test set: 0.930%Accuracy of KNN n-5 on the test set: 0.930%Accuracy of KNN n-5 on the test set: 0.930%Accuracy of KNN n-5 on the test set: 0.930%Accuracy of KNN n-5 on the test set: 0.930%Accuracy of KNN n-5 on the test set: 0.930%Accuracy of KNN n-5 on the test set: 0.930%Accuracy of KNN n-5 on the test set: 0.930%Accuracy of KNN n-5 on the test set: 0.930%Accuracy of KNN n-5 on the test set: 0.930%Accuracy of KNN n-5 on the test set: 0.930%Accuracy of KNN n-5 on the test set: 0.930%Accuracy of KNN n-5 on the test set: 0.930%Accuracy of KNN n-5 on the test set: 0.930%Accuracy of KNN n-5 on the test set: 0.930%Accuracy of KNN n-5 on the test set: 0.930%Accuracy of KNN n-5 on the test set: 0.930%Accuracy of KNN n-5 on the test set: 0.930%Accuracy of KNN n-5 on the test set: 0.930%Accuracy of KNN n-5 on the test set: 0.930%Accuracy of KNN n-5 on the test set: 0.930%Accuracy of KNN n-5 on the test set: 0.930%Accuracy of KNN n-5 on the test set: 0.930%Accuracy of KNN n-5 on the test set: 0.930%Accuracy of KNN n-5 on the test set: 0.930%Accuracy of KNN n-5 on the test set: 0.930%Accuracy of KNN n-5 on the test set: 0.930%Accuracy of KNN n-5 on the test set: 0.930%Accuracy of KNN n-5 on the test set: 0.930%Accuracy of KNN n-5 on the test set: 0.930%Accuracy of KNN n-5 on the test set: 0.930%Accuracy of KNN n-5 on the test set: 0.930%Accuracy of KNN n-5 on the test set: 0.930%Accuracy of KNN n-5 on the test set: 0.930%Accuracy of KNN n-5 on the test set: 0.930%Accuracy of KNN n-5 on the test set: 0.930%Accuracy of KNN n-5 on the test set: 0.930%Accuracy of KNN n-5 on the test set: 0.930%Accuracy of KNN n-5 on the test set: 0.930%Accuracy of KNN n-5 on the test set: 0.930%Accuracy of KNN n-5 on the test set: 0.930%Accuracy of KNN n-5 on the test set: 0.930%Accuracy of KNN n-5 on the test set: 0.930%Accuracy of KNN n-5 on the test set: 0.930%Accuracy of KNN n-5 on the test set: 0.930%Accuracy of KNN n-5 on the test set: 0.930%Accuracy of KNN n-5 on the test set: 0.930%Accuracy of KNN n-5 on the test set: 0.930%Accuracy of KNN n-5 on the test set: 0.930%Accuracy of KNN n-5 on the test set: 0.930%Accuracy of KNN n-5 on the test set: 0.930%Accuracy of KNN n-5 on the test set: 0.930%Accuracy of KNN n-5 on the test set: 0.930%Accuracy of KNN n-5 on the test set: 0.930%Accuracy of KNN n-5 on the test set: 0.930%Accuracy of KNN n-5 on the test set: 0.930%Accuracy of KNN n-5 on the test set: 0.930%Accuracy of KNN n-5 on the test set: 0.930%Accuracy of KNN n-5 on the test set: 0.930%Accuracy of KNN n-5 on the test set: 0.930%Accuracy of KNN n-5 on the test set: 0.930%Accuracy of KNN n-5 on the test set: 0.930%Accuracy of KNN n-5 on the test set: 0.930%Accuracy of KNN n-5 on the test set: 0.930%Accuracy of KNN n-5 on the test set: 0.930%Accuracy of KNN n-5 on the test set: 0.930%Accuracy of KNN n-5 on the test set: 0.930%Accuracy of KNN n-5 on the test set: 0.930%Accuracy of KNN n-5 on the test set: 0.930%Accuracy of KNN n-5 on the test set: 0.930%Accuracy of KNN n-5 on the test set: 0.930%Accuracy of KNN n-5 on the test set: 0.930%Accuracy of KNN n-5 on the test set: 0.930%Accuracy of KNN n-5 on the test set: 0.930%Accuracy of KNN n-5 on the test set: 0.930%Accuracy of KNN n-5 on the test set: 0.930%Accuracy of KNN n-5 on the test set: 0.930%Accuracy of KNN n-5 on the test set: 0.930%Accuracy of KNN n-5 on the test set: 0.930%Accuracy of KNN n-5 on the test set: 0.930%Accuracy of KNN n-5 on the test set: 0.930%Accuracy of KNN n-5 on the test set: 0.930%Accuracy of KNN n-5 on the test set: 0.930%Accuracy of KNN n-5 on the test set: 0.930%Accuracy of KNN n-5 on the test set: 0.930%Accuracy of KNN n-5 on the test set: 0.930%Accuracy of KNN n-5 on the test set: 0.930%Accuracy of KNN n-5 on the test set: 0.930%Accuracy of KNN n-5 on the test set: 0.930%Accuracy of KNN n-5 on the test set: 0.930%\n"
     ]
    }
   ],
   "source": [
    "print (\"Accuracy of KNN n-5 on the training set: {:.3f}%\".format(knn.score(x_train,y_train)))\n",
    "\n",
    "print (\"Accuracy of KNN n-5 on the test set: {:.3f}\".format(knn.score(x_test,y_test)))\n"
   ]
  }
 ],
 "metadata": {
  "kernelspec": {
   "display_name": "Python 3",
   "language": "python",
   "name": "python3"
  },
  "language_info": {
   "codemirror_mode": {
    "name": "ipython",
    "version": 3
   },
   "file_extension": ".py",
   "mimetype": "text/x-python",
   "name": "python",
   "nbconvert_exporter": "python",
   "pygments_lexer": "ipython3",
   "version": "3.6.3"
  }
 },
 "nbformat": 4,
 "nbformat_minor": 2
}
