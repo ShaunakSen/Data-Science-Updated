{
 "cells": [
  {
   "cell_type": "markdown",
   "metadata": {},
   "source": [
    "[Github Source Link](https://github.com/CristiVlad25/ml-sklearn)"
   ]
  },
  {
   "cell_type": "markdown",
   "metadata": {},
   "source": [
    "### Importing libraries"
   ]
  },
  {
   "cell_type": "code",
   "execution_count": 1,
   "metadata": {
    "collapsed": true
   },
   "outputs": [],
   "source": [
    "from sklearn.datasets import load_breast_cancer\n",
    "from sklearn.neighbors import KNeighborsClassifier\n",
    "from sklearn.model_selection import train_test_split\n",
    "from sklearn.linear_model import LogisticRegression\n",
    "\n",
    "\n",
    "import matplotlib.pyplot as plt\n",
    "import numpy as np\n",
    "\n",
    "import pandas as pd\n",
    "\n",
    "import mglearn\n",
    "\n",
    "\n",
    "%matplotlib inline"
   ]
  },
  {
   "cell_type": "code",
   "execution_count": 2,
   "metadata": {},
   "outputs": [
    {
     "name": "stdout",
     "output_type": "stream",
     "text": [
      "Breast Cancer Wisconsin (Diagnostic) Database\n",
      "=============================================\n",
      "\n",
      "Notes\n",
      "-----\n",
      "Data Set Characteristics:\n",
      "    :Number of Instances: 569\n",
      "\n",
      "    :Number of Attributes: 30 numeric, predictive attributes and the class\n",
      "\n",
      "    :Attribute Information:\n",
      "        - radius (mean of distances from center to points on the perimeter)\n",
      "        - texture (standard deviation of gray-scale values)\n",
      "        - perimeter\n",
      "        - area\n",
      "        - smoothness (local variation in radius lengths)\n",
      "        - compactness (perimeter^2 / area - 1.0)\n",
      "        - concavity (severity of concave portions of the contour)\n",
      "        - concave points (number of concave portions of the contour)\n",
      "        - symmetry \n",
      "        - fractal dimension (\"coastline approximation\" - 1)\n",
      "\n",
      "        The mean, standard error, and \"worst\" or largest (mean of the three\n",
      "        largest values) of these features were computed for each image,\n",
      "        resulting in 30 features.  For instance, field 3 is Mean Radius, field\n",
      "        13 is Radius SE, field 23 is Worst Radius.\n",
      "\n",
      "        - class:\n",
      "                - WDBC-Malignant\n",
      "                - WDBC-Benign\n",
      "\n",
      "    :Summary Statistics:\n",
      "\n",
      "    ===================================== ====== ======\n",
      "                                           Min    Max\n",
      "    ===================================== ====== ======\n",
      "    radius (mean):                        6.981  28.11\n",
      "    texture (mean):                       9.71   39.28\n",
      "    perimeter (mean):                     43.79  188.5\n",
      "    area (mean):                          143.5  2501.0\n",
      "    smoothness (mean):                    0.053  0.163\n",
      "    compactness (mean):                   0.019  0.345\n",
      "    concavity (mean):                     0.0    0.427\n",
      "    concave points (mean):                0.0    0.201\n",
      "    symmetry (mean):                      0.106  0.304\n",
      "    fractal dimension (mean):             0.05   0.097\n",
      "    radius (standard error):              0.112  2.873\n",
      "    texture (standard error):             0.36   4.885\n",
      "    perimeter (standard error):           0.757  21.98\n",
      "    area (standard error):                6.802  542.2\n",
      "    smoothness (standard error):          0.002  0.031\n",
      "    compactness (standard error):         0.002  0.135\n",
      "    concavity (standard error):           0.0    0.396\n",
      "    concave points (standard error):      0.0    0.053\n",
      "    symmetry (standard error):            0.008  0.079\n",
      "    fractal dimension (standard error):   0.001  0.03\n",
      "    radius (worst):                       7.93   36.04\n",
      "    texture (worst):                      12.02  49.54\n",
      "    perimeter (worst):                    50.41  251.2\n",
      "    area (worst):                         185.2  4254.0\n",
      "    smoothness (worst):                   0.071  0.223\n",
      "    compactness (worst):                  0.027  1.058\n",
      "    concavity (worst):                    0.0    1.252\n",
      "    concave points (worst):               0.0    0.291\n",
      "    symmetry (worst):                     0.156  0.664\n",
      "    fractal dimension (worst):            0.055  0.208\n",
      "    ===================================== ====== ======\n",
      "\n",
      "    :Missing Attribute Values: None\n",
      "\n",
      "    :Class Distribution: 212 - Malignant, 357 - Benign\n",
      "\n",
      "    :Creator:  Dr. William H. Wolberg, W. Nick Street, Olvi L. Mangasarian\n",
      "\n",
      "    :Donor: Nick Street\n",
      "\n",
      "    :Date: November, 1995\n",
      "\n",
      "This is a copy of UCI ML Breast Cancer Wisconsin (Diagnostic) datasets.\n",
      "https://goo.gl/U2Uwz2\n",
      "\n",
      "Features are computed from a digitized image of a fine needle\n",
      "aspirate (FNA) of a breast mass.  They describe\n",
      "characteristics of the cell nuclei present in the image.\n",
      "\n",
      "Separating plane described above was obtained using\n",
      "Multisurface Method-Tree (MSM-T) [K. P. Bennett, \"Decision Tree\n",
      "Construction Via Linear Programming.\" Proceedings of the 4th\n",
      "Midwest Artificial Intelligence and Cognitive Science Society,\n",
      "pp. 97-101, 1992], a classification method which uses linear\n",
      "programming to construct a decision tree.  Relevant features\n",
      "were selected using an exhaustive search in the space of 1-4\n",
      "features and 1-3 separating planes.\n",
      "\n",
      "The actual linear program used to obtain the separating plane\n",
      "in the 3-dimensional space is that described in:\n",
      "[K. P. Bennett and O. L. Mangasarian: \"Robust Linear\n",
      "Programming Discrimination of Two Linearly Inseparable Sets\",\n",
      "Optimization Methods and Software 1, 1992, 23-34].\n",
      "\n",
      "This database is also available through the UW CS ftp server:\n",
      "\n",
      "ftp ftp.cs.wisc.edu\n",
      "cd math-prog/cpo-dataset/machine-learn/WDBC/\n",
      "\n",
      "References\n",
      "----------\n",
      "   - W.N. Street, W.H. Wolberg and O.L. Mangasarian. Nuclear feature extraction \n",
      "     for breast tumor diagnosis. IS&T/SPIE 1993 International Symposium on \n",
      "     Electronic Imaging: Science and Technology, volume 1905, pages 861-870,\n",
      "     San Jose, CA, 1993.\n",
      "   - O.L. Mangasarian, W.N. Street and W.H. Wolberg. Breast cancer diagnosis and \n",
      "     prognosis via linear programming. Operations Research, 43(4), pages 570-577, \n",
      "     July-August 1995.\n",
      "   - W.H. Wolberg, W.N. Street, and O.L. Mangasarian. Machine learning techniques\n",
      "     to diagnose breast cancer from fine-needle aspirates. Cancer Letters 77 (1994) \n",
      "     163-171.\n",
      "\n"
     ]
    }
   ],
   "source": [
    "cancer = load_breast_cancer()\n",
    "print (cancer.DESCR)"
   ]
  },
  {
   "cell_type": "markdown",
   "metadata": {},
   "source": [
    "### Few points about the dataset\n",
    "\n",
    "- 569 instances\n",
    "- digitized imgs of breast cancer tumors\n",
    "- FNAs : Fine Needle Aspirates \n",
    "- 30 features\n",
    "- each sample is labled: **Malignant or Benign**"
   ]
  },
  {
   "cell_type": "code",
   "execution_count": 3,
   "metadata": {},
   "outputs": [
    {
     "name": "stdout",
     "output_type": "stream",
     "text": [
      "['mean radius' 'mean texture' 'mean perimeter' 'mean area'\n",
      " 'mean smoothness' 'mean compactness' 'mean concavity'\n",
      " 'mean concave points' 'mean symmetry' 'mean fractal dimension'\n",
      " 'radius error' 'texture error' 'perimeter error' 'area error'\n",
      " 'smoothness error' 'compactness error' 'concavity error'\n",
      " 'concave points error' 'symmetry error' 'fractal dimension error'\n",
      " 'worst radius' 'worst texture' 'worst perimeter' 'worst area'\n",
      " 'worst smoothness' 'worst compactness' 'worst concavity'\n",
      " 'worst concave points' 'worst symmetry' 'worst fractal dimension']\n",
      "['malignant' 'benign']\n"
     ]
    }
   ],
   "source": [
    "print (cancer.feature_names)\n",
    "print (cancer.target_names)"
   ]
  },
  {
   "cell_type": "markdown",
   "metadata": {},
   "source": [
    "#### This dataset comes preloaded with scikit-learn\n",
    "\n",
    "**It's already clean and pre-processed ready to be fed into the algorithms**"
   ]
  },
  {
   "cell_type": "markdown",
   "metadata": {},
   "source": [
    "```cancer.data``` contains data of attributes\n",
    "\n",
    "```cancer.target``` contains data of target vars"
   ]
  },
  {
   "cell_type": "code",
   "execution_count": 4,
   "metadata": {},
   "outputs": [
    {
     "name": "stdout",
     "output_type": "stream",
     "text": [
      "[  1.79900000e+01   1.03800000e+01   1.22800000e+02   1.00100000e+03\n",
      "   1.18400000e-01   2.77600000e-01   3.00100000e-01   1.47100000e-01\n",
      "   2.41900000e-01   7.87100000e-02   1.09500000e+00   9.05300000e-01\n",
      "   8.58900000e+00   1.53400000e+02   6.39900000e-03   4.90400000e-02\n",
      "   5.37300000e-02   1.58700000e-02   3.00300000e-02   6.19300000e-03\n",
      "   2.53800000e+01   1.73300000e+01   1.84600000e+02   2.01900000e+03\n",
      "   1.62200000e-01   6.65600000e-01   7.11900000e-01   2.65400000e-01\n",
      "   4.60100000e-01   1.18900000e-01]\n",
      "0\n"
     ]
    }
   ],
   "source": [
    "type(cancer.data)\n",
    "\n",
    "print(cancer.data[0])\n",
    "\n",
    "print(cancer.target[0])"
   ]
  },
  {
   "cell_type": "code",
   "execution_count": 5,
   "metadata": {},
   "outputs": [
    {
     "data": {
      "text/plain": [
       "(569, 30)"
      ]
     },
     "execution_count": 5,
     "metadata": {},
     "output_type": "execute_result"
    }
   ],
   "source": [
    "cancer.data.shape"
   ]
  },
  {
   "cell_type": "markdown",
   "metadata": {
    "collapsed": true
   },
   "source": [
    "### Process Outline\n",
    "\n",
    "- Get data (pre-process it)\n",
    "- Pick an algorithm (classifier)\n",
    "- Train the algorithm. Verify accuracy. Optimize\n",
    "- Predict\n"
   ]
  },
  {
   "cell_type": "markdown",
   "metadata": {},
   "source": [
    "### KNN Algorithm"
   ]
  },
  {
   "cell_type": "code",
   "execution_count": 6,
   "metadata": {},
   "outputs": [
    {
     "name": "stdout",
     "output_type": "stream",
     "text": [
      "Requirement already satisfied: mglearn in /home/shaunak/anaconda3/lib/python3.6/site-packages\n",
      "Requirement already satisfied: matplotlib in /home/shaunak/anaconda3/lib/python3.6/site-packages (from mglearn)\n",
      "Requirement already satisfied: cycler in /home/shaunak/anaconda3/lib/python3.6/site-packages (from mglearn)\n",
      "Requirement already satisfied: pandas in /home/shaunak/anaconda3/lib/python3.6/site-packages (from mglearn)\n",
      "Requirement already satisfied: pillow in /home/shaunak/anaconda3/lib/python3.6/site-packages (from mglearn)\n",
      "Requirement already satisfied: scikit-learn in /home/shaunak/anaconda3/lib/python3.6/site-packages (from mglearn)\n",
      "Requirement already satisfied: numpy in /home/shaunak/anaconda3/lib/python3.6/site-packages (from mglearn)\n",
      "Requirement already satisfied: six>=1.10 in /home/shaunak/anaconda3/lib/python3.6/site-packages (from matplotlib->mglearn)\n",
      "Requirement already satisfied: python-dateutil>=2.0 in /home/shaunak/anaconda3/lib/python3.6/site-packages (from matplotlib->mglearn)\n",
      "Requirement already satisfied: pytz in /home/shaunak/anaconda3/lib/python3.6/site-packages (from matplotlib->mglearn)\n",
      "Requirement already satisfied: pyparsing!=2.0.4,!=2.1.2,!=2.1.6,>=2.0.1 in /home/shaunak/anaconda3/lib/python3.6/site-packages (from matplotlib->mglearn)\n",
      "Requirement already satisfied: olefile in /home/shaunak/anaconda3/lib/python3.6/site-packages (from pillow->mglearn)\n",
      "\u001b[33mYou are using pip version 9.0.1, however version 9.0.2 is available.\n",
      "You should consider upgrading via the 'pip install --upgrade pip' command.\u001b[0m\n"
     ]
    }
   ],
   "source": [
    "!pip install mglearn"
   ]
  },
  {
   "cell_type": "code",
   "execution_count": 7,
   "metadata": {
    "scrolled": true
   },
   "outputs": [
    {
     "data": {
      "image/png": "[encoded data removed]",
      "text/plain": [
       "<matplotlib.figure.Figure at 0x7f172e7918d0>"
      ]
     },
     "metadata": {},
     "output_type": "display_data"
    }
   ],
   "source": [
    "mglearn.plots.plot_knn_classification(n_neighbors=3)"
   ]
  },
  {
   "cell_type": "markdown",
   "metadata": {},
   "source": [
    "#### KNN is easy to understand and implement\n",
    "\n",
    "It works well with smaller datasets, with fewer features\n",
    "It does not work well with bigger datasets with 100s of features. **It becomes slow**\n"
   ]
  },
  {
   "cell_type": "code",
   "execution_count": 8,
   "metadata": {},
   "outputs": [
    {
     "name": "stdout",
     "output_type": "stream",
     "text": [
      "True\n",
      "0.7486818980667839\n"
     ]
    },
    {
     "data": {
      "text/plain": [
       "KNeighborsClassifier(algorithm='auto', leaf_size=30, metric='minkowski',\n",
       "           metric_params=None, n_jobs=1, n_neighbors=5, p=2,\n",
       "           weights='uniform')"
      ]
     },
     "execution_count": 8,
     "metadata": {},
     "output_type": "execute_result"
    }
   ],
   "source": [
    "cancer = load_breast_cancer()\n",
    "\n",
    "x_train, x_test, y_train, y_test = train_test_split(cancer.data, cancer.target, stratify = cancer.target, random_state = 42)\n",
    "\n",
    "print (len(x_train) == len(y_train) and len(x_test) == len(y_test))\n",
    "\n",
    "print(len(x_train)/len(cancer.data))\n",
    "\n",
    "\n",
    "knn = KNeighborsClassifier()\n",
    "\n",
    "knn.fit(x_train, y_train)\n"
   ]
  },
  {
   "cell_type": "markdown",
   "metadata": {},
   "source": [
    "By default train_test_split splits 75% of the data into test and 25% of the data into train"
   ]
  },
  {
   "cell_type": "code",
   "execution_count": 9,
   "metadata": {
    "scrolled": true
   },
   "outputs": [
    {
     "name": "stdout",
     "output_type": "stream",
     "text": [
      "Accuracy of KNN n-5 on the training set: 94.60 %\n",
      "Accuracy of KNN n-5 on the test set: 93.01%\n"
     ]
    }
   ],
   "source": [
    "print (\"Accuracy of KNN n-5 on the training set: {:.2f} %\".format(knn.score(x_train,y_train)*100))\n",
    "\n",
    "print (\"Accuracy of KNN n-5 on the test set: {:.2f}%\".format(knn.score(x_test,y_test)*100))\n"
   ]
  },
  {
   "cell_type": "markdown",
   "metadata": {},
   "source": [
    "#### Can we tune in the parameters of the KNN algo to predict more accurately?\n",
    "\n",
    "No of neighbors: test usinga range of neighbors (1-10)"
   ]
  },
  {
   "cell_type": "code",
   "execution_count": 10,
   "metadata": {
    "scrolled": false
   },
   "outputs": [
    {
     "data": {
      "text/plain": [
       "<matplotlib.legend.Legend at 0x7f1725fd2be0>"
      ]
     },
     "execution_count": 10,
     "metadata": {},
     "output_type": "execute_result"
    },
    {
     "data": {
      "image/png": "[encoded data removed]",
      "text/plain": [
       "<matplotlib.figure.Figure at 0x7f17260a0c18>"
      ]
     },
     "metadata": {},
     "output_type": "display_data"
    }
   ],
   "source": [
    "x_train, x_test, y_train, y_test = train_test_split(cancer.data, cancer.target, stratify = cancer.target, random_state = 66)\n",
    "\n",
    "# lists for storing accuracies\n",
    "\n",
    "training_accuracies = []\n",
    "test_accuracies = []\n",
    "\n",
    "neighbor_settings = range(1,11)\n",
    "\n",
    "for n_neighbors in neighbor_settings:\n",
    "    cif = KNeighborsClassifier(n_neighbors=n_neighbors)\n",
    "    cif.fit(x_train, y_train)\n",
    "    training_accuracies.append(cif.score(x_train, y_train))\n",
    "    test_accuracies.append(cif.score(x_test, y_test))\n",
    "    \n",
    "    \n",
    "# visualize the data\n",
    "\n",
    "plt.plot(neighbor_settings, training_accuracies, label = \"Accuracy of training set\")\n",
    "plt.plot(neighbor_settings, test_accuracies, label = \"Accuracy of test set\")\n",
    "plt.xlabel(\"Accuracy\")\n",
    "plt.ylabel(\"No of neighbors\")\n",
    "plt.legend()\n"
   ]
  },
  {
   "cell_type": "markdown",
   "metadata": {},
   "source": [
    "** Accuracy of test set is best (94%) while using 6 neighbors **\n"
   ]
  },
  {
   "cell_type": "markdown",
   "metadata": {},
   "source": [
    "### Supervised Learning\n",
    "\n",
    "There are 2 types of Supervised Learning:\n",
    "\n",
    "**1. Classification (categorical data)**\n",
    "    - Binary (tumor: bening, malignant)\n",
    "    - Multiclass classification (books: physics, math, cs, history)\n",
    "    - example algorithms: KNN, Linear Models, Decision Trees, SVMs etc.\n",
    "**2. Regression (continuous data)**\n",
    "    - predicting income, price of stock, age and other continuous data\n",
    "    - example algorithms: KNN, Linear Models, Decision Trees, SVMs etc.\n",
    "\n",
    "---\n",
    "\n",
    "Linear Models like LinReg, LogReg, Lasso, Ridged etc. make predictions acc to a linear function of input features."
   ]
  },
  {
   "cell_type": "markdown",
   "metadata": {},
   "source": [
    "### Logistic Regression"
   ]
  },
  {
   "cell_type": "code",
   "execution_count": 11,
   "metadata": {},
   "outputs": [
    {
     "data": {
      "text/plain": [
       "LogisticRegression(C=1.0, class_weight=None, dual=False, fit_intercept=True,\n",
       "          intercept_scaling=1, max_iter=100, multi_class='ovr', n_jobs=1,\n",
       "          penalty='l2', random_state=None, solver='liblinear', tol=0.0001,\n",
       "          verbose=0, warm_start=False)"
      ]
     },
     "execution_count": 11,
     "metadata": {},
     "output_type": "execute_result"
    }
   ],
   "source": [
    "cancer = load_breast_cancer()\n",
    "\n",
    "x_train, x_test, y_train, y_test = train_test_split(cancer.data, cancer.target, stratify = cancer.target, random_state=42)\n",
    "\n",
    "# code is almost same as KNN\n",
    "\n",
    "log_reg_classifier = LogisticRegression()\n",
    "\n",
    "log_reg_classifier.fit(x_train, y_train)\n",
    "\n"
   ]
  },
  {
   "cell_type": "code",
   "execution_count": 12,
   "metadata": {},
   "outputs": [
    {
     "name": "stdout",
     "output_type": "stream",
     "text": [
      "Accuracy of LogReg on the training set: 95.31 %\n",
      "Accuracy of LogReg on the test set: 95.80 %\n"
     ]
    }
   ],
   "source": [
    "print (\"Accuracy of LogReg on the training set: {:.2f} %\".format(log_reg_classifier.score(x_train,y_train)*100))\n",
    "\n",
    "print (\"Accuracy of LogReg on the test set: {:.2f} %\".format(log_reg_classifier.score(x_test,y_test)*100))"
   ]
  },
  {
   "cell_type": "markdown",
   "metadata": {},
   "source": [
    "#### Can we optimize the LogRegClassifier to get better results?\n",
    "\n",
    "Log Reg uses **Regularization** to avoid overfitting\n",
    "\n",
    "Thare are 2 types of Regularization\n",
    "\n",
    "- L1: assumes only a few features are important\n",
    "- L2: does not assume that\n",
    "\n",
    "L2 is the default one\n",
    "\n",
    "\n",
    "Strength of Regularization: Parameter **'C'**\n",
    "\n",
    "- lower C : causes our classifier to adjust to majority of data points\n",
    "- higher C : emphasizes on correct classification of each data point\n",
    "\n",
    "**By default the value of C is 1**\n"
   ]
  },
  {
   "cell_type": "markdown",
   "metadata": {},
   "source": [
    "#### Higher C Value"
   ]
  },
  {
   "cell_type": "code",
   "execution_count": 13,
   "metadata": {},
   "outputs": [
    {
     "name": "stdout",
     "output_type": "stream",
     "text": [
      "Accuracy of LogReg on the training set: 97.18 %\n",
      "Accuracy of LogReg on the test set: 96.50 %\n"
     ]
    }
   ],
   "source": [
    "log_reg_100 = LogisticRegression(C=100)\n",
    "\n",
    "log_reg_100.fit(x_train, y_train)\n",
    "\n",
    "print (\"Accuracy of LogReg on the training set: {:.2f} %\".format(log_reg_100.score(x_train,y_train)*100))\n",
    "\n",
    "print (\"Accuracy of LogReg on the test set: {:.2f} %\".format(log_reg_100.score(x_test,y_test)*100))"
   ]
  },
  {
   "cell_type": "markdown",
   "metadata": {},
   "source": [
    "    There is an increase in both accuracies\n",
    "\n",
    "    Also the gap bw the testing and training accuracies increase as well\n",
    "\n",
    "    This means we are moving away from an underfit model\n",
    "    \n",
    "    Thus performance has been improved"
   ]
  },
  {
   "cell_type": "code",
   "execution_count": 14,
   "metadata": {},
   "outputs": [
    {
     "name": "stdout",
     "output_type": "stream",
     "text": [
      "Accuracy of LogReg on the training set: 93.43 %\n",
      "Accuracy of LogReg on the test set: 93.01 %\n"
     ]
    }
   ],
   "source": [
    "log_reg_001 = LogisticRegression(C=0.01)\n",
    "\n",
    "log_reg_001.fit(x_train, y_train)\n",
    "\n",
    "print (\"Accuracy of LogReg on the training set: {:.2f} %\".format(log_reg_001.score(x_train,y_train)*100))\n",
    "\n",
    "print (\"Accuracy of LogReg on the test set: {:.2f} %\".format(log_reg_001.score(x_test,y_test)*100))"
   ]
  },
  {
   "cell_type": "markdown",
   "metadata": {},
   "source": [
    "    Accuracy is lowered\n",
    "    \n",
    "    Gap is also less\n",
    "    \n",
    "    Performance is worse"
   ]
  },
  {
   "cell_type": "markdown",
   "metadata": {},
   "source": [
    "### Linear Models (in general)\n",
    "\n",
    "    y = wx + b\n",
    "    \n",
    "- w: slope or coeff, accessed via .coeff____ \n",
    "- b: offset or intercept, accessed via .intercept____\n",
    "- w and b are learned params\n",
    "- y is the prediction\n",
    "\n",
    "#### For LogReg specifically:\n",
    "\n",
    "    y = w[0]x[0] + w[1]x[1] + ... + w[p]x[p] + b > 0\n",
    "\n"
   ]
  },
  {
   "cell_type": "code",
   "execution_count": 15,
   "metadata": {},
   "outputs": [
    {
     "name": "stdout",
     "output_type": "stream",
     "text": [
      "w[0]: 0.393906  b: -0.031804\n"
     ]
    },
    {
     "data": {
      "image/png": "[encoded data removed]",
      "text/plain": [
       "<matplotlib.figure.Figure at 0x7f172e75bcf8>"
      ]
     },
     "metadata": {},
     "output_type": "display_data"
    }
   ],
   "source": [
    "mglearn.plots.plot_linear_regression_wave()"
   ]
  },
  {
   "cell_type": "markdown",
   "metadata": {},
   "source": [
    "#### In LogReg there is and addition of ```>0``` condition\n",
    "\n",
    "We set a threshold value of predn\n",
    "\n",
    "#### Let'sexplore the Learn Params for the diff C values we had\n"
   ]
  },
  {
   "cell_type": "code",
   "execution_count": 16,
   "metadata": {},
   "outputs": [
    {
     "data": {
      "text/plain": [
       "<matplotlib.legend.Legend at 0x7f1725b5ee48>"
      ]
     },
     "execution_count": 16,
     "metadata": {},
     "output_type": "execute_result"
    },
    {
     "data": {
      "image/png": "[encoded data removed]",
      "text/plain": [
       "<matplotlib.figure.Figure at 0x7f17260f6c18>"
      ]
     },
     "metadata": {},
     "output_type": "display_data"
    }
   ],
   "source": [
    "plt.plot(log_reg_classifier.coef_.T, 'o', label = 'C=1')\n",
    "plt.plot(log_reg_100.coef_.T, '*', label = 'C=100')\n",
    "plt.plot(log_reg_001.coef_.T, 'v', label = 'C=0.01')\n",
    "\n",
    "plt.xticks(range(cancer.data.shape[1]), cancer.feature_names,rotation=90)\n",
    "plt.hlines(0,0,cancer.data.shape[1])\n",
    "\n",
    "plt.ylim(-5,5)\n",
    "\n",
    "plt.xlabel('Coefficient Index')\n",
    "plt.ylabel('Coefficient Magnitude')\n",
    "plt.legend()"
   ]
  },
  {
   "cell_type": "markdown",
   "metadata": {},
   "source": [
    "C=0.01: denotes stronger Regularization, It shifts coeff towards 0\n",
    "\n",
    "C=100: focuses on correct classification"
   ]
  },
  {
   "cell_type": "markdown",
   "metadata": {},
   "source": [
    "### Decision Trees\n",
    "\n",
    "each node is decided on maximum information gain\n",
    "\n",
    "![decision tree](https://camo.githubusercontent.com/1f868438e77459ed99da3c4b86b38300ef0ff8eb/68747470733a2f2f75706c6f61642e77696b696d656469612e6f72672f77696b6970656469612f636f6d6d6f6e732f662f66332f434152545f747265655f746974616e69635f7375727669766f72732e706e67)"
   ]
  },
  {
   "cell_type": "code",
   "execution_count": 17,
   "metadata": {},
   "outputs": [
    {
     "name": "stdout",
     "output_type": "stream",
     "text": [
      "Feature importances: [ 0.  1.]\n"
     ]
    },
    {
     "data": {
      "image/svg+xml": [
       "<?xml version=\"1.0\" encoding=\"UTF-8\" standalone=\"no\"?>\n",
       "<!DOCTYPE svg PUBLIC \"-//W3C//DTD SVG 1.1//EN\"\n",
       " \"http://www.w3.org/Graphics/SVG/1.1/DTD/svg11.dtd\">\n",
       "<!-- Generated by graphviz version 2.40.1 (20161225.0304)\n",
       " -->\n",
       "<!-- Title: Tree Pages: 1 -->\n",
       "<svg width=\"284pt\" height=\"224pt\"\n",
       " viewBox=\"0.00 0.00 284.00 224.00\" xmlns=\"http://www.w3.org/2000/svg\" xmlns:xlink=\"http://www.w3.org/1999/xlink\">\n",
       "<g id=\"graph0\" class=\"graph\" transform=\"scale(1 1) rotate(0) translate(4 220)\">\n",
       "<title>Tree</title>\n",
       "<polygon fill=\"#ffffff\" stroke=\"transparent\" points=\"-4,4 -4,-220 280,-220 280,4 -4,4\"/>\n",
       "<!-- 0 -->\n",
       "<g id=\"node1\" class=\"node\">\n",
       "<title>0</title>\n",
       "<polygon fill=\"transparent\" stroke=\"#000000\" points=\"161.5,-216 56.5,-216 56.5,-163 161.5,-163 161.5,-216\"/>\n",
       "<text text-anchor=\"middle\" x=\"109\" y=\"-200.8\" font-family=\"Times,serif\" font-size=\"14.00\" fill=\"#000000\">X[1] &lt;= &#45;5.814</text>\n",
       "<text text-anchor=\"middle\" x=\"109\" y=\"-185.8\" font-family=\"Times,serif\" font-size=\"14.00\" fill=\"#000000\">samples = 100</text>\n",
       "<text text-anchor=\"middle\" x=\"109\" y=\"-170.8\" font-family=\"Times,serif\" font-size=\"14.00\" fill=\"#000000\">value = [50, 50]</text>\n",
       "</g>\n",
       "<!-- 1 -->\n",
       "<g id=\"node2\" class=\"node\">\n",
       "<title>1</title>\n",
       "<polygon fill=\"#e58139\" stroke=\"#000000\" points=\"98,-119.5 0,-119.5 0,-81.5 98,-81.5 98,-119.5\"/>\n",
       "<text text-anchor=\"middle\" x=\"49\" y=\"-104.3\" font-family=\"Times,serif\" font-size=\"14.00\" fill=\"#000000\">samples = 25</text>\n",
       "<text text-anchor=\"middle\" x=\"49\" y=\"-89.3\" font-family=\"Times,serif\" font-size=\"14.00\" fill=\"#000000\">value = [25, 0]</text>\n",
       "</g>\n",
       "<!-- 0&#45;&gt;1 -->\n",
       "<g id=\"edge1\" class=\"edge\">\n",
       "<title>0&#45;&gt;1</title>\n",
       "<path fill=\"none\" stroke=\"#000000\" d=\"M90.998,-162.7971C83.5895,-151.8078 75.0123,-139.0849 67.5479,-128.0128\"/>\n",
       "<polygon fill=\"#000000\" stroke=\"#000000\" points=\"70.336,-125.887 61.8439,-119.5518 64.5318,-129.8 70.336,-125.887\"/>\n",
       "<text text-anchor=\"middle\" x=\"57.0677\" y=\"-140.3913\" font-family=\"Times,serif\" font-size=\"14.00\" fill=\"#000000\">True</text>\n",
       "</g>\n",
       "<!-- 2 -->\n",
       "<g id=\"node3\" class=\"node\">\n",
       "<title>2</title>\n",
       "<polygon fill=\"#399de5\" fill-opacity=\"0.498039\" stroke=\"#000000\" points=\"221.5,-127 116.5,-127 116.5,-74 221.5,-74 221.5,-127\"/>\n",
       "<text text-anchor=\"middle\" x=\"169\" y=\"-111.8\" font-family=\"Times,serif\" font-size=\"14.00\" fill=\"#000000\">X[1] &lt;= 5.348</text>\n",
       "<text text-anchor=\"middle\" x=\"169\" y=\"-96.8\" font-family=\"Times,serif\" font-size=\"14.00\" fill=\"#000000\">samples = 75</text>\n",
       "<text text-anchor=\"middle\" x=\"169\" y=\"-81.8\" font-family=\"Times,serif\" font-size=\"14.00\" fill=\"#000000\">value = [25, 50]</text>\n",
       "</g>\n",
       "<!-- 0&#45;&gt;2 -->\n",
       "<g id=\"edge2\" class=\"edge\">\n",
       "<title>0&#45;&gt;2</title>\n",
       "<path fill=\"none\" stroke=\"#000000\" d=\"M127.002,-162.7971C132.7568,-154.2607 139.2169,-144.6782 145.3128,-135.6361\"/>\n",
       "<polygon fill=\"#000000\" stroke=\"#000000\" points=\"148.3229,-137.4323 151.0107,-127.1841 142.5186,-133.5193 148.3229,-137.4323\"/>\n",
       "<text text-anchor=\"middle\" x=\"155.7869\" y=\"-148.0236\" font-family=\"Times,serif\" font-size=\"14.00\" fill=\"#000000\">False</text>\n",
       "</g>\n",
       "<!-- 3 -->\n",
       "<g id=\"node4\" class=\"node\">\n",
       "<title>3</title>\n",
       "<polygon fill=\"#399de5\" stroke=\"#000000\" points=\"160,-38 62,-38 62,0 160,0 160,-38\"/>\n",
       "<text text-anchor=\"middle\" x=\"111\" y=\"-22.8\" font-family=\"Times,serif\" font-size=\"14.00\" fill=\"#000000\">samples = 50</text>\n",
       "<text text-anchor=\"middle\" x=\"111\" y=\"-7.8\" font-family=\"Times,serif\" font-size=\"14.00\" fill=\"#000000\">value = [0, 50]</text>\n",
       "</g>\n",
       "<!-- 2&#45;&gt;3 -->\n",
       "<g id=\"edge3\" class=\"edge\">\n",
       "<title>2&#45;&gt;3</title>\n",
       "<path fill=\"none\" stroke=\"#000000\" d=\"M150.0086,-73.8139C143.8141,-65.1094 136.9251,-55.4292 130.681,-46.6553\"/>\n",
       "<polygon fill=\"#000000\" stroke=\"#000000\" points=\"133.3514,-44.3712 124.7016,-38.2531 127.6482,-48.4299 133.3514,-44.3712\"/>\n",
       "</g>\n",
       "<!-- 4 -->\n",
       "<g id=\"node5\" class=\"node\">\n",
       "<title>4</title>\n",
       "<polygon fill=\"#e58139\" stroke=\"#000000\" points=\"276,-38 178,-38 178,0 276,0 276,-38\"/>\n",
       "<text text-anchor=\"middle\" x=\"227\" y=\"-22.8\" font-family=\"Times,serif\" font-size=\"14.00\" fill=\"#000000\">samples = 25</text>\n",
       "<text text-anchor=\"middle\" x=\"227\" y=\"-7.8\" font-family=\"Times,serif\" font-size=\"14.00\" fill=\"#000000\">value = [25, 0]</text>\n",
       "</g>\n",
       "<!-- 2&#45;&gt;4 -->\n",
       "<g id=\"edge4\" class=\"edge\">\n",
       "<title>2&#45;&gt;4</title>\n",
       "<path fill=\"none\" stroke=\"#000000\" d=\"M187.9914,-73.8139C194.1859,-65.1094 201.0749,-55.4292 207.319,-46.6553\"/>\n",
       "<polygon fill=\"#000000\" stroke=\"#000000\" points=\"210.3518,-48.4299 213.2984,-38.2531 204.6486,-44.3712 210.3518,-48.4299\"/>\n",
       "</g>\n",
       "</g>\n",
       "</svg>\n"
      ],
      "text/plain": [
       "<graphviz.files.Source at 0x7f1725afa390>"
      ]
     },
     "execution_count": 17,
     "metadata": {},
     "output_type": "execute_result"
    },
    {
     "data": {
      "image/png": "[encoded data removed]",
      "text/plain": [
       "<matplotlib.figure.Figure at 0x7f1726048c18>"
      ]
     },
     "metadata": {},
     "output_type": "display_data"
    }
   ],
   "source": [
    "mglearn.plots.plot_tree_not_monotone()"
   ]
  },
  {
   "cell_type": "code",
   "execution_count": 18,
   "metadata": {},
   "outputs": [
    {
     "name": "stdout",
     "output_type": "stream",
     "text": [
      "Accuracy of DT on the training set: 100.00 %\n",
      "Accuracy of DT on the test set: 93.71 %\n"
     ]
    }
   ],
   "source": [
    "from sklearn.tree import DecisionTreeClassifier\n",
    "\n",
    "cancer = load_breast_cancer()\n",
    "\n",
    "x_train, x_test, y_train, y_test = train_test_split(cancer.data, cancer.target, stratify=cancer.target, random_state=42)\n",
    "\n",
    "tree = DecisionTreeClassifier(random_state=0)\n",
    "\n",
    "tree.fit(x_train, y_train)\n",
    "\n",
    "print (\"Accuracy of DT on the training set: {:.2f} %\".format(tree.score(x_train,y_train)*100))\n",
    "\n",
    "print (\"Accuracy of DT on the test set: {:.2f} %\".format(tree.score(x_test,y_test)*100))"
   ]
  },
  {
   "cell_type": "markdown",
   "metadata": {},
   "source": [
    "Accuracy of training subset is 100%\n",
    "\n",
    "This is bcoz all the leaves are pure\n",
    "\n",
    "The branching went all the way down until algorithm could memorize and fit all the labels\n",
    "\n",
    "This is **Overfitting**"
   ]
  },
  {
   "cell_type": "markdown",
   "metadata": {},
   "source": [
    "This happened because the DT was **unrestricted** and the branching went all the way down until it perfectly fit\n",
    "the training data\n",
    "\n",
    "We have to limit the depth of the DT, which in turn will limit its complexity\n",
    "\n",
    "There is a technique called **Pruning** which prevents over-fitting\n",
    "\n",
    "2 types of Pruning\n",
    "\n",
    "1. Pre pruning: we stop the creation of the tree at an earlier stage. We dont let it develop completely.\n",
    "    We can limit the max depth or max leaves or specify min number of points for a node so that it can keep splitting\n",
    "2. Post pruning: we allow the tree to get built and then remove irrelevant nodes, nodes which contain little information\n"
   ]
  },
  {
   "cell_type": "markdown",
   "metadata": {},
   "source": [
    "#### Pre Pruning with max_depth = 4"
   ]
  },
  {
   "cell_type": "code",
   "execution_count": 19,
   "metadata": {},
   "outputs": [
    {
     "data": {
      "text/plain": [
       "DecisionTreeClassifier(class_weight=None, criterion='gini', max_depth=4,\n",
       "            max_features=None, max_leaf_nodes=None,\n",
       "            min_impurity_decrease=0.0, min_impurity_split=None,\n",
       "            min_samples_leaf=1, min_samples_split=2,\n",
       "            min_weight_fraction_leaf=0.0, presort=False, random_state=0,\n",
       "            splitter='best')"
      ]
     },
     "execution_count": 19,
     "metadata": {},
     "output_type": "execute_result"
    }
   ],
   "source": [
    "tree = DecisionTreeClassifier(max_depth=4, random_state=0)\n",
    "tree.fit(x_train, y_train)\n"
   ]
  },
  {
   "cell_type": "markdown",
   "metadata": {},
   "source": [
    "    This is better\n",
    "\n",
    "    Accuracy on training subset is reduced, thus overfitting is reduced\n",
    "\n",
    "    Accuracy on test is increased"
   ]
  },
  {
   "cell_type": "code",
   "execution_count": 20,
   "metadata": {},
   "outputs": [
    {
     "name": "stdout",
     "output_type": "stream",
     "text": [
      "Requirement already satisfied: graphviz in /home/shaunak/anaconda3/lib/python3.6/site-packages\n",
      "\u001b[33mYou are using pip version 9.0.1, however version 9.0.2 is available.\n",
      "You should consider upgrading via the 'pip install --upgrade pip' command.\u001b[0m\n"
     ]
    }
   ],
   "source": [
    "!pip install graphviz"
   ]
  },
  {
   "cell_type": "code",
   "execution_count": 21,
   "metadata": {
    "collapsed": true
   },
   "outputs": [],
   "source": [
    "import graphviz\n",
    "\n",
    "from sklearn.tree import export_graphviz\n",
    "\n",
    "export_graphviz(tree, out_file = 'cancertree.dot', class_names = ['malignant', 'bening'], \n",
    "                feature_names = cancer.feature_names, impurity = False, filled = True)"
   ]
  },
  {
   "cell_type": "markdown",
   "metadata": {},
   "source": [
    "#### Visualize the file:\n",
    "\n",
    "![tree](cancertree.png)"
   ]
  },
  {
   "cell_type": "markdown",
   "metadata": {},
   "source": [
    "This tells us how the predictions are made\n",
    "\n",
    "Depth = 4\n",
    "\n",
    "worst radius is at the root. So we can get an idea about the importance of this feature\n",
    "\n",
    "Then we have branching into worst concave points and texture error\n",
    "\n",
    "Each feature in a DT carries a certain weight"
   ]
  },
  {
   "cell_type": "code",
   "execution_count": 22,
   "metadata": {},
   "outputs": [
    {
     "name": "stdout",
     "output_type": "stream",
     "text": [
      "Feature importances: [ 0.          0.          0.          0.          0.          0.          0.\n",
      "  0.          0.          0.          0.01019737  0.04839825  0.          0.\n",
      "  0.0024156   0.          0.          0.          0.          0.\n",
      "  0.72682851  0.0458159   0.          0.          0.0141577   0.          0.018188\n",
      "  0.1221132   0.01188548  0.        ]\n",
      "['mean radius' 'mean texture' 'mean perimeter' 'mean area'\n",
      " 'mean smoothness' 'mean compactness' 'mean concavity'\n",
      " 'mean concave points' 'mean symmetry' 'mean fractal dimension'\n",
      " 'radius error' 'texture error' 'perimeter error' 'area error'\n",
      " 'smoothness error' 'compactness error' 'concavity error'\n",
      " 'concave points error' 'symmetry error' 'fractal dimension error'\n",
      " 'worst radius' 'worst texture' 'worst perimeter' 'worst area'\n",
      " 'worst smoothness' 'worst compactness' 'worst concavity'\n",
      " 'worst concave points' 'worst symmetry' 'worst fractal dimension']\n"
     ]
    }
   ],
   "source": [
    "print (\"Feature importances: {}\".format(tree.feature_importances_))\n",
    "type(tree.feature_importances_)\n",
    "\n",
    "print(cancer.feature_names)"
   ]
  },
  {
   "cell_type": "code",
   "execution_count": 23,
   "metadata": {
    "scrolled": true
   },
   "outputs": [
    {
     "data": {
      "image/png": "[encoded data removed]",
      "text/plain": [
       "<matplotlib.figure.Figure at 0x7f1725afa438>"
      ]
     },
     "metadata": {},
     "output_type": "display_data"
    }
   ],
   "source": [
    "n_features = cancer.data.shape[1]\n",
    "\n",
    "plt.barh(range(n_features), tree.feature_importances_, align='center')\n",
    "plt.yticks(np.arange(n_features), cancer.feature_names)\n",
    "plt.xlabel('Feature Importance')\n",
    "plt.ylabel('Feature')\n",
    "plt.show()"
   ]
  },
  {
   "cell_type": "markdown",
   "metadata": {},
   "source": [
    "worst radius carries a lot of wt, so its at the root\n",
    "\n",
    "then we have worst concave points, texture error\n",
    "\n",
    "#### Advantages of DTs\n",
    "\n",
    "- easy to view and understand\n",
    "- unlike some other ML algos, there is no need to pre process, normalize, scale, or standardize the features\n",
    "\n",
    "We dont have to bring features to same scale as in this algo the features are processed individually\n",
    "\n",
    "#### Params to work with\n",
    "\n",
    "- max_depth\n",
    "- min_samples_leaf, max_samples_leaf\n",
    "- max_leaf_nodes\n",
    "\n",
    "#### Disadv\n",
    "\n",
    "- tendency to overfit (even if pre pruned)\n",
    "- poor generalization"
   ]
  },
  {
   "cell_type": "markdown",
   "metadata": {},
   "source": [
    "#### Ensembles: combines multiple ML models into a more powerful model\n",
    "\n",
    "### Random Forests\n",
    "\n",
    "Ensembles of trees are preferred over a single DT Classifier\n",
    "\n",
    "RF: collection of DTs\n",
    "\n",
    "**How are RFs better than a single DT**\n",
    "\n",
    "- a single DT is good for prediction, but is prone to overfit a part of data\n",
    "- combining multiple DTs retains the predictive ability, and reduces overfitting by averaging the results\n",
    "- RF applies **randomness** while building each DT. So each DT is diff\n",
    "- averaging is done afterwards"
   ]
  },
  {
   "cell_type": "code",
   "execution_count": 24,
   "metadata": {},
   "outputs": [
    {
     "name": "stdout",
     "output_type": "stream",
     "text": [
      "Accuracy of RF on the training set: 100.00 %\n",
      "Accuracy of RF on the test set: 97.20 %\n"
     ]
    }
   ],
   "source": [
    "from sklearn.ensemble import RandomForestClassifier\n",
    "\n",
    "x_train, x_test, y_train, y_test = train_test_split(cancer.data, cancer.target, random_state=0)\n",
    "\n",
    "random_forest_classifier = RandomForestClassifier(n_estimators = 100, random_state = 0)\n",
    "\n",
    "random_forest_classifier.fit(x_train, y_train)\n",
    "\n",
    "print (\"Accuracy of RF on the training set: {:.2f} %\".format(random_forest_classifier.score(x_train,y_train)*100))\n",
    "\n",
    "print (\"Accuracy of RF on the test set: {:.2f} %\".format(random_forest_classifier.score(x_test,y_test)*100))"
   ]
  },
  {
   "cell_type": "markdown",
   "metadata": {},
   "source": [
    "There is a feature in RF called ```max_features```\n",
    "\n",
    "This controls the randomness of each DT\n",
    "\n",
    "or we can also apply pre pruning\n",
    "\n",
    "There is a param ```feature_importances``` which helps us understand the wt each feature carries in the\n",
    "decision making process\n",
    "\n",
    "Since we are dealing with multiple DTs, randomness applies to each of them. So feature_importances in RF is\n",
    "more representattive than in single DT"
   ]
  },
  {
   "cell_type": "markdown",
   "metadata": {},
   "source": [
    "In the single DT we built earlier, the feature worst radius carried a significantly higher weight than the others\n",
    "\n",
    "Lets see how it looks like for RF"
   ]
  },
  {
   "cell_type": "code",
   "execution_count": 25,
   "metadata": {},
   "outputs": [
    {
     "data": {
      "image/png": "[encoded data removed]",
      "text/plain": [
       "<matplotlib.figure.Figure at 0x7f1725530048>"
      ]
     },
     "metadata": {},
     "output_type": "display_data"
    }
   ],
   "source": [
    "n_features = cancer.data.shape[1]\n",
    "\n",
    "plt.barh(range(n_features), random_forest_classifier.feature_importances_, align='center')\n",
    "plt.yticks(np.arange(n_features), cancer.feature_names)\n",
    "plt.xlabel('Feature Importance')\n",
    "plt.ylabel('Feature')\n",
    "plt.show()"
   ]
  },
  {
   "cell_type": "markdown",
   "metadata": {},
   "source": [
    "    Now many of other features have a non-zero contribution, they play a heavier role in decision making\n",
    "    \n",
    "    Thus RF provides a more informed choice\n",
    "    \n",
    "#### Advantages of RF\n",
    "\n",
    "- powerful and widely implemented, do not require much tuning of parameters\n",
    "- dont require scaling of data\n",
    "- make up for the deficiencies of DTs\n",
    "\n",
    "#### Parameters to tune:\n",
    "\n",
    "- n_jobs: number of cores to use (-1 for all cores)\n",
    "- n_estimators: how many trees to use (more is always better). more trees tend to reduce overfitting of the algo\n",
    "    But we also have to trade off bw training time and memory allocation of the algo\n",
    "    Higher n_estimators drain more computer resources\n",
    "- max_depth, for pr pruning\n",
    "- max_features: determines randomness for each tree\n",
    "    - default value: sqrt(n_features) for classification\n",
    "    - default value: log2(n_features) for regression\n",
    "\n",
    "#### Disadv\n",
    "\n",
    "- not so good performance on high dimensional and sparse data(text data)\n",
    "- need more time and memory for training process compared to othet models\n",
    "- cannot be visualized as well as a single DT"
   ]
  },
  {
   "cell_type": "markdown",
   "metadata": {},
   "source": [
    "### Neural Networks\n",
    "\n",
    "Linear models:\n",
    "\n",
    "    y = w[0]x[0] + w[1]x[1] + ... + w[p]x[p] + b\n",
    "    \n",
    "We are going to train a **Multi layer Perceptron (MLP)** for classifying tumor samples\n",
    "\n",
    "#### Feed Forward NN : Flow of info only goes forward, in one direction\n",
    "\n",
    "This is unlike Back Propogation\n",
    "\n",
    "MLP can be viewed as generalization of linear models that go through multiple stages of processing\n",
    "to reach a decision or prediction\n",
    "\n",
    "Decision/Prediction is based on weighted sum of features : w[0]x[0] + w[1]x[1] + ... + w[p]x[p]\n",
    "\n",
    "Let's visualize this"
   ]
  },
  {
   "cell_type": "code",
   "execution_count": 26,
   "metadata": {},
   "outputs": [
    {
     "data": {
      "image/svg+xml": [
       "<?xml version=\"1.0\" encoding=\"UTF-8\" standalone=\"no\"?>\n",
       "<!DOCTYPE svg PUBLIC \"-//W3C//DTD SVG 1.1//EN\"\n",
       " \"http://www.w3.org/Graphics/SVG/1.1/DTD/svg11.dtd\">\n",
       "<!-- Generated by graphviz version 2.40.1 (20161225.0304)\n",
       " -->\n",
       "<!-- Title: %3 Pages: 1 -->\n",
       "<svg width=\"174pt\" height=\"261pt\"\n",
       " viewBox=\"0.00 0.00 174.00 261.00\" xmlns=\"http://www.w3.org/2000/svg\" xmlns:xlink=\"http://www.w3.org/1999/xlink\">\n",
       "<g id=\"graph0\" class=\"graph\" transform=\"scale(1 1) rotate(0) translate(4 257)\">\n",
       "<title>%3</title>\n",
       "<polygon fill=\"#ffffff\" stroke=\"transparent\" points=\"-4,4 -4,-257 170,-257 170,4 -4,4\"/>\n",
       "<g id=\"clust1\" class=\"cluster\">\n",
       "<title>cluster_0</title>\n",
       "<polygon fill=\"none\" stroke=\"#ffffff\" points=\"8,-8 8,-245 60,-245 60,-8 8,-8\"/>\n",
       "<text text-anchor=\"middle\" x=\"34\" y=\"-229.8\" font-family=\"Times,serif\" font-size=\"14.00\" fill=\"#000000\">inputs</text>\n",
       "</g>\n",
       "<g id=\"clust2\" class=\"cluster\">\n",
       "<title>cluster_2</title>\n",
       "<polygon fill=\"none\" stroke=\"#ffffff\" points=\"106,-89 106,-164 158,-164 158,-89 106,-89\"/>\n",
       "<text text-anchor=\"middle\" x=\"132\" y=\"-148.8\" font-family=\"Times,serif\" font-size=\"14.00\" fill=\"#000000\">output</text>\n",
       "</g>\n",
       "<!-- x[0] -->\n",
       "<g id=\"node1\" class=\"node\">\n",
       "<title>x[0]</title>\n",
       "<ellipse fill=\"none\" stroke=\"#000000\" cx=\"34\" cy=\"-196\" rx=\"18\" ry=\"18\"/>\n",
       "<text text-anchor=\"middle\" x=\"34\" y=\"-192.3\" font-family=\"Times,serif\" font-size=\"14.00\" fill=\"#000000\">x[0]</text>\n",
       "</g>\n",
       "<!-- y -->\n",
       "<g id=\"node5\" class=\"node\">\n",
       "<title>y</title>\n",
       "<ellipse fill=\"none\" stroke=\"#000000\" cx=\"132\" cy=\"-115\" rx=\"18\" ry=\"18\"/>\n",
       "<text text-anchor=\"middle\" x=\"132\" y=\"-111.3\" font-family=\"Times,serif\" font-size=\"14.00\" fill=\"#000000\">y</text>\n",
       "</g>\n",
       "<!-- x[0]&#45;&gt;y -->\n",
       "<g id=\"edge1\" class=\"edge\">\n",
       "<title>x[0]&#45;&gt;y</title>\n",
       "<path fill=\"none\" stroke=\"#000000\" d=\"M48.041,-184.3947C64.2693,-170.9815 91.1723,-148.7454 110.144,-133.0647\"/>\n",
       "<polygon fill=\"#000000\" stroke=\"#000000\" points=\"112.5069,-135.6525 117.985,-126.5838 108.0473,-130.2569 112.5069,-135.6525\"/>\n",
       "<text text-anchor=\"middle\" x=\"83\" y=\"-171.8\" font-family=\"Times,serif\" font-size=\"14.00\" fill=\"#000000\">w[0]</text>\n",
       "</g>\n",
       "<!-- x[1] -->\n",
       "<g id=\"node2\" class=\"node\">\n",
       "<title>x[1]</title>\n",
       "<ellipse fill=\"none\" stroke=\"#000000\" cx=\"34\" cy=\"-142\" rx=\"18\" ry=\"18\"/>\n",
       "<text text-anchor=\"middle\" x=\"34\" y=\"-138.3\" font-family=\"Times,serif\" font-size=\"14.00\" fill=\"#000000\">x[1]</text>\n",
       "</g>\n",
       "<!-- x[1]&#45;&gt;y -->\n",
       "<g id=\"edge2\" class=\"edge\">\n",
       "<title>x[1]&#45;&gt;y</title>\n",
       "<path fill=\"none\" stroke=\"#000000\" d=\"M51.5204,-137.1729C66.2924,-133.1031 87.6838,-127.2096 104.6999,-122.5214\"/>\n",
       "<polygon fill=\"#000000\" stroke=\"#000000\" points=\"105.9201,-125.8158 114.6312,-119.7853 104.0608,-119.0672 105.9201,-125.8158\"/>\n",
       "<text text-anchor=\"middle\" x=\"83\" y=\"-134.8\" font-family=\"Times,serif\" font-size=\"14.00\" fill=\"#000000\">w[1]</text>\n",
       "</g>\n",
       "<!-- x[2] -->\n",
       "<g id=\"node3\" class=\"node\">\n",
       "<title>x[2]</title>\n",
       "<ellipse fill=\"none\" stroke=\"#000000\" cx=\"34\" cy=\"-88\" rx=\"18\" ry=\"18\"/>\n",
       "<text text-anchor=\"middle\" x=\"34\" y=\"-84.3\" font-family=\"Times,serif\" font-size=\"14.00\" fill=\"#000000\">x[2]</text>\n",
       "</g>\n",
       "<!-- x[2]&#45;&gt;y -->\n",
       "<g id=\"edge3\" class=\"edge\">\n",
       "<title>x[2]&#45;&gt;y</title>\n",
       "<path fill=\"none\" stroke=\"#000000\" d=\"M51.5204,-92.8271C66.2924,-96.8969 87.6838,-102.7904 104.6999,-107.4786\"/>\n",
       "<polygon fill=\"#000000\" stroke=\"#000000\" points=\"104.0608,-110.9328 114.6312,-110.2147 105.9201,-104.1842 104.0608,-110.9328\"/>\n",
       "<text text-anchor=\"middle\" x=\"83\" y=\"-107.8\" font-family=\"Times,serif\" font-size=\"14.00\" fill=\"#000000\">w[2]</text>\n",
       "</g>\n",
       "<!-- x[3] -->\n",
       "<g id=\"node4\" class=\"node\">\n",
       "<title>x[3]</title>\n",
       "<ellipse fill=\"none\" stroke=\"#000000\" cx=\"34\" cy=\"-34\" rx=\"18\" ry=\"18\"/>\n",
       "<text text-anchor=\"middle\" x=\"34\" y=\"-30.3\" font-family=\"Times,serif\" font-size=\"14.00\" fill=\"#000000\">x[3]</text>\n",
       "</g>\n",
       "<!-- x[3]&#45;&gt;y -->\n",
       "<g id=\"edge4\" class=\"edge\">\n",
       "<title>x[3]&#45;&gt;y</title>\n",
       "<path fill=\"none\" stroke=\"#000000\" d=\"M48.041,-45.6053C64.2693,-59.0185 91.1723,-81.2546 110.144,-96.9353\"/>\n",
       "<polygon fill=\"#000000\" stroke=\"#000000\" points=\"108.0473,-99.7431 117.985,-103.4162 112.5069,-94.3475 108.0473,-99.7431\"/>\n",
       "<text text-anchor=\"middle\" x=\"83\" y=\"-82.8\" font-family=\"Times,serif\" font-size=\"14.00\" fill=\"#000000\">w[3]</text>\n",
       "</g>\n",
       "</g>\n",
       "</svg>\n"
      ],
      "text/plain": [
       "<graphviz.dot.Digraph at 0x7f1725ac0da0>"
      ]
     },
     "execution_count": 26,
     "metadata": {},
     "output_type": "execute_result"
    }
   ],
   "source": [
    "mglearn.plots.plot_logistic_regression_graph()"
   ]
  },
  {
   "cell_type": "markdown",
   "metadata": {},
   "source": [
    "This is how LogReg works, the output is y here\n",
    "\n",
    "Whats diff about MLP?\n",
    "\n",
    "    - Weights are calculated multiple times\n",
    "    \n"
   ]
  },
  {
   "cell_type": "code",
   "execution_count": 27,
   "metadata": {},
   "outputs": [
    {
     "data": {
      "image/svg+xml": [
       "<?xml version=\"1.0\" encoding=\"UTF-8\" standalone=\"no\"?>\n",
       "<!DOCTYPE svg PUBLIC \"-//W3C//DTD SVG 1.1//EN\"\n",
       " \"http://www.w3.org/Graphics/SVG/1.1/DTD/svg11.dtd\">\n",
       "<!-- Generated by graphviz version 2.40.1 (20161225.0304)\n",
       " -->\n",
       "<!-- Title: %3 Pages: 1 -->\n",
       "<svg width=\"252pt\" height=\"261pt\"\n",
       " viewBox=\"0.00 0.00 252.00 261.00\" xmlns=\"http://www.w3.org/2000/svg\" xmlns:xlink=\"http://www.w3.org/1999/xlink\">\n",
       "<g id=\"graph0\" class=\"graph\" transform=\"scale(1 1) rotate(0) translate(4 257)\">\n",
       "<title>%3</title>\n",
       "<polygon fill=\"#ffffff\" stroke=\"transparent\" points=\"-4,4 -4,-257 248,-257 248,4 -4,4\"/>\n",
       "<g id=\"clust1\" class=\"cluster\">\n",
       "<title>cluster_0</title>\n",
       "<polygon fill=\"none\" stroke=\"#ffffff\" points=\"8,-8 8,-245 60,-245 60,-8 8,-8\"/>\n",
       "<text text-anchor=\"middle\" x=\"34\" y=\"-229.8\" font-family=\"Times,serif\" font-size=\"14.00\" fill=\"#000000\">inputs</text>\n",
       "</g>\n",
       "<g id=\"clust2\" class=\"cluster\">\n",
       "<title>cluster_1</title>\n",
       "<polygon fill=\"none\" stroke=\"#ffffff\" points=\"80,-35 80,-218 164,-218 164,-35 80,-35\"/>\n",
       "<text text-anchor=\"middle\" x=\"122\" y=\"-202.8\" font-family=\"Times,serif\" font-size=\"14.00\" fill=\"#000000\">hidden layer</text>\n",
       "</g>\n",
       "<g id=\"clust3\" class=\"cluster\">\n",
       "<title>cluster_2</title>\n",
       "<polygon fill=\"none\" stroke=\"#ffffff\" points=\"184,-89 184,-164 236,-164 236,-89 184,-89\"/>\n",
       "<text text-anchor=\"middle\" x=\"210\" y=\"-148.8\" font-family=\"Times,serif\" font-size=\"14.00\" fill=\"#000000\">output</text>\n",
       "</g>\n",
       "<!-- x[0] -->\n",
       "<g id=\"node1\" class=\"node\">\n",
       "<title>x[0]</title>\n",
       "<ellipse fill=\"none\" stroke=\"#000000\" cx=\"34\" cy=\"-196\" rx=\"18\" ry=\"18\"/>\n",
       "<text text-anchor=\"middle\" x=\"34\" y=\"-192.3\" font-family=\"Times,serif\" font-size=\"14.00\" fill=\"#000000\">x[0]</text>\n",
       "</g>\n",
       "<!-- h0 -->\n",
       "<g id=\"node5\" class=\"node\">\n",
       "<title>h0</title>\n",
       "<ellipse fill=\"none\" stroke=\"#000000\" cx=\"122\" cy=\"-61\" rx=\"18\" ry=\"18\"/>\n",
       "<text text-anchor=\"middle\" x=\"122\" y=\"-57.3\" font-family=\"Times,serif\" font-size=\"14.00\" fill=\"#000000\">h[0]</text>\n",
       "</g>\n",
       "<!-- x[0]&#45;&gt;h0 -->\n",
       "<g id=\"edge1\" class=\"edge\">\n",
       "<title>x[0]&#45;&gt;h0</title>\n",
       "<path fill=\"none\" stroke=\"#000000\" d=\"M43.9237,-180.7762C59.1082,-157.4817 88.244,-112.7848 106.311,-85.0684\"/>\n",
       "<polygon fill=\"#000000\" stroke=\"#000000\" points=\"109.4488,-86.6639 111.9776,-76.3753 103.5847,-82.8414 109.4488,-86.6639\"/>\n",
       "</g>\n",
       "<!-- h1 -->\n",
       "<g id=\"node6\" class=\"node\">\n",
       "<title>h1</title>\n",
       "<ellipse fill=\"none\" stroke=\"#000000\" cx=\"122\" cy=\"-169\" rx=\"18\" ry=\"18\"/>\n",
       "<text text-anchor=\"middle\" x=\"122\" y=\"-165.3\" font-family=\"Times,serif\" font-size=\"14.00\" fill=\"#000000\">h[1]</text>\n",
       "</g>\n",
       "<!-- x[0]&#45;&gt;h1 -->\n",
       "<g id=\"edge2\" class=\"edge\">\n",
       "<title>x[0]&#45;&gt;h1</title>\n",
       "<path fill=\"none\" stroke=\"#000000\" d=\"M51.386,-190.6657C63.8004,-186.8567 80.7424,-181.6586 94.9198,-177.3087\"/>\n",
       "<polygon fill=\"#000000\" stroke=\"#000000\" points=\"96.1167,-180.6026 104.6501,-174.3232 94.0634,-173.9105 96.1167,-180.6026\"/>\n",
       "</g>\n",
       "<!-- h2 -->\n",
       "<g id=\"node7\" class=\"node\">\n",
       "<title>h2</title>\n",
       "<ellipse fill=\"none\" stroke=\"#000000\" cx=\"122\" cy=\"-115\" rx=\"18\" ry=\"18\"/>\n",
       "<text text-anchor=\"middle\" x=\"122\" y=\"-111.3\" font-family=\"Times,serif\" font-size=\"14.00\" fill=\"#000000\">h[2]</text>\n",
       "</g>\n",
       "<!-- x[0]&#45;&gt;h2 -->\n",
       "<g id=\"edge3\" class=\"edge\">\n",
       "<title>x[0]&#45;&gt;h2</title>\n",
       "<path fill=\"none\" stroke=\"#000000\" d=\"M47.3653,-183.6978C61.5794,-170.6144 84.2611,-149.7369 100.8935,-134.4276\"/>\n",
       "<polygon fill=\"#000000\" stroke=\"#000000\" points=\"103.5216,-136.7655 108.5089,-127.4179 98.7809,-131.6152 103.5216,-136.7655\"/>\n",
       "</g>\n",
       "<!-- x[1] -->\n",
       "<g id=\"node2\" class=\"node\">\n",
       "<title>x[1]</title>\n",
       "<ellipse fill=\"none\" stroke=\"#000000\" cx=\"34\" cy=\"-142\" rx=\"18\" ry=\"18\"/>\n",
       "<text text-anchor=\"middle\" x=\"34\" y=\"-138.3\" font-family=\"Times,serif\" font-size=\"14.00\" fill=\"#000000\">x[1]</text>\n",
       "</g>\n",
       "<!-- x[1]&#45;&gt;h0 -->\n",
       "<g id=\"edge4\" class=\"edge\">\n",
       "<title>x[1]&#45;&gt;h0</title>\n",
       "<path fill=\"none\" stroke=\"#000000\" d=\"M47.3653,-129.6978C61.5794,-116.6144 84.2611,-95.7369 100.8935,-80.4276\"/>\n",
       "<polygon fill=\"#000000\" stroke=\"#000000\" points=\"103.5216,-82.7655 108.5089,-73.4179 98.7809,-77.6152 103.5216,-82.7655\"/>\n",
       "</g>\n",
       "<!-- x[1]&#45;&gt;h1 -->\n",
       "<g id=\"edge5\" class=\"edge\">\n",
       "<title>x[1]&#45;&gt;h1</title>\n",
       "<path fill=\"none\" stroke=\"#000000\" d=\"M51.386,-147.3343C63.8004,-151.1433 80.7424,-156.3414 94.9198,-160.6913\"/>\n",
       "<polygon fill=\"#000000\" stroke=\"#000000\" points=\"94.0634,-164.0895 104.6501,-163.6768 96.1167,-157.3974 94.0634,-164.0895\"/>\n",
       "</g>\n",
       "<!-- x[1]&#45;&gt;h2 -->\n",
       "<g id=\"edge6\" class=\"edge\">\n",
       "<title>x[1]&#45;&gt;h2</title>\n",
       "<path fill=\"none\" stroke=\"#000000\" d=\"M51.386,-136.6657C63.8004,-132.8567 80.7424,-127.6586 94.9198,-123.3087\"/>\n",
       "<polygon fill=\"#000000\" stroke=\"#000000\" points=\"96.1167,-126.6026 104.6501,-120.3232 94.0634,-119.9105 96.1167,-126.6026\"/>\n",
       "</g>\n",
       "<!-- x[2] -->\n",
       "<g id=\"node3\" class=\"node\">\n",
       "<title>x[2]</title>\n",
       "<ellipse fill=\"none\" stroke=\"#000000\" cx=\"34\" cy=\"-88\" rx=\"18\" ry=\"18\"/>\n",
       "<text text-anchor=\"middle\" x=\"34\" y=\"-84.3\" font-family=\"Times,serif\" font-size=\"14.00\" fill=\"#000000\">x[2]</text>\n",
       "</g>\n",
       "<!-- x[2]&#45;&gt;h0 -->\n",
       "<g id=\"edge7\" class=\"edge\">\n",
       "<title>x[2]&#45;&gt;h0</title>\n",
       "<path fill=\"none\" stroke=\"#000000\" d=\"M51.386,-82.6657C63.8004,-78.8567 80.7424,-73.6586 94.9198,-69.3087\"/>\n",
       "<polygon fill=\"#000000\" stroke=\"#000000\" points=\"96.1167,-72.6026 104.6501,-66.3232 94.0634,-65.9105 96.1167,-72.6026\"/>\n",
       "</g>\n",
       "<!-- x[2]&#45;&gt;h1 -->\n",
       "<g id=\"edge8\" class=\"edge\">\n",
       "<title>x[2]&#45;&gt;h1</title>\n",
       "<path fill=\"none\" stroke=\"#000000\" d=\"M47.3653,-100.3022C61.5794,-113.3856 84.2611,-134.2631 100.8935,-149.5724\"/>\n",
       "<polygon fill=\"#000000\" stroke=\"#000000\" points=\"98.7809,-152.3848 108.5089,-156.5821 103.5216,-147.2345 98.7809,-152.3848\"/>\n",
       "</g>\n",
       "<!-- x[2]&#45;&gt;h2 -->\n",
       "<g id=\"edge9\" class=\"edge\">\n",
       "<title>x[2]&#45;&gt;h2</title>\n",
       "<path fill=\"none\" stroke=\"#000000\" d=\"M51.386,-93.3343C63.8004,-97.1433 80.7424,-102.3414 94.9198,-106.6913\"/>\n",
       "<polygon fill=\"#000000\" stroke=\"#000000\" points=\"94.0634,-110.0895 104.6501,-109.6768 96.1167,-103.3974 94.0634,-110.0895\"/>\n",
       "</g>\n",
       "<!-- x[3] -->\n",
       "<g id=\"node4\" class=\"node\">\n",
       "<title>x[3]</title>\n",
       "<ellipse fill=\"none\" stroke=\"#000000\" cx=\"34\" cy=\"-34\" rx=\"18\" ry=\"18\"/>\n",
       "<text text-anchor=\"middle\" x=\"34\" y=\"-30.3\" font-family=\"Times,serif\" font-size=\"14.00\" fill=\"#000000\">x[3]</text>\n",
       "</g>\n",
       "<!-- x[3]&#45;&gt;h0 -->\n",
       "<g id=\"edge10\" class=\"edge\">\n",
       "<title>x[3]&#45;&gt;h0</title>\n",
       "<path fill=\"none\" stroke=\"#000000\" d=\"M51.386,-39.3343C63.8004,-43.1433 80.7424,-48.3414 94.9198,-52.6913\"/>\n",
       "<polygon fill=\"#000000\" stroke=\"#000000\" points=\"94.0634,-56.0895 104.6501,-55.6768 96.1167,-49.3974 94.0634,-56.0895\"/>\n",
       "</g>\n",
       "<!-- x[3]&#45;&gt;h1 -->\n",
       "<g id=\"edge11\" class=\"edge\">\n",
       "<title>x[3]&#45;&gt;h1</title>\n",
       "<path fill=\"none\" stroke=\"#000000\" d=\"M43.9237,-49.2238C59.1082,-72.5183 88.244,-117.2152 106.311,-144.9316\"/>\n",
       "<polygon fill=\"#000000\" stroke=\"#000000\" points=\"103.5847,-147.1586 111.9776,-153.6247 109.4488,-143.3361 103.5847,-147.1586\"/>\n",
       "</g>\n",
       "<!-- x[3]&#45;&gt;h2 -->\n",
       "<g id=\"edge12\" class=\"edge\">\n",
       "<title>x[3]&#45;&gt;h2</title>\n",
       "<path fill=\"none\" stroke=\"#000000\" d=\"M47.3653,-46.3022C61.5794,-59.3856 84.2611,-80.2631 100.8935,-95.5724\"/>\n",
       "<polygon fill=\"#000000\" stroke=\"#000000\" points=\"98.7809,-98.3848 108.5089,-102.5821 103.5216,-93.2345 98.7809,-98.3848\"/>\n",
       "</g>\n",
       "<!-- y -->\n",
       "<g id=\"node8\" class=\"node\">\n",
       "<title>y</title>\n",
       "<ellipse fill=\"none\" stroke=\"#000000\" cx=\"210\" cy=\"-115\" rx=\"18\" ry=\"18\"/>\n",
       "<text text-anchor=\"middle\" x=\"210\" y=\"-111.3\" font-family=\"Times,serif\" font-size=\"14.00\" fill=\"#000000\">y</text>\n",
       "</g>\n",
       "<!-- h0&#45;&gt;y -->\n",
       "<g id=\"edge13\" class=\"edge\">\n",
       "<title>h0&#45;&gt;y</title>\n",
       "<path fill=\"none\" stroke=\"#000000\" d=\"M137.7326,-70.6541C150.9973,-78.7938 170.2058,-90.5808 185.4857,-99.9571\"/>\n",
       "<polygon fill=\"#000000\" stroke=\"#000000\" points=\"184.0498,-103.1824 194.4036,-105.4295 187.7109,-97.2161 184.0498,-103.1824\"/>\n",
       "</g>\n",
       "<!-- h1&#45;&gt;y -->\n",
       "<g id=\"edge14\" class=\"edge\">\n",
       "<title>h1&#45;&gt;y</title>\n",
       "<path fill=\"none\" stroke=\"#000000\" d=\"M137.7326,-159.3459C150.9973,-151.2062 170.2058,-139.4192 185.4857,-130.0429\"/>\n",
       "<polygon fill=\"#000000\" stroke=\"#000000\" points=\"187.7109,-132.7839 194.4036,-124.5705 184.0498,-126.8176 187.7109,-132.7839\"/>\n",
       "</g>\n",
       "<!-- h2&#45;&gt;y -->\n",
       "<g id=\"edge15\" class=\"edge\">\n",
       "<title>h2&#45;&gt;y</title>\n",
       "<path fill=\"none\" stroke=\"#000000\" d=\"M140.2337,-115C152.1508,-115 167.9616,-115 181.5183,-115\"/>\n",
       "<polygon fill=\"#000000\" stroke=\"#000000\" points=\"181.7897,-118.5001 191.7897,-115 181.7897,-111.5001 181.7897,-118.5001\"/>\n",
       "</g>\n",
       "</g>\n",
       "</svg>\n"
      ],
      "text/plain": [
       "<graphviz.dot.Digraph at 0x7f1725fb49b0>"
      ]
     },
     "execution_count": 27,
     "metadata": {},
     "output_type": "execute_result"
    }
   ],
   "source": [
    "mglearn.plots.plot_single_hidden_layer_graph()"
   ]
  },
  {
   "cell_type": "markdown",
   "metadata": {},
   "source": [
    "This is a MLP with a single hidden layer\n",
    "\n",
    "This is a Simple NN\n",
    "\n",
    "A NN with multiple HL is called a **Deep Neural Network**\n",
    "\n"
   ]
  },
  {
   "cell_type": "code",
   "execution_count": 28,
   "metadata": {},
   "outputs": [
    {
     "data": {
      "image/svg+xml": [
       "<?xml version=\"1.0\" encoding=\"UTF-8\" standalone=\"no\"?>\n",
       "<!DOCTYPE svg PUBLIC \"-//W3C//DTD SVG 1.1//EN\"\n",
       " \"http://www.w3.org/Graphics/SVG/1.1/DTD/svg11.dtd\">\n",
       "<!-- Generated by graphviz version 2.40.1 (20161225.0304)\n",
       " -->\n",
       "<!-- Title: %3 Pages: 1 -->\n",
       "<svg width=\"378pt\" height=\"261pt\"\n",
       " viewBox=\"0.00 0.00 378.00 261.00\" xmlns=\"http://www.w3.org/2000/svg\" xmlns:xlink=\"http://www.w3.org/1999/xlink\">\n",
       "<g id=\"graph0\" class=\"graph\" transform=\"scale(1 1) rotate(0) translate(4 257)\">\n",
       "<title>%3</title>\n",
       "<polygon fill=\"#ffffff\" stroke=\"transparent\" points=\"-4,4 -4,-257 374,-257 374,4 -4,4\"/>\n",
       "<g id=\"clust1\" class=\"cluster\">\n",
       "<title>cluster_0</title>\n",
       "<polygon fill=\"none\" stroke=\"#ffffff\" points=\"8,-8 8,-245 60,-245 60,-8 8,-8\"/>\n",
       "<text text-anchor=\"middle\" x=\"34\" y=\"-229.8\" font-family=\"Times,serif\" font-size=\"14.00\" fill=\"#000000\">inputs</text>\n",
       "</g>\n",
       "<g id=\"clust2\" class=\"cluster\">\n",
       "<title>cluster_1</title>\n",
       "<polygon fill=\"none\" stroke=\"#ffffff\" points=\"80,-35 80,-218 175,-218 175,-35 80,-35\"/>\n",
       "<text text-anchor=\"middle\" x=\"127.5\" y=\"-202.8\" font-family=\"Times,serif\" font-size=\"14.00\" fill=\"#000000\">hidden layer 1</text>\n",
       "</g>\n",
       "<g id=\"clust3\" class=\"cluster\">\n",
       "<title>cluster_2</title>\n",
       "<polygon fill=\"none\" stroke=\"#ffffff\" points=\"195,-35 195,-218 290,-218 290,-35 195,-35\"/>\n",
       "<text text-anchor=\"middle\" x=\"242.5\" y=\"-202.8\" font-family=\"Times,serif\" font-size=\"14.00\" fill=\"#000000\">hidden layer 2</text>\n",
       "</g>\n",
       "<g id=\"clust4\" class=\"cluster\">\n",
       "<title>cluster_3</title>\n",
       "<polygon fill=\"none\" stroke=\"#ffffff\" points=\"310,-89 310,-164 362,-164 362,-89 310,-89\"/>\n",
       "<text text-anchor=\"middle\" x=\"336\" y=\"-148.8\" font-family=\"Times,serif\" font-size=\"14.00\" fill=\"#000000\">output</text>\n",
       "</g>\n",
       "<!-- x[0] -->\n",
       "<g id=\"node1\" class=\"node\">\n",
       "<title>x[0]</title>\n",
       "<ellipse fill=\"none\" stroke=\"#000000\" cx=\"34\" cy=\"-196\" rx=\"18\" ry=\"18\"/>\n",
       "<text text-anchor=\"middle\" x=\"34\" y=\"-192.3\" font-family=\"Times,serif\" font-size=\"14.00\" fill=\"#000000\">x[0]</text>\n",
       "</g>\n",
       "<!-- h1[0] -->\n",
       "<g id=\"node5\" class=\"node\">\n",
       "<title>h1[0]</title>\n",
       "<ellipse fill=\"none\" stroke=\"#000000\" cx=\"127\" cy=\"-61\" rx=\"18\" ry=\"18\"/>\n",
       "<text text-anchor=\"middle\" x=\"127\" y=\"-57.3\" font-family=\"Times,serif\" font-size=\"14.00\" fill=\"#000000\">h1[0]</text>\n",
       "</g>\n",
       "<!-- x[0]&#45;&gt;h1[0] -->\n",
       "<g id=\"edge1\" class=\"edge\">\n",
       "<title>x[0]&#45;&gt;h1[0]</title>\n",
       "<path fill=\"none\" stroke=\"#000000\" d=\"M44.308,-181.0368C60.4387,-157.6212 91.7762,-112.1314 110.9005,-84.3702\"/>\n",
       "<polygon fill=\"#000000\" stroke=\"#000000\" points=\"113.8551,-86.2509 116.6459,-76.0302 108.0905,-82.2797 113.8551,-86.2509\"/>\n",
       "</g>\n",
       "<!-- h1[1] -->\n",
       "<g id=\"node6\" class=\"node\">\n",
       "<title>h1[1]</title>\n",
       "<ellipse fill=\"none\" stroke=\"#000000\" cx=\"127\" cy=\"-169\" rx=\"18\" ry=\"18\"/>\n",
       "<text text-anchor=\"middle\" x=\"127\" y=\"-165.3\" font-family=\"Times,serif\" font-size=\"14.00\" fill=\"#000000\">h1[1]</text>\n",
       "</g>\n",
       "<!-- x[0]&#45;&gt;h1[1] -->\n",
       "<g id=\"edge2\" class=\"edge\">\n",
       "<title>x[0]&#45;&gt;h1[1]</title>\n",
       "<path fill=\"none\" stroke=\"#000000\" d=\"M51.4926,-190.9215C65.1319,-186.9617 84.3149,-181.3924 99.9321,-176.8584\"/>\n",
       "<polygon fill=\"#000000\" stroke=\"#000000\" points=\"100.9582,-180.2051 109.5858,-174.0557 99.0065,-173.4827 100.9582,-180.2051\"/>\n",
       "</g>\n",
       "<!-- h1[2] -->\n",
       "<g id=\"node7\" class=\"node\">\n",
       "<title>h1[2]</title>\n",
       "<ellipse fill=\"none\" stroke=\"#000000\" cx=\"127\" cy=\"-115\" rx=\"18\" ry=\"18\"/>\n",
       "<text text-anchor=\"middle\" x=\"127\" y=\"-111.3\" font-family=\"Times,serif\" font-size=\"14.00\" fill=\"#000000\">h1[2]</text>\n",
       "</g>\n",
       "<!-- x[0]&#45;&gt;h1[2] -->\n",
       "<g id=\"edge3\" class=\"edge\">\n",
       "<title>x[0]&#45;&gt;h1[2]</title>\n",
       "<path fill=\"none\" stroke=\"#000000\" d=\"M47.7225,-184.0482C62.9704,-170.7677 87.7855,-149.1546 105.5924,-133.6453\"/>\n",
       "<polygon fill=\"#000000\" stroke=\"#000000\" points=\"107.9791,-136.208 113.2212,-127.0009 103.3816,-130.9294 107.9791,-136.208\"/>\n",
       "</g>\n",
       "<!-- x[1] -->\n",
       "<g id=\"node2\" class=\"node\">\n",
       "<title>x[1]</title>\n",
       "<ellipse fill=\"none\" stroke=\"#000000\" cx=\"34\" cy=\"-142\" rx=\"18\" ry=\"18\"/>\n",
       "<text text-anchor=\"middle\" x=\"34\" y=\"-138.3\" font-family=\"Times,serif\" font-size=\"14.00\" fill=\"#000000\">x[1]</text>\n",
       "</g>\n",
       "<!-- x[1]&#45;&gt;h1[0] -->\n",
       "<g id=\"edge4\" class=\"edge\">\n",
       "<title>x[1]&#45;&gt;h1[0]</title>\n",
       "<path fill=\"none\" stroke=\"#000000\" d=\"M47.7225,-130.0482C62.9704,-116.7677 87.7855,-95.1546 105.5924,-79.6453\"/>\n",
       "<polygon fill=\"#000000\" stroke=\"#000000\" points=\"107.9791,-82.208 113.2212,-73.0009 103.3816,-76.9294 107.9791,-82.208\"/>\n",
       "</g>\n",
       "<!-- x[1]&#45;&gt;h1[1] -->\n",
       "<g id=\"edge5\" class=\"edge\">\n",
       "<title>x[1]&#45;&gt;h1[1]</title>\n",
       "<path fill=\"none\" stroke=\"#000000\" d=\"M51.4926,-147.0785C65.1319,-151.0383 84.3149,-156.6076 99.9321,-161.1416\"/>\n",
       "<polygon fill=\"#000000\" stroke=\"#000000\" points=\"99.0065,-164.5173 109.5858,-163.9443 100.9582,-157.7949 99.0065,-164.5173\"/>\n",
       "</g>\n",
       "<!-- x[1]&#45;&gt;h1[2] -->\n",
       "<g id=\"edge6\" class=\"edge\">\n",
       "<title>x[1]&#45;&gt;h1[2]</title>\n",
       "<path fill=\"none\" stroke=\"#000000\" d=\"M51.4926,-136.9215C65.1319,-132.9617 84.3149,-127.3924 99.9321,-122.8584\"/>\n",
       "<polygon fill=\"#000000\" stroke=\"#000000\" points=\"100.9582,-126.2051 109.5858,-120.0557 99.0065,-119.4827 100.9582,-126.2051\"/>\n",
       "</g>\n",
       "<!-- x[2] -->\n",
       "<g id=\"node3\" class=\"node\">\n",
       "<title>x[2]</title>\n",
       "<ellipse fill=\"none\" stroke=\"#000000\" cx=\"34\" cy=\"-88\" rx=\"18\" ry=\"18\"/>\n",
       "<text text-anchor=\"middle\" x=\"34\" y=\"-84.3\" font-family=\"Times,serif\" font-size=\"14.00\" fill=\"#000000\">x[2]</text>\n",
       "</g>\n",
       "<!-- x[2]&#45;&gt;h1[0] -->\n",
       "<g id=\"edge7\" class=\"edge\">\n",
       "<title>x[2]&#45;&gt;h1[0]</title>\n",
       "<path fill=\"none\" stroke=\"#000000\" d=\"M51.4926,-82.9215C65.1319,-78.9617 84.3149,-73.3924 99.9321,-68.8584\"/>\n",
       "<polygon fill=\"#000000\" stroke=\"#000000\" points=\"100.9582,-72.2051 109.5858,-66.0557 99.0065,-65.4827 100.9582,-72.2051\"/>\n",
       "</g>\n",
       "<!-- x[2]&#45;&gt;h1[1] -->\n",
       "<g id=\"edge8\" class=\"edge\">\n",
       "<title>x[2]&#45;&gt;h1[1]</title>\n",
       "<path fill=\"none\" stroke=\"#000000\" d=\"M47.7225,-99.9518C62.9704,-113.2323 87.7855,-134.8454 105.5924,-150.3547\"/>\n",
       "<polygon fill=\"#000000\" stroke=\"#000000\" points=\"103.3816,-153.0706 113.2212,-156.9991 107.9791,-147.792 103.3816,-153.0706\"/>\n",
       "</g>\n",
       "<!-- x[2]&#45;&gt;h1[2] -->\n",
       "<g id=\"edge9\" class=\"edge\">\n",
       "<title>x[2]&#45;&gt;h1[2]</title>\n",
       "<path fill=\"none\" stroke=\"#000000\" d=\"M51.4926,-93.0785C65.1319,-97.0383 84.3149,-102.6076 99.9321,-107.1416\"/>\n",
       "<polygon fill=\"#000000\" stroke=\"#000000\" points=\"99.0065,-110.5173 109.5858,-109.9443 100.9582,-103.7949 99.0065,-110.5173\"/>\n",
       "</g>\n",
       "<!-- x[3] -->\n",
       "<g id=\"node4\" class=\"node\">\n",
       "<title>x[3]</title>\n",
       "<ellipse fill=\"none\" stroke=\"#000000\" cx=\"34\" cy=\"-34\" rx=\"18\" ry=\"18\"/>\n",
       "<text text-anchor=\"middle\" x=\"34\" y=\"-30.3\" font-family=\"Times,serif\" font-size=\"14.00\" fill=\"#000000\">x[3]</text>\n",
       "</g>\n",
       "<!-- x[3]&#45;&gt;h1[0] -->\n",
       "<g id=\"edge10\" class=\"edge\">\n",
       "<title>x[3]&#45;&gt;h1[0]</title>\n",
       "<path fill=\"none\" stroke=\"#000000\" d=\"M51.4926,-39.0785C65.1319,-43.0383 84.3149,-48.6076 99.9321,-53.1416\"/>\n",
       "<polygon fill=\"#000000\" stroke=\"#000000\" points=\"99.0065,-56.5173 109.5858,-55.9443 100.9582,-49.7949 99.0065,-56.5173\"/>\n",
       "</g>\n",
       "<!-- x[3]&#45;&gt;h1[1] -->\n",
       "<g id=\"edge11\" class=\"edge\">\n",
       "<title>x[3]&#45;&gt;h1[1]</title>\n",
       "<path fill=\"none\" stroke=\"#000000\" d=\"M44.308,-48.9632C60.4387,-72.3788 91.7762,-117.8686 110.9005,-145.6298\"/>\n",
       "<polygon fill=\"#000000\" stroke=\"#000000\" points=\"108.0905,-147.7203 116.6459,-153.9698 113.8551,-143.7491 108.0905,-147.7203\"/>\n",
       "</g>\n",
       "<!-- x[3]&#45;&gt;h1[2] -->\n",
       "<g id=\"edge12\" class=\"edge\">\n",
       "<title>x[3]&#45;&gt;h1[2]</title>\n",
       "<path fill=\"none\" stroke=\"#000000\" d=\"M47.7225,-45.9518C62.9704,-59.2323 87.7855,-80.8454 105.5924,-96.3547\"/>\n",
       "<polygon fill=\"#000000\" stroke=\"#000000\" points=\"103.3816,-99.0706 113.2212,-102.9991 107.9791,-93.792 103.3816,-99.0706\"/>\n",
       "</g>\n",
       "<!-- h2[0] -->\n",
       "<g id=\"node8\" class=\"node\">\n",
       "<title>h2[0]</title>\n",
       "<ellipse fill=\"none\" stroke=\"#000000\" cx=\"242\" cy=\"-61\" rx=\"18\" ry=\"18\"/>\n",
       "<text text-anchor=\"middle\" x=\"242\" y=\"-57.3\" font-family=\"Times,serif\" font-size=\"14.00\" fill=\"#000000\">h2[0]</text>\n",
       "</g>\n",
       "<!-- h1[0]&#45;&gt;h2[0] -->\n",
       "<g id=\"edge13\" class=\"edge\">\n",
       "<title>h1[0]&#45;&gt;h2[0]</title>\n",
       "<path fill=\"none\" stroke=\"#000000\" d=\"M145.2221,-61C163.6433,-61 192.3671,-61 213.7431,-61\"/>\n",
       "<polygon fill=\"#000000\" stroke=\"#000000\" points=\"213.8632,-64.5001 223.8632,-61 213.8631,-57.5001 213.8632,-64.5001\"/>\n",
       "</g>\n",
       "<!-- h2[1] -->\n",
       "<g id=\"node9\" class=\"node\">\n",
       "<title>h2[1]</title>\n",
       "<ellipse fill=\"none\" stroke=\"#000000\" cx=\"242\" cy=\"-169\" rx=\"18\" ry=\"18\"/>\n",
       "<text text-anchor=\"middle\" x=\"242\" y=\"-165.3\" font-family=\"Times,serif\" font-size=\"14.00\" fill=\"#000000\">h2[1]</text>\n",
       "</g>\n",
       "<!-- h1[0]&#45;&gt;h2[1] -->\n",
       "<g id=\"edge14\" class=\"edge\">\n",
       "<title>h1[0]&#45;&gt;h2[1]</title>\n",
       "<path fill=\"none\" stroke=\"#000000\" d=\"M140.192,-73.389C160.0161,-92.0064 197.669,-127.3674 221.211,-149.4764\"/>\n",
       "<polygon fill=\"#000000\" stroke=\"#000000\" points=\"218.9222,-152.1284 228.6077,-156.4228 223.7142,-147.0258 218.9222,-152.1284\"/>\n",
       "</g>\n",
       "<!-- h2[2] -->\n",
       "<g id=\"node10\" class=\"node\">\n",
       "<title>h2[2]</title>\n",
       "<ellipse fill=\"none\" stroke=\"#000000\" cx=\"242\" cy=\"-115\" rx=\"18\" ry=\"18\"/>\n",
       "<text text-anchor=\"middle\" x=\"242\" y=\"-111.3\" font-family=\"Times,serif\" font-size=\"14.00\" fill=\"#000000\">h2[2]</text>\n",
       "</g>\n",
       "<!-- h1[0]&#45;&gt;h2[2] -->\n",
       "<g id=\"edge15\" class=\"edge\">\n",
       "<title>h1[0]&#45;&gt;h2[2]</title>\n",
       "<path fill=\"none\" stroke=\"#000000\" d=\"M143.4767,-68.7369C162.5201,-77.679 194.0899,-92.5031 216.3526,-102.9569\"/>\n",
       "<polygon fill=\"#000000\" stroke=\"#000000\" points=\"215.0145,-106.1951 225.5539,-107.2775 217.9898,-99.8589 215.0145,-106.1951\"/>\n",
       "</g>\n",
       "<!-- h1[1]&#45;&gt;h2[0] -->\n",
       "<g id=\"edge16\" class=\"edge\">\n",
       "<title>h1[1]&#45;&gt;h2[0]</title>\n",
       "<path fill=\"none\" stroke=\"#000000\" d=\"M140.192,-156.611C160.0161,-137.9936 197.669,-102.6326 221.211,-80.5236\"/>\n",
       "<polygon fill=\"#000000\" stroke=\"#000000\" points=\"223.7142,-82.9742 228.6077,-73.5772 218.9222,-77.8716 223.7142,-82.9742\"/>\n",
       "</g>\n",
       "<!-- h1[1]&#45;&gt;h2[1] -->\n",
       "<g id=\"edge17\" class=\"edge\">\n",
       "<title>h1[1]&#45;&gt;h2[1]</title>\n",
       "<path fill=\"none\" stroke=\"#000000\" d=\"M145.2221,-169C163.6433,-169 192.3671,-169 213.7431,-169\"/>\n",
       "<polygon fill=\"#000000\" stroke=\"#000000\" points=\"213.8632,-172.5001 223.8632,-169 213.8631,-165.5001 213.8632,-172.5001\"/>\n",
       "</g>\n",
       "<!-- h1[1]&#45;&gt;h2[2] -->\n",
       "<g id=\"edge18\" class=\"edge\">\n",
       "<title>h1[1]&#45;&gt;h2[2]</title>\n",
       "<path fill=\"none\" stroke=\"#000000\" d=\"M143.4767,-161.2631C162.5201,-152.321 194.0899,-137.4969 216.3526,-127.0431\"/>\n",
       "<polygon fill=\"#000000\" stroke=\"#000000\" points=\"217.9898,-130.1411 225.5539,-122.7225 215.0145,-123.8049 217.9898,-130.1411\"/>\n",
       "</g>\n",
       "<!-- h1[2]&#45;&gt;h2[0] -->\n",
       "<g id=\"edge19\" class=\"edge\">\n",
       "<title>h1[2]&#45;&gt;h2[0]</title>\n",
       "<path fill=\"none\" stroke=\"#000000\" d=\"M143.4767,-107.2631C162.5201,-98.321 194.0899,-83.4969 216.3526,-73.0431\"/>\n",
       "<polygon fill=\"#000000\" stroke=\"#000000\" points=\"217.9898,-76.1411 225.5539,-68.7225 215.0145,-69.8049 217.9898,-76.1411\"/>\n",
       "</g>\n",
       "<!-- h1[2]&#45;&gt;h2[1] -->\n",
       "<g id=\"edge20\" class=\"edge\">\n",
       "<title>h1[2]&#45;&gt;h2[1]</title>\n",
       "<path fill=\"none\" stroke=\"#000000\" d=\"M143.4767,-122.7369C162.5201,-131.679 194.0899,-146.5031 216.3526,-156.9569\"/>\n",
       "<polygon fill=\"#000000\" stroke=\"#000000\" points=\"215.0145,-160.1951 225.5539,-161.2775 217.9898,-153.8589 215.0145,-160.1951\"/>\n",
       "</g>\n",
       "<!-- h1[2]&#45;&gt;h2[2] -->\n",
       "<g id=\"edge21\" class=\"edge\">\n",
       "<title>h1[2]&#45;&gt;h2[2]</title>\n",
       "<path fill=\"none\" stroke=\"#000000\" d=\"M145.2221,-115C163.6433,-115 192.3671,-115 213.7431,-115\"/>\n",
       "<polygon fill=\"#000000\" stroke=\"#000000\" points=\"213.8632,-118.5001 223.8632,-115 213.8631,-111.5001 213.8632,-118.5001\"/>\n",
       "</g>\n",
       "<!-- y -->\n",
       "<g id=\"node11\" class=\"node\">\n",
       "<title>y</title>\n",
       "<ellipse fill=\"none\" stroke=\"#000000\" cx=\"336\" cy=\"-115\" rx=\"18\" ry=\"18\"/>\n",
       "<text text-anchor=\"middle\" x=\"336\" y=\"-111.3\" font-family=\"Times,serif\" font-size=\"14.00\" fill=\"#000000\">y</text>\n",
       "</g>\n",
       "<!-- h2[0]&#45;&gt;y -->\n",
       "<g id=\"edge22\" class=\"edge\">\n",
       "<title>h2[0]&#45;&gt;y</title>\n",
       "<path fill=\"none\" stroke=\"#000000\" d=\"M257.9458,-70.1604C272.6188,-78.5895 294.6007,-91.2174 311.5017,-100.9265\"/>\n",
       "<polygon fill=\"#000000\" stroke=\"#000000\" points=\"309.8752,-104.0285 320.2897,-105.9749 313.3621,-97.9588 309.8752,-104.0285\"/>\n",
       "</g>\n",
       "<!-- h2[1]&#45;&gt;y -->\n",
       "<g id=\"edge23\" class=\"edge\">\n",
       "<title>h2[1]&#45;&gt;y</title>\n",
       "<path fill=\"none\" stroke=\"#000000\" d=\"M257.9458,-159.8396C272.6188,-151.4105 294.6007,-138.7826 311.5017,-129.0735\"/>\n",
       "<polygon fill=\"#000000\" stroke=\"#000000\" points=\"313.3621,-132.0412 320.2897,-124.0251 309.8752,-125.9715 313.3621,-132.0412\"/>\n",
       "</g>\n",
       "<!-- h2[2]&#45;&gt;y -->\n",
       "<g id=\"edge24\" class=\"edge\">\n",
       "<title>h2[2]&#45;&gt;y</title>\n",
       "<path fill=\"none\" stroke=\"#000000\" d=\"M260.1241,-115C273.6484,-115 292.3808,-115 307.8486,-115\"/>\n",
       "<polygon fill=\"#000000\" stroke=\"#000000\" points=\"307.9315,-118.5001 317.9315,-115 307.9315,-111.5001 307.9315,-118.5001\"/>\n",
       "</g>\n",
       "</g>\n",
       "</svg>\n"
      ],
      "text/plain": [
       "<graphviz.dot.Digraph at 0x7f1725ac3438>"
      ]
     },
     "execution_count": 28,
     "metadata": {},
     "output_type": "execute_result"
    }
   ],
   "source": [
    "mglearn.plots.plot_two_hidden_layer_graph()"
   ]
  },
  {
   "cell_type": "markdown",
   "metadata": {},
   "source": [
    "** What differenciates NN from Linear Models is that once we compute a weighted sum for a hidden unit, we are going to apply a non linear function to the result**\n",
    "\n",
    "2 most applied functions are: RELU and TANH\n",
    "\n",
    "RELU : Rectified Linear Unit\n",
    "\n",
    "The result is used to calculate the output, y\n",
    "\n",
    "Applying these non linear functions makes the NN capable of more complicated computations"
   ]
  },
  {
   "cell_type": "markdown",
   "metadata": {},
   "source": [
    "#### Train a NN on cancer dataset"
   ]
  },
  {
   "cell_type": "code",
   "execution_count": 29,
   "metadata": {},
   "outputs": [
    {
     "name": "stdout",
     "output_type": "stream",
     "text": [
      "Accuracy of MLP on the training set: 90.61 %\n",
      "Accuracy of MLP on the test set: 88.11 %\n"
     ]
    }
   ],
   "source": [
    "from sklearn.neural_network import MLPClassifier\n",
    "\n",
    "cancer = load_breast_cancer()\n",
    "\n",
    "x_train, x_test, y_train, y_test = train_test_split(cancer.data, cancer.target, random_state = 0)\n",
    "\n",
    "mlp = MLPClassifier(random_state = 42)\n",
    "\n",
    "mlp.fit(x_train, y_train)\n",
    "\n",
    "print (\"Accuracy of MLP on the training set: {:.2f} %\".format(mlp.score(x_train,y_train)*100))\n",
    "\n",
    "print (\"Accuracy of MLP on the test set: {:.2f} %\".format(mlp.score(x_test,y_test)*100))"
   ]
  },
  {
   "cell_type": "markdown",
   "metadata": {},
   "source": [
    "Accuracy is pretty low!\n",
    "\n",
    "This may be due to scaling of data\n",
    "\n"
   ]
  },
  {
   "cell_type": "markdown",
   "metadata": {},
   "source": [
    "#### Improving performance\n",
    "\n",
    "Let's look at the upper limit of each feature\n"
   ]
  },
  {
   "cell_type": "code",
   "execution_count": 30,
   "metadata": {},
   "outputs": [
    {
     "name": "stdout",
     "output_type": "stream",
     "text": [
      "The max each feature: [  2.81100000e+01   3.92800000e+01   1.88500000e+02   2.50100000e+03\n",
      "   1.63400000e-01   3.45400000e-01   4.26800000e-01   2.01200000e-01\n",
      "   3.04000000e-01   9.74400000e-02   2.87300000e+00   4.88500000e+00\n",
      "   2.19800000e+01   5.42200000e+02   3.11300000e-02   1.35400000e-01\n",
      "   3.96000000e-01   5.27900000e-02   7.89500000e-02   2.98400000e-02\n",
      "   3.60400000e+01   4.95400000e+01   2.51200000e+02   4.25400000e+03\n",
      "   2.22600000e-01   1.05800000e+00   1.25200000e+00   2.91000000e-01\n",
      "   6.63800000e-01   2.07500000e-01]\n"
     ]
    }
   ],
   "source": [
    "print (\"The max each feature: {}\".format(cancer.data.max(axis=0)))"
   ]
  },
  {
   "cell_type": "markdown",
   "metadata": {},
   "source": [
    "We have to scale these features to improve our performance\n",
    "\n",
    "**Features should have zero mean and unit variance**\n",
    "\n",
    "We can use the standard scalar class from sklearn preprocessing module for this\n",
    "\n",
    "We have to only scale the x data as the y data has only 0 and 1 so no need of scaling\n",
    "\n",
    "Max iteration no: by default it is 200, but it is not enough to reach convergence"
   ]
  },
  {
   "cell_type": "code",
   "execution_count": 31,
   "metadata": {},
   "outputs": [
    {
     "name": "stdout",
     "output_type": "stream",
     "text": [
      "Accuracy of MLP on the training set: 99.53 %\n",
      "Accuracy of MLP on the test set: 95.80 %\n"
     ]
    }
   ],
   "source": [
    "from sklearn.preprocessing import StandardScaler\n",
    "\n",
    "scalar = StandardScaler()\n",
    "\n",
    "x_train_scaled = scalar.fit(x_train).transform(x_train)\n",
    "\n",
    "x_test_scaled = scalar.fit(x_test).transform(x_test)\n",
    "\n",
    "mlp = MLPClassifier(max_iter=1000, random_state=42)\n",
    "mlp.fit(x_train_scaled, y_train)\n",
    "\n",
    "print (\"Accuracy of MLP on the training set: {:.2f} %\".format(mlp.score(x_train_scaled, y_train)*100))\n",
    "\n",
    "print (\"Accuracy of MLP on the test set: {:.2f} %\".format(mlp.score(x_test_scaled, y_test)*100))"
   ]
  },
  {
   "cell_type": "markdown",
   "metadata": {},
   "source": [
    "Can we improve performance more?"
   ]
  },
  {
   "cell_type": "code",
   "execution_count": 32,
   "metadata": {},
   "outputs": [
    {
     "data": {
      "text/plain": [
       "MLPClassifier(activation='relu', alpha=0.0001, batch_size='auto', beta_1=0.9,\n",
       "       beta_2=0.999, early_stopping=False, epsilon=1e-08,\n",
       "       hidden_layer_sizes=(100,), learning_rate='constant',\n",
       "       learning_rate_init=0.001, max_iter=1000, momentum=0.9,\n",
       "       nesterovs_momentum=True, power_t=0.5, random_state=42, shuffle=True,\n",
       "       solver='adam', tol=0.0001, validation_fraction=0.1, verbose=False,\n",
       "       warm_start=False)"
      ]
     },
     "execution_count": 32,
     "metadata": {},
     "output_type": "execute_result"
    }
   ],
   "source": [
    "mlp"
   ]
  },
  {
   "cell_type": "markdown",
   "metadata": {},
   "source": [
    "There are so many params\n",
    "\n",
    "for eg, there is solver='adam' for the optimization of weights\n",
    "\n",
    "adam is default.There is SGD: Stochastic Gradient Descent\n",
    "\n",
    "We can change no of hidden layers\n",
    "\n",
    "activation function: we can shift bw relu and tanh\n",
    "\n",
    "alpha is the Strength of Regularization"
   ]
  },
  {
   "cell_type": "code",
   "execution_count": 33,
   "metadata": {},
   "outputs": [
    {
     "name": "stdout",
     "output_type": "stream",
     "text": [
      "Accuracy of MLP on the training set: 98.83 %\n",
      "Accuracy of MLP on the test set: 97.20 %\n"
     ]
    }
   ],
   "source": [
    "mlp = MLPClassifier(max_iter=1000, alpha=1, random_state=42)\n",
    "\n",
    "mlp.fit(x_train_scaled, y_train)\n",
    "\n",
    "print (\"Accuracy of MLP on the training set: {:.2f} %\".format(mlp.score(x_train_scaled, y_train)*100))\n",
    "\n",
    "print (\"Accuracy of MLP on the test set: {:.2f} %\".format(mlp.score(x_test_scaled, y_test)*100))"
   ]
  },
  {
   "cell_type": "markdown",
   "metadata": {},
   "source": [
    "    We dec that gap bw test and train accuracy\n",
    "    accuracy also inc\n",
    "    Thus performance is better\n",
    "    \n",
    "#### Visualize Learning Process for NN"
   ]
  },
  {
   "cell_type": "code",
   "execution_count": 34,
   "metadata": {},
   "outputs": [
    {
     "data": {
      "text/plain": [
       "<matplotlib.colorbar.Colorbar at 0x7f17253817b8>"
      ]
     },
     "execution_count": 34,
     "metadata": {},
     "output_type": "execute_result"
    },
    {
     "data": {
      "image/png": "[encoded data removed]",
      "text/plain": [
       "<matplotlib.figure.Figure at 0x7f1725465278>"
      ]
     },
     "metadata": {},
     "output_type": "display_data"
    }
   ],
   "source": [
    "plt.figure(figsize=(20,5))\n",
    "\n",
    "plt.imshow(mlp.coefs_[0], interpolation='None', cmap='GnBu')\n",
    "plt.yticks(range(30), cancer.feature_names)\n",
    "plt.xlabel('Columns in weight matrix')\n",
    "plt.ylabel('Input feature')\n",
    "plt.colorbar()"
   ]
  },
  {
   "cell_type": "markdown",
   "metadata": {},
   "source": [
    "Rows : 30 ip features\n",
    "\n",
    "Cols: no of hidden units (100 in this case)\n",
    "\n",
    "Features with v small wts across hidden units may be less imp\n",
    "\n",
    "Bw smoothness error and fractal dimension error, these look like they dont play such an imp role in decsison making\n",
    "\n",
    "Similar for mean smoothness and mean compactness"
   ]
  },
  {
   "cell_type": "markdown",
   "metadata": {},
   "source": [
    "#### Advantages\n",
    "\n",
    "- can be used to build very complex models over large datasets\n",
    "- if u have high computaion power and time, good models can be built\n",
    "- many parameters are available for tuning\n",
    "\n",
    "#### Weaknesses\n",
    "\n",
    "- many more params for tuning, some more complicated\n",
    "- pre processing of data may be reqd. Especially if we use solver like 'adam' which is the default\n",
    "- some solvers are scale sensitive"
   ]
  },
  {
   "cell_type": "markdown",
   "metadata": {},
   "source": [
    "### Support Vector Machines (SVM)\n",
    "\n",
    "- for classification and regression (SVC and SVR)\n",
    "- can be applied to linear and non linear data\n",
    "- looks for the best separating line or decision boundary\n",
    "- looks for the largest margin\n",
    "\n",
    "With LogReg we measured the dist bw all points\n",
    "\n",
    "What SVM does is look for largest margin or dist bw points on the sides of the decision lines\n",
    "\n",
    "These are Support Vectors\n",
    "\n",
    "\n",
    "![](https://github.com/CristiVlad25/ml-sklearn/raw/cb2efc99a811421319a78bbb385fe0343e9990ed/SVM.png)\n",
    "\n",
    "D1 could be a decision boundary for the 2 classes\n",
    "\n",
    "But in thsi case D2 is the optimal choic since it maximises the dist bw the 2 closes class points\n",
    "\n",
    "The idea is that the decision line to stay as far as possible from the training instances\n",
    "\n",
    " [**Understand SVM better**](https://www.analyticsvidhya.com/blog/2017/09/understaing-support-vector-machine-example-code/)\n",
    " \n",
    "SVMs can also be trained on non linear data\n",
    "\n",
    "When we use SVM on non linear data we are leveraging on a strategy called the **Kernel Trick**\n",
    "\n",
    "#### Kernel Trick\n",
    "\n",
    "Non Linear Classification: Data which is not separable by a st line\n",
    "\n",
    "For eg:\n",
    "\n",
    "![](https://www.analyticsvidhya.com/wp-content/uploads/2015/10/SVM_8.png)\n",
    "\n",
    "![](https://github.com/CristiVlad25/ml-sklearn/raw/cb2efc99a811421319a78bbb385fe0343e9990ed/SVM2.png)\n",
    "\n",
    "Here we have just one feature (x1) in the 1st graph\n",
    "\n",
    "The data is not linearly separable\n",
    "\n",
    "If we add another feature x2 = x1^2 the data becomes linearly separable\n",
    "\n",
    "We can use this for low complexity smaller datasets and we can apply a low polynomial degree\n",
    "\n",
    "But when data becomes more complex and higher dimensional, that is when we can use a kernel\n",
    "\n",
    "Kernel adds multiple polynomial features of very high degree without actually having to add them\n",
    "\n",
    "In this way, we avoid computational complexity or burden that comes along with adding multiple features to the data\n",
    "\n",
    "So its called a trick\n",
    "\n",
    "- The Kernel Trick twists or warps the space in which our data is\n",
    "- By doing this the algo is able to find a linear separation for the data\n",
    "- Linear separation is within the warped space\n",
    "- This linear sep becomes non linear when transposed or applied to the original non warped space\n",
    "- Using kernels allows us to apply some sort of transformation to our data to change original ip space to a higher dimensional space in which we are able to find a linear separation for the data\n",
    "- Then we take that to original space in which the separation becomes non linear but visible\n",
    "\n",
    "Something like this:\n",
    "\n",
    "![](https://github.com/CristiVlad25/ml-sklearn/raw/cb2efc99a811421319a78bbb385fe0343e9990ed/SVM3.png)\n",
    "\n",
    "[Kernel Trick explanation](https://www.youtube.com/watch?v=3Xw6FKYP7e4)\n",
    "\n",
    "#### Commonly Used Kernels:\n",
    "\n",
    "- linear\n",
    "- polynomial\n",
    "- radical basis function (RBF) - Gaussian RBF\n",
    "- sigmoid \n",
    "\n",
    "\n",
    "#### Udacity Kernel Trick Explanation\n",
    "\n",
    "    x1, y (non linearly sep) -------------> (Kernels)   x1,x2,x3,x4,x5 (linearly sep)\n",
    "    non linear separation    <--------------            Solution"
   ]
  },
  {
   "cell_type": "code",
   "execution_count": 35,
   "metadata": {},
   "outputs": [
    {
     "name": "stdout",
     "output_type": "stream",
     "text": [
      "Accuracy of SVM on the training set: 100.00 %\n",
      "Accuracy of SVM on the test set: 62.94 %\n"
     ]
    }
   ],
   "source": [
    "from sklearn.svm import SVC\n",
    "\n",
    "x_train, x_test, y_train, y_test = train_test_split(cancer.data, cancer.target, random_state=0)\n",
    "\n",
    "svm = SVC()\n",
    "\n",
    "svm.fit(x_train, y_train)\n",
    "\n",
    "\n",
    "print (\"Accuracy of SVM on the training set: {:.2f} %\".format(svm.score(x_train, y_train)*100))\n",
    "\n",
    "print (\"Accuracy of SVM on the test set: {:.2f} %\".format(svm.score(x_test, y_test)*100))"
   ]
  },
  {
   "cell_type": "markdown",
   "metadata": {},
   "source": [
    "    We got 100% on training subset. This means we are overfitting\n",
    "    \n",
    "    Also the performance on the test subset is not too good\n",
    "    \n",
    "Possible ways to fix:\n",
    "\n",
    "- scale the data \n",
    "- look into the Regularization Factor (C or gamma)"
   ]
  },
  {
   "cell_type": "markdown",
   "metadata": {},
   "source": [
    "#### Inspecting the features"
   ]
  },
  {
   "cell_type": "code",
   "execution_count": 36,
   "metadata": {},
   "outputs": [
    {
     "data": {
      "text/plain": [
       "<matplotlib.legend.Legend at 0x7f17252f1cc0>"
      ]
     },
     "execution_count": 36,
     "metadata": {},
     "output_type": "execute_result"
    },
    {
     "data": {
      "image/png": "[encoded data removed]",
      "text/plain": [
       "<matplotlib.figure.Figure at 0x7f17253250f0>"
      ]
     },
     "metadata": {},
     "output_type": "display_data"
    }
   ],
   "source": [
    "plt.plot(x_train.min(axis=0), 'o', label = 'Min')\n",
    "plt.plot(x_train.max(axis=0), 'v', label = \"Max\")\n",
    "plt.xlabel('Feature Index')\n",
    "plt.ylabel('Feature magnitude in log scale')\n",
    "plt.yscale('log')\n",
    "plt.legend(loc = 'upper right')"
   ]
  },
  {
   "cell_type": "markdown",
   "metadata": {},
   "source": [
    "There is variation in scale in some of the features. Let's fix this\n",
    "\n",
    "There is an order of magnitude (10^1 -> 10^2 difference) in min and max of some of the features\n",
    "\n",
    "That is not good\n"
   ]
  },
  {
   "cell_type": "code",
   "execution_count": 37,
   "metadata": {},
   "outputs": [
    {
     "name": "stdout",
     "output_type": "stream",
     "text": [
      "[[  1.18500000e+01   1.74600000e+01   7.55400000e+01 ...,   9.14000000e-02\n",
      "    3.10100000e-01   7.00700000e-02]\n",
      " [  1.12200000e+01   1.98600000e+01   7.19400000e+01 ...,   2.02200000e-02\n",
      "    3.29200000e-01   6.52200000e-02]\n",
      " [  2.01300000e+01   2.82500000e+01   1.31200000e+02 ...,   1.62800000e-01\n",
      "    2.57200000e-01   6.63700000e-02]\n",
      " ..., \n",
      " [  9.43600000e+00   1.83200000e+01   5.98200000e+01 ...,   5.05200000e-02\n",
      "    2.45400000e-01   8.13600000e-02]\n",
      " [  9.72000000e+00   1.82200000e+01   6.07300000e+01 ...,   0.00000000e+00\n",
      "    1.90900000e-01   6.55900000e-02]\n",
      " [  1.15100000e+01   2.39300000e+01   7.45200000e+01 ...,   9.65300000e-02\n",
      "    2.11200000e-01   8.73200000e-02]]\n",
      "----------------------------------------------\n",
      "[  6.98100000e+00   9.71000000e+00   4.37900000e+01   1.43500000e+02\n",
      "   5.26300000e-02   1.93800000e-02   0.00000000e+00   0.00000000e+00\n",
      "   1.06000000e-01   4.99600000e-02   1.11500000e-01   3.62800000e-01\n",
      "   7.57000000e-01   7.22800000e+00   1.71300000e-03   2.25200000e-03\n",
      "   0.00000000e+00   0.00000000e+00   7.88200000e-03   8.94800000e-04\n",
      "   7.93000000e+00   1.20200000e+01   5.04100000e+01   1.85200000e+02\n",
      "   7.11700000e-02   2.72900000e-02   0.00000000e+00   0.00000000e+00\n",
      "   1.56500000e-01   5.50400000e-02]\n",
      "----------------------------------------------\n",
      "[  2.11290000e+01   2.41000000e+01   1.44710000e+02   2.35750000e+03\n",
      "   9.20700000e-02   2.92020000e-01   4.26800000e-01   2.01200000e-01\n",
      "   1.98000000e-01   4.74800000e-02   2.76150000e+00   4.52220000e+00\n",
      "   2.12230000e+01   5.34972000e+02   2.16170000e-02   1.04148000e-01\n",
      "   3.96000000e-01   5.27900000e-02   5.35780000e-02   2.89452000e-02\n",
      "   2.81100000e+01   3.75200000e+01   2.00790000e+02   4.06880000e+03\n",
      "   1.51430000e-01   1.03071000e+00   1.25200000e+00   2.90300000e-01\n",
      "   5.07300000e-01   1.52460000e-01]\n",
      "----------------------------------------------\n",
      "[[ 0.23044157  0.32157676  0.21940433 ...,  0.31484671  0.30277942\n",
      "   0.09858323]\n",
      " [ 0.20062473  0.42116183  0.19452699 ...,  0.06965208  0.34042973\n",
      "   0.06677161]\n",
      " [ 0.62232003  0.76929461  0.60403566 ...,  0.56079917  0.19850187\n",
      "   0.07431457]\n",
      " ..., \n",
      " [ 0.11619102  0.35726141  0.11077327 ...,  0.17402687  0.17524147\n",
      "   0.17263545]\n",
      " [ 0.12963226  0.35311203  0.11706171 ...,  0.          0.06780997\n",
      "   0.06919848]\n",
      " [ 0.21434995  0.59004149  0.21235575 ...,  0.33251808  0.10782574\n",
      "   0.21172767]]\n",
      "----------------------------------------------\n",
      "Min per feature \n",
      " [ 0.  0.  0.  0.  0.  0.  0.  0.  0.  0.  0.  0.  0.  0.  0.  0.  0.  0.\n",
      "  0.  0.  0.  0.  0.  0.  0.  0.  0.  0.  0.  0.]\n",
      "Max per feature \n",
      " [ 1.  1.  1.  1.  1.  1.  1.  1.  1.  1.  1.  1.  1.  1.  1.  1.  1.  1.\n",
      "  1.  1.  1.  1.  1.  1.  1.  1.  1.  1.  1.  1.]\n",
      "----------------------------------------------\n",
      "[[ 0.30380046  0.44854772  0.30993021 ...,  0.70651051  0.39818648\n",
      "   0.36639118]\n",
      " [ 0.29480808  0.64481328  0.27855711 ...,  0.20685498  0.17327025\n",
      "   0.08421881]\n",
      " [ 0.33314402  0.24688797  0.31649506 ...,  0.28301757  0.11255667\n",
      "   0.07910272]\n",
      " ..., \n",
      " [ 0.25363245  0.10622407  0.24289959 ...,  0.36858422  0.30455352\n",
      "   0.13695396]\n",
      " [ 0.30995314  0.05103734  0.30488563 ...,  0.25514984  0.22570471\n",
      "   0.11065197]\n",
      " [ 0.59676274  0.35020747  0.60058047 ...,  0.77402687  0.40961955\n",
      "   0.24393283]]\n",
      "----------------------------------------------\n",
      "Min per feature \n",
      " [ 0.03540158  0.04190871  0.02895446  0.01497349  0.14260888  0.04999658\n",
      "  0.          0.          0.07222222  0.00589722  0.00105015 -0.00057494\n",
      "  0.00067851 -0.0007963   0.05148726  0.01434497  0.          0.\n",
      "  0.04195752  0.01113138  0.03678406  0.01252665  0.03366702  0.01400904\n",
      "  0.08531995  0.01833687  0.          0.          0.00749064  0.02367834]\n",
      "Max per feature \n",
      " [ 0.76809125  1.22697095  0.75813696  0.64750795  1.20310633  1.11643038\n",
      "  0.99906279  0.90606362  0.93232323  0.94903117  0.45573058  0.72623944\n",
      "  0.48593507  0.31641282  1.36082713  1.2784499   0.36313131  0.77476795\n",
      "  1.32643996  0.72672498  0.82106012  0.87553305  0.77887345  0.67803775\n",
      "  0.78603975  0.87843331  0.93450479  1.0024113   0.76384782  0.58743277]\n",
      "----------------------------------------------\n"
     ]
    }
   ],
   "source": [
    "print(x_train)\n",
    "\n",
    "print(\"----------------------------------------------\")\n",
    "\n",
    "min_train = x_train.min(axis=0)\n",
    "\n",
    "print (min_train)\n",
    "\n",
    "print(\"----------------------------------------------\")\n",
    "\n",
    "range_train = (x_train - min_train).max(axis=0)\n",
    "\n",
    "print(range_train)\n",
    "\n",
    "print(\"----------------------------------------------\")\n",
    "\n",
    "x_train_scaled = (x_train - min_train)/range_train\n",
    "\n",
    "# Now min and max of each feature will be bw 0 & 1\n",
    "\n",
    "print (x_train_scaled)\n",
    "\n",
    "print(\"----------------------------------------------\")\n",
    "\n",
    "print (\"Min per feature \\n {}\".format(x_train_scaled.min(axis=0)))\n",
    "print (\"Max per feature \\n {}\".format(x_train_scaled.max(axis=0)))\n",
    "\n",
    "print(\"----------------------------------------------\")\n",
    "\n",
    "x_test_scaled = (x_test - min_train)/range_train\n",
    "\n",
    "print (x_test_scaled)\n",
    "\n",
    "print(\"----------------------------------------------\")\n",
    "\n",
    "print (\"Min per feature \\n {}\".format(x_test_scaled.min(axis=0)))\n",
    "print (\"Max per feature \\n {}\".format(x_test_scaled.max(axis=0)))\n",
    "\n",
    "print(\"----------------------------------------------\")"
   ]
  },
  {
   "cell_type": "code",
   "execution_count": 38,
   "metadata": {},
   "outputs": [
    {
     "name": "stdout",
     "output_type": "stream",
     "text": [
      "Accuracy of SVM on the training set: 94.84 %\n",
      "Accuracy of SVM on the test set: 95.10 %\n"
     ]
    }
   ],
   "source": [
    "svm = SVC()\n",
    "\n",
    "svm.fit(x_train_scaled, y_train)\n",
    "\n",
    "print (\"Accuracy of SVM on the training set: {:.2f} %\".format(svm.score(x_train_scaled, y_train)*100))\n",
    "\n",
    "print (\"Accuracy of SVM on the test set: {:.2f} %\".format(svm.score(x_test_scaled, y_test)*100))"
   ]
  },
  {
   "cell_type": "markdown",
   "metadata": {},
   "source": [
    "    Now performance looks better \n",
    "    \n",
    "    There is a huge difference when we feed the SVM with scaled data rather than unscaled data\n",
    "    \n",
    "    But we are now underfitting"
   ]
  },
  {
   "cell_type": "markdown",
   "metadata": {},
   "source": [
    "#### Scaling the test data a bit differently"
   ]
  },
  {
   "cell_type": "code",
   "execution_count": 39,
   "metadata": {},
   "outputs": [
    {
     "name": "stdout",
     "output_type": "stream",
     "text": [
      "[  7.72900000e+00   1.07200000e+01   4.79800000e+01   1.78800000e+02\n",
      "   6.57600000e-02   3.39800000e-02   0.00000000e+00   0.00000000e+00\n",
      "   1.20300000e-01   5.02400000e-02   1.14400000e-01   3.60200000e-01\n",
      "   7.71400000e-01   6.80200000e+00   2.82600000e-03   3.74600000e-03\n",
      "   0.00000000e+00   0.00000000e+00   1.01300000e-02   1.21700000e-03\n",
      "   8.96400000e+00   1.24900000e+01   5.71700000e+01   2.42200000e+02\n",
      "   8.40900000e-02   4.61900000e-02   0.00000000e+00   0.00000000e+00\n",
      "   1.60300000e-01   5.86500000e-02]\n",
      "----------------------------------------------\n",
      "[  1.54810000e+01   2.85600000e+01   1.05520000e+02   1.49120000e+03\n",
      "   9.76400000e-02   3.11420000e-01   4.26400000e-01   1.82300000e-01\n",
      "   1.70300000e-01   4.47800000e-02   1.25560000e+00   3.28680000e+00\n",
      "   1.02986000e+01   1.69698000e+02   2.83040000e-02   1.31654000e-01\n",
      "   1.43800000e-01   4.09000000e-02   6.88200000e-02   2.07130000e-02\n",
      "   2.20460000e+01   3.23800000e+01   1.49630000e+02   2.70180000e+03\n",
      "   1.06110000e-01   8.86510000e-01   1.17000000e+00   2.91000000e-01\n",
      "   3.83700000e-01   8.59500000e-02]\n",
      "----------------------------------------------\n",
      "[[ 0.36632001  0.34313725  0.3853298  ...,  0.704811    0.51654939\n",
      "   0.60791158]\n",
      " [ 0.3540469   0.5087535   0.34230478 ...,  0.20635739  0.21918165\n",
      "   0.10738802]\n",
      " [ 0.4063691   0.17296919  0.39433283 ...,  0.28233677  0.13891061\n",
      "   0.09831297]\n",
      " ..., \n",
      " [ 0.29784898  0.05427171  0.29340409 ...,  0.36769759  0.39275476\n",
      "   0.20093077]\n",
      " [ 0.3747174   0.00770308  0.37841168 ...,  0.25453608  0.28850665\n",
      "   0.15427574]\n",
      " [ 0.76616498  0.26015406  0.78392722 ...,  0.77216495  0.53166536\n",
      "   0.39069226]]\n",
      "----------------------------------------------\n",
      "Min per feature \n",
      " [ 0.  0.  0.  0.  0.  0.  0.  0.  0.  0.  0.  0.  0.  0.  0.  0.  0.  0.\n",
      "  0.  0.  0.  0.  0.  0.  0.  0.  0.  0.  0.  0.]\n",
      "Max per feature \n",
      " [ 1.  1.  1.  1.  1.  1.  1.  1.  1.  1.  1.  1.  1.  1.  1.  1.  1.  1.\n",
      "  1.  1.  1.  1.  1.  1.  1.  1.  1.  1.  1.  1.]\n",
      "----------------------------------------------\n",
      "Accuracy of SVM on the training set: 94.84 %\n",
      "Accuracy of SVM on the test set: 95.10 %\n"
     ]
    }
   ],
   "source": [
    "\n",
    "min_test = x_test.min(axis=0)\n",
    "\n",
    "print (min_test)\n",
    "\n",
    "print(\"----------------------------------------------\")\n",
    "\n",
    "range_test = (x_test - min_test).max(axis=0)\n",
    "\n",
    "print(range_test)\n",
    "\n",
    "print(\"----------------------------------------------\")\n",
    "\n",
    "x_test_scaled = (x_test - min_test)/range_test\n",
    "\n",
    "# Now min and max of each feature will be bw 0 & 1\n",
    "\n",
    "print (x_test_scaled)\n",
    "\n",
    "print(\"----------------------------------------------\")\n",
    "\n",
    "print (\"Min per feature \\n {}\".format(x_test_scaled.min(axis=0)))\n",
    "print (\"Max per feature \\n {}\".format(x_test_scaled.max(axis=0)))\n",
    "\n",
    "print(\"----------------------------------------------\")\n",
    "\n",
    "svm = SVC()\n",
    "\n",
    "svm.fit(x_train_scaled, y_train)\n",
    "\n",
    "print (\"Accuracy of SVM on the training set: {:.2f} %\".format(svm.score(x_train_scaled, y_train)*100))\n",
    "\n",
    "print (\"Accuracy of SVM on the test set: {:.2f} %\".format(svm.score(x_test_scaled, y_test)*100))"
   ]
  },
  {
   "cell_type": "markdown",
   "metadata": {},
   "source": [
    "#### Adjusting parameters\n",
    "\n",
    "Params:\n",
    "- C\n",
    "- gamma\n",
    "\n",
    "Deafult value of c is 1\n",
    "\n",
    "If we inc C it will lead to a **more complex** model"
   ]
  },
  {
   "cell_type": "code",
   "execution_count": 40,
   "metadata": {},
   "outputs": [
    {
     "name": "stdout",
     "output_type": "stream",
     "text": [
      "Accuracy of SVM on the training set: 98.83 %\n",
      "Accuracy of SVM on the test set: 97.20 %\n"
     ]
    }
   ],
   "source": [
    "# Restoring the test values\n",
    "\n",
    "x_test_scaled = (x_test - min_train)/range_train\n",
    "\n",
    "svm = SVC(C=1000)\n",
    "\n",
    "svm.fit(x_train_scaled, y_train)\n",
    "\n",
    "print (\"Accuracy of SVM on the training set: {:.2f} %\".format(svm.score(x_train_scaled, y_train)*100))\n",
    "\n",
    "print (\"Accuracy of SVM on the test set: {:.2f} %\".format(svm.score(x_test_scaled, y_test)*100))"
   ]
  },
  {
   "cell_type": "markdown",
   "metadata": {},
   "source": [
    "    Now performance is much better\n",
    "    \n",
    "    We are not overfitting or underfitting]\n",
    "    \n",
    "    There is also a small but good separation bw the train and test accuracies"
   ]
  },
  {
   "cell_type": "markdown",
   "metadata": {},
   "source": [
    "#### Advantages and Disadvantages of SVMs\n",
    "\n",
    "Advantages:\n",
    "\n",
    "- Versatility : They can do well on a wide range of datasets\n",
    "- It does not matter much if ur dataset is characterized by only a few features as our SVM will be \n",
    "    able to draw complex decision boundaries inspite of this\n",
    "- They can do well on high dimensional data provided the sample size is relatively small\n",
    "\n",
    "Disadvantages\n",
    "\n",
    "- for high dim data with large sample size(>100k) SVMsdont do that well.They do not scale well on hight dimensional data\n",
    "- preprocessing may be reqd. So u need knowledge and understanding of the parameters\n",
    "- so some people prefer RF and DT which require less preprocessing, easier to understand, inspect and visualize\n",
    "\n"
   ]
  }
 ],
 "metadata": {
  "kernelspec": {
   "display_name": "Python 3",
   "language": "python",
   "name": "python3"
  },
  "language_info": {
   "codemirror_mode": {
    "name": "ipython",
    "version": 3
   },
   "file_extension": ".py",
   "mimetype": "text/x-python",
   "name": "python",
   "nbconvert_exporter": "python",
   "pygments_lexer": "ipython3",
   "version": "3.6.3"
  }
 },
 "nbformat": 4,
 "nbformat_minor": 2
}
