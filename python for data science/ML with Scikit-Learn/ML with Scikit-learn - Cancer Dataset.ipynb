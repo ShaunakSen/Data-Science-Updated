{
 "cells": [
  {
   "cell_type": "markdown",
   "metadata": {},
   "source": [
    "[Github Source Link](https://github.com/CristiVlad25/ml-sklearn)"
   ]
  },
  {
   "cell_type": "markdown",
   "metadata": {},
   "source": [
    "### Importing libraries"
   ]
  },
  {
   "cell_type": "code",
   "execution_count": 19,
   "metadata": {},
   "outputs": [],
   "source": [
    "from sklearn.datasets import load_breast_cancer\n",
    "from sklearn.neighbors import KNeighborsClassifier\n",
    "from sklearn.model_selection import train_test_split\n",
    "from sklearn.linear_model import LogisticRegression\n",
    "\n",
    "\n",
    "import matplotlib.pyplot as plt\n",
    "\n",
    "import pandas as pd\n",
    "\n",
    "import mglearn\n",
    "\n",
    "\n",
    "%matplotlib inline"
   ]
  },
  {
   "cell_type": "code",
   "execution_count": 2,
   "metadata": {},
   "outputs": [
    {
     "name": "stdout",
     "output_type": "stream",
     "text": [
      "Breast Cancer Wisconsin (Diagnostic) Database\n",
      "=============================================\n",
      "\n",
      "Notes\n",
      "-----\n",
      "Data Set Characteristics:\n",
      "    :Number of Instances: 569\n",
      "\n",
      "    :Number of Attributes: 30 numeric, predictive attributes and the class\n",
      "\n",
      "    :Attribute Information:\n",
      "        - radius (mean of distances from center to points on the perimeter)\n",
      "        - texture (standard deviation of gray-scale values)\n",
      "        - perimeter\n",
      "        - area\n",
      "        - smoothness (local variation in radius lengths)\n",
      "        - compactness (perimeter^2 / area - 1.0)\n",
      "        - concavity (severity of concave portions of the contour)\n",
      "        - concave points (number of concave portions of the contour)\n",
      "        - symmetry \n",
      "        - fractal dimension (\"coastline approximation\" - 1)\n",
      "\n",
      "        The mean, standard error, and \"worst\" or largest (mean of the three\n",
      "        largest values) of these features were computed for each image,\n",
      "        resulting in 30 features.  For instance, field 3 is Mean Radius, field\n",
      "        13 is Radius SE, field 23 is Worst Radius.\n",
      "\n",
      "        - class:\n",
      "                - WDBC-Malignant\n",
      "                - WDBC-Benign\n",
      "\n",
      "    :Summary Statistics:\n",
      "\n",
      "    ===================================== ====== ======\n",
      "                                           Min    Max\n",
      "    ===================================== ====== ======\n",
      "    radius (mean):                        6.981  28.11\n",
      "    texture (mean):                       9.71   39.28\n",
      "    perimeter (mean):                     43.79  188.5\n",
      "    area (mean):                          143.5  2501.0\n",
      "    smoothness (mean):                    0.053  0.163\n",
      "    compactness (mean):                   0.019  0.345\n",
      "    concavity (mean):                     0.0    0.427\n",
      "    concave points (mean):                0.0    0.201\n",
      "    symmetry (mean):                      0.106  0.304\n",
      "    fractal dimension (mean):             0.05   0.097\n",
      "    radius (standard error):              0.112  2.873\n",
      "    texture (standard error):             0.36   4.885\n",
      "    perimeter (standard error):           0.757  21.98\n",
      "    area (standard error):                6.802  542.2\n",
      "    smoothness (standard error):          0.002  0.031\n",
      "    compactness (standard error):         0.002  0.135\n",
      "    concavity (standard error):           0.0    0.396\n",
      "    concave points (standard error):      0.0    0.053\n",
      "    symmetry (standard error):            0.008  0.079\n",
      "    fractal dimension (standard error):   0.001  0.03\n",
      "    radius (worst):                       7.93   36.04\n",
      "    texture (worst):                      12.02  49.54\n",
      "    perimeter (worst):                    50.41  251.2\n",
      "    area (worst):                         185.2  4254.0\n",
      "    smoothness (worst):                   0.071  0.223\n",
      "    compactness (worst):                  0.027  1.058\n",
      "    concavity (worst):                    0.0    1.252\n",
      "    concave points (worst):               0.0    0.291\n",
      "    symmetry (worst):                     0.156  0.664\n",
      "    fractal dimension (worst):            0.055  0.208\n",
      "    ===================================== ====== ======\n",
      "\n",
      "    :Missing Attribute Values: None\n",
      "\n",
      "    :Class Distribution: 212 - Malignant, 357 - Benign\n",
      "\n",
      "    :Creator:  Dr. William H. Wolberg, W. Nick Street, Olvi L. Mangasarian\n",
      "\n",
      "    :Donor: Nick Street\n",
      "\n",
      "    :Date: November, 1995\n",
      "\n",
      "This is a copy of UCI ML Breast Cancer Wisconsin (Diagnostic) datasets.\n",
      "https://goo.gl/U2Uwz2\n",
      "\n",
      "Features are computed from a digitized image of a fine needle\n",
      "aspirate (FNA) of a breast mass.  They describe\n",
      "characteristics of the cell nuclei present in the image.\n",
      "\n",
      "Separating plane described above was obtained using\n",
      "Multisurface Method-Tree (MSM-T) [K. P. Bennett, \"Decision Tree\n",
      "Construction Via Linear Programming.\" Proceedings of the 4th\n",
      "Midwest Artificial Intelligence and Cognitive Science Society,\n",
      "pp. 97-101, 1992], a classification method which uses linear\n",
      "programming to construct a decision tree.  Relevant features\n",
      "were selected using an exhaustive search in the space of 1-4\n",
      "features and 1-3 separating planes.\n",
      "\n",
      "The actual linear program used to obtain the separating plane\n",
      "in the 3-dimensional space is that described in:\n",
      "[K. P. Bennett and O. L. Mangasarian: \"Robust Linear\n",
      "Programming Discrimination of Two Linearly Inseparable Sets\",\n",
      "Optimization Methods and Software 1, 1992, 23-34].\n",
      "\n",
      "This database is also available through the UW CS ftp server:\n",
      "\n",
      "ftp ftp.cs.wisc.edu\n",
      "cd math-prog/cpo-dataset/machine-learn/WDBC/\n",
      "\n",
      "References\n",
      "----------\n",
      "   - W.N. Street, W.H. Wolberg and O.L. Mangasarian. Nuclear feature extraction \n",
      "     for breast tumor diagnosis. IS&T/SPIE 1993 International Symposium on \n",
      "     Electronic Imaging: Science and Technology, volume 1905, pages 861-870,\n",
      "     San Jose, CA, 1993.\n",
      "   - O.L. Mangasarian, W.N. Street and W.H. Wolberg. Breast cancer diagnosis and \n",
      "     prognosis via linear programming. Operations Research, 43(4), pages 570-577, \n",
      "     July-August 1995.\n",
      "   - W.H. Wolberg, W.N. Street, and O.L. Mangasarian. Machine learning techniques\n",
      "     to diagnose breast cancer from fine-needle aspirates. Cancer Letters 77 (1994) \n",
      "     163-171.\n",
      "\n"
     ]
    }
   ],
   "source": [
    "cancer = load_breast_cancer()\n",
    "print (cancer.DESCR)"
   ]
  },
  {
   "cell_type": "markdown",
   "metadata": {},
   "source": [
    "### Few points about the dataset\n",
    "\n",
    "- 569 instances\n",
    "- digitized imgs of breast cancer tumors\n",
    "- FNAs : Fine Needle Aspirates \n",
    "- 30 features\n",
    "- each sample is labled: **Malignant or Benign**"
   ]
  },
  {
   "cell_type": "code",
   "execution_count": 3,
   "metadata": {},
   "outputs": [
    {
     "name": "stdout",
     "output_type": "stream",
     "text": [
      "['mean radius' 'mean texture' 'mean perimeter' 'mean area'\n",
      " 'mean smoothness' 'mean compactness' 'mean concavity'\n",
      " 'mean concave points' 'mean symmetry' 'mean fractal dimension'\n",
      " 'radius error' 'texture error' 'perimeter error' 'area error'\n",
      " 'smoothness error' 'compactness error' 'concavity error'\n",
      " 'concave points error' 'symmetry error' 'fractal dimension error'\n",
      " 'worst radius' 'worst texture' 'worst perimeter' 'worst area'\n",
      " 'worst smoothness' 'worst compactness' 'worst concavity'\n",
      " 'worst concave points' 'worst symmetry' 'worst fractal dimension']\n",
      "['malignant' 'benign']\n"
     ]
    }
   ],
   "source": [
    "print (cancer.feature_names)\n",
    "print (cancer.target_names)"
   ]
  },
  {
   "cell_type": "markdown",
   "metadata": {},
   "source": [
    "#### This dataset comes preloaded with scikit-learn\n",
    "\n",
    "**It's already clean and pre-processed ready to be fed into the algorithms**"
   ]
  },
  {
   "cell_type": "markdown",
   "metadata": {},
   "source": [
    "```cancer.data``` contains data of attributes\n",
    "\n",
    "```cancer.target``` contains data of target vars"
   ]
  },
  {
   "cell_type": "code",
   "execution_count": 4,
   "metadata": {},
   "outputs": [
    {
     "name": "stdout",
     "output_type": "stream",
     "text": [
      "[  1.79900000e+01   1.03800000e+01   1.22800000e+02   1.00100000e+03\n",
      "   1.18400000e-01   2.77600000e-01   3.00100000e-01   1.47100000e-01\n",
      "   2.41900000e-01   7.87100000e-02   1.09500000e+00   9.05300000e-01\n",
      "   8.58900000e+00   1.53400000e+02   6.39900000e-03   4.90400000e-02\n",
      "   5.37300000e-02   1.58700000e-02   3.00300000e-02   6.19300000e-03\n",
      "   2.53800000e+01   1.73300000e+01   1.84600000e+02   2.01900000e+03\n",
      "   1.62200000e-01   6.65600000e-01   7.11900000e-01   2.65400000e-01\n",
      "   4.60100000e-01   1.18900000e-01]\n",
      "0\n"
     ]
    }
   ],
   "source": [
    "type(cancer.data)\n",
    "\n",
    "print(cancer.data[0])\n",
    "\n",
    "print(cancer.target[0])"
   ]
  },
  {
   "cell_type": "code",
   "execution_count": 5,
   "metadata": {},
   "outputs": [
    {
     "data": {
      "text/plain": [
       "(569, 30)"
      ]
     },
     "execution_count": 5,
     "metadata": {},
     "output_type": "execute_result"
    }
   ],
   "source": [
    "cancer.data.shape"
   ]
  },
  {
   "cell_type": "markdown",
   "metadata": {
    "collapsed": true
   },
   "source": [
    "### Process Outline\n",
    "\n",
    "- Get data (pre-process it)\n",
    "- Pick an algorithm (classifier)\n",
    "- Train the algorithm. Verify accuracy. Optimize\n",
    "- Predict\n"
   ]
  },
  {
   "cell_type": "markdown",
   "metadata": {},
   "source": [
    "### KNN Algorithm"
   ]
  },
  {
   "cell_type": "code",
   "execution_count": 6,
   "metadata": {},
   "outputs": [
    {
     "name": "stdout",
     "output_type": "stream",
     "text": [
      "Requirement already satisfied: mglearn in /home/shaunak/anaconda3/lib/python3.6/site-packages\n",
      "Requirement already satisfied: matplotlib in /home/shaunak/anaconda3/lib/python3.6/site-packages (from mglearn)\n",
      "Requirement already satisfied: pillow in /home/shaunak/anaconda3/lib/python3.6/site-packages (from mglearn)\n",
      "Requirement already satisfied: scikit-learn in /home/shaunak/anaconda3/lib/python3.6/site-packages (from mglearn)\n",
      "Requirement already satisfied: numpy in /home/shaunak/anaconda3/lib/python3.6/site-packages (from mglearn)\n",
      "Requirement already satisfied: pandas in /home/shaunak/anaconda3/lib/python3.6/site-packages (from mglearn)\n",
      "Requirement already satisfied: cycler in /home/shaunak/anaconda3/lib/python3.6/site-packages (from mglearn)\n",
      "Requirement already satisfied: six>=1.10 in /home/shaunak/anaconda3/lib/python3.6/site-packages (from matplotlib->mglearn)\n",
      "Requirement already satisfied: python-dateutil>=2.0 in /home/shaunak/anaconda3/lib/python3.6/site-packages (from matplotlib->mglearn)\n",
      "Requirement already satisfied: pytz in /home/shaunak/anaconda3/lib/python3.6/site-packages (from matplotlib->mglearn)\n",
      "Requirement already satisfied: pyparsing!=2.0.4,!=2.1.2,!=2.1.6,>=2.0.1 in /home/shaunak/anaconda3/lib/python3.6/site-packages (from matplotlib->mglearn)\n",
      "Requirement already satisfied: olefile in /home/shaunak/anaconda3/lib/python3.6/site-packages (from pillow->mglearn)\n"
     ]
    }
   ],
   "source": [
    "!pip install mglearn"
   ]
  },
  {
   "cell_type": "code",
   "execution_count": 7,
   "metadata": {
    "scrolled": true
   },
   "outputs": [
    {
     "data": {
      "image/png": "[encoded data removed]",
      "text/plain": [
       "<matplotlib.figure.Figure at 0x7f24ac772160>"
      ]
     },
     "metadata": {},
     "output_type": "display_data"
    }
   ],
   "source": [
    "mglearn.plots.plot_knn_classification(n_neighbors=3)"
   ]
  },
  {
   "cell_type": "markdown",
   "metadata": {},
   "source": [
    "#### KNN is easy to understand and implement\n",
    "\n",
    "It works well with smaller datasets, with fewer features\n",
    "It does not work well with bigger datasets with 100s of features. **It becomes slow**\n"
   ]
  },
  {
   "cell_type": "code",
   "execution_count": 8,
   "metadata": {},
   "outputs": [
    {
     "name": "stdout",
     "output_type": "stream",
     "text": [
      "True\n",
      "0.7486818980667839\n"
     ]
    },
    {
     "data": {
      "text/plain": [
       "KNeighborsClassifier(algorithm='auto', leaf_size=30, metric='minkowski',\n",
       "           metric_params=None, n_jobs=1, n_neighbors=5, p=2,\n",
       "           weights='uniform')"
      ]
     },
     "execution_count": 8,
     "metadata": {},
     "output_type": "execute_result"
    }
   ],
   "source": [
    "cancer = load_breast_cancer()\n",
    "\n",
    "x_train, x_test, y_train, y_test = train_test_split(cancer.data, cancer.target, stratify = cancer.target, random_state = 42)\n",
    "\n",
    "print (len(x_train) == len(y_train) and len(x_test) == len(y_test))\n",
    "\n",
    "print(len(x_train)/len(cancer.data))\n",
    "\n",
    "\n",
    "knn = KNeighborsClassifier()\n",
    "\n",
    "knn.fit(x_train, y_train)\n"
   ]
  },
  {
   "cell_type": "markdown",
   "metadata": {},
   "source": [
    "By default train_test_split splits 75% of the data into test and 25% of the data into train"
   ]
  },
  {
   "cell_type": "code",
   "execution_count": 9,
   "metadata": {
    "scrolled": true
   },
   "outputs": [
    {
     "name": "stdout",
     "output_type": "stream",
     "text": [
      "Accuracy of KNN n-5 on the training set: 94.60 %\n",
      "Accuracy of KNN n-5 on the test set: 93.01%\n"
     ]
    }
   ],
   "source": [
    "print (\"Accuracy of KNN n-5 on the training set: {:.2f} %\".format(knn.score(x_train,y_train)*100))\n",
    "\n",
    "print (\"Accuracy of KNN n-5 on the test set: {:.2f}%\".format(knn.score(x_test,y_test)*100))\n"
   ]
  },
  {
   "cell_type": "markdown",
   "metadata": {},
   "source": [
    "#### Can we tune in the parameters of the KNN algo to predict more accurately?\n",
    "\n",
    "No of neighbors: test usinga range of neighbors (1-10)"
   ]
  },
  {
   "cell_type": "code",
   "execution_count": 10,
   "metadata": {
    "scrolled": false
   },
   "outputs": [
    {
     "data": {
      "text/plain": [
       "<matplotlib.legend.Legend at 0x7f247198ec50>"
      ]
     },
     "execution_count": 10,
     "metadata": {},
     "output_type": "execute_result"
    },
    {
     "data": {
      "image/png": "[encoded data removed]",
      "text/plain": [
       "<matplotlib.figure.Figure at 0x7f2471a2aef0>"
      ]
     },
     "metadata": {},
     "output_type": "display_data"
    }
   ],
   "source": [
    "x_train, x_test, y_train, y_test = train_test_split(cancer.data, cancer.target, stratify = cancer.target, random_state = 66)\n",
    "\n",
    "# lists for storing accuracies\n",
    "\n",
    "training_accuracies = []\n",
    "test_accuracies = []\n",
    "\n",
    "neighbor_settings = range(1,11)\n",
    "\n",
    "for n_neighbors in neighbor_settings:\n",
    "    cif = KNeighborsClassifier(n_neighbors=n_neighbors)\n",
    "    cif.fit(x_train, y_train)\n",
    "    training_accuracies.append(cif.score(x_train, y_train))\n",
    "    test_accuracies.append(cif.score(x_test, y_test))\n",
    "    \n",
    "    \n",
    "# visualize the data\n",
    "\n",
    "plt.plot(neighbor_settings, training_accuracies, label = \"Accuracy of training set\")\n",
    "plt.plot(neighbor_settings, test_accuracies, label = \"Accuracy of test set\")\n",
    "plt.xlabel(\"Accuracy\")\n",
    "plt.ylabel(\"No of neighbors\")\n",
    "plt.legend()\n"
   ]
  },
  {
   "cell_type": "markdown",
   "metadata": {},
   "source": [
    "** Accuracy of test set is best (94%) while using 6 neighbors **\n"
   ]
  },
  {
   "cell_type": "markdown",
   "metadata": {},
   "source": [
    "### Supervised Learning\n",
    "\n",
    "There are 2 types of Supervised Learning:\n",
    "\n",
    "**1. Classification (categorical data)**\n",
    "    - Binary (tumor: bening, malignant)\n",
    "    - Multiclass classification (books: physics, math, cs, history)\n",
    "    - example algorithms: KNN, Linear Models, Decision Trees, SVMs etc.\n",
    "**2. Regression (continuous data)**\n",
    "    - predicting income, price of stock, age and other continuous data\n",
    "    - example algorithms: KNN, Linear Models, Decision Trees, SVMs etc.\n",
    "\n",
    "---\n",
    "\n",
    "Linear Models like LinReg, LogReg, Lasso, Ridged etc. make predictions acc to a linear function of input features."
   ]
  },
  {
   "cell_type": "markdown",
   "metadata": {},
   "source": [
    "### Logistic Regression"
   ]
  },
  {
   "cell_type": "code",
   "execution_count": 11,
   "metadata": {},
   "outputs": [
    {
     "data": {
      "text/plain": [
       "LogisticRegression(C=1.0, class_weight=None, dual=False, fit_intercept=True,\n",
       "          intercept_scaling=1, max_iter=100, multi_class='ovr', n_jobs=1,\n",
       "          penalty='l2', random_state=None, solver='liblinear', tol=0.0001,\n",
       "          verbose=0, warm_start=False)"
      ]
     },
     "execution_count": 11,
     "metadata": {},
     "output_type": "execute_result"
    }
   ],
   "source": [
    "cancer = load_breast_cancer()\n",
    "\n",
    "x_train, x_test, y_train, y_test = train_test_split(cancer.data, cancer.target, stratify = cancer.target, random_state=42)\n",
    "\n",
    "# code is almost same as KNN\n",
    "\n",
    "log_reg_classifier = LogisticRegression()\n",
    "\n",
    "log_reg_classifier.fit(x_train, y_train)\n",
    "\n"
   ]
  },
  {
   "cell_type": "code",
   "execution_count": 12,
   "metadata": {},
   "outputs": [
    {
     "name": "stdout",
     "output_type": "stream",
     "text": [
      "Accuracy of LogReg on the training set: 95.31 %\n",
      "Accuracy of LogReg on the test set: 95.80 %\n"
     ]
    }
   ],
   "source": [
    "print (\"Accuracy of LogReg on the training set: {:.2f} %\".format(log_reg_classifier.score(x_train,y_train)*100))\n",
    "\n",
    "print (\"Accuracy of LogReg on the test set: {:.2f} %\".format(log_reg_classifier.score(x_test,y_test)*100))"
   ]
  },
  {
   "cell_type": "markdown",
   "metadata": {},
   "source": [
    "#### Can we optimize the LogRegClassifier to get better results?\n",
    "\n",
    "Log Reg uses **Regularization** to avoid overfitting\n",
    "\n",
    "Thare are 2 types of Regularization\n",
    "\n",
    "- L1: assumes only a few features are important\n",
    "- L2: does not assume that\n",
    "\n",
    "L2 is the default one\n",
    "\n",
    "\n",
    "Strength of Regularization: Parameter **'C'**\n",
    "\n",
    "- lower C : causes our classifier to adjust to majority of data points\n",
    "- higher C : emphasizes on correct classification of each data point\n",
    "\n",
    "**By default the value of C is 1**\n"
   ]
  },
  {
   "cell_type": "markdown",
   "metadata": {},
   "source": [
    "#### Higher C Value"
   ]
  },
  {
   "cell_type": "code",
   "execution_count": 13,
   "metadata": {},
   "outputs": [
    {
     "name": "stdout",
     "output_type": "stream",
     "text": [
      "Accuracy of LogReg on the training set: 97.18 %\n",
      "Accuracy of LogReg on the test set: 96.50 %\n"
     ]
    }
   ],
   "source": [
    "log_reg_100 = LogisticRegression(C=100)\n",
    "\n",
    "log_reg_100.fit(x_train, y_train)\n",
    "\n",
    "print (\"Accuracy of LogReg on the training set: {:.2f} %\".format(log_reg_100.score(x_train,y_train)*100))\n",
    "\n",
    "print (\"Accuracy of LogReg on the test set: {:.2f} %\".format(log_reg_100.score(x_test,y_test)*100))"
   ]
  },
  {
   "cell_type": "markdown",
   "metadata": {},
   "source": [
    "    There is an increase in both accuracies\n",
    "\n",
    "    Also the gap bw the testing and training accuracies increase as well\n",
    "\n",
    "    This means we are moving away from an underfit model\n",
    "    \n",
    "    Thus performance has been improved"
   ]
  },
  {
   "cell_type": "code",
   "execution_count": 14,
   "metadata": {},
   "outputs": [
    {
     "name": "stdout",
     "output_type": "stream",
     "text": [
      "Accuracy of LogReg on the training set: 93.43 %\n",
      "Accuracy of LogReg on the test set: 93.01 %\n"
     ]
    }
   ],
   "source": [
    "log_reg_001 = LogisticRegression(C=0.01)\n",
    "\n",
    "log_reg_001.fit(x_train, y_train)\n",
    "\n",
    "print (\"Accuracy of LogReg on the training set: {:.2f} %\".format(log_reg_001.score(x_train,y_train)*100))\n",
    "\n",
    "print (\"Accuracy of LogReg on the test set: {:.2f} %\".format(log_reg_001.score(x_test,y_test)*100))"
   ]
  },
  {
   "cell_type": "markdown",
   "metadata": {},
   "source": [
    "    Accuracy is lowered\n",
    "    \n",
    "    Gap is also less\n",
    "    \n",
    "    Performance is worse"
   ]
  },
  {
   "cell_type": "markdown",
   "metadata": {},
   "source": [
    "### Linear Models (in general)\n",
    "\n",
    "    y = wx + b\n",
    "    \n",
    "- w: slope or coeff, accessed via .coeff____ \n",
    "- b: offset or intercept, accessed via .intercept____\n",
    "- w and b are learned params\n",
    "- y is the prediction\n",
    "\n",
    "#### For LogReg specifically:\n",
    "\n",
    "    y = w[0]x[0] + w[1]x[1] + ... + w[p]x[p] + b > 0\n",
    "\n"
   ]
  },
  {
   "cell_type": "code",
   "execution_count": 15,
   "metadata": {},
   "outputs": [
    {
     "name": "stdout",
     "output_type": "stream",
     "text": [
      "w[0]: 0.393906  b: -0.031804\n"
     ]
    },
    {
     "data": {
      "image/png": "[encoded data removed]",
      "text/plain": [
       "<matplotlib.figure.Figure at 0x7f247a118b70>"
      ]
     },
     "metadata": {},
     "output_type": "display_data"
    }
   ],
   "source": [
    "mglearn.plots.plot_linear_regression_wave()"
   ]
  },
  {
   "cell_type": "markdown",
   "metadata": {},
   "source": [
    "#### In LogReg there is and addition of ```>0``` condition\n",
    "\n",
    "We set a threshold value of predn\n",
    "\n",
    "#### Let'sexplore the Learn Params for the diff C values we had\n"
   ]
  },
  {
   "cell_type": "code",
   "execution_count": 16,
   "metadata": {},
   "outputs": [
    {
     "data": {
      "text/plain": [
       "<matplotlib.legend.Legend at 0x7f2471523780>"
      ]
     },
     "execution_count": 16,
     "metadata": {},
     "output_type": "execute_result"
    },
    {
     "data": {
      "image/png": "[encoded data removed]",
      "text/plain": [
       "<matplotlib.figure.Figure at 0x7f2471a54b00>"
      ]
     },
     "metadata": {},
     "output_type": "display_data"
    }
   ],
   "source": [
    "plt.plot(log_reg_classifier.coef_.T, 'o', label = 'C=1')\n",
    "plt.plot(log_reg_100.coef_.T, '*', label = 'C=100')\n",
    "plt.plot(log_reg_001.coef_.T, 'v', label = 'C=0.01')\n",
    "\n",
    "plt.xticks(range(cancer.data.shape[1]), cancer.feature_names,rotation=90)\n",
    "plt.hlines(0,0,cancer.data.shape[1])\n",
    "\n",
    "plt.ylim(-5,5)\n",
    "\n",
    "plt.xlabel('Coefficient Index')\n",
    "plt.ylabel('Coefficient Magnitude')\n",
    "plt.legend()"
   ]
  },
  {
   "cell_type": "markdown",
   "metadata": {},
   "source": [
    "C=0.01: denotes stronger Regularization, It shifts coeff towards 0\n",
    "\n",
    "C=100: focuses on correct classification"
   ]
  },
  {
   "cell_type": "markdown",
   "metadata": {},
   "source": [
    "### Decision Trees\n",
    "\n",
    "each node is decided on maximum information gain\n",
    "\n",
    "![decision tree](https://camo.githubusercontent.com/1f868438e77459ed99da3c4b86b38300ef0ff8eb/68747470733a2f2f75706c6f61642e77696b696d656469612e6f72672f77696b6970656469612f636f6d6d6f6e732f662f66332f434152545f747265655f746974616e69635f7375727669766f72732e706e67)"
   ]
  },
  {
   "cell_type": "code",
   "execution_count": 24,
   "metadata": {},
   "outputs": [
    {
     "name": "stdout",
     "output_type": "stream",
     "text": [
      "Feature importances: [ 0.  1.]\n"
     ]
    },
    {
     "data": {
      "image/svg+xml": [
       "<?xml version=\"1.0\" encoding=\"UTF-8\" standalone=\"no\"?>\n",
       "<!DOCTYPE svg PUBLIC \"-//W3C//DTD SVG 1.1//EN\"\n",
       " \"http://www.w3.org/Graphics/SVG/1.1/DTD/svg11.dtd\">\n",
       "<!-- Generated by graphviz version 2.40.1 (20161225.0304)\n",
       " -->\n",
       "<!-- Title: Tree Pages: 1 -->\n",
       "<svg width=\"284pt\" height=\"224pt\"\n",
       " viewBox=\"0.00 0.00 284.00 224.00\" xmlns=\"http://www.w3.org/2000/svg\" xmlns:xlink=\"http://www.w3.org/1999/xlink\">\n",
       "<g id=\"graph0\" class=\"graph\" transform=\"scale(1 1) rotate(0) translate(4 220)\">\n",
       "<title>Tree</title>\n",
       "<polygon fill=\"#ffffff\" stroke=\"transparent\" points=\"-4,4 -4,-220 280,-220 280,4 -4,4\"/>\n",
       "<!-- 0 -->\n",
       "<g id=\"node1\" class=\"node\">\n",
       "<title>0</title>\n",
       "<polygon fill=\"transparent\" stroke=\"#000000\" points=\"161.5,-216 56.5,-216 56.5,-163 161.5,-163 161.5,-216\"/>\n",
       "<text text-anchor=\"middle\" x=\"109\" y=\"-200.8\" font-family=\"Times,serif\" font-size=\"14.00\" fill=\"#000000\">X[1] &lt;= &#45;5.814</text>\n",
       "<text text-anchor=\"middle\" x=\"109\" y=\"-185.8\" font-family=\"Times,serif\" font-size=\"14.00\" fill=\"#000000\">samples = 100</text>\n",
       "<text text-anchor=\"middle\" x=\"109\" y=\"-170.8\" font-family=\"Times,serif\" font-size=\"14.00\" fill=\"#000000\">value = [50, 50]</text>\n",
       "</g>\n",
       "<!-- 1 -->\n",
       "<g id=\"node2\" class=\"node\">\n",
       "<title>1</title>\n",
       "<polygon fill=\"#e58139\" stroke=\"#000000\" points=\"98,-119.5 0,-119.5 0,-81.5 98,-81.5 98,-119.5\"/>\n",
       "<text text-anchor=\"middle\" x=\"49\" y=\"-104.3\" font-family=\"Times,serif\" font-size=\"14.00\" fill=\"#000000\">samples = 25</text>\n",
       "<text text-anchor=\"middle\" x=\"49\" y=\"-89.3\" font-family=\"Times,serif\" font-size=\"14.00\" fill=\"#000000\">value = [25, 0]</text>\n",
       "</g>\n",
       "<!-- 0&#45;&gt;1 -->\n",
       "<g id=\"edge1\" class=\"edge\">\n",
       "<title>0&#45;&gt;1</title>\n",
       "<path fill=\"none\" stroke=\"#000000\" d=\"M90.998,-162.7971C83.5895,-151.8078 75.0123,-139.0849 67.5479,-128.0128\"/>\n",
       "<polygon fill=\"#000000\" stroke=\"#000000\" points=\"70.336,-125.887 61.8439,-119.5518 64.5318,-129.8 70.336,-125.887\"/>\n",
       "<text text-anchor=\"middle\" x=\"57.0677\" y=\"-140.3913\" font-family=\"Times,serif\" font-size=\"14.00\" fill=\"#000000\">True</text>\n",
       "</g>\n",
       "<!-- 2 -->\n",
       "<g id=\"node3\" class=\"node\">\n",
       "<title>2</title>\n",
       "<polygon fill=\"#399de5\" fill-opacity=\"0.498039\" stroke=\"#000000\" points=\"221.5,-127 116.5,-127 116.5,-74 221.5,-74 221.5,-127\"/>\n",
       "<text text-anchor=\"middle\" x=\"169\" y=\"-111.8\" font-family=\"Times,serif\" font-size=\"14.00\" fill=\"#000000\">X[1] &lt;= 5.348</text>\n",
       "<text text-anchor=\"middle\" x=\"169\" y=\"-96.8\" font-family=\"Times,serif\" font-size=\"14.00\" fill=\"#000000\">samples = 75</text>\n",
       "<text text-anchor=\"middle\" x=\"169\" y=\"-81.8\" font-family=\"Times,serif\" font-size=\"14.00\" fill=\"#000000\">value = [25, 50]</text>\n",
       "</g>\n",
       "<!-- 0&#45;&gt;2 -->\n",
       "<g id=\"edge2\" class=\"edge\">\n",
       "<title>0&#45;&gt;2</title>\n",
       "<path fill=\"none\" stroke=\"#000000\" d=\"M127.002,-162.7971C132.7568,-154.2607 139.2169,-144.6782 145.3128,-135.6361\"/>\n",
       "<polygon fill=\"#000000\" stroke=\"#000000\" points=\"148.3229,-137.4323 151.0107,-127.1841 142.5186,-133.5193 148.3229,-137.4323\"/>\n",
       "<text text-anchor=\"middle\" x=\"155.7869\" y=\"-148.0236\" font-family=\"Times,serif\" font-size=\"14.00\" fill=\"#000000\">False</text>\n",
       "</g>\n",
       "<!-- 3 -->\n",
       "<g id=\"node4\" class=\"node\">\n",
       "<title>3</title>\n",
       "<polygon fill=\"#399de5\" stroke=\"#000000\" points=\"160,-38 62,-38 62,0 160,0 160,-38\"/>\n",
       "<text text-anchor=\"middle\" x=\"111\" y=\"-22.8\" font-family=\"Times,serif\" font-size=\"14.00\" fill=\"#000000\">samples = 50</text>\n",
       "<text text-anchor=\"middle\" x=\"111\" y=\"-7.8\" font-family=\"Times,serif\" font-size=\"14.00\" fill=\"#000000\">value = [0, 50]</text>\n",
       "</g>\n",
       "<!-- 2&#45;&gt;3 -->\n",
       "<g id=\"edge3\" class=\"edge\">\n",
       "<title>2&#45;&gt;3</title>\n",
       "<path fill=\"none\" stroke=\"#000000\" d=\"M150.0086,-73.8139C143.8141,-65.1094 136.9251,-55.4292 130.681,-46.6553\"/>\n",
       "<polygon fill=\"#000000\" stroke=\"#000000\" points=\"133.3514,-44.3712 124.7016,-38.2531 127.6482,-48.4299 133.3514,-44.3712\"/>\n",
       "</g>\n",
       "<!-- 4 -->\n",
       "<g id=\"node5\" class=\"node\">\n",
       "<title>4</title>\n",
       "<polygon fill=\"#e58139\" stroke=\"#000000\" points=\"276,-38 178,-38 178,0 276,0 276,-38\"/>\n",
       "<text text-anchor=\"middle\" x=\"227\" y=\"-22.8\" font-family=\"Times,serif\" font-size=\"14.00\" fill=\"#000000\">samples = 25</text>\n",
       "<text text-anchor=\"middle\" x=\"227\" y=\"-7.8\" font-family=\"Times,serif\" font-size=\"14.00\" fill=\"#000000\">value = [25, 0]</text>\n",
       "</g>\n",
       "<!-- 2&#45;&gt;4 -->\n",
       "<g id=\"edge4\" class=\"edge\">\n",
       "<title>2&#45;&gt;4</title>\n",
       "<path fill=\"none\" stroke=\"#000000\" d=\"M187.9914,-73.8139C194.1859,-65.1094 201.0749,-55.4292 207.319,-46.6553\"/>\n",
       "<polygon fill=\"#000000\" stroke=\"#000000\" points=\"210.3518,-48.4299 213.2984,-38.2531 204.6486,-44.3712 210.3518,-48.4299\"/>\n",
       "</g>\n",
       "</g>\n",
       "</svg>\n"
      ],
      "text/plain": [
       "<graphviz.files.Source at 0x7f247133dba8>"
      ]
     },
     "execution_count": 24,
     "metadata": {},
     "output_type": "execute_result"
    },
    {
     "data": {
      "image/png": "[encoded data removed]",
      "text/plain": [
       "<matplotlib.figure.Figure at 0x7f247133a160>"
      ]
     },
     "metadata": {},
     "output_type": "display_data"
    }
   ],
   "source": [
    "mglearn.plots.plot_tree_not_monotone()"
   ]
  },
  {
   "cell_type": "code",
   "execution_count": 21,
   "metadata": {},
   "outputs": [
    {
     "name": "stdout",
     "output_type": "stream",
     "text": [
      "Accuracy of DT on the training set: 100.00 %\n",
      "Accuracy of DT on the test set: 93.71 %\n"
     ]
    }
   ],
   "source": [
    "from sklearn.tree import DecisionTreeClassifier\n",
    "\n",
    "cancer = load_breast_cancer()\n",
    "\n",
    "x_train, x_test, y_train, y_test = train_test_split(cancer.data, cancer.target, stratify=cancer.target, random_state=42)\n",
    "\n",
    "tree = DecisionTreeClassifier(random_state=0)\n",
    "\n",
    "tree.fit(x_train, y_train)\n",
    "\n",
    "print (\"Accuracy of DT on the training set: {:.2f} %\".format(tree.score(x_train,y_train)*100))\n",
    "\n",
    "print (\"Accuracy of DT on the test set: {:.2f} %\".format(tree.score(x_test,y_test)*100))"
   ]
  },
  {
   "cell_type": "markdown",
   "metadata": {},
   "source": [
    "Accuracy of training subset is 100%\n",
    "\n",
    "This is bcoz all the leaves are pure\n",
    "\n",
    "The branching went all the way down until algorithm could memorize and fit all the labels\n",
    "\n",
    "This is **Overfitting**"
   ]
  },
  {
   "cell_type": "markdown",
   "metadata": {},
   "source": [
    "This happened because the DT was **unrestricted** and the branching went all the way down until it perfectly fit\n",
    "the training data\n",
    "\n",
    "We have to limit the depth of the DT, which in turn will limit its complexity\n",
    "\n",
    "There is a technique called **Pruning** which prevents over-fitting\n",
    "\n",
    "2 types of Pruning\n",
    "\n",
    "1. Pre pruning: we stop the creation of the tree at an earlier stage. We dont let it develop completely.\n",
    "    We can limit the max depth or max leaves or specify min number of points for a node so that it can keep splitting\n",
    "2. Post pruning: we allow the tree to get built and then remove irrelevant nodes, nodes which contain little information\n"
   ]
  },
  {
   "cell_type": "markdown",
   "metadata": {},
   "source": [
    "#### Pre Pruning with max_depth = 4"
   ]
  },
  {
   "cell_type": "code",
   "execution_count": 22,
   "metadata": {},
   "outputs": [
    {
     "name": "stdout",
     "output_type": "stream",
     "text": [
      "Accuracy of DT on the training set: 98.83 %\n",
      "Accuracy of DT on the test set: 95.10 %\n"
     ]
    }
   ],
   "source": [
    "tree = DecisionTreeClassifier(max_depth=4, random_state=0)\n",
    "tree.fit(x_train, y_train)\n",
    "\n",
    "print (\"Accuracy of DT on the training set: {:.2f} %\".format(tree.score(x_train,y_train)*100))\n",
    "\n",
    "print (\"Accuracy of DT on the test set: {:.2f} %\".format(tree.score(x_test,y_test)*100))"
   ]
  },
  {
   "cell_type": "markdown",
   "metadata": {},
   "source": [
    "    This is better\n",
    "\n",
    "    Accuracy on training subset is reduced, thus overfitting is reduced\n",
    "\n",
    "    Accuracy on test is increased"
   ]
  },
  {
   "cell_type": "code",
   "execution_count": 23,
   "metadata": {},
   "outputs": [
    {
     "name": "stdout",
     "output_type": "stream",
     "text": [
      "Collecting graphviz\n",
      "  Downloading graphviz-0.8.2-py2.py3-none-any.whl\n",
      "Installing collected packages: graphviz\n",
      "Successfully installed graphviz-0.8.2\n"
     ]
    }
   ],
   "source": [
    "!pip install graphviz"
   ]
  },
  {
   "cell_type": "code",
   "execution_count": 29,
   "metadata": {
    "collapsed": true
   },
   "outputs": [],
   "source": [
    "import graphviz\n",
    "\n",
    "from sklearn.tree import export_graphviz\n",
    "\n",
    "export_graphviz(tree, out_file = 'cancertree.dot', class_names = ['malignant', 'bening'], \n",
    "                feature_names = cancer.feature_names, impurity = False, filled = True)"
   ]
  },
  {
   "cell_type": "markdown",
   "metadata": {},
   "source": [
    "#### Visualize the file:\n",
    "\n",
    "![tree](cancertree.png)"
   ]
  },
  {
   "cell_type": "markdown",
   "metadata": {},
   "source": [
    "This tells us how the predictions are made\n",
    "\n",
    "Depth = 4\n",
    "\n",
    "worst radius is at the root. So we can get an idea about the importance of this feature\n",
    "\n"
   ]
  }
 ],
 "metadata": {
  "kernelspec": {
   "display_name": "Python 3",
   "language": "python",
   "name": "python3"
  },
  "language_info": {
   "codemirror_mode": {
    "name": "ipython",
    "version": 3
   },
   "file_extension": ".py",
   "mimetype": "text/x-python",
   "name": "python",
   "nbconvert_exporter": "python",
   "pygments_lexer": "ipython3",
   "version": "3.6.3"
  }
 },
 "nbformat": 4,
 "nbformat_minor": 2
}
