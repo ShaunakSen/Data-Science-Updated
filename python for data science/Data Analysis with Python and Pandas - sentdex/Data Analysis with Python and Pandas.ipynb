{
 "cells": [
  {
   "cell_type": "markdown",
   "metadata": {},
   "source": [
    "## Data Analysis with Python and Pandas"
   ]
  },
  {
   "cell_type": "code",
   "execution_count": null,
   "metadata": {
    "collapsed": true
   },
   "outputs": [],
   "source": [
    "import pandas as pd\n",
    "import datetime\n",
    "try:\n",
    "    import pandas_datareader.data as web\n",
    "except ImportError:\n",
    "    pass\n",
    "import matplotlib.pyplot as plt\n",
    "from matplotlib import style\n",
    "\n",
    "import numpy as np\n",
    "\n",
    "import quandl"
   ]
  },
  {
   "cell_type": "code",
   "execution_count": null,
   "metadata": {},
   "outputs": [],
   "source": [
    "start = datetime.datetime(2010, 1, 1)\n",
    "end = datetime.datetime(2015, 8, 22)\n",
    "\n",
    "try:\n",
    "    df = web.DataReader(\"XOM\", \"yahoo\", start, end)\n",
    "except NameError:\n",
    "    df = pd.read_csv(\"file_name.csv\")\n",
    "\n",
    "df.head()"
   ]
  },
  {
   "cell_type": "code",
   "execution_count": null,
   "metadata": {
    "collapsed": true
   },
   "outputs": [],
   "source": [
    "# write DataFrame to csv for working offline\n",
    "\n",
    "# df.to_csv(\"file_name.csv\")"
   ]
  },
  {
   "cell_type": "code",
   "execution_count": null,
   "metadata": {},
   "outputs": [],
   "source": [
    "df['Adj Close'].plot()\n",
    "\n",
    "plt.show()"
   ]
  },
  {
   "cell_type": "markdown",
   "metadata": {},
   "source": [
    "Pandas can interact with a lot of data types\n",
    "\n",
    "CSV, SQL, HTML etc\n",
    "\n",
    "From whatever format u import the data, handling the DataFrame is identical\n",
    "\n",
    "Applying various operations, calculations and statistical anlysis on a DataFrame is very fast"
   ]
  },
  {
   "cell_type": "markdown",
   "metadata": {},
   "source": [
    "#### Pandas Basics"
   ]
  },
  {
   "cell_type": "code",
   "execution_count": null,
   "metadata": {},
   "outputs": [],
   "source": [
    "style.use('ggplot')\n",
    "\n",
    "# DF is like apython dict\n",
    "\n",
    "web_data = {'Day': [1,2,3,4,5,6],\n",
    "           'Visitors': [43,53,34,45,64,34],\n",
    "           'Bounce_Rate': [65,72,62,64,54,66]}\n",
    "\n",
    "# we can convert this to df very easily\n",
    "\n",
    "df = pd.DataFrame(web_data)\n",
    "\n",
    "\n",
    "\n",
    "# setting an index\n",
    "\n",
    "df.set_index(\"Day\")\n",
    "\n",
    "# the change in index does not reflect here\n",
    "\n",
    "df.head()"
   ]
  },
  {
   "cell_type": "markdown",
   "metadata": {},
   "source": [
    "When u execute ```df.set_index(\"Day\")``` u are returned a ** new ** dataframe"
   ]
  },
  {
   "cell_type": "code",
   "execution_count": null,
   "metadata": {},
   "outputs": [],
   "source": [
    "# options \n",
    "\n",
    "# df = df.set_axis(\"Day\")\n",
    "\n",
    "# OR\n",
    "\n",
    "# print df\n",
    "\n",
    "# df.set_index(\"Day\", inplace=True)\n",
    "\n",
    "df"
   ]
  },
  {
   "cell_type": "markdown",
   "metadata": {},
   "source": [
    "#### Referencing"
   ]
  },
  {
   "cell_type": "code",
   "execution_count": null,
   "metadata": {},
   "outputs": [],
   "source": [
    "# referencing multiple columns\n",
    "\n",
    "df[['Bounce_Rate', 'Visitors']]\n",
    "\n",
    "# convert o/p to list\n",
    "\n",
    "print df['Visitors'].tolist()"
   ]
  },
  {
   "cell_type": "markdown",
   "metadata": {},
   "source": [
    "tolist() works for single cols but not for multiple cols\n",
    "\n",
    "```\n",
    "df[['Bounce_Rate', 'Visitors']].tolist()\n",
    "```\n",
    "does not work\n",
    "\n",
    "**We need to convert it to a numpy array**"
   ]
  },
  {
   "cell_type": "code",
   "execution_count": null,
   "metadata": {},
   "outputs": [],
   "source": [
    "print np.array(df[['Bounce_Rate', 'Visitors']])\n",
    "\n",
    "# Converting numpy array to df\n",
    "\n",
    "pd.DataFrame(np.array(df[['Bounce_Rate', 'Visitors']]))"
   ]
  },
  {
   "cell_type": "markdown",
   "metadata": {},
   "source": [
    "#### IO Basics\n",
    "\n",
    "```kfJuWbUakQJH6gez_VFr```"
   ]
  },
  {
   "cell_type": "code",
   "execution_count": null,
   "metadata": {},
   "outputs": [],
   "source": [
    "# quandl.get(\"ZILLOW/Z77006_ZRIFAH\", authtoken=\"kfJuWbUakQJH6gez_VFr\")\n",
    "\n",
    "# read local csv\n",
    "\n",
    "df = pd.read_csv(\"ZILLOW-Z77006_ZRIMFRR.csv\")\n",
    "\n",
    "# df.head()\n",
    "\n",
    "df.set_index('Date', inplace=True)\n",
    "\n",
    "df.to_csv('newcsv2.csv')\n",
    "\n",
    "df = pd.read_csv('newcsv2.csv')\n",
    "\n",
    "df.head()\n",
    "\n",
    "# we lost our index again\n",
    "\n",
    "df = pd.read_csv('newcsv2.csv', index_col=0)\n",
    "\n",
    "df.head()"
   ]
  },
  {
   "cell_type": "code",
   "execution_count": null,
   "metadata": {},
   "outputs": [],
   "source": [
    "# renaming cols\n",
    "\n",
    "# Note: Date is not a column anymore as it is an index\n",
    "\n",
    "df.columns = ['Austing_HPI'] #HPI: House Price Index\n",
    "\n",
    "df.head()"
   ]
  },
  {
   "cell_type": "markdown",
   "metadata": {},
   "source": [
    "#### Convert Pandas DataFrame to HTML (Table)"
   ]
  },
  {
   "cell_type": "code",
   "execution_count": null,
   "metadata": {
    "collapsed": true
   },
   "outputs": [],
   "source": [
    "df.to_html('example.html')"
   ]
  },
  {
   "cell_type": "code",
   "execution_count": null,
   "metadata": {},
   "outputs": [],
   "source": [
    "# fresh df\n",
    "\n",
    "df = pd.read_csv(\"ZILLOW-Z77006_ZRIMFRR.csv\", names=['Date', 'Austin_HPI'])\n",
    "df.head()\n",
    "\n",
    "df.rename(columns={'Austin_HPI': '77006_HPI'}, inplace=True)\n",
    "\n",
    "df.head()"
   ]
  },
  {
   "cell_type": "markdown",
   "metadata": {},
   "source": [
    "#### Building Dataset\n",
    "\n",
    "---\n",
    "\n",
    "#### Real Estate Analysis\n",
    "\n",
    "QUANDL API Key: ```kfJuWbUakQJH6gez_VFr```\n",
    "\n",
    "#### Link to get data from:\n",
    "\n",
    "[House Price Index Data](https://www.quandl.com/data/FMAC-Freddie-Mac?keyword=House%20Price%20Index)\n",
    "\n",
    "In Quandl u can limit the data by the **trim_start** param"
   ]
  },
  {
   "cell_type": "code",
   "execution_count": null,
   "metadata": {},
   "outputs": [],
   "source": [
    "apiKey = 'kfJuWbUakQJH6gez_VFr'\n",
    "\n",
    "df = quandl.get('FMAC/HPI_AK', authtoken=apiKey)\n",
    "\n",
    "df.head()"
   ]
  }
 ],
 "metadata": {
  "kernelspec": {
   "display_name": "Python 2",
   "language": "python",
   "name": "python2"
  },
  "language_info": {
   "codemirror_mode": {
    "name": "ipython",
    "version": 2
   },
   "file_extension": ".py",
   "mimetype": "text/x-python",
   "name": "python",
   "nbconvert_exporter": "python",
   "pygments_lexer": "ipython2",
   "version": "2.7.14"
  }
 },
 "nbformat": 4,
 "nbformat_minor": 2
}
