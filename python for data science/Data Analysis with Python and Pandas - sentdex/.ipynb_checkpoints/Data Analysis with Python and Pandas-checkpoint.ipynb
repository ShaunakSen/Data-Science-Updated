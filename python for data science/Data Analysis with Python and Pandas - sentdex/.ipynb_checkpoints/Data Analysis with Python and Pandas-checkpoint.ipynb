{
 "cells": [
  {
   "cell_type": "markdown",
   "metadata": {},
   "source": [
    "## Data Analysis with Python and Pandas"
   ]
  },
  {
   "cell_type": "code",
   "execution_count": 1,
   "metadata": {
    "collapsed": true
   },
   "outputs": [],
   "source": [
    "import pandas as pd\n",
    "import datetime\n",
    "import pandas_datareader.data as web"
   ]
  },
  {
   "cell_type": "code",
   "execution_count": 2,
   "metadata": {},
   "outputs": [
    {
     "data": {
      "text/html": [
       "<div>\n",
       "<style>\n",
       "    .dataframe thead tr:only-child th {\n",
       "        text-align: right;\n",
       "    }\n",
       "\n",
       "    .dataframe thead th {\n",
       "        text-align: left;\n",
       "    }\n",
       "\n",
       "    .dataframe tbody tr th {\n",
       "        vertical-align: top;\n",
       "    }\n",
       "</style>\n",
       "<table border=\"1\" class=\"dataframe\">\n",
       "  <thead>\n",
       "    <tr style=\"text-align: right;\">\n",
       "      <th></th>\n",
       "      <th>Open</th>\n",
       "      <th>High</th>\n",
       "      <th>Low</th>\n",
       "      <th>Close</th>\n",
       "      <th>Adj Close</th>\n",
       "      <th>Volume</th>\n",
       "    </tr>\n",
       "    <tr>\n",
       "      <th>Date</th>\n",
       "      <th></th>\n",
       "      <th></th>\n",
       "      <th></th>\n",
       "      <th></th>\n",
       "      <th></th>\n",
       "      <th></th>\n",
       "    </tr>\n",
       "  </thead>\n",
       "  <tbody>\n",
       "    <tr>\n",
       "      <th>2009-12-31</th>\n",
       "      <td>68.839996</td>\n",
       "      <td>68.860001</td>\n",
       "      <td>68.110001</td>\n",
       "      <td>68.190002</td>\n",
       "      <td>53.863396</td>\n",
       "      <td>18852300</td>\n",
       "    </tr>\n",
       "    <tr>\n",
       "      <th>2010-01-04</th>\n",
       "      <td>68.720001</td>\n",
       "      <td>69.260002</td>\n",
       "      <td>68.190002</td>\n",
       "      <td>69.150002</td>\n",
       "      <td>54.621700</td>\n",
       "      <td>27809100</td>\n",
       "    </tr>\n",
       "    <tr>\n",
       "      <th>2010-01-05</th>\n",
       "      <td>69.190002</td>\n",
       "      <td>69.449997</td>\n",
       "      <td>68.800003</td>\n",
       "      <td>69.419998</td>\n",
       "      <td>54.834965</td>\n",
       "      <td>30174700</td>\n",
       "    </tr>\n",
       "    <tr>\n",
       "      <th>2010-01-06</th>\n",
       "      <td>69.449997</td>\n",
       "      <td>70.599998</td>\n",
       "      <td>69.339996</td>\n",
       "      <td>70.019997</td>\n",
       "      <td>55.308914</td>\n",
       "      <td>35044700</td>\n",
       "    </tr>\n",
       "    <tr>\n",
       "      <th>2010-01-07</th>\n",
       "      <td>69.900002</td>\n",
       "      <td>70.059998</td>\n",
       "      <td>69.419998</td>\n",
       "      <td>69.800003</td>\n",
       "      <td>55.135132</td>\n",
       "      <td>27192100</td>\n",
       "    </tr>\n",
       "  </tbody>\n",
       "</table>\n",
       "</div>"
      ],
      "text/plain": [
       "                 Open       High        Low      Close  Adj Close    Volume\n",
       "Date                                                                       \n",
       "2009-12-31  68.839996  68.860001  68.110001  68.190002  53.863396  18852300\n",
       "2010-01-04  68.720001  69.260002  68.190002  69.150002  54.621700  27809100\n",
       "2010-01-05  69.190002  69.449997  68.800003  69.419998  54.834965  30174700\n",
       "2010-01-06  69.449997  70.599998  69.339996  70.019997  55.308914  35044700\n",
       "2010-01-07  69.900002  70.059998  69.419998  69.800003  55.135132  27192100"
      ]
     },
     "execution_count": 2,
     "metadata": {},
     "output_type": "execute_result"
    }
   ],
   "source": [
    "start = datetime.datetime(2010, 1, 1)\n",
    "end = datetime.datetime(2015, 8, 22)\n",
    "\n",
    "df = web.DataReader(\"XOM\", \"yahoo\", start, end)\n",
    "\n",
    "df.head()"
   ]
  },
  {
   "cell_type": "code",
   "execution_count": 4,
   "metadata": {
    "collapsed": true
   },
   "outputs": [],
   "source": [
    "# write DataFrame to csv for working offline\n",
    "\n",
    "# df.to_csv(\"file_name.csv\")"
   ]
  }
 ],
 "metadata": {
  "kernelspec": {
   "display_name": "Python 2",
   "language": "python",
   "name": "python2"
  },
  "language_info": {
   "codemirror_mode": {
    "name": "ipython",
    "version": 2
   },
   "file_extension": ".py",
   "mimetype": "text/x-python",
   "name": "python",
   "nbconvert_exporter": "python",
   "pygments_lexer": "ipython2",
   "version": "2.7.14"
  }
 },
 "nbformat": 4,
 "nbformat_minor": 2
}
