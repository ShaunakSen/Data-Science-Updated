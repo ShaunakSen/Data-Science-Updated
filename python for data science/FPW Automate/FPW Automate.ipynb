{
 "cells": [
  {
   "cell_type": "markdown",
   "metadata": {},
   "source": [
    "### Importing the libraries"
   ]
  },
  {
   "cell_type": "code",
   "execution_count": 12,
   "metadata": {
    "collapsed": true
   },
   "outputs": [],
   "source": [
    "import pandas as pd\n",
    "import datetime\n",
    "try:\n",
    "    import pandas_datareader.data as web\n",
    "except ImportError:\n",
    "    pass\n",
    "import matplotlib.pyplot as plt\n",
    "from matplotlib import style\n",
    "\n",
    "import numpy as np\n",
    "\n",
    "import quandl\n",
    "import datetime"
   ]
  },
  {
   "cell_type": "markdown",
   "metadata": {},
   "source": [
    "### Creating the mapping DataFrame"
   ]
  },
  {
   "cell_type": "code",
   "execution_count": 12,
   "metadata": {},
   "outputs": [
    {
     "data": {
      "text/html": [
       "<div>\n",
       "<style>\n",
       "    .dataframe thead tr:only-child th {\n",
       "        text-align: right;\n",
       "    }\n",
       "\n",
       "    .dataframe thead th {\n",
       "        text-align: left;\n",
       "    }\n",
       "\n",
       "    .dataframe tbody tr th {\n",
       "        vertical-align: top;\n",
       "    }\n",
       "</style>\n",
       "<table border=\"1\" class=\"dataframe\">\n",
       "  <thead>\n",
       "    <tr style=\"text-align: right;\">\n",
       "      <th></th>\n",
       "      <th>0</th>\n",
       "      <th>1</th>\n",
       "      <th>2</th>\n",
       "    </tr>\n",
       "  </thead>\n",
       "  <tbody>\n",
       "    <tr>\n",
       "      <th>0</th>\n",
       "      <td>Action Ext</td>\n",
       "      <td>Action Link Extension</td>\n",
       "      <td>Action Link Extension</td>\n",
       "    </tr>\n",
       "    <tr>\n",
       "      <th>1</th>\n",
       "      <td>Ad Creative Annotation</td>\n",
       "      <td>Ad Creative Annotation</td>\n",
       "      <td>Ad Creative Annotation</td>\n",
       "    </tr>\n",
       "    <tr>\n",
       "      <th>2</th>\n",
       "      <td>Age Target</td>\n",
       "      <td>Age Targeting</td>\n",
       "      <td>Age Targeting</td>\n",
       "    </tr>\n",
       "    <tr>\n",
       "      <th>3</th>\n",
       "      <td>App Ext</td>\n",
       "      <td>App Extension</td>\n",
       "      <td>App Extension</td>\n",
       "    </tr>\n",
       "    <tr>\n",
       "      <th>4</th>\n",
       "      <td>Augmented Display URL Annotation</td>\n",
       "      <td>Badge Annotation</td>\n",
       "      <td>-1</td>\n",
       "    </tr>\n",
       "  </tbody>\n",
       "</table>\n",
       "</div>"
      ],
      "text/plain": [
       "                                  0                       1  \\\n",
       "0                        Action Ext   Action Link Extension   \n",
       "1            Ad Creative Annotation  Ad Creative Annotation   \n",
       "2                        Age Target           Age Targeting   \n",
       "3                           App Ext           App Extension   \n",
       "4  Augmented Display URL Annotation        Badge Annotation   \n",
       "\n",
       "                        2  \n",
       "0   Action Link Extension  \n",
       "1  Ad Creative Annotation  \n",
       "2           Age Targeting  \n",
       "3           App Extension  \n",
       "4                      -1  "
      ]
     },
     "execution_count": 12,
     "metadata": {},
     "output_type": "execute_result"
    }
   ],
   "source": [
    "with pd.ExcelFile('data/mapping.xlsx') as xls:\n",
    "    mapping_df = pd.read_excel(xls, 'Sheet1', header=None)\n",
    "    \n",
    "    \n",
    "mapping_df.head()\n",
    "\n"
   ]
  },
  {
   "cell_type": "markdown",
   "metadata": {},
   "source": [
    "### Trying to read the data in 2 separate DataFrames"
   ]
  },
  {
   "cell_type": "code",
   "execution_count": 11,
   "metadata": {},
   "outputs": [
    {
     "name": "stdout",
     "output_type": "stream",
     "text": [
      "1/6/2018 1/6/2018\n"
     ]
    }
   ],
   "source": [
    "with pd.ExcelFile('C:/Users/Shaunak/Documents/data.xlsx') as xls:\n",
    "    data_df1 = pd.read_excel(xls, 'Sheet1', header=None, usecols = [0, 1, 2, 3])\n",
    "    data_df2 = pd.read_excel(xls, 'Sheet1', header=None, usecols = [5, 6, 7, 8])\n",
    "    \n",
    "    \n",
    "data_df2\n",
    "\n",
    "\n",
    "data_df2.columns = [0,1,2,3]\n",
    "\n",
    "data_df2.head()\n",
    "\n",
    "date_pm = data_df1.iloc[0][1]\n",
    "\n",
    "data_im = data_df2.iloc[0][1]\n",
    "\n",
    "print date_pm, data_im\n",
    "\n"
   ]
  },
  {
   "cell_type": "markdown",
   "metadata": {},
   "source": [
    "#### Validating the Dates\n",
    "\n",
    "```\n",
    "datetime.date.today().strftime(\"%w\")\n",
    "```\n",
    "This gives day index (Sunday is 0)"
   ]
  },
  {
   "cell_type": "code",
   "execution_count": 26,
   "metadata": {},
   "outputs": [
    {
     "name": "stdout",
     "output_type": "stream",
     "text": [
      "2\n",
      "0\n"
     ]
    }
   ],
   "source": [
    "def validate_dates(im_date, pm_date):\n",
    "    if im_date != pm_date:\n",
    "        return False\n",
    "    \n",
    "print datetime.date.today().strftime(\"%w\")\n",
    "\n",
    "todays_day_of_month = datetime.date.today().strftime(\"%d\")\n",
    "\n",
    "two_weeks_back = int(todays_day_of_month) - 14 \n",
    "\n",
    "\n",
    "mydate = datetime.date(2018,1, 21)  #year, month, day\n",
    "print(mydate.strftime(\"%w\"))"
   ]
  }
 ],
 "metadata": {
  "kernelspec": {
   "display_name": "Python 2",
   "language": "python",
   "name": "python2"
  },
  "language_info": {
   "codemirror_mode": {
    "name": "ipython",
    "version": 2
   },
   "file_extension": ".py",
   "mimetype": "text/x-python",
   "name": "python",
   "nbconvert_exporter": "python",
   "pygments_lexer": "ipython2",
   "version": "2.7.14"
  }
 },
 "nbformat": 4,
 "nbformat_minor": 2
}
