{
 "cells": [
  {
   "cell_type": "markdown",
   "metadata": {},
   "source": [
    "## Classification\n",
    "\n",
    "\n",
    "### 3.1 Data 1: separate 2 Gaussians\n",
    "\n",
    "Generating data\n",
    "\n",
    "mu1 = (0, 0)\n",
    "mu2 = (1, 1)\n",
    "\n",
    "cov1 = cov2 = \\begin{bmatrix}1\\quad 0\\\\0\\quad 1\\end{bmatrix}"
   ]
  },
  {
   "cell_type": "code",
   "execution_count": 241,
   "metadata": {},
   "outputs": [
    {
     "name": "stdout",
     "output_type": "stream",
     "text": [
      "(2, 20)\n"
     ]
    }
   ],
   "source": [
    "import numpy as np\n",
    "from matplotlib import pyplot\n",
    "from plotnine import *\n",
    "%matplotlib inline\n",
    "import matplotlib.pyplot as plt\n",
    "\n",
    "np.random.seed(42)\n",
    "\n",
    "mu_vec1 = np.array([0, 0])\n",
    "\n",
    "mu_vec2 = np.array([1, 1])\n",
    "\n",
    "cov_mat1 = np.array([[1,0],[0,1]])\n",
    "\n",
    "cov_mat2 = np.array([[1,0],[0,1]])\n",
    "\n",
    "# Draw random samples from a multivariate normal distribution \n",
    "\n",
    "\n",
    "class1_sample = np.random.multivariate_normal(mu_vec1, cov_mat1, 20).T\n",
    "class2_sample = np.random.multivariate_normal(mu_vec2, cov_mat2, 20).T\n",
    "\n",
    "\n",
    "print (class1_sample.shape)\n"
   ]
  },
  {
   "cell_type": "markdown",
   "metadata": {},
   "source": [
    "### Just to get a rough idea how the samples of our two classes a and b are distributed, let us plot them in a 3D scatter plot."
   ]
  },
  {
   "cell_type": "code",
   "execution_count": 242,
   "metadata": {},
   "outputs": [],
   "source": [
    "from plotnine import *\n",
    "%matplotlib inline\n",
    "import matplotlib.pyplot as plt"
   ]
  },
  {
   "cell_type": "code",
   "execution_count": 243,
   "metadata": {},
   "outputs": [
    {
     "data": {
      "image/png": "[encoded data removed]",
      "text/plain": [
       "<Figure size 576x576 with 1 Axes>"
      ]
     },
     "metadata": {},
     "output_type": "display_data"
    }
   ],
   "source": [
    "fig = plt.figure(figsize=(8,8))\n",
    "ax = fig.add_subplot(111)\n",
    "plt.rcParams['legend.fontsize'] = 10   \n",
    "\n",
    "ax.plot(class1_sample[0,:], class1_sample[1,:],\n",
    "        'o', markersize=8, color='blue', alpha=0.5, label='class1')\n",
    "ax.plot(class2_sample[0,:], class2_sample[1,:],\n",
    "        '^', markersize=8, alpha=0.5, color='red', label='class2')\n",
    "\n",
    "plt.title('Samples for class 1 and class 2')\n",
    "ax.legend(loc='upper right')\n",
    "\n",
    "plt.show()"
   ]
  },
  {
   "cell_type": "markdown",
   "metadata": {},
   "source": [
    "### Computing the mean of each class\n",
    "\n",
    "mean vector for each class will be a 2x1 vector"
   ]
  },
  {
   "cell_type": "code",
   "execution_count": 244,
   "metadata": {},
   "outputs": [
    {
     "name": "stdout",
     "output_type": "stream",
     "text": [
      "[-0.17610301 -0.26117067] [ 0.8299379   1.11197517]\n"
     ]
    }
   ],
   "source": [
    "mean_class1_x = np.mean(class1_sample[0])\n",
    "mean_class1_y = np.mean(class1_sample[1])\n",
    "\n",
    "mean_class1 = np.array([mean_class1_x, mean_class1_y])\n",
    "\n",
    "mean_class2_x = np.mean(class2_sample[0])\n",
    "mean_class2_y = np.mean(class2_sample[1])\n",
    "\n",
    "mean_class2 = np.array([mean_class2_x, mean_class2_y])\n",
    "\n",
    "print (mean_class1, mean_class2)"
   ]
  },
  {
   "cell_type": "markdown",
   "metadata": {},
   "source": [
    "Random vector w = [-0.5, 1.5]"
   ]
  },
  {
   "cell_type": "code",
   "execution_count": 245,
   "metadata": {},
   "outputs": [
    {
     "data": {
      "text/plain": [
       "[<matplotlib.lines.Line2D at 0x7fc37bdf82e8>]"
      ]
     },
     "execution_count": 245,
     "metadata": {},
     "output_type": "execute_result"
    },
    {
     "data": {
      "image/png": "[encoded data removed]",
      "text/plain": [
       "<Figure size 432x288 with 1 Axes>"
      ]
     },
     "metadata": {},
     "output_type": "display_data"
    }
   ],
   "source": [
    "fig = plt.figure()\n",
    "ax = plt.axes()\n",
    "\n",
    "plt.plot([0, -0.5], [0, 1.5], 'go-', label='line 1', linewidth=2)\n"
   ]
  },
  {
   "cell_type": "markdown",
   "metadata": {},
   "source": [
    "### Choices of w"
   ]
  },
  {
   "cell_type": "code",
   "execution_count": 246,
   "metadata": {},
   "outputs": [],
   "source": [
    "def compute_projections_and_plot(w):\n",
    "    Y_first_class = w.reshape(1, 2).dot(class1_sample)\n",
    "    Y_second_class = w.reshape(1, 2).dot(class2_sample)\n",
    "    pyplot.hist(Y_first_class[0],  alpha=0.5, label='class 1')\n",
    "    pyplot.hist(Y_second_class[0],  alpha=0.5, label='class 2')\n",
    "    pyplot.legend(loc='upper right')\n",
    "    pyplot.title(\"Plot for choice of w as: \"+str(w))\n",
    "    pyplot.show()"
   ]
  },
  {
   "cell_type": "code",
   "execution_count": 247,
   "metadata": {
    "scrolled": false
   },
   "outputs": [
    {
     "data": {
      "image/png": "[encoded data removed]",
      "text/plain": [
       "<Figure size 432x288 with 1 Axes>"
      ]
     },
     "metadata": {},
     "output_type": "display_data"
    },
    {
     "data": {
      "image/png": "[encoded data removed]",
      "text/plain": [
       "<Figure size 432x288 with 1 Axes>"
      ]
     },
     "metadata": {},
     "output_type": "display_data"
    }
   ],
   "source": [
    "# [1, 1] [-1, 1] [-1, -1], [1, -1]\n",
    "\n",
    "choices_of_w = [[1, 1], [-1, 100]]\n",
    "\n",
    "for choice in choices_of_w:\n",
    "    w = np.array(choice)\n",
    "    compute_projections_and_plot(w)\n",
    "    \n",
    "\n"
   ]
  },
  {
   "cell_type": "markdown",
   "metadata": {},
   "source": [
    "It is clear that when the wt vector lies in 2nd or 3rd quad, there is a lot of overlap\n",
    "\n",
    "Now we try various combinations in 1st or 4th quad"
   ]
  },
  {
   "cell_type": "code",
   "execution_count": 248,
   "metadata": {},
   "outputs": [
    {
     "data": {
      "image/png": "[encoded data removed]",
      "text/plain": [
       "<Figure size 432x288 with 1 Axes>"
      ]
     },
     "metadata": {},
     "output_type": "display_data"
    },
    {
     "data": {
      "image/png": "[encoded data removed]",
      "text/plain": [
       "<Figure size 432x288 with 1 Axes>"
      ]
     },
     "metadata": {},
     "output_type": "display_data"
    },
    {
     "data": {
      "image/png": "[encoded data removed]",
      "text/plain": [
       "<Figure size 432x288 with 1 Axes>"
      ]
     },
     "metadata": {},
     "output_type": "display_data"
    }
   ],
   "source": [
    "choices_of_w = [[100, 1], [1, 100], [1,1]]\n",
    "\n",
    "for choice in choices_of_w:\n",
    "    w = np.array(choice)\n",
    "    compute_projections_and_plot(w)\n",
    "    "
   ]
  },
  {
   "cell_type": "markdown",
   "metadata": {},
   "source": [
    "It seems as if when x and y are similar there is best separation"
   ]
  },
  {
   "cell_type": "markdown",
   "metadata": {},
   "source": [
    "### Y = W.x: computing the projections"
   ]
  },
  {
   "cell_type": "code",
   "execution_count": 249,
   "metadata": {
    "scrolled": true
   },
   "outputs": [
    {
     "name": "stdout",
     "output_type": "stream",
     "text": [
      "(1, 2)\n"
     ]
    },
    {
     "data": {
      "text/plain": [
       "array([ 2.90983486,  1.58324802, -0.1983662 ,  2.59648346,  0.58057813,\n",
       "        1.93900169,  1.93475429,  3.96227964,  0.8515701 ,  3.30680856,\n",
       "        1.33516679, -0.3025416 ,  4.16876585,  2.93152278,  1.71651627,\n",
       "        3.89943217,  3.52881762,  0.2021574 ,  1.78803972,  0.10419186])"
      ]
     },
     "execution_count": 249,
     "metadata": {},
     "output_type": "execute_result"
    }
   ],
   "source": [
    "w = np.array([[1, 1]])\n",
    "print(w.shape)\n",
    "Y_first_class = w.reshape(1, 2).dot(class1_sample)\n",
    "\n",
    "Y_first_class\n",
    "\n",
    "Y_second_class = w.reshape(1, 2).dot(class2_sample)\n",
    "\n",
    "Y_second_class[0]"
   ]
  },
  {
   "cell_type": "code",
   "execution_count": 250,
   "metadata": {
    "scrolled": false
   },
   "outputs": [
    {
     "data": {
      "image/png": "[encoded data removed]",
      "text/plain": [
       "<Figure size 432x288 with 1 Axes>"
      ]
     },
     "metadata": {},
     "output_type": "display_data"
    }
   ],
   "source": [
    "\n",
    "\n",
    "pyplot.hist(Y_first_class[0],  alpha=0.5, label='class 1')\n",
    "pyplot.hist(Y_second_class[0],  alpha=0.5, label='class 2')\n",
    "pyplot.legend(loc='upper right')\n",
    "pyplot.show()"
   ]
  },
  {
   "cell_type": "markdown",
   "metadata": {},
   "source": [
    "We know:\n",
    "\n",
    "$$\\frac{1}{n_{c}}\\sum_{n} w^{T}x^{n} = w^{T}\\frac{1}{n_{c}}\\sum_{n} x^{n} = w^{T}\\mu_{c} = m_{c}$$\n",
    "\n",
    "Also\n",
    "\n",
    "$$\\frac{1}{n_{c}}\\sum_{n} w^{T}x^{n} = \\frac{1}{n_{c}}\\sum_{n} y^{n} = m_{c}$$\n"
   ]
  },
  {
   "cell_type": "code",
   "execution_count": 251,
   "metadata": {
    "scrolled": true
   },
   "outputs": [
    {
     "name": "stdout",
     "output_type": "stream",
     "text": [
      "-0.437273676836\n"
     ]
    }
   ],
   "source": [
    "mean_class1_red = np.mean(Y_first_class)\n",
    "\n",
    "mean_class2_red = np.mean(Y_second_class)\n",
    "\n",
    "print (mean_class1_red)"
   ]
  },
  {
   "cell_type": "code",
   "execution_count": 252,
   "metadata": {
    "scrolled": true
   },
   "outputs": [
    {
     "data": {
      "text/plain": [
       "array([[-0.43727368]])"
      ]
     },
     "execution_count": 252,
     "metadata": {},
     "output_type": "execute_result"
    }
   ],
   "source": [
    "w.reshape(1,2).dot(mean_class1.reshape(2,1))"
   ]
  },
  {
   "cell_type": "markdown",
   "metadata": {},
   "source": [
    "### Computing std devs for projected data for each class\n",
    "\n",
    "- Insert eqn"
   ]
  },
  {
   "cell_type": "code",
   "execution_count": 253,
   "metadata": {},
   "outputs": [
    {
     "data": {
      "text/plain": [
       "1.9617123683811037"
      ]
     },
     "execution_count": 253,
     "metadata": {},
     "output_type": "execute_result"
    }
   ],
   "source": [
    "s_class1_sq = ((Y_first_class - mean_class1_red).dot((Y_first_class - mean_class1_red).T)/20)[0][0]\n",
    "\n",
    "s_class1_sq\n",
    "\n",
    "s_class2_sq = ((Y_second_class - mean_class2_red).dot((Y_second_class - mean_class2_red).T)/20)[0][0]\n",
    "\n",
    "s_class2_sq"
   ]
  },
  {
   "cell_type": "code",
   "execution_count": 254,
   "metadata": {},
   "outputs": [
    {
     "data": {
      "text/plain": [
       "array([[ 33.68743401]])"
      ]
     },
     "execution_count": 254,
     "metadata": {},
     "output_type": "execute_result"
    }
   ],
   "source": [
    "w.reshape(2,1).T.dot((class1_sample - mean_class1.reshape(2, 1)).dot((class1_sample - mean_class1.reshape(2, 1)).T.dot(w.reshape(2, 1))))"
   ]
  },
  {
   "cell_type": "markdown",
   "metadata": {},
   "source": [
    "### Computing Fisher Ratio F(w)\n",
    "\n",
    "$$F(w) = \\frac{(m_{a} + m_{b})^{2}}{\\frac{n_{a}}{n_{a} + n_{b}}s_{a}^{2} + \\frac{n_{b}}{n_{a} + n_{b}}s_{b}^{2}}$$"
   ]
  },
  {
   "cell_type": "code",
   "execution_count": 255,
   "metadata": {},
   "outputs": [
    {
     "name": "stdout",
     "output_type": "stream",
     "text": [
      "w:  [[1 1]]\n"
     ]
    },
    {
     "data": {
      "text/plain": [
       "1.2418472320582281"
      ]
     },
     "execution_count": 255,
     "metadata": {},
     "output_type": "execute_result"
    }
   ],
   "source": [
    "w = np.array([[1,1]]) # 1.2418472320582281 for [1,1]\n",
    "\n",
    "def FisherScore(w):\n",
    "    \n",
    "    print (\"w: \", str(w))\n",
    "    \n",
    "    Y_first_class = w.reshape(1, 2).dot(class1_sample)\n",
    "    Y_second_class = w.reshape(1, 2).dot(class2_sample)\n",
    "    \n",
    "    mean_class1_red = np.mean(Y_first_class)\n",
    "    mean_class2_red = np.mean(Y_second_class)\n",
    "\n",
    "    s_class1_sq = ((Y_first_class - mean_class1_red).dot((Y_first_class - mean_class1_red).T)/20)[0][0]\n",
    "    s_class2_sq = ((Y_second_class - mean_class2_red).dot((Y_second_class - mean_class2_red).T)/20)[0][0]\n",
    "\n",
    "    n_a = len(class1_sample[0])\n",
    "    n_b = len(class2_sample[0])\n",
    "\n",
    "    F_numerator = (mean_class1_red + mean_class2_red)**2\n",
    "\n",
    "    F_denominator = (n_a/(n_a + n_b))*s_class1_sq + (n_a/(n_a + n_b))*s_class2_sq\n",
    "\n",
    "    F = F_numerator/F_denominator\n",
    "\n",
    "    return F\n",
    "\n",
    "FisherScore(w)"
   ]
  },
  {
   "cell_type": "markdown",
   "metadata": {},
   "source": [
    "### w(θ) = R(θ)w(0) "
   ]
  },
  {
   "cell_type": "code",
   "execution_count": 256,
   "metadata": {
    "scrolled": false
   },
   "outputs": [
    {
     "name": "stdout",
     "output_type": "stream",
     "text": [
      "w:  [[  1.11022302e-16]\n",
      " [  1.41421356e+00]]\n",
      "w:  [[-1.]\n",
      " [ 1.]]\n",
      "w:  [[ -1.41421356e+00]\n",
      " [  1.11022302e-16]]\n",
      "w:  [[-1.]\n",
      " [-1.]]\n",
      "w:  [[ -2.22044605e-16]\n",
      " [ -1.41421356e+00]]\n",
      "w:  [[ 1.]\n",
      " [-1.]]\n",
      "w:  [[  1.41421356e+00]\n",
      " [ -3.33066907e-16]]\n",
      "w:  [[ 1.]\n",
      " [ 1.]]\n",
      "[0.69359793091355593, 0.022571117390313974, 0.5877759542567782, 1.2418472320582283, 0.6935979309135567, 0.022571117390314008, 0.58777595425677798, 1.2418472320582279]\n",
      "[0.7853981633974483, 1.5707963267948966, 2.356194490192345, 3.141592653589793, 3.9269908169872414, 4.71238898038469, 5.497787143782138, 6.283185307179586]\n"
     ]
    }
   ],
   "source": [
    "w = np.array([[1,1]])\n",
    "\n",
    "thetas = [np.pi/4, 2*np.pi/4, 3*np.pi/4, 4*np.pi/4, 5*np.pi/4, 6*np.pi/4, 7*np.pi/4, 8*np.pi/4]\n",
    "\n",
    "FisherScores = []\n",
    "\n",
    "for theta in thetas:\n",
    "    w = np.array([[1,1]])\n",
    "    R = np.array([[np.cos(theta), -np.sin(theta)], [np.sin(theta), np.cos(theta)]])\n",
    "    w = R.dot(w.reshape(2,1))\n",
    "    w.reshape(1,2)\n",
    "    FisherScores.append(FisherScore(w))\n",
    "\n",
    "\n",
    "print (FisherScores)\n",
    "\n",
    "print(thetas)"
   ]
  },
  {
   "cell_type": "code",
   "execution_count": 257,
   "metadata": {
    "scrolled": false
   },
   "outputs": [
    {
     "data": {
      "text/plain": [
       "<matplotlib.collections.PathCollection at 0x7fc37b68abe0>"
      ]
     },
     "execution_count": 257,
     "metadata": {},
     "output_type": "execute_result"
    },
    {
     "data": {
      "image/png": "[encoded data removed]",
      "text/plain": [
       "<Figure size 432x288 with 1 Axes>"
      ]
     },
     "metadata": {},
     "output_type": "display_data"
    }
   ],
   "source": [
    "plt.scatter(thetas, FisherScores)"
   ]
  },
  {
   "cell_type": "markdown",
   "metadata": {},
   "source": [
    "Best value of F occurs of theta = pi and theta = 2pi"
   ]
  },
  {
   "cell_type": "markdown",
   "metadata": {},
   "source": [
    "Compute the line"
   ]
  },
  {
   "cell_type": "markdown",
   "metadata": {},
   "source": [
    "### Compute logodds for each point"
   ]
  },
  {
   "cell_type": "code",
   "execution_count": 258,
   "metadata": {},
   "outputs": [],
   "source": [
    "class1_sample = np.random.multivariate_normal(mu_vec1, cov_mat1, 100).T\n",
    "class2_sample = np.random.multivariate_normal(mu_vec2, cov_mat2, 100).T"
   ]
  },
  {
   "cell_type": "code",
   "execution_count": 259,
   "metadata": {},
   "outputs": [
    {
     "data": {
      "text/plain": [
       "array([[ -2.19671888e-01,   3.57112572e-01],\n",
       "       [  1.47789404e+00,  -5.18270218e-01],\n",
       "       [ -8.08493603e-01,  -5.01757044e-01],\n",
       "       [  9.15402118e-01,   3.28751110e-01],\n",
       "       [ -5.29760204e-01,   5.13267433e-01],\n",
       "       [  9.70775493e-02,   9.68644991e-01],\n",
       "       [ -7.02053094e-01,  -3.27662147e-01],\n",
       "       [ -3.92108153e-01,  -1.46351495e+00],\n",
       "       [  2.96120277e-01,   2.61055272e-01],\n",
       "       [  5.11345664e-03,  -2.34587133e-01],\n",
       "       [ -1.41537074e+00,  -4.20645323e-01],\n",
       "       [ -3.42714517e-01,  -8.02277269e-01],\n",
       "       [ -1.61285712e-01,   4.04050857e-01],\n",
       "       [  1.88618590e+00,   1.74577813e-01],\n",
       "       [  2.57550391e-01,  -7.44459158e-02],\n",
       "       [ -1.91877122e+00,  -2.65138754e-02],\n",
       "       [  6.02302099e-02,   2.46324211e+00],\n",
       "       [ -1.92360965e-01,   3.01547342e-01],\n",
       "       [ -3.47117697e-02,  -1.16867804e+00],\n",
       "       [  1.14282281e+00,   7.51933033e-01],\n",
       "       [  7.91031947e-01,  -9.09387455e-01],\n",
       "       [  1.40279431e+00,  -1.40185106e+00],\n",
       "       [  5.86857094e-01,   2.19045563e+00],\n",
       "       [ -9.90536325e-01,  -5.66297730e-01],\n",
       "       [  9.96513651e-02,  -5.03475654e-01],\n",
       "       [ -1.55066343e+00,   6.85629748e-02],\n",
       "       [ -1.06230371e+00,   4.73592431e-01],\n",
       "       [ -9.19424234e-01,   1.54993441e+00],\n",
       "       [ -7.83253292e-01,  -3.22061516e-01],\n",
       "       [  8.13517217e-01,  -1.23086432e+00],\n",
       "       [  2.27459935e-01,   1.30714275e+00],\n",
       "       [ -1.60748323e+00,   1.84633859e-01],\n",
       "       [  2.59882794e-01,   7.81822872e-01],\n",
       "       [ -1.23695071e+00,  -1.32045661e+00],\n",
       "       [  5.21941566e-01,   2.96984673e-01],\n",
       "       [  2.50492850e-01,   3.46448209e-01],\n",
       "       [ -6.80024722e-01,   2.32253697e-01],\n",
       "       [  2.93072473e-01,  -7.14351418e-01],\n",
       "       [  1.86577451e+00,   4.73832921e-01],\n",
       "       [ -1.19130350e+00,   6.56553609e-01],\n",
       "       [ -9.74681670e-01,   7.87084604e-01],\n",
       "       [  1.15859558e+00,  -8.20682318e-01],\n",
       "       [  9.63376129e-01,   4.12780927e-01],\n",
       "       [  8.22060160e-01,   1.89679298e+00],\n",
       "       [ -2.45388116e-01,  -7.53736164e-01],\n",
       "       [ -8.89514430e-01,  -8.15810285e-01],\n",
       "       [ -7.71017094e-02,   3.41151975e-01],\n",
       "       [  2.76690799e-01,   8.27183249e-01],\n",
       "       [  1.30018919e-02,   1.45353408e+00],\n",
       "       [ -2.64656833e-01,   2.72016917e+00],\n",
       "       [  6.25667348e-01,  -8.57157556e-01],\n",
       "       [ -1.07089250e+00,   4.82472415e-01],\n",
       "       [ -2.23462785e-01,   7.14000494e-01],\n",
       "       [  4.73237625e-01,  -7.28289127e-02],\n",
       "       [ -8.46793718e-01,  -1.51484722e+00],\n",
       "       [ -4.46514952e-01,   8.56398794e-01],\n",
       "       [  2.14093744e-01,  -1.24573878e+00],\n",
       "       [  1.73180926e-01,   3.85317380e-01],\n",
       "       [ -8.83857436e-01,   1.53725106e-01],\n",
       "       [  5.82087184e-02,  -1.14297030e+00],\n",
       "       [  3.57787360e-01,   5.60784526e-01],\n",
       "       [  1.08305124e+00,   1.05380205e+00],\n",
       "       [ -1.37766937e+00,  -9.37825040e-01],\n",
       "       [  5.15035267e-01,   5.13785951e-01],\n",
       "       [  5.15047686e-01,   3.85273149e+00],\n",
       "       [  5.70890511e-01,   1.13556564e+00],\n",
       "       [  9.54001763e-01,   6.51391251e-01],\n",
       "       [ -3.15269245e-01,   7.58969220e-01],\n",
       "       [ -7.72825215e-01,  -2.36818607e-01],\n",
       "       [ -4.85363548e-01,   8.18741394e-02],\n",
       "       [  2.31465857e+00,  -1.86726519e+00],\n",
       "       [  6.86260190e-01,  -1.61271587e+00],\n",
       "       [ -4.71931866e-01,   1.08895060e+00],\n",
       "       [  6.42800191e-02,  -1.07774478e+00],\n",
       "       [ -7.15303709e-01,   6.79597749e-01],\n",
       "       [ -7.30366632e-01,   2.16458590e-01],\n",
       "       [  4.55718399e-02,  -6.51600348e-01],\n",
       "       [  2.14394409e+00,   6.33919022e-01],\n",
       "       [ -2.02514259e+00,   1.86454315e-01],\n",
       "       [ -6.61786465e-01,   8.52433335e-01],\n",
       "       [ -7.92520738e-01,  -1.14736441e-01],\n",
       "       [  5.04987279e-01,   8.65755194e-01],\n",
       "       [ -1.20029641e+00,  -3.34501236e-01],\n",
       "       [ -4.74945311e-01,  -6.53329233e-01],\n",
       "       [  1.76545424e+00,   4.04981711e-01],\n",
       "       [ -1.26088395e+00,   9.17861947e-01],\n",
       "       [  2.12215620e+00,   1.03246526e+00],\n",
       "       [ -1.51936997e+00,  -4.84234073e-01],\n",
       "       [  1.26691115e+00,  -7.07669466e-01],\n",
       "       [  4.43819428e-01,   7.74634053e-01],\n",
       "       [ -9.26930472e-01,  -5.95253561e-02],\n",
       "       [ -3.24126734e+00,  -1.02438764e+00],\n",
       "       [ -2.52568151e-01,  -1.24778318e+00],\n",
       "       [  1.63241130e+00,  -1.43014138e+00],\n",
       "       [ -4.40044487e-01,   1.30740577e-01],\n",
       "       [  1.44127329e+00,  -1.43586215e+00],\n",
       "       [  1.16316375e+00,   1.02330610e-02],\n",
       "       [ -9.81508651e-01,   4.62103474e-01],\n",
       "       [  1.99059696e-01,  -6.00216877e-01],\n",
       "       [  6.98020850e-02,  -3.85313597e-01],\n",
       "       [  1.11351735e+00,   1.66213067e+00],\n",
       "       [  2.58601682e+00,  -2.37815499e-01],\n",
       "       [  3.13303337e+00,  -9.52087800e-01],\n",
       "       [  8.48214905e-01,   1.58831721e+00],\n",
       "       [  1.28099187e+00,   3.77300480e-01],\n",
       "       [  7.91877750e-01,   5.06999065e-01],\n",
       "       [  4.10635243e-01,   1.84960210e+00],\n",
       "       [  1.35701549e+00,   3.07090405e-01],\n",
       "       [  1.89959988e+00,   1.30729952e+00],\n",
       "       [  1.81286212e+00,   1.62962884e+00],\n",
       "       [  1.71004989e-01,   4.39818960e-01],\n",
       "       [  1.74729361e+00,   1.61037027e+00],\n",
       "       [  9.79098406e-01,   1.11732738e+00],\n",
       "       [  2.27766490e+00,   4.08428611e-01],\n",
       "       [  1.54709738e+00,   7.97807348e-01],\n",
       "       [  7.82318797e-01,   2.09877685e+00],\n",
       "       [  1.82541635e+00,   1.81350964e+00],\n",
       "       [  2.30547881e+00,   1.02100384e+00],\n",
       "       [  1.68195297e+00,   6.89733243e-01],\n",
       "       [  1.32416635e+00,   8.69856946e-01],\n",
       "       [  1.09699596e+00,   1.59515703e+00],\n",
       "       [  1.81779317e-01,   3.09238728e+00],\n",
       "       [ -6.01738150e-03,  -2.14188613e-01],\n",
       "       [  2.15811087e+00,   1.79166269e+00],\n",
       "       [  1.62411982e+00,   1.62834551e+00],\n",
       "       [  9.87753227e-01,   1.02745629e-01],\n",
       "       [  1.07580456e+00,   3.22838288e-01],\n",
       "       [  1.97511973e+00,   8.52942618e-01],\n",
       "       [  1.74502803e-01,   6.78614158e-01],\n",
       "       [  1.41293145e+00,   4.36275447e-01],\n",
       "       [  1.77779604e-01,   1.24368721e+00],\n",
       "       [  1.24496657e+00,   4.93056825e-01],\n",
       "       [  5.28961694e-01,   1.23204994e+00],\n",
       "       [ -4.48084341e-01,  -4.07463774e-01],\n",
       "       [  2.81555779e-01,   7.86552848e-01],\n",
       "       [  1.31090757e+00,   2.47535622e+00],\n",
       "       [  1.85765962e+00,   8.40061470e-01],\n",
       "       [  9.80983792e-01,  -2.52936464e-03],\n",
       "       [  9.81486864e-01,   7.11341361e-01],\n",
       "       [  1.32271856e+00,   1.72769056e-01],\n",
       "       [  1.51934651e+00,   2.53273891e+00],\n",
       "       [  8.91239852e-01,   1.40171172e+00],\n",
       "       [  1.69014399e+00,   5.98779528e-01],\n",
       "       [  1.22409248e+00,   1.01259240e+00],\n",
       "       [  1.09767610e+00,   2.26990216e-01],\n",
       "       [  1.02451017e+00,   1.49799829e+00],\n",
       "       [  2.45114361e+00,   1.95927083e+00],\n",
       "       [  3.15318246e+00,   2.32652437e-01],\n",
       "       [  1.87232064e+00,   1.18334201e+00],\n",
       "       [  3.18980293e+00,   1.91701715e-01],\n",
       "       [  1.60278158e-01,   4.00607355e-01],\n",
       "       [ -1.12389572e+00,   4.74244978e-01],\n",
       "       [  2.40867338e-01,   1.15039379e+00],\n",
       "       [  1.34175598e+00,   2.87617084e+00],\n",
       "       [  1.95042384e+00,   4.23096344e-01],\n",
       "       [  1.01585329e-01,   1.49191917e+00],\n",
       "       [ -3.20233207e-01,   2.83145877e+00],\n",
       "       [  2.17944012e+00,   5.30824348e-01],\n",
       "       [ -7.13134529e-01,   2.35387237e+00],\n",
       "       [  8.85460155e-01,   2.23781631e+00],\n",
       "       [ -5.94427659e-01,   4.00624977e-01],\n",
       "       [  1.00524370e+00,   1.04698059e+00],\n",
       "       [  5.49934529e-01,   1.62284993e+00],\n",
       "       [ -6.76204294e-02,   8.57620515e-01],\n",
       "       [  1.12029563e+00,   1.51443883e+00],\n",
       "       [  1.71161488e+00,  -1.24642092e-01],\n",
       "       [ -5.34114171e-01,   2.27767682e+00],\n",
       "       [  1.33231401e+00,   2.51513463e-01],\n",
       "       [  2.55115198e+00,   1.11567463e+00],\n",
       "       [  2.17929718e+00,   1.06751848e+00],\n",
       "       [  3.06074792e+00,   2.75534084e+00],\n",
       "       [  7.51035852e-01,   1.97157095e+00],\n",
       "       [  1.64537595e+00,   2.36863156e+00],\n",
       "       [  3.50765394e-02,   1.68605146e+00],\n",
       "       [  2.05842449e+00,  -7.58739486e-01],\n",
       "       [ -1.83258513e-01,  -1.03923218e+00],\n",
       "       [  7.30593166e-01,   1.71754226e+00],\n",
       "       [  2.50235705e+00,   1.07409478e+00],\n",
       "       [  2.62861555e+00,  -3.80101458e-01],\n",
       "       [ -7.03382439e-01,   9.44452301e-01],\n",
       "       [  1.38406545e+00,   9.67305252e-01],\n",
       "       [ -1.06744210e+00,   9.10879960e-01],\n",
       "       [ -3.04469501e-01,   1.66967255e+00],\n",
       "       [  1.36659825e+00,   6.01202137e-02],\n",
       "       [  4.86133083e-01,  -5.92135219e-02],\n",
       "       [  9.37320903e-01,   1.95514232e+00],\n",
       "       [  1.42739537e-02,   1.50404652e+00],\n",
       "       [  4.69742382e-01,   2.07127168e-01],\n",
       "       [  8.92969640e-01,  -3.52423224e-02],\n",
       "       [  4.46350695e-01,  -1.97877893e-01],\n",
       "       [  2.96472513e+00,   1.03526355e+00],\n",
       "       [  3.00274492e-01,   1.21397991e+00],\n",
       "       [  8.87671950e-01,   7.79030400e-01],\n",
       "       [  1.61416670e+00,   1.75750771e+00],\n",
       "       [  4.69498852e-01,   4.24181759e-01],\n",
       "       [  7.24948303e-01,  -1.30192116e+00],\n",
       "       [ -5.15191062e-01,   2.36687427e+00],\n",
       "       [  2.64496771e+00,   7.50963960e-01],\n",
       "       [  1.57655696e+00,   1.31125015e+00],\n",
       "       [  4.07888081e+00,   2.11957491e+00]])"
      ]
     },
     "execution_count": 259,
     "metadata": {},
     "output_type": "execute_result"
    }
   ],
   "source": [
    "set_of_points = []\n",
    "\n",
    "for index in range(len(class1_sample[0])):\n",
    "    set_of_points.append([class1_sample[0][index], class1_sample[1][index]])\n",
    "    \n",
    "for index in range(len(class2_sample[0])):\n",
    "    set_of_points.append([class2_sample[0][index], class2_sample[1][index]])\n",
    "    \n",
    "set_of_points = np.array(set_of_points)\n",
    "\n",
    "set_of_points"
   ]
  },
  {
   "cell_type": "code",
   "execution_count": 260,
   "metadata": {},
   "outputs": [
    {
     "data": {
      "text/plain": [
       "(2,)"
      ]
     },
     "execution_count": 260,
     "metadata": {},
     "output_type": "execute_result"
    }
   ],
   "source": [
    "mean_class1.shape"
   ]
  },
  {
   "cell_type": "code",
   "execution_count": 261,
   "metadata": {},
   "outputs": [
    {
     "name": "stdout",
     "output_type": "stream",
     "text": [
      "0.0198661809243\n"
     ]
    },
    {
     "data": {
      "text/plain": [
       "[array([ 0.52194157,  0.29698467])]"
      ]
     },
     "execution_count": 261,
     "metadata": {},
     "output_type": "execute_result"
    }
   ],
   "source": [
    "inverse_cov = np.linalg.inv(cov_mat1)\n",
    "\n",
    "log_odds = []\n",
    "\n",
    "points_where_log_odds_positive = []\n",
    "points_where_log_odds_negative = []\n",
    "points_where_log_odds_zero = []\n",
    "\n",
    "\n",
    "for point in set_of_points: \n",
    "\n",
    "    x_minus_mu_1 = inverse_cov.dot((point.reshape(2,1) - mean_class1.reshape(2,1)))\n",
    "\n",
    "    x_minus_mu_1 = ((point.reshape(2,1) - mean_class1.reshape(2,1)).T).dot(x_minus_mu_1)\n",
    "\n",
    "    x_minus_mu_1 = x_minus_mu_1[0][0]\n",
    "\n",
    "    \n",
    "\n",
    "\n",
    "\n",
    "    x_minus_mu_2 = inverse_cov.dot((point.reshape(2,1) - mean_class2.reshape(2,1)))\n",
    "\n",
    "    x_minus_mu_2 = ((point.reshape(2,1) - mean_class2.reshape(2,1)).T).dot(x_minus_mu_2)\n",
    "\n",
    "    x_minus_mu_2 = x_minus_mu_2[0][0]\n",
    "\n",
    "    \n",
    "\n",
    "    log_odd = 0.5 * (x_minus_mu_1 - x_minus_mu_2)\n",
    "    \n",
    "\n",
    "    if (log_odd > 0.025):\n",
    "        points_where_log_odds_positive.append(point)\n",
    "    elif (log_odd < -0.025):\n",
    "        points_where_log_odds_negative.append(point)\n",
    "    else:\n",
    "        print (log_odd)\n",
    "        points_where_log_odds_zero.append(point)\n",
    "\n",
    "    \n",
    "points_where_log_odds_zero"
   ]
  },
  {
   "cell_type": "code",
   "execution_count": 264,
   "metadata": {},
   "outputs": [
    {
     "data": {
      "text/plain": [
       "[<matplotlib.lines.Line2D at 0x7fc37cffa780>]"
      ]
     },
     "execution_count": 264,
     "metadata": {},
     "output_type": "execute_result"
    },
    {
     "data": {
      "image/png": "[encoded data removed]",
      "text/plain": [
       "<Figure size 432x288 with 1 Axes>"
      ]
     },
     "metadata": {},
     "output_type": "display_data"
    }
   ],
   "source": [
    "points_where_log_odds_zero = np.array(points_where_log_odds_zero)\n",
    "\n",
    "points_where_log_odds_zero_x = points_where_log_odds_zero[:,0]\n",
    "points_where_log_odds_zero_y = points_where_log_odds_zero[:,1]\n",
    "\n",
    "plt.plot(points_where_log_odds_zero_x, points_where_log_odds_zero_y)"
   ]
  },
  {
   "cell_type": "markdown",
   "metadata": {},
   "source": [
    "### Equation of line where log odds vanishes\n",
    "\n",
    "y - y1 = m (x-x1)"
   ]
  },
  {
   "cell_type": "code",
   "execution_count": 263,
   "metadata": {},
   "outputs": [
    {
     "ename": "IndexError",
     "evalue": "index 1 is out of bounds for axis 0 with size 1",
     "output_type": "error",
     "traceback": [
      "\u001b[0;31m---------------------------------------------------------------------------\u001b[0m",
      "\u001b[0;31mIndexError\u001b[0m                                Traceback (most recent call last)",
      "\u001b[0;32m<ipython-input-263-1e9c608bdbca>\u001b[0m in \u001b[0;36m<module>\u001b[0;34m()\u001b[0m\n\u001b[0;32m----> 1\u001b[0;31m \u001b[0mm\u001b[0m \u001b[0;34m=\u001b[0m \u001b[0;34m(\u001b[0m\u001b[0mpoints_where_log_odds_zero_y\u001b[0m\u001b[0;34m[\u001b[0m\u001b[0;36m1\u001b[0m\u001b[0;34m]\u001b[0m \u001b[0;34m-\u001b[0m \u001b[0mpoints_where_log_odds_zero_y\u001b[0m\u001b[0;34m[\u001b[0m\u001b[0;36m0\u001b[0m\u001b[0;34m]\u001b[0m\u001b[0;34m)\u001b[0m\u001b[0;34m/\u001b[0m \u001b[0;34m(\u001b[0m\u001b[0mpoints_where_log_odds_zero_x\u001b[0m\u001b[0;34m[\u001b[0m\u001b[0;36m1\u001b[0m\u001b[0;34m]\u001b[0m \u001b[0;34m-\u001b[0m \u001b[0mpoints_where_log_odds_zero_x\u001b[0m\u001b[0;34m[\u001b[0m\u001b[0;36m0\u001b[0m\u001b[0;34m]\u001b[0m\u001b[0;34m)\u001b[0m\u001b[0;34m\u001b[0m\u001b[0m\n\u001b[0m\u001b[1;32m      2\u001b[0m \u001b[0;34m\u001b[0m\u001b[0m\n\u001b[1;32m      3\u001b[0m \u001b[0mm\u001b[0m\u001b[0;34m\u001b[0m\u001b[0m\n",
      "\u001b[0;31mIndexError\u001b[0m: index 1 is out of bounds for axis 0 with size 1"
     ]
    }
   ],
   "source": [
    "m = (points_where_log_odds_zero_y[1] - points_where_log_odds_zero_y[0])/ (points_where_log_odds_zero_x[1] - points_where_log_odds_zero_x[0])\n",
    "\n",
    "m"
   ]
  },
  {
   "cell_type": "markdown",
   "metadata": {},
   "source": [
    "### Eqn : y - 0.6 = -0.76 (x - 0.1)"
   ]
  },
  {
   "cell_type": "code",
   "execution_count": 265,
   "metadata": {
    "scrolled": false
   },
   "outputs": [
    {
     "data": {
      "image/png": "[encoded data removed]",
      "text/plain": [
       "<Figure size 576x576 with 1 Axes>"
      ]
     },
     "metadata": {},
     "output_type": "display_data"
    }
   ],
   "source": [
    "fig = plt.figure(figsize=(8,8))\n",
    "ax = fig.add_subplot(111)\n",
    "plt.rcParams['legend.fontsize'] = 10   \n",
    "\n",
    "ax.plot(class1_sample[0,:], class1_sample[1,:],\n",
    "        'o', markersize=8, color='blue', alpha=0.5, label='class1')\n",
    "ax.plot(class2_sample[0,:], class2_sample[1,:],\n",
    "        '^', markersize=8, alpha=0.5, color='red', label='class2')\n",
    "\n",
    "ax.plot([-2,2], [2.2, -0.84])\n",
    "\n",
    "plt.title('Samples for class 1 and class 2')\n",
    "ax.legend(loc='upper right')\n",
    "\n",
    "plt.show()"
   ]
  },
  {
   "cell_type": "markdown",
   "metadata": {},
   "source": [
    "### Explore the consequences of using a formula for the discriminant\n",
    "\n",
    "\n",
    "Compute new Fisher Score\n",
    "\n",
    "new line\n",
    "\n",
    "Here s_a and s_b are not normalized by respective populations\n",
    "\n",
    "So if number of data points on one class is much more that would dominate the fisherscore -> projected w -> final projections\n",
    "\n",
    "This is accounted for the Prior prob in Bayes rule which adds in a bias which takes into account if one class is much more likely to occur than the other"
   ]
  }
 ],
 "metadata": {
  "kernelspec": {
   "display_name": "Python 3",
   "language": "python",
   "name": "python3"
  },
  "language_info": {
   "codemirror_mode": {
    "name": "ipython",
    "version": 3
   },
   "file_extension": ".py",
   "mimetype": "text/x-python",
   "name": "python",
   "nbconvert_exporter": "python",
   "pygments_lexer": "ipython3",
   "version": "3.6.3"
  }
 },
 "nbformat": 4,
 "nbformat_minor": 2
}
