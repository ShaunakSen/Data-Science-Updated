{
 "cells": [
  {
   "cell_type": "markdown",
   "metadata": {},
   "source": [
    "## Classification\n",
    "\n",
    "\n",
    "### 3.1 Data 1: separate 2 Gaussians\n",
    "\n",
    "Generating data\n",
    "\n",
    "mu1 = (0, 0)\n",
    "mu2 = (1, 1)\n",
    "\n",
    "cov1 = cov2 = \\begin{bmatrix}1\\quad 0\\\\0\\quad 1\\end{bmatrix}"
   ]
  },
  {
   "cell_type": "code",
   "execution_count": 68,
   "metadata": {},
   "outputs": [
    {
     "name": "stdout",
     "output_type": "stream",
     "text": [
      "(2, 20)\n"
     ]
    }
   ],
   "source": [
    "import numpy as np\n",
    "from matplotlib import pyplot\n",
    "from plotnine import *\n",
    "%matplotlib inline\n",
    "import matplotlib.pyplot as plt\n",
    "\n",
    "np.random.seed(42)\n",
    "\n",
    "mu_vec1 = np.array([0, 0])\n",
    "\n",
    "mu_vec2 = np.array([1, 1])\n",
    "\n",
    "cov_mat1 = np.array([[1,0],[0,1]])\n",
    "\n",
    "cov_mat2 = np.array([[1,0],[0,1]])\n",
    "\n",
    "# Draw random samples from a multivariate normal distribution \n",
    "\n",
    "\n",
    "class1_sample = np.random.multivariate_normal(mu_vec1, cov_mat1, 20).T\n",
    "class2_sample = np.random.multivariate_normal(mu_vec2, cov_mat2, 20).T\n",
    "\n",
    "\n",
    "print (class1_sample.shape)\n"
   ]
  },
  {
   "cell_type": "markdown",
   "metadata": {},
   "source": [
    "### Just to get a rough idea how the samples of our two classes a and b are distributed, let us plot them in a 3D scatter plot."
   ]
  },
  {
   "cell_type": "code",
   "execution_count": 69,
   "metadata": {},
   "outputs": [],
   "source": [
    "from plotnine import *\n",
    "%matplotlib inline\n",
    "import matplotlib.pyplot as plt"
   ]
  },
  {
   "cell_type": "code",
   "execution_count": 70,
   "metadata": {},
   "outputs": [
    {
     "data": {
      "image/png": "[encoded data removed]",
      "text/plain": [
       "<Figure size 576x576 with 1 Axes>"
      ]
     },
     "metadata": {},
     "output_type": "display_data"
    }
   ],
   "source": [
    "fig = plt.figure(figsize=(8,8))\n",
    "ax = fig.add_subplot(111)\n",
    "plt.rcParams['legend.fontsize'] = 10   \n",
    "\n",
    "ax.plot(class1_sample[0,:], class1_sample[1,:],\n",
    "        'o', markersize=8, color='blue', alpha=0.5, label='class1')\n",
    "ax.plot(class2_sample[0,:], class2_sample[1,:],\n",
    "        '^', markersize=8, alpha=0.5, color='red', label='class2')\n",
    "\n",
    "plt.title('Samples for class 1 and class 2')\n",
    "ax.legend(loc='upper right')\n",
    "\n",
    "plt.show()"
   ]
  },
  {
   "cell_type": "markdown",
   "metadata": {},
   "source": [
    "### Computing the mean of each class\n",
    "\n",
    "mean vector for each class will be a 2x1 vector"
   ]
  },
  {
   "cell_type": "code",
   "execution_count": 71,
   "metadata": {},
   "outputs": [
    {
     "name": "stdout",
     "output_type": "stream",
     "text": [
      "[-0.17610301 -0.26117067] [ 0.8299379   1.11197517]\n"
     ]
    }
   ],
   "source": [
    "mean_class1_x = np.mean(class1_sample[0])\n",
    "mean_class1_y = np.mean(class1_sample[1])\n",
    "\n",
    "mean_class1 = np.array([mean_class1_x, mean_class1_y])\n",
    "\n",
    "mean_class2_x = np.mean(class2_sample[0])\n",
    "mean_class2_y = np.mean(class2_sample[1])\n",
    "\n",
    "mean_class2 = np.array([mean_class2_x, mean_class2_y])\n",
    "\n",
    "print (mean_class1, mean_class2)"
   ]
  },
  {
   "cell_type": "markdown",
   "metadata": {},
   "source": [
    "Random vector w = [-0.5, 1.5]"
   ]
  },
  {
   "cell_type": "code",
   "execution_count": 72,
   "metadata": {},
   "outputs": [
    {
     "data": {
      "text/plain": [
       "[<matplotlib.lines.Line2D at 0x7fc37ca83ef0>]"
      ]
     },
     "execution_count": 72,
     "metadata": {},
     "output_type": "execute_result"
    },
    {
     "data": {
      "image/png": "[encoded data removed]",
      "text/plain": [
       "<Figure size 432x288 with 1 Axes>"
      ]
     },
     "metadata": {},
     "output_type": "display_data"
    }
   ],
   "source": [
    "fig = plt.figure()\n",
    "ax = plt.axes()\n",
    "\n",
    "plt.plot([0, -0.5], [0, 1.5], 'go-', label='line 1', linewidth=2)\n"
   ]
  },
  {
   "cell_type": "markdown",
   "metadata": {},
   "source": [
    "### Choices of w"
   ]
  },
  {
   "cell_type": "code",
   "execution_count": 73,
   "metadata": {},
   "outputs": [],
   "source": [
    "def compute_projections_and_plot(w):\n",
    "    Y_first_class = w.reshape(1, 2).dot(class1_sample)\n",
    "    Y_second_class = w.reshape(1, 2).dot(class2_sample)\n",
    "    pyplot.hist(Y_first_class[0],  alpha=0.5, label='class 1')\n",
    "    pyplot.hist(Y_second_class[0],  alpha=0.5, label='class 2')\n",
    "    pyplot.legend(loc='upper right')\n",
    "    pyplot.title(\"Plot for choice of w as: \"+str(w))\n",
    "    pyplot.show()"
   ]
  },
  {
   "cell_type": "code",
   "execution_count": 74,
   "metadata": {
    "scrolled": false
   },
   "outputs": [
    {
     "data": {
      "image/png": "[encoded data removed]",
      "text/plain": [
       "<Figure size 432x288 with 1 Axes>"
      ]
     },
     "metadata": {},
     "output_type": "display_data"
    },
    {
     "data": {
      "image/png": "[encoded data removed]",
      "text/plain": [
       "<Figure size 432x288 with 1 Axes>"
      ]
     },
     "metadata": {},
     "output_type": "display_data"
    }
   ],
   "source": [
    "# [1, 1] [-1, 1] [-1, -1], [1, -1]\n",
    "\n",
    "choices_of_w = [[1, 1], [-1, 100]]\n",
    "\n",
    "for choice in choices_of_w:\n",
    "    w = np.array(choice)\n",
    "    compute_projections_and_plot(w)\n",
    "    \n",
    "\n"
   ]
  },
  {
   "cell_type": "markdown",
   "metadata": {},
   "source": [
    "It is clear that when the wt vector lies in 2nd or 3rd quad, there is a lot of overlap\n",
    "\n",
    "Now we try various combinations in 1st or 4th quad"
   ]
  },
  {
   "cell_type": "code",
   "execution_count": 75,
   "metadata": {},
   "outputs": [
    {
     "data": {
      "image/png": "[encoded data removed]",
      "text/plain": [
       "<Figure size 432x288 with 1 Axes>"
      ]
     },
     "metadata": {},
     "output_type": "display_data"
    },
    {
     "data": {
      "image/png": "[encoded data removed]",
      "text/plain": [
       "<Figure size 432x288 with 1 Axes>"
      ]
     },
     "metadata": {},
     "output_type": "display_data"
    },
    {
     "data": {
      "image/png": "[encoded data removed]",
      "text/plain": [
       "<Figure size 432x288 with 1 Axes>"
      ]
     },
     "metadata": {},
     "output_type": "display_data"
    }
   ],
   "source": [
    "choices_of_w = [[100, 1], [1, 100], [1,1]]\n",
    "\n",
    "for choice in choices_of_w:\n",
    "    w = np.array(choice)\n",
    "    compute_projections_and_plot(w)\n",
    "    "
   ]
  },
  {
   "cell_type": "markdown",
   "metadata": {},
   "source": [
    "It seems as if when x and y are similar there is best separation"
   ]
  },
  {
   "cell_type": "markdown",
   "metadata": {},
   "source": [
    "### Y = W.x: computing the projections"
   ]
  },
  {
   "cell_type": "code",
   "execution_count": 76,
   "metadata": {
    "scrolled": true
   },
   "outputs": [
    {
     "name": "stdout",
     "output_type": "stream",
     "text": [
      "(1, 2)\n"
     ]
    },
    {
     "data": {
      "text/plain": [
       "array([ 2.90983486,  1.58324802, -0.1983662 ,  2.59648346,  0.58057813,\n",
       "        1.93900169,  1.93475429,  3.96227964,  0.8515701 ,  3.30680856,\n",
       "        1.33516679, -0.3025416 ,  4.16876585,  2.93152278,  1.71651627,\n",
       "        3.89943217,  3.52881762,  0.2021574 ,  1.78803972,  0.10419186])"
      ]
     },
     "execution_count": 76,
     "metadata": {},
     "output_type": "execute_result"
    }
   ],
   "source": [
    "w = np.array([[1, 1]])\n",
    "print(w.shape)\n",
    "Y_first_class = w.reshape(1, 2).dot(class1_sample)\n",
    "\n",
    "Y_first_class\n",
    "\n",
    "Y_second_class = w.reshape(1, 2).dot(class2_sample)\n",
    "\n",
    "Y_second_class[0]"
   ]
  },
  {
   "cell_type": "code",
   "execution_count": 77,
   "metadata": {
    "scrolled": false
   },
   "outputs": [
    {
     "data": {
      "image/png": "[encoded data removed]",
      "text/plain": [
       "<Figure size 432x288 with 1 Axes>"
      ]
     },
     "metadata": {},
     "output_type": "display_data"
    }
   ],
   "source": [
    "\n",
    "\n",
    "pyplot.hist(Y_first_class[0],  alpha=0.5, label='class 1')\n",
    "pyplot.hist(Y_second_class[0],  alpha=0.5, label='class 2')\n",
    "pyplot.legend(loc='upper right')\n",
    "pyplot.show()"
   ]
  },
  {
   "cell_type": "markdown",
   "metadata": {},
   "source": [
    "We know:\n",
    "\n",
    "$$\\frac{1}{n_{c}}\\sum_{n} w^{T}x^{n} = w^{T}\\frac{1}{n_{c}}\\sum_{n} x^{n} = w^{T}\\mu_{c} = m_{c}$$\n",
    "\n",
    "Also\n",
    "\n",
    "$$\\frac{1}{n_{c}}\\sum_{n} w^{T}x^{n} = \\frac{1}{n_{c}}\\sum_{n} y^{n} = m_{c}$$\n"
   ]
  },
  {
   "cell_type": "code",
   "execution_count": 78,
   "metadata": {
    "scrolled": true
   },
   "outputs": [
    {
     "name": "stdout",
     "output_type": "stream",
     "text": [
      "-0.437273676836\n"
     ]
    }
   ],
   "source": [
    "mean_class1_red = np.mean(Y_first_class)\n",
    "\n",
    "mean_class2_red = np.mean(Y_second_class)\n",
    "\n",
    "print (mean_class1_red)"
   ]
  },
  {
   "cell_type": "code",
   "execution_count": 79,
   "metadata": {
    "scrolled": true
   },
   "outputs": [
    {
     "data": {
      "text/plain": [
       "array([[-0.43727368]])"
      ]
     },
     "execution_count": 79,
     "metadata": {},
     "output_type": "execute_result"
    }
   ],
   "source": [
    "w.reshape(1,2).dot(mean_class1.reshape(2,1))"
   ]
  },
  {
   "cell_type": "markdown",
   "metadata": {},
   "source": [
    "### Computing std devs for projected data for each class\n",
    "\n",
    "- Insert eqn"
   ]
  },
  {
   "cell_type": "code",
   "execution_count": 80,
   "metadata": {},
   "outputs": [
    {
     "data": {
      "text/plain": [
       "1.9617123683811037"
      ]
     },
     "execution_count": 80,
     "metadata": {},
     "output_type": "execute_result"
    }
   ],
   "source": [
    "s_class1_sq = ((Y_first_class - mean_class1_red).dot((Y_first_class - mean_class1_red).T)/20)[0][0]\n",
    "\n",
    "s_class1_sq\n",
    "\n",
    "s_class2_sq = ((Y_second_class - mean_class2_red).dot((Y_second_class - mean_class2_red).T)/20)[0][0]\n",
    "\n",
    "s_class2_sq"
   ]
  },
  {
   "cell_type": "code",
   "execution_count": 81,
   "metadata": {},
   "outputs": [
    {
     "data": {
      "text/plain": [
       "array([[ 33.68743401]])"
      ]
     },
     "execution_count": 81,
     "metadata": {},
     "output_type": "execute_result"
    }
   ],
   "source": [
    "w.reshape(2,1).T.dot((class1_sample - mean_class1.reshape(2, 1)).dot((class1_sample - mean_class1.reshape(2, 1)).T.dot(w.reshape(2, 1))))"
   ]
  },
  {
   "cell_type": "markdown",
   "metadata": {},
   "source": [
    "### Computing Fisher Ratio F(w)\n",
    "\n",
    "$$F(w) = \\frac{(m_{a} + m_{b})^{2}}{\\frac{n_{a}}{n_{a} + n_{b}}s_{a}^{2} + \\frac{n_{b}}{n_{a} + n_{b}}s_{b}^{2}}$$"
   ]
  },
  {
   "cell_type": "code",
   "execution_count": 117,
   "metadata": {},
   "outputs": [
    {
     "data": {
      "text/plain": [
       "1.0210868526232622"
      ]
     },
     "execution_count": 117,
     "metadata": {},
     "output_type": "execute_result"
    }
   ],
   "source": [
    "w = np.array([[3,1]]) # 1.2418472320582281 for [1,1]\n",
    "\n",
    "def FisherScore(w):\n",
    "    \n",
    "    print (\"w:\")\n",
    "    \n",
    "    Y_first_class = w.reshape(1, 2).dot(class1_sample)\n",
    "    Y_second_class = w.reshape(1, 2).dot(class2_sample)\n",
    "    \n",
    "    mean_class1_red = np.mean(Y_first_class)\n",
    "    mean_class2_red = np.mean(Y_second_class)\n",
    "\n",
    "    s_class1_sq = ((Y_first_class - mean_class1_red).dot((Y_first_class - mean_class1_red).T)/20)[0][0]\n",
    "    s_class2_sq = ((Y_second_class - mean_class2_red).dot((Y_second_class - mean_class2_red).T)/20)[0][0]\n",
    "\n",
    "    n_a = len(class1_sample[0])\n",
    "    n_b = len(class2_sample[0])\n",
    "\n",
    "    F_numerator = (mean_class1_red + mean_class2_red)**2\n",
    "\n",
    "    F_denominator = (n_a/(n_a + n_b))*s_class1_sq + (n_a/(n_a + n_b))*s_class2_sq\n",
    "\n",
    "    F = F_numerator/F_denominator\n",
    "\n",
    "    return F\n",
    "\n",
    "FisherScore(w)"
   ]
  },
  {
   "cell_type": "markdown",
   "metadata": {},
   "source": [
    "### w(θ) = R(θ)w(0) "
   ]
  },
  {
   "cell_type": "code",
   "execution_count": 115,
   "metadata": {
    "scrolled": false
   },
   "outputs": [
    {
     "name": "stdout",
     "output_type": "stream",
     "text": [
      "[[ -1.41421356e+00]\n",
      " [  2.99760217e-15]]\n"
     ]
    },
    {
     "data": {
      "text/plain": [
       "array([[ -1.41421356e+00,   2.99760217e-15]])"
      ]
     },
     "execution_count": 115,
     "metadata": {},
     "output_type": "execute_result"
    }
   ],
   "source": [
    "theta = np.pi/4\n",
    "\n",
    "R = np.array([[np.cos(theta), -np.sin(theta)], [np.sin(theta), np.cos(theta)]])\n",
    "\n",
    "R\n",
    "\n",
    "w = R.dot(w.reshape(2,1))\n",
    "print (w)\n",
    "w.reshape(1,2)\n",
    "\n",
    "FisherScore(w)"
   ]
  }
 ],
 "metadata": {
  "kernelspec": {
   "display_name": "Python 3",
   "language": "python",
   "name": "python3"
  },
  "language_info": {
   "codemirror_mode": {
    "name": "ipython",
    "version": 3
   },
   "file_extension": ".py",
   "mimetype": "text/x-python",
   "name": "python",
   "nbconvert_exporter": "python",
   "pygments_lexer": "ipython3",
   "version": "3.6.3"
  }
 },
 "nbformat": 4,
 "nbformat_minor": 2
}
