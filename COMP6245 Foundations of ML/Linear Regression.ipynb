{
 "cells": [
  {
   "cell_type": "markdown",
   "metadata": {},
   "source": [
    "Import the libraries"
   ]
  },
  {
   "cell_type": "code",
   "execution_count": 1,
   "metadata": {},
   "outputs": [],
   "source": [
    "# To support both python 2 and python 3\n",
    "from __future__ import division, print_function, unicode_literals\n",
    "\n",
    "\n",
    "\n",
    "%matplotlib inline \n",
    "import numpy as np\n",
    "import matplotlib.pyplot as plt\n",
    "# These steps are typically always called.  The \"matplotlib inline\" is to display figures in this notebook itself \n",
    "\n",
    "\n",
    "import pandas as pd \n",
    "# pandas is a library for handling datasets; you will see some useful built-in functions in action\n",
    "\n",
    "import os # to move around your operating system\n",
    "\n",
    "import scipy as sp  # scientific computation library\n",
    "\n",
    "from mpl_toolkits.mplot3d import axes3d # in case we need to plot in 3D z=f(x,y)\n",
    "import seaborn as sns  # another package for pretty graphs\n",
    "\n",
    "# Scikit-learn (sklearn) is a powerful and fairly comprehensive library of ML algorithms\n",
    "\n",
    "from sklearn import datasets\n",
    "from sklearn.neighbors.kde import KernelDensity"
   ]
  },
  {
   "cell_type": "markdown",
   "metadata": {},
   "source": [
    "Defining the dataset"
   ]
  },
  {
   "cell_type": "code",
   "execution_count": 4,
   "metadata": {},
   "outputs": [
    {
     "name": "stdout",
     "output_type": "stream",
     "text": [
      "(50,)\n"
     ]
    },
    {
     "data": {
      "text/plain": [
       "<matplotlib.collections.PathCollection at 0x7f2ed12c2898>"
      ]
     },
     "execution_count": 4,
     "metadata": {},
     "output_type": "execute_result"
    },
    {
     "data": {
      "image/png": "[encoded data removed]",
      "text/plain": [
       "<Figure size 432x288 with 1 Axes>"
      ]
     },
     "metadata": {},
     "output_type": "display_data"
    }
   ],
   "source": [
    "def f1(x, m, c): # y = m*x + c (ground truth function)\n",
    "    return m*x + c \n",
    "xmin, xmax, npts = [-4, 10, 50]\n",
    "X = np.linspace(xmin, xmax, npts) # defining domain of the function as a vector of 50 real numbers between 0 and 5\n",
    "print(np.shape(X))\n",
    "# Create data from ground truth function that is corrupted by additive Gaussian noise of mean 0 and std. dev. 4\n",
    "y0 = f1(X, -3., 9.) + np.random.normal(0,scale=4, size=np.shape(X))  \n",
    "plt.scatter(X, y0, marker='o', c='k')"
   ]
  },
  {
   "cell_type": "markdown",
   "metadata": {},
   "source": [
    "Next step: The design matrix is formed by (1) assembling each input vector as a row and (2) adding a column of ones. In this case the input vector is a scalar. We will end up with a design matrix of size (2-times-N) where N is the number of data points. This sets up the linear equation  Aw=y ."
   ]
  },
  {
   "cell_type": "code",
   "execution_count": 8,
   "metadata": {},
   "outputs": [
    {
     "data": {
      "text/plain": [
       "(50, 2)"
      ]
     },
     "execution_count": 8,
     "metadata": {},
     "output_type": "execute_result"
    }
   ],
   "source": [
    "def designmat1(Xmat):\n",
    "    X = np.atleast_2d(Xmat).T\n",
    "    col1 = np.ones(np.shape(X)[0]).reshape(np.shape(X)[0],1)\n",
    "    X = np.concatenate((col1, X), axis=1) \n",
    "    return X\n",
    "\n",
    "designmat1(X).shape"
   ]
  },
  {
   "cell_type": "markdown",
   "metadata": {},
   "source": [
    "### Find optimal weights by gradient descent\n",
    "\n",
    "Find the weight vector  w  by minimising the length of the residual vector  r(w):=y−Aw  by gradient descent. From the lecture slides/tutorial exercises you should be able to verify that the function \"gradsqloss\" corresponds to the gradient of the average of squared residuals loss function."
   ]
  },
  {
   "cell_type": "code",
   "execution_count": null,
   "metadata": {},
   "outputs": [],
   "source": [
    "def gradsqloss(Amat, y, wt):\n",
    "    n, p = Amat.shape\n",
    "    return (-2/n)*Amat.T.dot((y - Amat.wt))"
   ]
  }
 ],
 "metadata": {
  "kernelspec": {
   "display_name": "Python 3",
   "language": "python",
   "name": "python3"
  },
  "language_info": {
   "codemirror_mode": {
    "name": "ipython",
    "version": 3
   },
   "file_extension": ".py",
   "mimetype": "text/x-python",
   "name": "python",
   "nbconvert_exporter": "python",
   "pygments_lexer": "ipython3",
   "version": "3.6.3"
  }
 },
 "nbformat": 4,
 "nbformat_minor": 2
}
