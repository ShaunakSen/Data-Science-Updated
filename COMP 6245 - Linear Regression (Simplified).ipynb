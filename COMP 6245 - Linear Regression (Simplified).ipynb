{
 "cells": [
  {
   "cell_type": "markdown",
   "metadata": {},
   "source": [
    "### COMP 6245: Introduction to Linear Regression"
   ]
  },
  {
   "cell_type": "code",
   "execution_count": 1,
   "metadata": {},
   "outputs": [],
   "source": [
    "# To support both python 2 and python 3\n",
    "from __future__ import division, print_function, unicode_literals\n",
    "\n",
    "\n",
    "\n",
    "%matplotlib inline \n",
    "import numpy as np\n",
    "import matplotlib.pyplot as plt\n",
    "# These steps are typically always called.  The \"matplotlib inline\" is to display figures in this notebook itself \n",
    "\n",
    "\n",
    "import pandas as pd \n",
    "# pandas is a library for handling datasets; you will see some useful built-in functions in action\n",
    "\n",
    "import os # to move around your operating system\n",
    "\n",
    "import scipy as sp  # scientific computation library\n",
    "\n",
    "from mpl_toolkits.mplot3d import axes3d # in case we need to plot in 3D z=f(x,y)\n",
    "import seaborn as sns  # another package for pretty graphs\n",
    "\n",
    "# Scikit-learn (sklearn) is a powerful and fairly comprehensive library of ML algorithms\n",
    "\n",
    "from sklearn import datasets\n",
    "from sklearn.neighbors.kde import KernelDensity"
   ]
  },
  {
   "cell_type": "markdown",
   "metadata": {},
   "source": [
    "#### Define X coordinates"
   ]
  },
  {
   "cell_type": "code",
   "execution_count": 14,
   "metadata": {
    "scrolled": true
   },
   "outputs": [],
   "source": [
    "\n",
    "# set ranges for min and max values of x and number of pts u want\n",
    "\n",
    "xmin, xmax, npts = [-4, 10, 50]\n",
    "\n",
    "# np.linspace() return a list of evenly spaced nos over the specified intervals\n",
    "\n",
    "X = np.linspace(start=xmin, stop=xmax, num=npts)\n"
   ]
  },
  {
   "cell_type": "markdown",
   "metadata": {},
   "source": [
    "#### Creaing the y coordinates"
   ]
  },
  {
   "cell_type": "code",
   "execution_count": 17,
   "metadata": {},
   "outputs": [
    {
     "data": {
      "text/plain": [
       "array([ 20.47878279,  22.02850186,  20.97993383,  16.86134775,\n",
       "        20.39133907,  13.73661704,  15.0569732 ,  18.30001764,\n",
       "        10.36656558,  15.45639195,  14.1301776 ,  14.12904147,\n",
       "         5.83237262,   6.27688925,  13.55294558,  10.55305812,\n",
       "         7.5902245 ,   8.04022316,   2.57995435,   8.3428751 ,\n",
       "         7.35343399,  -3.18422827,  -4.41425907,   0.82268848,\n",
       "         1.35049468,  -4.60030718,   1.25259463,  -1.55116996,\n",
       "        -8.51357129,  -1.81522128,   4.40656941,  -3.36472813,\n",
       "        -5.39914179,  -9.99969842,  -5.73811076,  -2.49306119,\n",
       "        -5.10905087,  -8.36348673,  -8.26510313,  -7.25402458,\n",
       "       -17.61983946, -13.09910241, -21.46775814, -13.54283921,\n",
       "       -21.15043716, -14.72766897, -22.68352127, -13.40857342,\n",
       "       -22.87492896, -20.46331996])"
      ]
     },
     "execution_count": 17,
     "metadata": {},
     "output_type": "execute_result"
    }
   ],
   "source": [
    "def f1(x, m, c):\n",
    "    return m*x + c\n",
    "\n",
    "# Create data from ground truth function that is corrupted by additive Gaussian noise of mean 0 and std. dev. 4\n",
    "y0 = f1(X, -3., 9.) + np.random.normal(0,scale=4, size=np.shape(X))  \n",
    "y0"
   ]
  },
  {
   "cell_type": "markdown",
   "metadata": {},
   "source": [
    "#### Visualizing the pts"
   ]
  },
  {
   "cell_type": "code",
   "execution_count": 18,
   "metadata": {},
   "outputs": [
    {
     "data": {
      "text/plain": [
       "<matplotlib.collections.PathCollection at 0x7f7d45c510f0>"
      ]
     },
     "execution_count": 18,
     "metadata": {},
     "output_type": "execute_result"
    },
    {
     "data": {
      "image/png": "[encoded data removed]",
      "text/plain": [
       "<matplotlib.figure.Figure at 0x7f7d46331c18>"
      ]
     },
     "metadata": {},
     "output_type": "display_data"
    }
   ],
   "source": [
    "plt.scatter(X, y0, marker='o', c='k')"
   ]
  }
 ],
 "metadata": {
  "kernelspec": {
   "display_name": "Python 3",
   "language": "python",
   "name": "python3"
  },
  "language_info": {
   "codemirror_mode": {
    "name": "ipython",
    "version": 3
   },
   "file_extension": ".py",
   "mimetype": "text/x-python",
   "name": "python",
   "nbconvert_exporter": "python",
   "pygments_lexer": "ipython3",
   "version": "3.6.3"
  }
 },
 "nbformat": 4,
 "nbformat_minor": 2
}
