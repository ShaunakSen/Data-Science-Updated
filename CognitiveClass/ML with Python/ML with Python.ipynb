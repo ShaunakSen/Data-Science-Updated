{
 "cells": [
  {
   "cell_type": "markdown",
   "metadata": {},
   "source": [
    "## Machine Learning with Python - CognitiveClass.ai\n",
    "\n",
    "[Course Link](https://courses.cognitiveclass.ai/courses/course-v1:BigDataUniversity+ML0101EN+2016_T3/info)\n",
    "\n",
    "### Supervised vs Unsupervised Learning\n",
    "\n",
    "#### ML vs Stat Modelling:\n",
    "\n",
    "ML is an algorithm that can learn from data without being reliant on std programming practices\n",
    "\n",
    "Stat modeling is the formulization of rel bw vars in form of mathematical eqns\n",
    "\n",
    "It is subfield of maths\n",
    "\n",
    "ML is subfield of CS and AI\n",
    "\n",
    "Naming conventions:\n",
    "\n",
    "<img src = \"./data/img/diag1\" height=\"500\" width = \"500\" align=\"center\">\n",
    "\n",
    "Other diff bw ML and SM:\n",
    "\n",
    "<img src = \"./data/img/diag2\" height=\"500\" width = \"500\" align=\"center\">\n",
    "\n",
    "**Supervised and Unsupervised Learning**\n",
    "\n",
    "In SL, we have a set of training data, or labeled data in which we know the structure and outcome of it\n",
    "\n",
    "<img src = \"./data/img/diag3\" height=\"500\" width = \"500\" align=\"center\">\n",
    "\n",
    "We take this data and train a ML model, so that it can understand patterns in the data\n",
    "\n",
    "Once the model has been trained we can use it to predict out-of-sample data,or data in which the results are unknown\n",
    "\n",
    "<img src = \"./data/img/diag4\" height=\"500\" width = \"500\" align=\"center\">\n",
    "\n",
    "If we are given data which is unstructured, we can use USL to find patterns in that data\n",
    "\n",
    "**SL**:\n",
    "\n",
    "We \"teach\" a model, ie we load the model with knowledge so that it can predict future instances\n",
    "\n",
    "How do we \"teach\" a model?\n",
    "\n",
    "- We teach it by training it with some data from a **labeled** dataset\n",
    "\n",
    "eg: Iris dataset\n",
    "\n",
    "<img src = \"./data/img/diag5\" height=\"500\" width = \"500\" align=\"center\">\n",
    "\n",
    "There are 2 types of SL:\n",
    "\n",
    "1. Classification\n",
    "\n",
    "2. Regression\n",
    "\n",
    "**USL**:\n",
    "\n",
    "We **do not** supervise the model, but we let the model work on its own to discover info that may not be visible to the human eye\n",
    "\n",
    "UL uses ML algos that draw conclusions on **unlabeled data**\n",
    "\n",
    "** Difficulties of USL vs SL **:\n",
    "\n",
    "- USL has more difficult algos, since we know little to no info about the data, or the outcomes that are to be expected\n",
    "\n",
    "- With USL we are trying to find things such as Groups or Clusters, Density Estimations, and Dim Redn\n",
    "\n",
    "- USL has fewer tests and models to ensure that outcome of model is accurate\n",
    "    As such, USL creates a **less controllable** env as machine is creating outcomes for us\n",
    "    \n",
    "- SL deals with labeled data, USL with unlabeled data\n",
    "    \n",
    "Eg:\n",
    "\n",
    "<img src = \"./data/img/diag6\" height=\"500\" width = \"500\" align=\"center\">\n",
    "\n",
    "Here we can see an op of an algo applied to examining poisonous mushrooms \n",
    "\n",
    "This is SL as its a Classification prob\n",
    "\n",
    "Algo: Classification Tree\n",
    "\n",
    "\n"
   ]
  },
  {
   "cell_type": "markdown",
   "metadata": {},
   "source": [
    "#### SL - Classification:\n",
    "\n",
    "<img src = \"./data/img/diag7\" height=\"500\" width = \"500\" align=\"center\">\n",
    "\n",
    "Depending on data used to train model and type of modelused, there are virtually endless possible boundaries\n",
    "\n",
    "If we had a new out-of-sample datapoint:\n",
    "\n",
    "<img src = \"./data/img/diag8\" height=\"500\" width = \"500\" align=\"center\">\n",
    "\n",
    "The modelknows where to classify it\n",
    "\n",
    "**KNN**:\n",
    "\n",
    "<img src = \"./data/img/diag9\" height=\"500\" width = \"500\" align=\"center\">\n",
    "\n",
    "Here k = 5\n",
    "\n",
    "The black arrows connect the 5 nearerst pts to the unknown data pt (black cross)\n",
    "\n",
    "Here Xu is classified as red\n",
    "\n",
    "If k = 14:\n",
    "\n",
    "<img src = \"./data/img/diag10\" height=\"500\" width = \"500\" align=\"center\">\n",
    "\n",
    "Xu is classified as green\n"
   ]
  },
  {
   "cell_type": "markdown",
   "metadata": {},
   "source": [
    "#### USL\n",
    "\n",
    "USL usually deals with algos that utilize centroids.\n",
    "\n",
    "Some of these are:\n",
    "\n",
    "- K means Clustering\n",
    "- Hierarchial Clustering\n",
    "- Density based Clustering\n",
    "\n",
    "Real world egL Classifying categories of music\n",
    "\n",
    "**Dimensionality Reduction ** and/or **Feature Extraction** play a crucial role in this by reducing redundant features to make classification easier\n",
    "\n",
    "USL can be used to create a Text-to-Speech program\n",
    "By looking at the amp, break and freq in the sound waves the machine can estimate what word has been spoken\n",
    "and convert it to text\n",
    "\n",
    "USL can also be used for Image Processing\n",
    "\n",
    "\n"
   ]
  },
  {
   "cell_type": "markdown",
   "metadata": {},
   "source": [
    "### Lab\n",
    "\n",
    "In this lab exercise, you will learn some basic functions for viewing and analysing data such as target, feature names, etc. Also, you will get a basic understanding of how to use data to fit (train) a model and use it to make a prediction. This will serve as a building block for future labs!\n",
    "\n",
    "### Hello! We will start by introducing you to the digits dataset.\n",
    "\n",
    "The digits dataset is made of up of 1797 8x8 images such as the one below.\n",
    "<img src = \"https://ibm.box.com/shared/static/psb68kpyyt0o6kbhcq88cwj7fuv7nlhq.png\">\n",
    "These images are hand-written digits converted into image format. <br>\n",
    "We can use this data to train our machine to further determine other 8x8 images as specific digits! <br>\n",
    "Sounds like we are <i>Classifying</i> data!"
   ]
  },
  {
   "cell_type": "markdown",
   "metadata": {},
   "source": [
    "First we will need to import the dataset from sklearn and declare the dataset."
   ]
  },
  {
   "cell_type": "code",
   "execution_count": 4,
   "metadata": {
    "scrolled": true
   },
   "outputs": [
    {
     "name": "stdout",
     "output_type": "stream",
     "text": [
      "<class 'sklearn.utils.Bunch'>\n",
      "[[  0.   0.   5. ...,   0.   0.   0.]\n",
      " [  0.   0.   0. ...,  10.   0.   0.]\n",
      " [  0.   0.   0. ...,  16.   9.   0.]\n",
      " ..., \n",
      " [  0.   0.   1. ...,   6.   0.   0.]\n",
      " [  0.   0.   2. ...,  12.   0.   0.]\n",
      " [  0.   0.  10. ...,  12.   1.   0.]]\n",
      "1797\n",
      "64\n"
     ]
    }
   ],
   "source": [
    "from sklearn.datasets import load_digits\n",
    "\n",
    "digits = load_digits()\n",
    "\n",
    "# Now let's check out the type and data for digits. \n",
    "# The type should be 'Bunch' which is a dictionary-like object \n",
    "# specifically useful for loading sklearn internal sample datasets.\n",
    "\n",
    "print (type(digits))\n",
    "\n",
    "print (digits.data)\n",
    "\n",
    "print(len(digits.data))\n",
    "\n",
    "print (len(digits.data[0]))"
   ]
  },
  {
   "cell_type": "markdown",
   "metadata": {},
   "source": [
    "1797 samples\n",
    "\n",
    "Each: 64 features\n",
    "\n",
    "Let's check out the description of this dataset for more information!"
   ]
  },
  {
   "cell_type": "code",
   "execution_count": 5,
   "metadata": {},
   "outputs": [
    {
     "name": "stdout",
     "output_type": "stream",
     "text": [
      "Optical Recognition of Handwritten Digits Data Set\n",
      "===================================================\n",
      "\n",
      "Notes\n",
      "-----\n",
      "Data Set Characteristics:\n",
      "    :Number of Instances: 5620\n",
      "    :Number of Attributes: 64\n",
      "    :Attribute Information: 8x8 image of integer pixels in the range 0..16.\n",
      "    :Missing Attribute Values: None\n",
      "    :Creator: E. Alpaydin (alpaydin '@' boun.edu.tr)\n",
      "    :Date: July; 1998\n",
      "\n",
      "This is a copy of the test set of the UCI ML hand-written digits datasets\n",
      "http://archive.ics.uci.edu/ml/datasets/Optical+Recognition+of+Handwritten+Digits\n",
      "\n",
      "The data set contains images of hand-written digits: 10 classes where\n",
      "each class refers to a digit.\n",
      "\n",
      "Preprocessing programs made available by NIST were used to extract\n",
      "normalized bitmaps of handwritten digits from a preprinted form. From a\n",
      "total of 43 people, 30 contributed to the training set and different 13\n",
      "to the test set. 32x32 bitmaps are divided into nonoverlapping blocks of\n",
      "4x4 and the number of on pixels are counted in each block. This generates\n",
      "an input matrix of 8x8 where each element is an integer in the range\n",
      "0..16. This reduces dimensionality and gives invariance to small\n",
      "distortions.\n",
      "\n",
      "For info on NIST preprocessing routines, see M. D. Garris, J. L. Blue, G.\n",
      "T. Candela, D. L. Dimmick, J. Geist, P. J. Grother, S. A. Janet, and C.\n",
      "L. Wilson, NIST Form-Based Handprint Recognition System, NISTIR 5469,\n",
      "1994.\n",
      "\n",
      "References\n",
      "----------\n",
      "  - C. Kaynak (1995) Methods of Combining Multiple Classifiers and Their\n",
      "    Applications to Handwritten Digit Recognition, MSc Thesis, Institute of\n",
      "    Graduate Studies in Science and Engineering, Bogazici University.\n",
      "  - E. Alpaydin, C. Kaynak (1998) Cascading Classifiers, Kybernetika.\n",
      "  - Ken Tang and Ponnuthurai N. Suganthan and Xi Yao and A. Kai Qin.\n",
      "    Linear dimensionalityreduction using relevance weighted LDA. School of\n",
      "    Electrical and Electronic Engineering Nanyang Technological University.\n",
      "    2005.\n",
      "  - Claudio Gentile. A New Approximate Maximal Margin Classification\n",
      "    Algorithm. NIPS. 2000.\n",
      "\n"
     ]
    }
   ],
   "source": [
    "print ((digits.DESCR))"
   ]
  },
  {
   "cell_type": "markdown",
   "metadata": {},
   "source": [
    "We can see the categories that classify each of the images by invoking the target field. There is a number associated to the classification of each digit. The target field fetches these numbers, where each digit is mapped to a name in target_names"
   ]
  },
  {
   "cell_type": "code",
   "execution_count": 21,
   "metadata": {},
   "outputs": [
    {
     "name": "stdout",
     "output_type": "stream",
     "text": [
      "[0 1 2 ..., 8 9 8]\n",
      "[0 1 2 3 4 5 6 7 8 9]\n",
      "<class 'numpy.ndarray'>\n",
      "<class 'numpy.ndarray'>\n",
      "<class 'numpy.ndarray'>\n",
      "1797\n"
     ]
    }
   ],
   "source": [
    "print (digits.target)\n",
    "\n",
    "# Now if we print out the target_names, we can find out what the data is categorized as.\n",
    "\n",
    "print(digits.target_names)\n",
    "\n",
    "# An important piece of information to note is that the data is stored as a numpy datatype, \n",
    "# which is a homogeneous multidimensional array (ndarray).\n",
    "\n",
    "print (type(digits.data))\n",
    "print (type(digits.target))\n",
    "print (type(digits.target_names))\n",
    "print(len(digits.target))"
   ]
  }
 ],
 "metadata": {
  "kernelspec": {
   "display_name": "Python 3",
   "language": "python",
   "name": "python3"
  },
  "language_info": {
   "codemirror_mode": {
    "name": "ipython",
    "version": 3
   },
   "file_extension": ".py",
   "mimetype": "text/x-python",
   "name": "python",
   "nbconvert_exporter": "python",
   "pygments_lexer": "ipython3",
   "version": "3.6.3"
  }
 },
 "nbformat": 4,
 "nbformat_minor": 2
}
