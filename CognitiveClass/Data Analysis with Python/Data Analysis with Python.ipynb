{
 "cells": [
  {
   "cell_type": "markdown",
   "metadata": {},
   "source": [
    "[Course Link](https://courses.cognitiveclass.ai/courses/course-v1:CognitiveClass+DA0101EN+2017/courseware)\n",
    "\n",
    "### Module 1 - Introduction\n",
    "\n",
    "We are going to predict prices of used cars\n",
    "\n",
    "#### Data Description\n",
    "\n",
    "[Link for Data description](http://archive.ics.uci.edu/ml/machine-learning-databases/autos/imports-85.names)\n",
    "\n"
   ]
  }
 ],
 "metadata": {
  "kernelspec": {
   "display_name": "Python 3",
   "language": "python",
   "name": "python3"
  },
  "language_info": {
   "codemirror_mode": {
    "name": "ipython",
    "version": 3
   },
   "file_extension": ".py",
   "mimetype": "text/x-python",
   "name": "python",
   "nbconvert_exporter": "python",
   "pygments_lexer": "ipython3",
   "version": "3.6.3"
  }
 },
 "nbformat": 4,
 "nbformat_minor": 2
}
