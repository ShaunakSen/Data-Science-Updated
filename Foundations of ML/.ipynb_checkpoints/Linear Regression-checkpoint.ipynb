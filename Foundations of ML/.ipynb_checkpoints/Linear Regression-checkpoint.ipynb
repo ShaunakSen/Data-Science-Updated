{
 "cells": [
  {
   "cell_type": "code",
   "execution_count": null,
   "metadata": {},
   "outputs": [],
   "source": [
    "# To support both python 2 and python 3\n",
    "from __future__ import division, print_function, unicode_literals\n",
    "\n",
    "\n",
    "\n",
    "%matplotlib inline \n",
    "import numpy as np\n",
    "import matplotlib.pyplot as plt\n",
    "# These steps are typically always called.  The \"matplotlib inline\" is to display figures in this notebook itself \n",
    "\n",
    "\n",
    "import pandas as pd \n",
    "# pandas is a library for handling datasets; you will see some useful built-in functions in action\n",
    "\n",
    "import os # to move around your operating system\n",
    "\n",
    "import scipy as sp  # scientific computation library\n",
    "\n",
    "from mpl_toolkits.mplot3d import axes3d # in case we need to plot in 3D z=f(x,y)\n",
    "import seaborn as sns  # another package for pretty graphs\n",
    "\n",
    "# Scikit-learn (sklearn) is a powerful and fairly comprehensive library of ML algorithms\n",
    "\n",
    "from sklearn import datasets\n",
    "from sklearn.neighbors.kde import KernelDensity"
   ]
  },
  {
   "cell_type": "code",
   "execution_count": null,
   "metadata": {},
   "outputs": [],
   "source": [
    "def f1(m, x, c):\n",
    "    return m*x + c\n",
    "\n",
    "xmin, xmax, npts = [-4, 10, 50]\n",
    "X = np.linspace(xmin, xmax, npts) # defining domain of the function as a vector of 50 real numbers between 0 and 5\n",
    "\n",
    "y0 = f1(X, -3., 9.) + np.random.normal(0,scale=4, size=np.shape(X))  \n",
    "plt.scatter(X, y0, marker='o', c='k')\n",
    "    "
   ]
  },
  {
   "cell_type": "code",
   "execution_count": 8,
   "metadata": {},
   "outputs": [
    {
     "data": {
      "text/plain": [
       "array([[  1.        ,  -4.        ],\n",
       "       [  1.        ,  -3.71428571],\n",
       "       [  1.        ,  -3.42857143],\n",
       "       [  1.        ,  -3.14285714],\n",
       "       [  1.        ,  -2.85714286],\n",
       "       [  1.        ,  -2.57142857],\n",
       "       [  1.        ,  -2.28571429],\n",
       "       [  1.        ,  -2.        ],\n",
       "       [  1.        ,  -1.71428571],\n",
       "       [  1.        ,  -1.42857143],\n",
       "       [  1.        ,  -1.14285714],\n",
       "       [  1.        ,  -0.85714286],\n",
       "       [  1.        ,  -0.57142857],\n",
       "       [  1.        ,  -0.28571429],\n",
       "       [  1.        ,   0.        ],\n",
       "       [  1.        ,   0.28571429],\n",
       "       [  1.        ,   0.57142857],\n",
       "       [  1.        ,   0.85714286],\n",
       "       [  1.        ,   1.14285714],\n",
       "       [  1.        ,   1.42857143],\n",
       "       [  1.        ,   1.71428571],\n",
       "       [  1.        ,   2.        ],\n",
       "       [  1.        ,   2.28571429],\n",
       "       [  1.        ,   2.57142857],\n",
       "       [  1.        ,   2.85714286],\n",
       "       [  1.        ,   3.14285714],\n",
       "       [  1.        ,   3.42857143],\n",
       "       [  1.        ,   3.71428571],\n",
       "       [  1.        ,   4.        ],\n",
       "       [  1.        ,   4.28571429],\n",
       "       [  1.        ,   4.57142857],\n",
       "       [  1.        ,   4.85714286],\n",
       "       [  1.        ,   5.14285714],\n",
       "       [  1.        ,   5.42857143],\n",
       "       [  1.        ,   5.71428571],\n",
       "       [  1.        ,   6.        ],\n",
       "       [  1.        ,   6.28571429],\n",
       "       [  1.        ,   6.57142857],\n",
       "       [  1.        ,   6.85714286],\n",
       "       [  1.        ,   7.14285714],\n",
       "       [  1.        ,   7.42857143],\n",
       "       [  1.        ,   7.71428571],\n",
       "       [  1.        ,   8.        ],\n",
       "       [  1.        ,   8.28571429],\n",
       "       [  1.        ,   8.57142857],\n",
       "       [  1.        ,   8.85714286],\n",
       "       [  1.        ,   9.14285714],\n",
       "       [  1.        ,   9.42857143],\n",
       "       [  1.        ,   9.71428571],\n",
       "       [  1.        ,  10.        ]])"
      ]
     },
     "execution_count": 8,
     "metadata": {},
     "output_type": "execute_result"
    }
   ],
   "source": [
    "def designmat(Xmat):\n",
    "    X = np.atleast_2d(Xmat).T\n",
    "    \n",
    "    col1 = np.ones(np.shape(X)[0]).reshape(np.shape(X)[0],1)\n",
    "       \n",
    "    X = np.concatenate((col1, X), axis=1)  \n",
    "    \n",
    "    return X\n",
    "designmat(X)"
   ]
  },
  {
   "cell_type": "code",
   "execution_count": null,
   "metadata": {},
   "outputs": [],
   "source": [
    "def gradsqloss(Amat, y, wt):\n",
    "    n, p = Amat.shape\n",
    "    return (-2/n)*Amat.T.dot((y-Amat.dot(wt)))\n",
    "\n",
    "\n",
    "def gradientdescent(Amat, y, winit, rate, numiter):\n",
    "    \n",
    "    n, p = Amat.shape\n",
    "    whistory = []\n",
    "    meanrsshistory = [] \n",
    "    w = winit\n",
    "    \n",
    "    for i in range(numiter):\n",
    "        meanrss = np.square(y - Amat.dot(w))\n",
    "        whistory.append(w)\n",
    "        meanrsshistory.append(meanrss)\n",
    "        grad = gradsqloss(Amat, y, w)\n",
    "        w = w - rate*grad\n",
    "        print (w) \n",
    "    return w, np.asarray(whistory), np.asarray(meanrsshistory)\n",
    "        "
   ]
  },
  {
   "cell_type": "markdown",
   "metadata": {},
   "source": [
    "#### Main Function"
   ]
  },
  {
   "cell_type": "code",
   "execution_count": null,
   "metadata": {},
   "outputs": [],
   "source": [
    "Xmat = designmat(X)\n",
    "\n",
    "n, p = Xmat.shape\n",
    "\n",
    "w0 = np.random.randn(p)\n",
    "\n",
    "\n",
    "num_iters = 70\n",
    "rates = [.001,.005,.01,.02]\n",
    "\n",
    "# create 100 pts.. Why?\n",
    "\n",
    "xinput = np.linspace(-4,10,100)\n",
    "\n",
    "fig, ax = plt.subplots(nrows=1, ncols=2,figsize=(12,4))\n",
    "ax[0].scatter(X,y0,marker='o',color='k')\n",
    "\n",
    "\n",
    "for i, r in enumerate(rates):\n",
    "    wfin, whist, meanlosstrace = gradientdescent(Xmat, y0,  w0, r, num_iters)\n",
    "    print (\"Weights learnt for learning rate................\", i + 1)\n",
    "    "
   ]
  },
  {
   "cell_type": "code",
   "execution_count": null,
   "metadata": {},
   "outputs": [],
   "source": [
    "print (Xmat[:5])\n",
    "\n",
    "wtest = [2, 3]\n",
    "print (wtest)\n",
    "\n",
    "print (Xmat[:5].dot(wtest))"
   ]
  }
 ],
 "metadata": {
  "kernelspec": {
   "display_name": "Python 3",
   "language": "python",
   "name": "python3"
  },
  "language_info": {
   "codemirror_mode": {
    "name": "ipython",
    "version": 3
   },
   "file_extension": ".py",
   "mimetype": "text/x-python",
   "name": "python",
   "nbconvert_exporter": "python",
   "pygments_lexer": "ipython3",
   "version": "3.6.3"
  }
 },
 "nbformat": 4,
 "nbformat_minor": 2
}
