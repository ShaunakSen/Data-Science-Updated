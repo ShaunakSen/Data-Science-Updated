{
 "cells": [
  {
   "cell_type": "markdown",
   "metadata": {},
   "source": [
    "### COMP 6245: Introduction to Linear Regression"
   ]
  },
  {
   "cell_type": "markdown",
   "metadata": {},
   "source": [
    "First we import the libraries required"
   ]
  },
  {
   "cell_type": "code",
   "execution_count": 2,
   "metadata": {},
   "outputs": [],
   "source": [
    "# To support both python 2 and python 3\n",
    "from __future__ import division, print_function, unicode_literals\n",
    "\n",
    "\n",
    "\n",
    "%matplotlib inline \n",
    "import numpy as np\n",
    "import matplotlib.pyplot as plt\n",
    "# These steps are typically always called.  The \"matplotlib inline\" is to display figures in this notebook itself \n",
    "\n",
    "\n",
    "import pandas as pd \n",
    "# pandas is a library for handling datasets; you will see some useful built-in functions in action\n",
    "\n",
    "import os # to move around your operating system\n",
    "\n",
    "import scipy as sp  # scientific computation library\n",
    "\n",
    "from mpl_toolkits.mplot3d import axes3d # in case we need to plot in 3D z=f(x,y)\n",
    "import seaborn as sns  # another package for pretty graphs\n",
    "\n",
    "# Scikit-learn (sklearn) is a powerful and fairly comprehensive library of ML algorithms\n",
    "\n",
    "from sklearn import datasets\n",
    "from sklearn.neighbors.kde import KernelDensity"
   ]
  },
  {
   "cell_type": "markdown",
   "metadata": {},
   "source": [
    "#### Define X coordinates"
   ]
  },
  {
   "cell_type": "code",
   "execution_count": 3,
   "metadata": {
    "scrolled": true
   },
   "outputs": [],
   "source": [
    "\n",
    "# set ranges for min and max values of x and number of pts u want\n",
    "\n",
    "xmin, xmax, npts = [-4, 10, 50]\n",
    "\n",
    "# np.linspace() return a list of evenly spaced nos over the specified intervals\n",
    "\n",
    "X = np.linspace(start=xmin, stop=xmax, num=npts)\n"
   ]
  },
  {
   "cell_type": "markdown",
   "metadata": {},
   "source": [
    "#### Creaing the y coordinates\n",
    "\n",
    "We create the y coordinates corresponding to each x coordinate. While creating the y coordinates we add noise to the data to make it deviate from the st line **y = mx + b**"
   ]
  },
  {
   "cell_type": "code",
   "execution_count": 5,
   "metadata": {},
   "outputs": [],
   "source": [
    "def f1(x, m, c):\n",
    "    return m*x + c\n",
    "\n",
    "# Create data from ground truth function that is corrupted by additive Gaussian noise of mean 0 and std. dev. 4\n",
    "y0 = f1(X, -3., 9.) + np.random.normal(0,scale=4, size=np.shape(X))  \n"
   ]
  },
  {
   "cell_type": "markdown",
   "metadata": {},
   "source": [
    "#### Visualizing the pts"
   ]
  },
  {
   "cell_type": "code",
   "execution_count": 6,
   "metadata": {},
   "outputs": [
    {
     "data": {
      "text/plain": [
       "<matplotlib.collections.PathCollection at 0x7f4aa9ed1d30>"
      ]
     },
     "execution_count": 6,
     "metadata": {},
     "output_type": "execute_result"
    },
    {
     "data": {
      "image/png": "[encoded data removed]",
      "text/plain": [
       "<matplotlib.figure.Figure at 0x7f4ae01f29b0>"
      ]
     },
     "metadata": {},
     "output_type": "display_data"
    }
   ],
   "source": [
    "plt.scatter(X, y0, marker='o', c='k')"
   ]
  },
  {
   "cell_type": "markdown",
   "metadata": {},
   "source": [
    "#### Creating the Design matrix\n",
    "\n",
    "The Design matrix looks like:\n",
    "\n",
    "\\begin{bmatrix}1 & X_{0} \\\\1 & X_{1}\\\\... & ... \\\\1 & X_{49} \\end{bmatrix}\n",
    "\n",
    "The size of this matrix is **N * 2** where N = 50 (the no of data pts)"
   ]
  },
  {
   "cell_type": "code",
   "execution_count": 11,
   "metadata": {},
   "outputs": [
    {
     "name": "stdout",
     "output_type": "stream",
     "text": [
      "[[ 1.         -4.        ]\n",
      " [ 1.         -3.71428571]\n",
      " [ 1.         -3.42857143]\n",
      " [ 1.         -3.14285714]\n",
      " [ 1.         -2.85714286]\n",
      " [ 1.         -2.57142857]\n",
      " [ 1.         -2.28571429]\n",
      " [ 1.         -2.        ]\n",
      " [ 1.         -1.71428571]\n",
      " [ 1.         -1.42857143]]\n"
     ]
    }
   ],
   "source": [
    "def designmat1(Xmat):\n",
    "    X = np.atleast_2d(Xmat).T\n",
    "    col1 = np.ones(np.shape(X)[0]).reshape(np.shape(X)[0],1)\n",
    "    X = np.concatenate((col1, X), axis=1) \n",
    "    return X\n",
    "\n",
    "Xmat = designmat1(X)\n",
    "\n",
    "print (Xmat[:10])"
   ]
  },
  {
   "cell_type": "markdown",
   "metadata": {},
   "source": [
    "We want to learn weights for the line:\n",
    "\n",
    "$y = mx + b$\n",
    "\n",
    "Here m and b are the wts of the line, which we want to learn over time through the process of **Gradient Descent**\n",
    "\n",
    "The loss function (L) is given by:\n",
    "\n",
    "$ L = \\frac{1}{N}\\sum_1^n(y - y_{predicted})^{2}$\n",
    "\n",
    "$=\\frac{1}{N}\\sum_1^n(y - (w_{0} + w_{1}x))^{2} \\rightarrow eqn1$\n",
    "\n",
    "**Here m = w0 and b = w1**\n",
    "\n",
    "\n",
    "In Gradient Descent the idea is to update the wts after each iteration\n",
    "\n",
    "$w_{0} = w_{0} + learningRate \\times \\frac{\\partial L}{\\partial w_{0}} \\rightarrow eqn2$\n",
    "\n",
    "$w_{1} = w_{1} + learningRate \\times \\frac{\\partial L}{\\partial w_{1}} \\rightarrow eqn3$\n",
    "\n",
    "From these eqns we get:\n",
    "\n",
    "![](./data/img/diag1.png)\n",
    "\n",
    "![](./data/img/diag2.png)"
   ]
  },
  {
   "cell_type": "markdown",
   "metadata": {},
   "source": [
    "#### The main() function"
   ]
  },
  {
   "cell_type": "code",
   "execution_count": null,
   "metadata": {},
   "outputs": [],
   "source": [
    "def main():\n",
    "    \n",
    "    "
   ]
  }
 ],
 "metadata": {
  "kernelspec": {
   "display_name": "Python 3",
   "language": "python",
   "name": "python3"
  },
  "language_info": {
   "codemirror_mode": {
    "name": "ipython",
    "version": 3
   },
   "file_extension": ".py",
   "mimetype": "text/x-python",
   "name": "python",
   "nbconvert_exporter": "python",
   "pygments_lexer": "ipython3",
   "version": "3.6.3"
  }
 },
 "nbformat": 4,
 "nbformat_minor": 2
}
