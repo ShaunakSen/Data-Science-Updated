{
 "cells": [
  {
   "cell_type": "code",
   "execution_count": null,
   "metadata": {},
   "outputs": [],
   "source": [
    "# To support both python 2 and python 3\n",
    "from __future__ import division, print_function, unicode_literals\n",
    "\n",
    "\n",
    "\n",
    "%matplotlib inline \n",
    "import numpy as np\n",
    "import matplotlib.pyplot as plt\n",
    "# These steps are typically always called.  The \"matplotlib inline\" is to display figures in this notebook itself \n",
    "\n",
    "\n",
    "import pandas as pd \n",
    "# pandas is a library for handling datasets; you will see some useful built-in functions in action\n",
    "\n",
    "import os # to move around your operating system\n",
    "\n",
    "import scipy as sp  # scientific computation library\n",
    "\n",
    "from mpl_toolkits.mplot3d import axes3d # in case we need to plot in 3D z=f(x,y)\n",
    "import seaborn as sns  # another package for pretty graphs\n",
    "\n",
    "# Scikit-learn (sklearn) is a powerful and fairly comprehensive library of ML algorithms\n",
    "\n",
    "from sklearn import datasets\n",
    "from sklearn.neighbors.kde import KernelDensity"
   ]
  },
  {
   "cell_type": "code",
   "execution_count": 11,
   "metadata": {},
   "outputs": [
    {
     "data": {
      "text/plain": [
       "<matplotlib.collections.PathCollection at 0x7f970e132f28>"
      ]
     },
     "execution_count": 11,
     "metadata": {},
     "output_type": "execute_result"
    },
    {
     "data": {
      "image/png": "[encoded data removed]",
      "text/plain": [
       "<matplotlib.figure.Figure at 0x7f970e2b1e10>"
      ]
     },
     "metadata": {},
     "output_type": "display_data"
    }
   ],
   "source": [
    "def f1(m, x, c):\n",
    "    return m*x + c\n",
    "\n",
    "xmin, xmax, npts = [-4, 10, 50]\n",
    "X = np.linspace(xmin, xmax, npts) # defining domain of the function as a vector of 50 real numbers between 0 and 5\n",
    "\n",
    "y0 = f1(X, -3., 9.) + np.random.normal(0,scale=4, size=np.shape(X))  \n",
    "plt.scatter(X, y0, marker='o', c='k')\n",
    "    "
   ]
  },
  {
   "cell_type": "code",
   "execution_count": 8,
   "metadata": {},
   "outputs": [
    {
     "data": {
      "text/plain": [
       "array([[  1.        ,  -4.        ],\n",
       "       [  1.        ,  -3.71428571],\n",
       "       [  1.        ,  -3.42857143],\n",
       "       [  1.        ,  -3.14285714],\n",
       "       [  1.        ,  -2.85714286],\n",
       "       [  1.        ,  -2.57142857],\n",
       "       [  1.        ,  -2.28571429],\n",
       "       [  1.        ,  -2.        ],\n",
       "       [  1.        ,  -1.71428571],\n",
       "       [  1.        ,  -1.42857143],\n",
       "       [  1.        ,  -1.14285714],\n",
       "       [  1.        ,  -0.85714286],\n",
       "       [  1.        ,  -0.57142857],\n",
       "       [  1.        ,  -0.28571429],\n",
       "       [  1.        ,   0.        ],\n",
       "       [  1.        ,   0.28571429],\n",
       "       [  1.        ,   0.57142857],\n",
       "       [  1.        ,   0.85714286],\n",
       "       [  1.        ,   1.14285714],\n",
       "       [  1.        ,   1.42857143],\n",
       "       [  1.        ,   1.71428571],\n",
       "       [  1.        ,   2.        ],\n",
       "       [  1.        ,   2.28571429],\n",
       "       [  1.        ,   2.57142857],\n",
       "       [  1.        ,   2.85714286],\n",
       "       [  1.        ,   3.14285714],\n",
       "       [  1.        ,   3.42857143],\n",
       "       [  1.        ,   3.71428571],\n",
       "       [  1.        ,   4.        ],\n",
       "       [  1.        ,   4.28571429],\n",
       "       [  1.        ,   4.57142857],\n",
       "       [  1.        ,   4.85714286],\n",
       "       [  1.        ,   5.14285714],\n",
       "       [  1.        ,   5.42857143],\n",
       "       [  1.        ,   5.71428571],\n",
       "       [  1.        ,   6.        ],\n",
       "       [  1.        ,   6.28571429],\n",
       "       [  1.        ,   6.57142857],\n",
       "       [  1.        ,   6.85714286],\n",
       "       [  1.        ,   7.14285714],\n",
       "       [  1.        ,   7.42857143],\n",
       "       [  1.        ,   7.71428571],\n",
       "       [  1.        ,   8.        ],\n",
       "       [  1.        ,   8.28571429],\n",
       "       [  1.        ,   8.57142857],\n",
       "       [  1.        ,   8.85714286],\n",
       "       [  1.        ,   9.14285714],\n",
       "       [  1.        ,   9.42857143],\n",
       "       [  1.        ,   9.71428571],\n",
       "       [  1.        ,  10.        ]])"
      ]
     },
     "execution_count": 8,
     "metadata": {},
     "output_type": "execute_result"
    }
   ],
   "source": [
    "def designmat(Xmat):\n",
    "    X = np.atleast_2d(Xmat).T\n",
    "    \n",
    "    col1 = np.ones(np.shape(X)[0]).reshape(np.shape(X)[0],1)\n",
    "       \n",
    "    X = np.concatenate((col1, X), axis=1)  \n",
    "    \n",
    "    return X\n",
    "designmat(X)"
   ]
  },
  {
   "cell_type": "code",
   "execution_count": 33,
   "metadata": {},
   "outputs": [],
   "source": [
    "def gradsqloss(Amat, y, wt):\n",
    "    n, p = Amat.shape\n",
    "    #return (-2/n)*Amat.T.dot((y-Amat.dot(wt)))\n",
    "    print (Amat.T) \n",
    "    print (y-Amat.dot(wt)) \n",
    "\n",
    "\n",
    "def gradientdescent(Amat, y, winit, rate, numiter):\n",
    "    \n",
    "    n, p = Amat.shape\n",
    "    whistory = []\n",
    "    meanrsshistory = [] \n",
    "    w = winit\n",
    "    \n",
    "    for i in range(1):\n",
    "        \n",
    "        grad = gradsqloss(Amat, y, w)\n",
    "        \n",
    "        return grad"
   ]
  },
  {
   "cell_type": "markdown",
   "metadata": {},
   "source": [
    "#### Main Function"
   ]
  },
  {
   "cell_type": "code",
   "execution_count": 34,
   "metadata": {},
   "outputs": [
    {
     "name": "stdout",
     "output_type": "stream",
     "text": [
      "[[  1.           1.           1.           1.           1.           1.\n",
      "    1.           1.           1.           1.           1.           1.\n",
      "    1.           1.           1.           1.           1.           1.\n",
      "    1.           1.           1.           1.           1.           1.\n",
      "    1.           1.           1.           1.           1.           1.\n",
      "    1.           1.           1.           1.           1.           1.\n",
      "    1.           1.           1.           1.           1.           1.\n",
      "    1.           1.           1.           1.           1.           1.\n",
      "    1.           1.        ]\n",
      " [ -4.          -3.71428571  -3.42857143  -3.14285714  -2.85714286\n",
      "   -2.57142857  -2.28571429  -2.          -1.71428571  -1.42857143\n",
      "   -1.14285714  -0.85714286  -0.57142857  -0.28571429   0.           0.28571429\n",
      "    0.57142857   0.85714286   1.14285714   1.42857143   1.71428571   2.\n",
      "    2.28571429   2.57142857   2.85714286   3.14285714   3.42857143\n",
      "    3.71428571   4.           4.28571429   4.57142857   4.85714286\n",
      "    5.14285714   5.42857143   5.71428571   6.           6.28571429\n",
      "    6.57142857   6.85714286   7.14285714   7.42857143   7.71428571   8.\n",
      "    8.28571429   8.57142857   8.85714286   9.14285714   9.42857143\n",
      "    9.71428571  10.        ]]\n",
      "[ 22.91497246  16.92415503  17.40103569  16.14088721   4.75213744\n",
      "  15.53742146  17.03673744   9.08446012  13.21277617   7.91947368\n",
      "  13.97044266  18.50670118  14.8152586    8.07865077   6.93020012\n",
      "   3.7652421    4.97144335   4.4249839   12.1835133    6.970334\n",
      "   3.87713175   5.53487928   4.49651305   0.2949223    4.04068749\n",
      "   5.5286074    2.49670204   2.40886682   1.7912605   -3.63217543\n",
      "  -0.89615449  -4.67529186  -2.83209248  -4.5778215   -6.10174043\n",
      "  -6.27248995  -8.05624528  -7.18090416  -2.89391893  -5.3048065\n",
      "  -9.25599867 -14.8951261   -6.53104852  -2.21254078 -11.52677153\n",
      " -10.2226433   -8.1031941  -10.84916987 -16.44944001 -15.9348534 ]\n"
     ]
    }
   ],
   "source": [
    "Xmat = designmat(X)\n",
    "\n",
    "n, p = Xmat.shape\n",
    "\n",
    "# creates an array of size p, here 2\n",
    "\n",
    "w0 = np.random.randn(p)\n",
    "\n",
    "\n",
    "num_iters = 70\n",
    "rates = [.001,.005,.01,.02]\n",
    "\n",
    "# create 100 pts.. Why? - probably kind of like the test set\n",
    "\n",
    "xinput = np.linspace(-4,10,100)\n",
    "\n",
    "\n",
    "grad = gradientdescent(Xmat, y0, w0, rates[0], 1)"
   ]
  },
  {
   "cell_type": "code",
   "execution_count": 18,
   "metadata": {},
   "outputs": [
    {
     "data": {
      "text/plain": [
       "array([-1.15482608,  1.03289115])"
      ]
     },
     "execution_count": 18,
     "metadata": {},
     "output_type": "execute_result"
    }
   ],
   "source": [
    "w0"
   ]
  }
 ],
 "metadata": {
  "kernelspec": {
   "display_name": "Python 3",
   "language": "python",
   "name": "python3"
  },
  "language_info": {
   "codemirror_mode": {
    "name": "ipython",
    "version": 3
   },
   "file_extension": ".py",
   "mimetype": "text/x-python",
   "name": "python",
   "nbconvert_exporter": "python",
   "pygments_lexer": "ipython3",
   "version": "3.6.3"
  }
 },
 "nbformat": 4,
 "nbformat_minor": 2
}
