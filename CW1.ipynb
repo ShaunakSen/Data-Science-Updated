{
 "cells": [
  {
   "cell_type": "markdown",
   "metadata": {},
   "source": [
    "## CW 1\n",
    "\n",
    "### Read in the data"
   ]
  },
  {
   "cell_type": "code",
   "execution_count": 11,
   "metadata": {},
   "outputs": [
    {
     "name": "stderr",
     "output_type": "stream",
     "text": [
      "── Attaching packages ─────────────────────────────────────── tidyverse 1.2.1 ──\n",
      "✔ ggplot2 3.1.0     ✔ purrr   0.2.5\n",
      "✔ tibble  1.4.2     ✔ dplyr   0.7.8\n",
      "✔ tidyr   0.8.2     ✔ stringr 1.3.1\n",
      "✔ readr   1.1.1     ✔ forcats 0.3.0\n",
      "── Conflicts ────────────────────────────────────────── tidyverse_conflicts() ──\n",
      "✖ dplyr::filter() masks stats::filter()\n",
      "✖ dplyr::lag()    masks stats::lag()\n"
     ]
    }
   ],
   "source": [
    "library(tidyverse)\n",
    "library(ggplot2)"
   ]
  },
  {
   "cell_type": "code",
   "execution_count": 3,
   "metadata": {},
   "outputs": [
    {
     "data": {
      "text/html": [
       "'/media/shaunak/New Volume/my_projects/data science updated'"
      ],
      "text/latex": [
       "'/media/shaunak/New Volume/my\\_projects/data science updated'"
      ],
      "text/markdown": [
       "'/media/shaunak/New Volume/my_projects/data science updated'"
      ],
      "text/plain": [
       "[1] \"/media/shaunak/New Volume/my_projects/data science updated\""
      ]
     },
     "metadata": {},
     "output_type": "display_data"
    }
   ],
   "source": [
    "getwd()"
   ]
  },
  {
   "cell_type": "code",
   "execution_count": 8,
   "metadata": {},
   "outputs": [
    {
     "data": {
      "text/html": [
       "<table>\n",
       "<thead><tr><th scope=col>X</th><th scope=col>Y</th><th scope=col>Z</th></tr></thead>\n",
       "<tbody>\n",
       "\t<tr><td>15.25</td><td>2.40 </td><td>B    </td></tr>\n",
       "\t<tr><td> 7.43</td><td>1.66 </td><td>C    </td></tr>\n",
       "\t<tr><td> 7.17</td><td>2.75 </td><td>C    </td></tr>\n",
       "\t<tr><td> 2.93</td><td>1.21 </td><td>A    </td></tr>\n",
       "\t<tr><td>11.07</td><td>0.39 </td><td>C    </td></tr>\n",
       "\t<tr><td> 4.29</td><td>1.84 </td><td>A    </td></tr>\n",
       "</tbody>\n",
       "</table>\n"
      ],
      "text/latex": [
       "\\begin{tabular}{r|lll}\n",
       " X & Y & Z\\\\\n",
       "\\hline\n",
       "\t 15.25 & 2.40  & B    \\\\\n",
       "\t  7.43 & 1.66  & C    \\\\\n",
       "\t  7.17 & 2.75  & C    \\\\\n",
       "\t  2.93 & 1.21  & A    \\\\\n",
       "\t 11.07 & 0.39  & C    \\\\\n",
       "\t  4.29 & 1.84  & A    \\\\\n",
       "\\end{tabular}\n"
      ],
      "text/markdown": [
       "\n",
       "X | Y | Z | \n",
       "|---|---|---|---|---|---|\n",
       "| 15.25 | 2.40  | B     | \n",
       "|  7.43 | 1.66  | C     | \n",
       "|  7.17 | 2.75  | C     | \n",
       "|  2.93 | 1.21  | A     | \n",
       "| 11.07 | 0.39  | C     | \n",
       "|  4.29 | 1.84  | A     | \n",
       "\n",
       "\n"
      ],
      "text/plain": [
       "  X     Y    Z\n",
       "1 15.25 2.40 B\n",
       "2  7.43 1.66 C\n",
       "3  7.17 2.75 C\n",
       "4  2.93 1.21 A\n",
       "5 11.07 0.39 C\n",
       "6  4.29 1.84 A"
      ]
     },
     "metadata": {},
     "output_type": "display_data"
    }
   ],
   "source": [
    "fish_data <- read.table(file = \"COMP 6235 Foundations of Data Science/CW 1/data/fish1\", header = FALSE, \n",
    "                        sep = \" \", dec = \".\", col.names = c(\"X\", \"Y\", \"Z\"))\n",
    "\n",
    "head(fish_data)"
   ]
  },
  {
   "cell_type": "code",
   "execution_count": 9,
   "metadata": {
    "scrolled": false
   },
   "outputs": [
    {
     "data": {
      "text/plain": [
       "       X                Y          Z      \n",
       " Min.   : 0.010   Min.   :0.0100   A: 79  \n",
       " 1st Qu.: 4.325   1st Qu.:0.7075   B: 64  \n",
       " Median : 9.020   Median :1.6150   C:257  \n",
       " Mean   : 9.371   Mean   :1.6674          \n",
       " 3rd Qu.:13.748   3rd Qu.:2.4000          \n",
       " Max.   :22.270   Max.   :4.8800          "
      ]
     },
     "metadata": {},
     "output_type": "display_data"
    }
   ],
   "source": [
    "summary(fish_data)"
   ]
  },
  {
   "cell_type": "markdown",
   "metadata": {},
   "source": [
    "Min value of X: 0.010 which indicates that the catch was made near midnight\n",
    "\n",
    "Max value of X: 22.270 which indicates that the catch was made near 10:15 pm\n",
    "\n",
    "Also there are **no missing values** in our dataset\n",
    "\n",
    "- **What does summary() tell us about the dist of data?**"
   ]
  },
  {
   "cell_type": "markdown",
   "metadata": {},
   "source": [
    "### Information on dataset\n",
    "\n",
    "The data set records data for a time period of one day during which one fisherman has fished in a lake. \n",
    "\n",
    "The fisherman uses three types of fishing rods, labeled A, B, and C, each using different bait. \n",
    "\n",
    "The fisherman has recorded every catch he has made during this time. The data set consists of three columns with X\n",
    "values giving the times at which the fisherman has made a catch, the Y values indicate the size of that catch (i.e. its weight in kg), and the Z values give a letter A, B, or C which indicates which fishing rod was used to make that catch. \n",
    "\n",
    "#### Format of X:\n",
    "\n",
    "X values (times of catch, the format is hours, fraction of hours on a 24h schedule for the day)"
   ]
  },
  {
   "cell_type": "markdown",
   "metadata": {},
   "source": [
    "### Distribution of X"
   ]
  },
  {
   "cell_type": "code",
   "execution_count": 27,
   "metadata": {},
   "outputs": [
    {
     "data": {},
     "metadata": {},
     "output_type": "display_data"
    },
    {
     "data": {
      "image/png": "[encoded data removed]",
      "text/plain": [
       "plot without title"
      ]
     },
     "metadata": {},
     "output_type": "display_data"
    }
   ],
   "source": [
    "ggplot(data = fish_data) +\n",
    "    geom_histogram(mapping = aes(x = fish_data$X, fill = fish_data$Y), binwidth = 1)"
   ]
  }
 ],
 "metadata": {
  "kernelspec": {
   "display_name": "R",
   "language": "R",
   "name": "ir"
  },
  "language_info": {
   "codemirror_mode": "r",
   "file_extension": ".r",
   "mimetype": "text/x-r-source",
   "name": "R",
   "pygments_lexer": "r",
   "version": "3.4.3"
  }
 },
 "nbformat": 4,
 "nbformat_minor": 2
}
