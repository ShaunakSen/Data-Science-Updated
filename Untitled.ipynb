{
 "cells": [
  {
   "cell_type": "markdown",
   "metadata": {},
   "source": [
    "## The Math of Intelligence\n",
    "\n",
    "- A mathematical guide to ML\n",
    "\n",
    "[Playlist Link](https://www.youtube.com/watch?v=xRJCOz3AfYY&t=321s&list=PL2-dafEMk2A7mu0bSksCGMJEmeddU_H4D&index=2)\n",
    "\n",
    "**ML is all about Mathematical Optimition**\n",
    "\n",
    "Say we have a bunch of data pts (x, y)\n",
    "\n",
    "x: disatnce in meters that person cycled\n",
    "y: calories lost\n",
    "\n",
    "We want to predict for an unknown x\n",
    "\n",
    "We can find a best fit line (a line that goes thru as many of the pts as possible)\n",
    "\n",
    "    y = mx + b\n",
    "    \n",
    "We want to find optimal values for m and b\n",
    "\n",
    "We choose SSE as our error metric\n",
    "\n",
    "    SSE = sum((y - y^)^2)\n",
    "\n",
    "-- diag1.png\n",
    "\n",
    "We start off with a random value of b & m and plot the line\n",
    "\n",
    "For every data pt we have, we calculate the squared error\n",
    "\n",
    "We get a sum of all the errors and div by no of pts to get MSE\n",
    "\n",
    "Say we do this 1000s of times\n",
    "\n",
    "We have a 3D graph for error for each b and m value\n",
    "\n",
    "-- diag2.png\n",
    "\n",
    "There is a value for b & m where error is the smallest\n",
    "\n",
    "The associalted b and m values for this min error would make up the line of best fit\n",
    "\n"
   ]
  }
 ],
 "metadata": {
  "kernelspec": {
   "display_name": "Python 3",
   "language": "python",
   "name": "python3"
  },
  "language_info": {
   "codemirror_mode": {
    "name": "ipython",
    "version": 3
   },
   "file_extension": ".py",
   "mimetype": "text/x-python",
   "name": "python",
   "nbconvert_exporter": "python",
   "pygments_lexer": "ipython3",
   "version": "3.6.3"
  }
 },
 "nbformat": 4,
 "nbformat_minor": 2
}
